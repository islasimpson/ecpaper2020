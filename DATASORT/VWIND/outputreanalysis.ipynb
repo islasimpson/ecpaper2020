{
 "cells": [
  {
   "cell_type": "markdown",
   "metadata": {},
   "source": [
    "Calculate DJF stationary wave amplitude for four reanalysis datasets: ERA5, ERAInterim, MERRA2 and JRA55.  Amplitude is the root mean squared meriodional wind between 200-300E, 25N-37N after filtering to retain only zonal scales greater than 3 (zonal wavenumbers 4 to 32 in practise)\n",
    "\n",
    "(This works on a local archive in the Climate and Global Dynamics Laboratory at NCAR.  File paths would have to be changed to run this somewhere else)"
   ]
  },
  {
   "cell_type": "code",
   "execution_count": 16,
   "metadata": {},
   "outputs": [],
   "source": [
    "import importlib\n",
    "import xarray as xr\n",
    "import numpy as np\n",
    "import xesmf as xe\n",
    "import sys\n",
    "import warnings\n",
    "\n",
    "from ecpaper_utils import calendar_utils as cal\n",
    "from ecpaper_utils import readdata_utils as read\n",
    "from ecpaper_utils import filter_utils as filt\n",
    "from ecpaper_utils import averaging_utils as avg\n",
    "\n",
    "importlib.reload(read)\n",
    "importlib.reload(cal)\n",
    "importlib.reload(filt)\n",
    "importlib.reload(avg)\n",
    "\n",
    "warnings.filterwarnings('ignore')\n",
    "\n",
    "outpath=\"/project/cas/islas/python/ecpaper2020/DATASORT/VWIND/DATA/\""
   ]
  },
  {
   "cell_type": "code",
   "execution_count": 17,
   "metadata": {},
   "outputs": [],
   "source": [
    "plevuse=300 # in hPa\n",
    "ybegp=1979 ; monbegp=1 ; yendp=2014 ; monendp=12\n",
    "datebegp=str(ybegp)+\"-\"+str(monbegp).zfill(2)\n",
    "dateendp=str(yendp)+\"-\"+str(monendp).zfill(2)\n",
    "nmonths = (yendp-ybegp-1)*12 + (12-monbegp+1) + monendp\n",
    "\n",
    "# 1 deg grid\n",
    "grid_out = xr.Dataset({'lat': (['lat'], np.arange(-90,91,1.0)), 'lon': (['lon'], np.arange(0,360,1.0))})\n",
    "nlon = grid_out[\"lon\"].size ; nlat=grid_out[\"lat\"].size\n",
    "\n",
    "wgtfile = \"/project/cas/islas/python/ecpaper2020/DATASORT/VWIND/tmp/wgtfile_obs.nc\""
   ]
  },
  {
   "cell_type": "markdown",
   "metadata": {},
   "source": [
    "ERA5"
   ]
  },
  {
   "cell_type": "code",
   "execution_count": null,
   "metadata": {},
   "outputs": [],
   "source": [
    "filepath=\"/project/haggis/ERA5/mon/V/*.nc\"\n",
    "v=read.read_1lev(filepath, datebegp, dateendp, plevuse)\n",
    "if (v.time.size != nmonths):\n",
    "    print(\"expected \"+str(nmonths)+\" months, got\"+str(v.time.size))\n",
    "    sys.exit()\n",
    "vdjfts=cal.season_ts(v, \"va\", season=\"DJF\")\n",
    "vdjf=cal.season_mean(v, \"va\", season=\"DJF\")\n",
    "regridder = xe.Regridder(vdjf, grid_out, 'bilinear', periodic=True, reuse_weights=False, filename=wgtfile)\n",
    "vdjfinterp = regridder(vdjf)\n",
    "vdjftsinterp = regridder(vdjfts)\n",
    "vk4to32 = filt.filterk(vdjfinterp, 4, 32)\n",
    "vamp_era5 = np.sqrt(avg.cosweightlonlat(vk4to32**2, 200., 300., 20., 40.))\n",
    "vamp_era5=xr.DataArray(vamp_era5, name='vamp_era5')\n",
    "vamp_era5.to_netcdf(outpath+\"/vampobs.nc\")\n",
    "vdjfts = xr.DataArray(vdjftsinterp, name='vdjfts')\n",
    "vdjfts.to_netcdf(outpath+\"/v300timeseries_ERA5.nc\")"
   ]
  },
  {
   "cell_type": "markdown",
   "metadata": {},
   "source": [
    "ERAInterim"
   ]
  },
  {
   "cell_type": "code",
   "execution_count": null,
   "metadata": {},
   "outputs": [],
   "source": [
    "filepath=\"/project/haggis/ERAInterim/analysis/plev/v/mon/*.nc\"\n",
    "v=read.read_1lev(filepath, datebegp, dateendp, plevuse)\n",
    "if (v.time.size != nmonths):\n",
    "    print(\"expected \"+str(nmonths)+\" months, got\"+str(v.time.size))\n",
    "    sys.exit()\n",
    "vdjfts=cal.season_ts(v, \"va\", season=\"DJF\")\n",
    "vdjf=cal.season_mean(v, \"va\", season=\"DJF\")\n",
    "regridder = xe.Regridder(vdjf, grid_out, 'bilinear', periodic=True, reuse_weights=False, filename=wgtfile)\n",
    "vdjfinterp = regridder(vdjf)\n",
    "vdjftsinterp = regridder(vdjfts)\n",
    "vk4to32 = filt.filterk(vdjfinterp, 4, 32)\n",
    "vamp_erai = np.sqrt(avg.cosweightlonlat(vk4to32**2, 200., 300., 20., 40.))\n",
    "vamp_erai=xr.DataArray(vamp_erai, name='vamp_erai')\n",
    "vamp_erai.to_netcdf(outpath+\"/vampobs.nc\", mode=\"a\")\n",
    "vdjfts = xr.DataArray(vdjftsinterp, name='vdjfts')\n",
    "vdjfts.to_netcdf(outpath+\"/v300timeseries_ERAI.nc\")"
   ]
  },
  {
   "cell_type": "markdown",
   "metadata": {},
   "source": [
    "JRA55"
   ]
  },
  {
   "cell_type": "code",
   "execution_count": 13,
   "metadata": {},
   "outputs": [],
   "source": [
    "filepath=\"/project/haggis/JRA-55/mon/va/*.nc\"\n",
    "v=read.read_1lev(filepath, datebegp, dateendp, plevuse)\n",
    "if (v.time.size != nmonths):\n",
    "    print(\"expected \"+str(nmonths)+\" months, got\"+str(v.time.size))\n",
    "    sys.exit()\n",
    "vdjfts=cal.season_ts(v, \"va\", season=\"DJF\")\n",
    "vdjf=cal.season_mean(v, \"va\", season=\"DJF\")\n",
    "regridder = xe.Regridder(vdjf, grid_out, 'bilinear', periodic=True, reuse_weights=False, filename=wgtfile)\n",
    "vdjfinterp = regridder(vdjf)\n",
    "vdjftsinterp = regridder(vdjfts)\n",
    "vk4to32 = filt.filterk(vdjfinterp, 4, 32)\n",
    "vamp_jra = np.sqrt(avg.cosweightlonlat(vk4to32**2, 200., 300., 20., 40.))\n",
    "vamp_jra=xr.DataArray(vamp_jra, name='vamp_jra')\n",
    "vamp_jra.to_netcdf(outpath+\"/vampobs.nc\", mode=\"a\")\n",
    "vdjfts = xr.DataArray(vdjftsinterp, name='vdjfts')\n",
    "vdjfts.to_netcdf(outpath+\"/v300timeseries_JRA.nc\")"
   ]
  },
  {
   "cell_type": "markdown",
   "metadata": {},
   "source": [
    "MERRA2"
   ]
  },
  {
   "cell_type": "code",
   "execution_count": 14,
   "metadata": {},
   "outputs": [],
   "source": [
    "ybegp=1980 ; monbegp=1 ; yendp=2014 ; monendp=12\n",
    "datebegp=str(ybegp)+\"-\"+str(monbegp).zfill(2)\n",
    "dateendp=str(yendp)+\"-\"+str(monendp).zfill(2)\n",
    "nmonths=(yendp-ybegp-1)*12 + (12-monbegp+1)+monendp"
   ]
  },
  {
   "cell_type": "code",
   "execution_count": 15,
   "metadata": {},
   "outputs": [],
   "source": [
    "filepath=\"/project/haggis/MERRA2/plev/mon/yearly/V/ana/*.nc\"\n",
    "v=read.read_1lev(filepath, datebegp, dateendp, plevuse)\n",
    "if (v.time.size != nmonths):\n",
    "    print(\"expected \"+str(nmonths)+\" months, got\"+str(v.time.size))\n",
    "    sys.exit()\n",
    "vdjfts = cal.season_ts(v, \"va\", season=\"DJF\")\n",
    "vdjf=cal.season_mean(v, \"va\", season=\"DJF\")\n",
    "regridder = xe.Regridder(vdjf, grid_out, 'bilinear', periodic=True, reuse_weights=False, filename=wgtfile)\n",
    "vdjfinterp = regridder(vdjf)\n",
    "vdjftsinterp = regridder(vdjfts)\n",
    "vk4to32 = filt.filterk(vdjfinterp, 4, 32)\n",
    "vamp_merra = np.sqrt(avg.cosweightlonlat(vk4to32**2, 200., 300., 20., 40.))\n",
    "vamp_merra=xr.DataArray(vamp_merra, name='vamp_merra')\n",
    "vamp_merra.to_netcdf(outpath+\"/vampobs.nc\", mode=\"a\")\n",
    "vdjfts = xr.DataArray(vdjftsinterp, name='vdjfts')\n",
    "vdjfts.to_netcdf(outpath+\"/v300timeseries_MERRA2.nc\")"
   ]
  },
  {
   "cell_type": "code",
   "execution_count": null,
   "metadata": {},
   "outputs": [],
   "source": []
  }
 ],
 "metadata": {
  "kernelspec": {
   "display_name": "Python [conda env:ecpaperenv]",
   "language": "python",
   "name": "conda-env-ecpaperenv-py"
  },
  "language_info": {
   "codemirror_mode": {
    "name": "ipython",
    "version": 3
   },
   "file_extension": ".py",
   "mimetype": "text/x-python",
   "name": "python",
   "nbconvert_exporter": "python",
   "pygments_lexer": "ipython3",
   "version": "3.6.11"
  }
 },
 "nbformat": 4,
 "nbformat_minor": 4
}
