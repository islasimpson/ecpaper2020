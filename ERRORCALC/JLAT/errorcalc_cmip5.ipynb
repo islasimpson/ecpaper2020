{
 "cells": [
  {
   "cell_type": "markdown",
   "metadata": {},
   "source": [
    "Bootstrap an equivalent number of members from the 5 LE's to estimate the error on the predictor and predictand and the correlation between them for the CMIP5 models."
   ]
  },
  {
   "cell_type": "code",
   "execution_count": 1,
   "metadata": {},
   "outputs": [],
   "source": [
    "import importlib\n",
    "import pandas as pd\n",
    "import xarray as xr\n",
    "import numpy as np\n",
    "import sys\n",
    "import warnings\n",
    "\n",
    "from ecpaper_utils import bootstrap_utils as boot\n",
    "from ecpaper_utils import jlat_utils as jlat\n",
    "\n",
    "importlib.reload(boot)\n",
    "\n",
    "warnings.filterwarnings('ignore')"
   ]
  },
  {
   "cell_type": "code",
   "execution_count": 2,
   "metadata": {},
   "outputs": [],
   "source": [
    "cmip5models=pd.read_csv(\"../../DATASORT/cmip5csvinfo.csv\")"
   ]
  },
  {
   "cell_type": "code",
   "execution_count": 3,
   "metadata": {},
   "outputs": [],
   "source": [
    "mmleapath=\"/project/cas/islas/python/ecpaper2020/DATASORT/SHJET/DATA/\""
   ]
  },
  {
   "cell_type": "markdown",
   "metadata": {},
   "source": [
    "Read in MMLEA data"
   ]
  },
  {
   "cell_type": "code",
   "execution_count": 4,
   "metadata": {},
   "outputs": [],
   "source": [
    "dat = xr.open_dataset(mmleapath+\"uzm_CanESM2.nc\")\n",
    "up_CanESM2 = dat.upast_jja_zm ; uf_CanESM2 = dat.ufut_jja_zm\n",
    "dat = xr.open_dataset(mmleapath+\"uzm_CESM1-CAM5.nc\")\n",
    "up_CESM = dat.upast_jja_zm ; uf_CESM = dat.ufut_jja_zm\n",
    "dat = xr.open_dataset(mmleapath+\"uzm_CSIRO-Mk3-6-0.nc\")\n",
    "up_CSIRO = dat.upast_jja_zm ; uf_CSIRO = dat.ufut_jja_zm\n",
    "dat = xr.open_dataset(mmleapath+\"uzm_GFDL-CM3.nc\")\n",
    "up_GFDL = dat.upast_jja_zm ; uf_GFDL = dat.ufut_jja_zm\n",
    "dat = xr.open_dataset(mmleapath+\"uzm_MPI-ESM.nc\")\n",
    "up_MPI = dat.upast_jja_zm ; uf_MPI = dat.ufut_jja_zm"
   ]
  },
  {
   "cell_type": "code",
   "execution_count": 5,
   "metadata": {},
   "outputs": [
    {
     "name": "stdout",
     "output_type": "stream",
     "text": [
      "ACCESS1-0\n",
      "ACCESS1-3\n",
      "bcc-csm1-1\n",
      "bcc-csm1-1-m\n",
      "BNU-ESM\n",
      "CanESM2\n",
      "CCSM4\n",
      "CESM1-BGC\n",
      "CESM1-CAM5\n",
      "CESM1-WACCM\n",
      "CMCC-CM\n",
      "CMCC-CMS\n",
      "CNRM-CM5\n",
      "CSIRO-Mk3-6-0\n",
      "EC-EARTH\n",
      "FGOALS-g2\n",
      "FIO-ESM\n",
      "GFDL-CM3\n",
      "GFDL-ESM2G\n",
      "GFDL-ESM2M\n",
      "GISS-E2-H\n",
      "GISS-E2-R\n",
      "HadGEM2-AO\n",
      "HadGEM2-CC\n",
      "HadGEM2-ES\n",
      "inmcm4\n",
      "IPSL-CM5A-LR\n",
      "IPSL-CM5A-MR\n",
      "IPSL-CM5B-LR\n",
      "MIROC5\n",
      "MIROC-ESM\n",
      "MIROC-ESM-CHEM\n",
      "MPI-ESM-LR\n",
      "MPI-ESM-MR\n",
      "MRI-CGCM3\n",
      "NorESM1-M\n",
      "NorESM1-ME\n"
     ]
    }
   ],
   "source": [
    "models = cmip5models['Model']\n",
    "nmodels=models.size\n",
    "nboots=1000\n",
    "\n",
    "sigx = np.zeros(nmodels) ; sigy = np.zeros(nmodels) ; rxy = np.zeros(nmodels)\n",
    "\n",
    "for index, modname in models.iteritems():\n",
    "    print(modname)\n",
    "    nmemsp=cmip5models.loc[index, \"Nmempast\"]\n",
    "    nmemsf=cmip5models.loc[index, \"Nmemfuture\"]\n",
    "    \n",
    "    bootCanESM2_p = boot.bootgen_multimem(up_CanESM2, nmemsp, seed=3)\n",
    "    bootCanESM2_f = boot.bootgen_multimem(uf_CanESM2, nmemsf, seed=3)\n",
    "    bootCESM_p = boot.bootgen_multimem(up_CESM, nmemsp, seed=3)\n",
    "    bootCESM_f = boot.bootgen_multimem(uf_CESM, nmemsf, seed=3)\n",
    "    bootCSIRO_p = boot.bootgen_multimem(up_CSIRO, nmemsp, seed=3)\n",
    "    bootCSIRO_f = boot.bootgen_multimem(uf_CSIRO, nmemsf, seed=3)\n",
    "    bootGFDL_p = boot.bootgen_multimem(up_GFDL, nmemsp, seed=3)\n",
    "    bootGFDL_f = boot.bootgen_multimem(uf_GFDL, nmemsf, seed=3)\n",
    "    bootMPI_p = boot.bootgen_multimem(up_MPI, nmemsp, seed=3)\n",
    "    bootMPI_f = boot.bootgen_multimem(uf_MPI, nmemsf, seed=3)\n",
    "    \n",
    "    jlat_CanESM2_p=np.zeros(nboots) ; jlat_CanESM2_f=np.zeros(nboots)\n",
    "    jlat_CESM_p=np.zeros(nboots) ; jlat_CESM_f=np.zeros(nboots)\n",
    "    jlat_CSIRO_p=np.zeros(nboots) ; jlat_CSIRO_f=np.zeros(nboots)\n",
    "    jlat_GFDL_p=np.zeros(nboots) ; jlat_GFDL_f=np.zeros(nboots)\n",
    "    jlat_MPI_p=np.zeros(nboots) ; jlat_MPI_f=np.zeros(nboots)\n",
    "    \n",
    "    for iboot in range(0,nboots):\n",
    "        jlat_CanESM2_p[iboot], jspeed = jlat.calcjetlat(bootCanESM2_p[iboot, :], -80, -20)\n",
    "        jlat_CanESM2_f[iboot], jspeed = jlat.calcjetlat(bootCanESM2_f[iboot, :], -80, -20)\n",
    "        jlat_CESM_p[iboot], jspeed = jlat.calcjetlat(bootCESM_p[iboot, :], -80, -20)\n",
    "        jlat_CESM_f[iboot], jspeed = jlat.calcjetlat(bootCESM_f[iboot, :], -80, -20)\n",
    "        jlat_CSIRO_p[iboot], jspeed = jlat.calcjetlat(bootCSIRO_p[iboot, :], -80, -20)\n",
    "        jlat_CSIRO_f[iboot], jspeed = jlat.calcjetlat(bootCSIRO_f[iboot, :], -80, -20)\n",
    "        jlat_GFDL_p[iboot], jspeed = jlat.calcjetlat(bootGFDL_p[iboot, :], -80, -20)\n",
    "        jlat_GFDL_f[iboot], jspeed = jlat.calcjetlat(bootGFDL_f[iboot, :], -80, -20)\n",
    "        jlat_MPI_p[iboot], jspeed = jlat.calcjetlat(bootMPI_p[iboot, :], -80, -20)\n",
    "        jlat_MPI_f[iboot], jspeed = jlat.calcjetlat(bootMPI_f[iboot, :], -80, -20)\n",
    "    \n",
    "    jlatdif_CanESM2 = jlat_CanESM2_f - jlat_CanESM2_p\n",
    "    jlatdif_CESM = jlat_CESM_f - jlat_CESM_p\n",
    "    jlatdif_CSIRO = jlat_CSIRO_f - jlat_CSIRO_p\n",
    "    jlatdif_GFDL = jlat_GFDL_f - jlat_GFDL_p\n",
    "    jlatdif_MPI = jlat_MPI_f - jlat_MPI_p\n",
    "    \n",
    "    jlatdifm_CanESM2 = np.mean(jlatdif_CanESM2)\n",
    "    jlatdifm_CESM = np.mean(jlatdif_CESM)\n",
    "    jlatdifm_CSIRO = np.mean(jlatdif_CSIRO)\n",
    "    jlatdifm_GFDL = np.mean(jlatdif_GFDL)\n",
    "    jlatdifm_MPI = np.mean(jlatdif_MPI)\n",
    "    \n",
    "    jlat_CanESM2_pm = np.mean(jlat_CanESM2_p)\n",
    "    jlat_CESM_pm = np.mean(jlat_CESM_p)\n",
    "    jlat_CSIRO_pm = np.mean(jlat_CSIRO_p)\n",
    "    jlat_GFDL_pm = np.mean(jlat_GFDL_p)\n",
    "    jlat_MPI_pm = np.mean(jlat_MPI_p)\n",
    "    \n",
    "    jlatdif_CanESM2[:] = jlatdif_CanESM2[:] - jlatdifm_CanESM2\n",
    "    jlatdif_CESM[:] = jlatdif_CESM[:] - jlatdifm_CESM\n",
    "    jlatdif_CSIRO[:] = jlatdif_CSIRO[:] - jlatdifm_CSIRO\n",
    "    jlatdif_GFDL[:] = jlatdif_GFDL[:] - jlatdifm_GFDL\n",
    "    jlatdif_MPI[:] = jlatdif_MPI[:] - jlatdifm_MPI\n",
    "    \n",
    "    jlat_CanESM2_p[:] = jlat_CanESM2_p[:] - jlat_CanESM2_pm\n",
    "    jlat_CESM_p[:] = jlat_CESM_p[:] - jlat_CESM_pm\n",
    "    jlat_CSIRO_p[:] = jlat_CSIRO_p[:] - jlat_CSIRO_pm\n",
    "    jlat_GFDL_p[:] = jlat_GFDL_p[:] - jlat_GFDL_pm\n",
    "    jlat_MPI_p[:] = jlat_MPI_p[:] - jlat_MPI_pm\n",
    "    \n",
    "    jlatdifconcat = np.concatenate((jlatdif_CanESM2, jlatdif_CESM, jlatdif_CSIRO, jlatdif_GFDL, jlatdif_MPI))\n",
    "    jlatpconcat = np.concatenate((jlat_CanESM2_p, jlat_CESM_p, jlat_CSIRO_p, jlat_GFDL_p, jlat_MPI_p))\n",
    "\n",
    "    result = np.corrcoef(jlatpconcat, jlatdifconcat)\n",
    "    rxy[index] = result[0,1]\n",
    "    sigx[index] = np.std(jlatpconcat)\n",
    "    sigy[index] = np.std(jlatdifconcat)"
   ]
  },
  {
   "cell_type": "code",
   "execution_count": 6,
   "metadata": {},
   "outputs": [],
   "source": [
    "sigx_xr = xr.DataArray(sigx, coords=[models], dims=[\"Model\"], name='sigx')\n",
    "sigy_xr = xr.DataArray(sigy, coords=[models], dims=[\"Model\"], name='sigy')\n",
    "rxy_xr = xr.DataArray(rxy, coords=[models], dims=[\"Model\"], name='rxy')\n",
    "\n",
    "sigx_xr.to_netcdf(\"./DATA/errors_cmip5.nc\")\n",
    "sigy_xr.to_netcdf(\"./DATA/errors_cmip5.nc\", mode=\"a\")\n",
    "rxy_xr.to_netcdf(\"./DATA/errors_cmip5.nc\", mode=\"a\")"
   ]
  },
  {
   "cell_type": "markdown",
   "metadata": {},
   "source": [
    "Output the error for just one member"
   ]
  },
  {
   "cell_type": "code",
   "execution_count": null,
   "metadata": {},
   "outputs": [],
   "source": []
  }
 ],
 "metadata": {
  "kernelspec": {
   "display_name": "Python [conda env:ecpaperenv]",
   "language": "python",
   "name": "conda-env-ecpaperenv-py"
  },
  "language_info": {
   "codemirror_mode": {
    "name": "ipython",
    "version": 3
   },
   "file_extension": ".py",
   "mimetype": "text/x-python",
   "name": "python",
   "nbconvert_exporter": "python",
   "pygments_lexer": "ipython3",
   "version": "3.6.11"
  }
 },
 "nbformat": 4,
 "nbformat_minor": 4
}
