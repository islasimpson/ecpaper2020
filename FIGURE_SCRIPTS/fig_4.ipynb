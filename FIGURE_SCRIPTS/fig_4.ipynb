{
 "cells": [
  {
   "cell_type": "code",
   "execution_count": 1,
   "metadata": {},
   "outputs": [],
   "source": [
    "import importlib\n",
    "import xarray as xr\n",
    "import pandas as pd\n",
    "import numpy as np\n",
    "import sys\n",
    "import matplotlib.pyplot as plt\n",
    "\n",
    "from ecpaper_utils import jlat_utils as jlat\n",
    "from ecpaper_utils import bootstrap_utils as boot\n",
    "\n",
    "importlib.reload(jlat)\n",
    "importlib.reload(boot)\n",
    "\n",
    "import warnings\n",
    "warnings.filterwarnings('ignore')"
   ]
  },
  {
   "cell_type": "markdown",
   "metadata": {},
   "source": [
    "Read in MMLEA data"
   ]
  },
  {
   "cell_type": "code",
   "execution_count": 2,
   "metadata": {},
   "outputs": [],
   "source": [
    "modnames=['CanESM2','CESM1-CAM5','CSIRO-Mk3-6-0','GFDL-CM3','MPI-ESM']\n",
    "datadir=\"/project/cas/islas/python/ecpaper2020/DATASORT/SHJET/DATA/\""
   ]
  },
  {
   "cell_type": "markdown",
   "metadata": {},
   "source": [
    "generate histograms and bootstrapping estimates of the standard deviations for each MMLEA model"
   ]
  },
  {
   "cell_type": "code",
   "execution_count": 3,
   "metadata": {},
   "outputs": [
    {
     "name": "stdout",
     "output_type": "stream",
     "text": [
      "CanESM2\n",
      "CESM1-CAM5\n",
      "CSIRO-Mk3-6-0\n",
      "GFDL-CM3\n",
      "MPI-ESM\n"
     ]
    }
   ],
   "source": [
    "datadict={}\n",
    "binsp=np.arange(-2,2.1,0.1)\n",
    "binsdif=np.arange(-3,3.1,0.1)\n",
    "\n",
    "histopast = np.zeros([np.size(binsp)-1,len(modnames)])\n",
    "histodif = np.zeros([np.size(binsdif)-1, len(modnames)])\n",
    "stdev_phip = np.zeros([len(modnames)])\n",
    "stdev_phidif = np.zeros([len(modnames)])\n",
    "mincistdev = np.zeros([len(modnames)])\n",
    "maxcistdev = np.zeros([len(modnames)])\n",
    "mincistdevboot = np.zeros([len(modnames)])\n",
    "maxcistdevboot = np.zeros([len(modnames)])\n",
    "phippooled = []\n",
    "\n",
    "\n",
    "for imod in range(len(modnames)):\n",
    "    print(modnames[imod])\n",
    "    datapast = xr.open_dataset(datadir+'uzmpast_'+modnames[imod]+'.nc')\n",
    "    datafut = xr.open_dataset(datadir+'uzmfut_'+modnames[imod]+'.nc')\n",
    "    phip=np.zeros(datapast.member.size)\n",
    "    phif=np.zeros(datapast.member.size)\n",
    "    phip_em, phispeed = jlat.calcjetlat(datapast.upast_jja_zm.mean(dim='member'), -80, -20)\n",
    "    phif_em, phispeed = jlat.calcjetlat(datafut.ufut_jja_zm.mean(dim='member'), -80, -20)\n",
    "    bootstdevs = np.zeros([datapast.member.size])\n",
    "    for imem in range(0,datapast.member.size,1):\n",
    "        phip[imem], phispeed = jlat.calcjetlat(datapast.upast_jja_zm.isel(member=imem), -80., -20.)\n",
    "        phif[imem], phispeed = jlat.calcjetlat(datafut.ufut_jja_zm.isel(member=imem), -80., -20.)\n",
    "\n",
    "        #estimate the standard deviation for each member by bootstrapping over years\n",
    "        bootdat =boot.bootgen_multimem(xr.DataArray(datapast.upast_jja_ts_zm.isel(member=imem)), datapast.time.size)\n",
    "        jlatboot=np.zeros([1000])\n",
    "        for iboot in range(0,1000,1):\n",
    "            jlatboot[iboot], jspeed = jlat.calcjetlat(bootdat[iboot,:], -80, -20)            \n",
    "        bootstdevs[imem] = np.std(jlatboot)  \n",
    " \n",
    "    mincistdevboot[imod] = np.min(bootstdevs)\n",
    "    maxcistdevboot[imod] = np.max(bootstdevs)\n",
    "\n",
    "    phip = phip - phip_em\n",
    "    phif = phif - phif_em\n",
    "    phippooled.extend(phip)\n",
    "    \n",
    "    histopast[:,imod], binedgesp = np.histogram(phip, bins=binsp)\n",
    "    histopast[:,imod] = (histopast[:,imod]/np.size(phip))*100.\n",
    "    histodif[:,imod], binedgesdif = np.histogram(phif-phip, bins=binsdif)\n",
    "    histodif[:,imod] = (histodif[:,imod]/np.size(phip))*100.\n",
    "    \n",
    "    stdev_phip[imod] = np.std(phip)\n",
    "    stdev_phidif[imod] = np.std(phif-phip)\n",
    "    \n",
    "    mincistdev[imod], maxcistdev[imod] = boot.boot_stdev_ci(phip,95)\n",
    "    \n",
    "phippoolednp = np.array(phippooled)\n",
    "stdevphippooled = np.std(phippoolednp)"
   ]
  },
  {
   "cell_type": "markdown",
   "metadata": {},
   "source": [
    "Generate bootstrapping estimates of the standard deviation for the reanalyses."
   ]
  },
  {
   "cell_type": "code",
   "execution_count": 4,
   "metadata": {},
   "outputs": [
    {
     "name": "stdout",
     "output_type": "stream",
     "text": [
      "ERA5\n",
      "ERAI\n",
      "JRA\n",
      "MERRA2\n"
     ]
    }
   ],
   "source": [
    "obsname=['ERA5','ERAI','JRA','MERRA2']\n",
    "obsnamelong=['ERA5','ERA-Interim','JRA55','MERRA2']\n",
    "obsstd=np.zeros([len(obsname)])\n",
    "for iobs in range(0,len(obsname)):\n",
    "    print(obsname[iobs])\n",
    "    data = xr.open_dataset(datadir+\"uzm_\"+obsname[iobs]+\".nc\")\n",
    "    bootdat = boot.bootgen_multimem(xr.DataArray(data.ujja), data.time.size)\n",
    "    jlatboot=np.zeros([1000])\n",
    "    for iboot in range(0,1000,1):\n",
    "        jlatboot[iboot], jspeed = jlat.calcjetlat(bootdat[iboot,:], -80, -20)\n",
    "        \n",
    "    obsstd[iobs] = np.std(jlatboot)"
   ]
  },
  {
   "cell_type": "markdown",
   "metadata": {},
   "source": [
    "CMIP6 versus CMIP5 figure"
   ]
  },
  {
   "cell_type": "code",
   "execution_count": 5,
   "metadata": {},
   "outputs": [],
   "source": [
    "cmip5models = ['ACCESS1-3', 'bcc-csm1-1-m','CanESM2','CESM1-CAM5','CESM1-WACCM','CMCC-CMS','CNRM-CM5','EC-EARTH','FGOALS-g2','FIO-ESM','GFDL-CM3','GFDL-ESM2M','GISS-E2-R',\n",
    "              'HadGEM2-ES','inmcm4','IPSL-CM5A-LR','MIROC5','MIROC-ESM','MPI-ESM-LR','MPI-ESM-MR','MRI-CGCM3','NorESM1-ME']\n",
    "cmip6models = ['ACCESS-CM2', 'BCC-CSM2-MR','CanESM5','CESM2','CESM2-WACCM','CMCC-CM2-SR5','CNRM-CM6-1','EC-Earth3','FGOALS-g3','FIO-ESM-2-0','GFDL-CM4','GFDL-ESM4','GISS-E2-1-G',\n",
    "              'HadGEM3-GC31-LL','INM-CM5-0','IPSL-CM6A-LR','MIROC6','MIROC-ES2L','MPI-ESM1-2-LR','MPI-ESM1-2-HR','MRI-ESM2-0','NorESM2-LM']\n",
    "\n",
    "cmip5dat = xr.open_dataset(datadir+'jlatcmip5.nc')\n",
    "cmip6dat = xr.open_dataset(datadir+'jlatcmip6.nc')\n",
    "\n",
    "jlatcmip5=np.zeros([len(cmip5models)]) ; jlatcmip6=np.zeros([len(cmip6models)])\n",
    "for imod in range(0,len(cmip5models),1):\n",
    "    jlatcmip5[imod] = cmip5dat.jlatemf.sel(model=cmip5models[imod]) - cmip5dat.jlatemp.sel(model=cmip5models[imod])\n",
    "    \n",
    "for imod in range(0,len(cmip6models),1):\n",
    "    jlatcmip6[imod] = cmip6dat.jlatemf.sel(model=cmip6models[imod]) - cmip6dat.jlatemp.sel(model=cmip6models[imod])\n"
   ]
  },
  {
   "cell_type": "markdown",
   "metadata": {},
   "source": [
    "CMIP6 versus CMIP5 plot"
   ]
  },
  {
   "cell_type": "code",
   "execution_count": 6,
   "metadata": {},
   "outputs": [
    {
     "data": {
      "text/plain": [
       "[<matplotlib.lines.Line2D at 0x7fa8525c0358>]"
      ]
     },
     "execution_count": 6,
     "metadata": {},
     "output_type": "execute_result"
    },
    {
     "data": {
      "image/png": "[encoded data removed]",
      "text/plain": [
       "<Figure size 504x1728 with 1 Axes>"
      ]
     },
     "metadata": {
      "needs_background": "light"
     },
     "output_type": "display_data"
    }
   ],
   "source": [
    "fig = plt.figure()\n",
    "w = 7 ; h =24\n",
    "fig.set_size_inches(w,h)\n",
    "ax1 = fig.add_axes(np.array([0.05,0.83,0.5,0.14]))\n",
    "\n",
    "ax1.set_xlim(-9,2)\n",
    "ax1.set_ylim(-9,2)\n",
    "ax1.set_xticks([-8,-6,-4,-2,0,2])\n",
    "ax1.set_xticklabels(['-8','-6','-4','-2','0','2'], fontsize=14)\n",
    "ax1.set_yticks([-8,-6,-4,-2,0,2])\n",
    "ax1.set_yticklabels(['-8','-6','-4','-2','0','2'], fontsize=14)\n",
    "ax1.set_xlabel('CMIP5 $\\Delta \\phi$, ($^{\\circ}$N)', fontsize=14)\n",
    "ax1.set_ylabel('CMIP6 $\\Delta \\phi$, ($^{\\circ}$N)', fontsize=14)\n",
    "ax1.set_title('(a) CMIP6 vs CMIP5 $\\Delta \\phi$', fontsize=16)\n",
    "\n",
    "ax1.plot(jlatcmip5,jlatcmip6,\"o\", markersize=10, markerfacecolor='lightgray', markeredgecolor='black', markeredgewidth=2)"
   ]
  },
  {
   "cell_type": "code",
   "execution_count": 7,
   "metadata": {},
   "outputs": [
    {
     "data": {
      "text/plain": [
       "<ErrorbarContainer object of 3 artists>"
      ]
     },
     "execution_count": 7,
     "metadata": {},
     "output_type": "execute_result"
    }
   ],
   "source": [
    "ax2 = fig.add_axes(np.array([0.65,0.83,0.17,0.14]))\n",
    "\n",
    "corval = np.corrcoef(jlatcmip5,jlatcmip6)\n",
    "corval = corval[0,1]\n",
    "mincor, maxcor = boot.boot_corr_ci(jlatcmip5,jlatcmip6,95)\n",
    "\n",
    "ax2.set_xlim(0,2)\n",
    "ax2.set_ylim(-0.5,1)\n",
    "ax2.set_xticks([])\n",
    "ax2.set_yticks([-0.4,-0.2,0,0.2,0.4,0.6,0.8,1])\n",
    "ax2.set_yticklabels(['-0.4','-0.2','0','0.2','0.4','0.6','0.8','1'], fontsize=14)\n",
    "#ax2.label_params(axis='y',pad=0)\n",
    "ax2.set_ylabel(\"Correlation\", fontsize=14, labelpad=-1)\n",
    "ax2.set_title('(b) Cor(5,6)', fontsize=16)\n",
    "\n",
    "\n",
    "ax2.bar(1,corval,color='lightgray', edgecolor='black')\n",
    "ax2.plot([0,2],[0,0], color='black')\n",
    "ax2.errorbar(1, corval, [[corval-mincor],[maxcor-corval]], color='black', linewidth=2, capsize=5, capthick=2)\n",
    "\n",
    "#axs.set_yticklabels(['-0.4','-0.2','0','0.2','0.4','0.6','0.8','1'], fontsize=14)"
   ]
  },
  {
   "cell_type": "markdown",
   "metadata": {},
   "source": [
    "Past jet latitude histograms"
   ]
  },
  {
   "cell_type": "code",
   "execution_count": 8,
   "metadata": {},
   "outputs": [],
   "source": [
    "ax3 = fig.add_axes(np.array([0.05,0.59,0.35,0.2]))\n",
    "\n",
    "lecolor=['mediumseagreen','mediumpurple','dodgerblue','orangered','mediumvioletred']\n",
    "\n",
    "dely=18 \n",
    "\n",
    "ax3.set_xlim(-2,2)\n",
    "ax3.set_ylim(0,dely*5)\n",
    "\n",
    "yticks=[8, 16, dely+8, dely+16, 2*dely+8, 2*dely+16, 3*dely+8, 3*dely+16, 4*dely+8, 4*dely+16 ]\n",
    "yticknames=['8','16','8','16','8','16','8','16','8','16']\n",
    "xticks=[-2,-1,0,1,2]\n",
    "xticknames=['-2','-1','0','1','2']\n",
    "\n",
    "ax3.set_yticks(yticks)\n",
    "ax3.set_yticklabels(yticknames, fontsize=14)\n",
    "ax3.set_xticks(xticks)\n",
    "ax3.set_xticklabels(xticknames, fontsize=14)\n",
    "ax3.set_xlabel('$\\phi_{o}$ ($\\circ N$)', fontsize=14)\n",
    "ax3.set_ylabel('% of samples', fontsize=14)\n",
    "ax3.set_title('(c) MMLEA, $\\phi_{o}$', fontsize=16)\n",
    "\n",
    "for imod in range(len(modnames)):\n",
    "    ax3.bar(binedgesp[0:np.size(binedgesp)-1], histopast[:,imod], width=binedgesp[1]-binedgesp[0], bottom=(4-imod)*dely, edgecolor='black', color=lecolor[imod])\n",
    "    string = '{0:6.2f}'.format(stdev_phip[imod]).strip()\n",
    "    ax3.text(-1.9,(4-imod)*dely + 14,'$\\sigma(\\phi_{o})$='+string, fontsize=12)"
   ]
  },
  {
   "cell_type": "markdown",
   "metadata": {},
   "source": [
    "Jet shift histograms"
   ]
  },
  {
   "cell_type": "code",
   "execution_count": 9,
   "metadata": {},
   "outputs": [],
   "source": [
    "ax4 = fig.add_axes(np.array([0.47,0.59,0.35,0.2]))\n",
    "\n",
    "dely=18 \n",
    "\n",
    "ax4.set_xlim(-3,3)\n",
    "ax4.set_ylim(0,dely*5)\n",
    "\n",
    "yticks=[8, 16, dely+8, dely+16, 2*dely+8, 2*dely+16, 3*dely+8, 3*dely+16, 4*dely+8, 4*dely+16 ]\n",
    "yticknames=['8','16','8','16','8','16','8','16','8','16']\n",
    "xticks=[-2,-1,0,1,2]\n",
    "xticknames=['-2','-1','0','1','2']\n",
    "\n",
    "ax4.set_yticks(yticks)\n",
    "ax4.set_yticklabels(yticknames, fontsize=14)\n",
    "ax4.set_xticks(xticks)\n",
    "ax4.set_xticklabels(xticknames, fontsize=14)\n",
    "ax4.set_xlabel('$\\Delta \\phi$ ($\\circ N$)', fontsize=14)\n",
    "ax4.set_ylabel(' ', fontsize=14)\n",
    "ax4.set_title('(d) MMLEA, $\\Delta \\phi$', fontsize=16)\n",
    "\n",
    "for imod in range(len(modnames)):\n",
    "    ax4.bar(binedgesdif[0:np.size(binedgesdif)-1], histodif[:,imod], width=binedgesdif[1]-binedgesdif[0], bottom=(4-imod)*dely, edgecolor='black', color=lecolor[imod])\n",
    "    string = '{0:6.2f}'.format(stdev_phidif[imod]).strip()\n",
    "    ax4.text(-2.85,(4-imod)*dely + 14,'$\\sigma(\\Delta \\phi)$='+string, fontsize=12)"
   ]
  },
  {
   "cell_type": "code",
   "execution_count": 10,
   "metadata": {},
   "outputs": [],
   "source": [
    "ax5 = fig.add_axes(np.array([0.05,0.47,0.77,0.08]))\n",
    "\n",
    "\n",
    "ax5.set_ylim(0,1.5)\n",
    "ax5.set_xlim(-0.5,19)\n",
    "\n",
    "ax5.set_xticks([1,4,7,10,13, 15, 16, 17, 18])\n",
    "ax5.set_xticklabels(modnames+obsnamelong, rotation=40, fontsize=14, ha='right')\n",
    "ax5.set_yticks([0,0.5,1,1.5])\n",
    "ax5.set_yticklabels(['0','0.5','1','1.5'], fontsize=14)\n",
    "ax5.set_ylabel('$\\sigma(\\phi_{o})$, $(^{\\circ}$)', fontsize=14)\n",
    "ax5.set_title('(e) $\\sigma(\\phi_{o})$', fontsize=16)\n",
    "\n",
    "colors=lecolor+[\"black\",\"black\",\"black\",\"black\"]\n",
    "\n",
    "for color, tick in zip(colors, ax5.xaxis.get_major_ticks()):\n",
    "    tick.label1.set_color(color)\n",
    "\n",
    "ax5.plot([-0.5,19],[stdevphippooled,stdevphippooled],linestyle='dotted', linewidth=3, color='black')\n",
    "\n",
    "for imod in range(len(modnames)):\n",
    "    ax5.bar(imod*3+1,stdev_phip[imod], width=1, bottom=0, edgecolor='black', color=lecolor[imod])\n",
    "    ax5.errorbar(imod*3+1,stdev_phip[imod],[[stdev_phip[imod] - mincistdev[imod]], [maxcistdev[imod]-stdev_phip[imod]]], linewidth=2, capsize=5, capthick=2, color='black')\n",
    "    ax5.errorbar(imod*3+1.9,stdev_phip[imod], [[stdev_phip[imod] - mincistdevboot[imod]],[maxcistdevboot[imod]-stdev_phip[imod]]],linewidth=2,capsize=5,capthick=2,color=lecolor[imod])\n",
    "    \n",
    "for iobs in range(len(obsname)):\n",
    "    ax5.plot(15+iobs,obsstd[iobs],marker='o', color='black', markersize=12)"
   ]
  },
  {
   "cell_type": "code",
   "execution_count": 11,
   "metadata": {},
   "outputs": [],
   "source": [
    "fig.patch.set_facecolor('white')\n",
    "fig\n",
    "fig.savefig('fig4.png', facecolor='white', bbox_inches='tight')"
   ]
  },
  {
   "cell_type": "code",
   "execution_count": 161,
   "metadata": {},
   "outputs": [
    {
     "name": "stdout",
     "output_type": "stream",
     "text": [
      "['mediumseagreen', 'mediumpurple', 'dodgerblue', 'orangered', 'mediumvioletred', 'black', 'black', 'black', 'black']\n"
     ]
    }
   ],
   "source": [
    "print(colors)"
   ]
  },
  {
   "cell_type": "code",
   "execution_count": 90,
   "metadata": {},
   "outputs": [
    {
     "name": "stdout",
     "output_type": "stream",
     "text": [
      "[0. 0. 0. 0. 0.]\n"
     ]
    }
   ],
   "source": [
    "print(stdev_phip)"
   ]
  },
  {
   "cell_type": "code",
   "execution_count": null,
   "metadata": {},
   "outputs": [],
   "source": [
    "print()"
   ]
  },
  {
   "cell_type": "code",
   "execution_count": 86,
   "metadata": {},
   "outputs": [
    {
     "data": {
      "text/plain": [
       "<BarContainer object of 40 artists>"
      ]
     },
     "execution_count": 86,
     "metadata": {},
     "output_type": "execute_result"
    },
    {
     "data": {
      "image/png": "[encoded data removed]",
      "text/plain": [
       "<Figure size 432x288 with 1 Axes>"
      ]
     },
     "metadata": {
      "needs_background": "light"
     },
     "output_type": "display_data"
    }
   ],
   "source": [
    "plt.bar(binedgesp[0:np.size(binedgesp)-1], histopast[:,1], width=binedgesp[1]-binedgesp[0], edgecolor='black')"
   ]
  },
  {
   "cell_type": "code",
   "execution_count": 58,
   "metadata": {},
   "outputs": [
    {
     "ename": "IndexError",
     "evalue": "too many indices for array",
     "output_type": "error",
     "traceback": [
      "\u001b[0;31m---------------------------------------------------------------------------\u001b[0m",
      "\u001b[0;31mIndexError\u001b[0m                                Traceback (most recent call last)",
      "\u001b[0;32m<ipython-input-58-bcec87da4ab7>\u001b[0m in \u001b[0;36m<module>\u001b[0;34m\u001b[0m\n\u001b[0;32m----> 1\u001b[0;31m \u001b[0mplt\u001b[0m\u001b[0;34m.\u001b[0m\u001b[0mbar\u001b[0m\u001b[0;34m(\u001b[0m\u001b[0mbinedgesp\u001b[0m\u001b[0;34m[\u001b[0m\u001b[0;36m0\u001b[0m\u001b[0;34m:\u001b[0m\u001b[0mnp\u001b[0m\u001b[0;34m.\u001b[0m\u001b[0msize\u001b[0m\u001b[0;34m(\u001b[0m\u001b[0mbinedgesp\u001b[0m\u001b[0;34m)\u001b[0m\u001b[0;34m-\u001b[0m\u001b[0;36m1\u001b[0m\u001b[0;34m]\u001b[0m\u001b[0;34m,\u001b[0m \u001b[0mhistopast\u001b[0m\u001b[0;34m[\u001b[0m\u001b[0;34m:\u001b[0m\u001b[0;34m,\u001b[0m\u001b[0;36m0\u001b[0m\u001b[0;34m]\u001b[0m\u001b[0;34m,\u001b[0m \u001b[0mwidth\u001b[0m\u001b[0;34m=\u001b[0m\u001b[0mbinedgesp\u001b[0m\u001b[0;34m[\u001b[0m\u001b[0;36m1\u001b[0m\u001b[0;34m]\u001b[0m\u001b[0;34m-\u001b[0m\u001b[0mbinedgesp\u001b[0m\u001b[0;34m[\u001b[0m\u001b[0;36m0\u001b[0m\u001b[0;34m]\u001b[0m\u001b[0;34m,\u001b[0m \u001b[0medgecolor\u001b[0m\u001b[0;34m=\u001b[0m\u001b[0;34m'black'\u001b[0m\u001b[0;34m)\u001b[0m\u001b[0;34m\u001b[0m\u001b[0;34m\u001b[0m\u001b[0m\n\u001b[0m",
      "\u001b[0;31mIndexError\u001b[0m: too many indices for array"
     ]
    }
   ],
   "source": [
    "plt.bar(binedgesp[0:np.size(binedgesp)-1], histopast[:,0], width=binedgesp[1]-binedgesp[0], edgecolor='black')"
   ]
  },
  {
   "cell_type": "code",
   "execution_count": 60,
   "metadata": {},
   "outputs": [
    {
     "name": "stdout",
     "output_type": "stream",
     "text": [
      "(40,)\n"
     ]
    }
   ],
   "source": [
    "print(np.shape(histopast))"
   ]
  },
  {
   "cell_type": "code",
   "execution_count": 51,
   "metadata": {},
   "outputs": [
    {
     "data": {
      "text/plain": [
       "<BarContainer object of 40 artists>"
      ]
     },
     "execution_count": 51,
     "metadata": {},
     "output_type": "execute_result"
    },
    {
     "data": {
      "image/png": "[encoded data removed]",
      "text/plain": [
       "<Figure size 432x288 with 1 Axes>"
      ]
     },
     "metadata": {
      "needs_background": "light"
     },
     "output_type": "display_data"
    }
   ],
   "source": [
    "plt.bar(binedges[0:np.size(binedges)-1], phiphisto, width=binedges[1]-binedges[0], edgecolor='black')"
   ]
  },
  {
   "cell_type": "code",
   "execution_count": 52,
   "metadata": {},
   "outputs": [
    {
     "name": "stdout",
     "output_type": "stream",
     "text": [
      "[-2.00000000e+00 -1.90000000e+00 -1.80000000e+00 -1.70000000e+00\n",
      " -1.60000000e+00 -1.50000000e+00 -1.40000000e+00 -1.30000000e+00\n",
      " -1.20000000e+00 -1.10000000e+00 -1.00000000e+00 -9.00000000e-01\n",
      " -8.00000000e-01 -7.00000000e-01 -6.00000000e-01 -5.00000000e-01\n",
      " -4.00000000e-01 -3.00000000e-01 -2.00000000e-01 -1.00000000e-01\n",
      "  1.77635684e-15  1.00000000e-01  2.00000000e-01  3.00000000e-01\n",
      "  4.00000000e-01  5.00000000e-01  6.00000000e-01  7.00000000e-01\n",
      "  8.00000000e-01  9.00000000e-01  1.00000000e+00  1.10000000e+00\n",
      "  1.20000000e+00  1.30000000e+00  1.40000000e+00  1.50000000e+00\n",
      "  1.60000000e+00  1.70000000e+00  1.80000000e+00  1.90000000e+00\n",
      "  2.00000000e+00]\n"
     ]
    }
   ],
   "source": [
    "print(binedges)"
   ]
  },
  {
   "cell_type": "code",
   "execution_count": 18,
   "metadata": {},
   "outputs": [],
   "source": [
    "phiphisto, binedges = np.histogram(phip, range=(-2,2), bins=21)"
   ]
  },
  {
   "cell_type": "code",
   "execution_count": 20,
   "metadata": {},
   "outputs": [
    {
     "name": "stdout",
     "output_type": "stream",
     "text": [
      "[ 0  0  0  0  3  2  0  4  4  6 10  5  8  4  2  0  1  1  0  0  0]\n",
      "[-2.         -1.80952381 -1.61904762 -1.42857143 -1.23809524 -1.04761905\n",
      " -0.85714286 -0.66666667 -0.47619048 -0.28571429 -0.0952381   0.0952381\n",
      "  0.28571429  0.47619048  0.66666667  0.85714286  1.04761905  1.23809524\n",
      "  1.42857143  1.61904762  1.80952381  2.        ]\n"
     ]
    }
   ],
   "source": [
    "print(phiphisto)\n",
    "print(binedges)"
   ]
  },
  {
   "cell_type": "code",
   "execution_count": null,
   "metadata": {},
   "outputs": [],
   "source": []
  }
 ],
 "metadata": {
  "kernelspec": {
   "display_name": "Python [conda env:ecpaperenv]",
   "language": "python",
   "name": "conda-env-ecpaperenv-py"
  },
  "language_info": {
   "codemirror_mode": {
    "name": "ipython",
    "version": 3
   },
   "file_extension": ".py",
   "mimetype": "text/x-python",
   "name": "python",
   "nbconvert_exporter": "python",
   "pygments_lexer": "ipython3",
   "version": "3.6.11"
  }
 },
 "nbformat": 4,
 "nbformat_minor": 4
}
