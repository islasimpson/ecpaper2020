{
 "cells": [
  {
   "cell_type": "code",
   "execution_count": 1,
   "metadata": {},
   "outputs": [
    {
     "data": {
      "text/plain": [
       "<module 'ecpaper_utils.bootstrap_utils' from '/home/islas/python/ecpaper2020/ecpaper_utils/bootstrap_utils.py'>"
      ]
     },
     "execution_count": 1,
     "metadata": {},
     "output_type": "execute_result"
    }
   ],
   "source": [
    "import importlib\n",
    "import xarray as xr\n",
    "import matplotlib.pyplot as plt\n",
    "import numpy as np\n",
    "from matplotlib.patches import Rectangle\n",
    "\n",
    "from ecpaper_utils import linfit_utils as linfit\n",
    "from ecpaper_utils import bootstrap_utils as boot\n",
    "\n",
    "importlib.reload(linfit)\n",
    "importlib.reload(boot)"
   ]
  },
  {
   "cell_type": "code",
   "execution_count": 2,
   "metadata": {},
   "outputs": [],
   "source": [
    "datapath=\"/project/cas/islas/python_savs/ecpaper2020/DATASORT/VWIND/\"\n",
    "cmip5dat = datapath+\"cmip5vwindindices.nc\"\n",
    "cmip6dat = datapath+\"cmip6vwindindices.nc\"\n",
    "cmip5gmt = datapath+\"globalmeantascmip5.nc\"\n",
    "cmip6gmt = datapath+\"globalmeantascmip6.nc\"\n",
    "cmip5errors = \"../ERRORCALC/VWIND/DATA/errors_cmip5.nc\"\n",
    "cmip6errors = \"../ERRORCALC/VWIND/DATA/errors_cmip6.nc\"\n",
    "errors1mem = \"../ERRORCALC/VWIND/DATA/errors_1mem.nc\""
   ]
  },
  {
   "cell_type": "code",
   "execution_count": 3,
   "metadata": {},
   "outputs": [],
   "source": [
    "cmip5vwind = xr.open_dataset(cmip5dat) ; cmip6vwind = xr.open_dataset(cmip6dat)\n",
    "gmt5 = xr.open_dataset(cmip5gmt) ; gmt6 = xr.open_dataset(cmip6gmt)\n",
    "error5 = xr.open_dataset(cmip5errors) ; error6 = xr.open_dataset(cmip6errors) ; \n",
    "error1mem = xr.open_dataset(errors1mem)"
   ]
  },
  {
   "cell_type": "markdown",
   "metadata": {},
   "source": [
    "CMIP5 variance decomposition and other calcs"
   ]
  },
  {
   "cell_type": "code",
   "execution_count": 4,
   "metadata": {},
   "outputs": [],
   "source": [
    "# ensemble mean calculations for CMIP5\n",
    "\n",
    "#delta V_SW after regressing out the change in global mean tas\n",
    "a, b = linfit.linfit_xy( gmt5['tasemf'] - gmt5['tasemp'], cmip5vwind['vfutsw_em'] - cmip5vwind['vpastsw_em'], error5['sig_vdiff'])\n",
    "vdiff_nots_em = (cmip5vwind['vfutsw_em'] - cmip5vwind['vpastsw_em']) - (a + b*(gmt5['tasemf']-gmt5['tasemp']))\n",
    "\n",
    "# correlation between psi and delta VSW and uncertainty range\n",
    "r5 = xr.corr( cmip5vwind['vpastamp_em'], cmip5vwind['vfutsw_em'] - cmip5vwind['vpastsw_em'])\n",
    "minr5, maxr5 = boot.boot_corr_ci(cmip5vwind['vpastamp_em'], cmip5vwind['vfutsw_em'] - cmip5vwind['vpastsw_em'], 95)\n",
    "\n",
    "# and after first regressing out global mean tas\n",
    "r5nots = xr.corr( cmip5vwind['vpastamp_em'], vdiff_nots_em)\n",
    "minr5nots, maxr5nots = boot.boot_corr_ci(cmip5vwind['vpastamp_em'], vdiff_nots_em, 95)\n",
    "\n",
    "# variance of ensemble mean psi\n",
    "varpsi5 = np.var(cmip5vwind['vpastamp_em'])\n",
    "vardeltavsw5 = np.var( cmip5vwind['vfutsw_em'] - cmip5vwind['vpastsw_em'])\n",
    "\n",
    "# ols regression coefficients and confidence interval\n",
    "aols5em, bols5em = linfit.linfit_xy(cmip5vwind['vpastamp_em'], cmip5vwind['vfutsw_em'] - cmip5vwind['vpastsw_em'], error5['sig_vdiff'])\n",
    "aolsrange5, bolsrange5, acoef, bcoef = boot.boot_regcoef_ci(cmip5vwind['vpastamp_em'], cmip5vwind['vfutsw_em'] - cmip5vwind['vpastsw_em'], 95,  sigy=error5['sig_vdiff'])\n",
    "\n",
    "# tls regression coefficients and confidence interval\n",
    "atls5em, btls5em = linfit.tls(cmip5vwind['vpastamp_em'], cmip5vwind['vfutsw_em'] - cmip5vwind['vpastsw_em'], error5['sig_psi'], error5['sig_vdiff'])\n",
    "atlsrange5, btlsrange5, acoef, bcoef = boot.boot_regcoef_ci(cmip5vwind['vpastamp_em'], cmip5vwind['vfutsw_em'] - cmip5vwind['vpastsw_em'], \n",
    "                                                            95, sigx=error5['sig_psi'], sigy=error5['sig_vdiff'])\n",
    "\n",
    "# bhm coefficients and confidence interval\n",
    "abhmall5, bbhmall5, del2all5, muxall5, delx2all5 = linfit.bhm(cmip5vwind['vpastamp_em'], cmip5vwind['vfutsw_em']-cmip5vwind['vpastsw_em'],\n",
    "                                                             error5['sig_psi'], error5['sig_vdiff'], error5['r_psi_vdiff'], iseed=3)\n",
    "\n",
    "abhm5em = np.mean(abhmall5)\n",
    "bbhm5em = np.mean(bbhmall5)\n",
    "abhmmin = np.percentile(abhmall5,2.5) ; abhmmax = np.percentile(abhmall5,97.5)\n",
    "bbhmmin = np.percentile(bbhmall5,2.5) ; bbhmmax = np.percentile(bbhmall5,97.5)\n",
    "abhmrange5=[abhmmin,abhmmax]\n",
    "bbhmrange5=[bbhmmin,bbhmmax]"
   ]
  },
  {
   "cell_type": "code",
   "execution_count": 5,
   "metadata": {},
   "outputs": [],
   "source": [
    "# single member calculations for CMIP5\n",
    "\n",
    "# expand 1 member error estimates to array of size nmodels\n",
    "sigx1mem = np.repeat(np.array(error1mem['sig_psi']), cmip5vwind['vpastamp_em'].size)\n",
    "sigy1mem = np.repeat(np.array(error1mem['sig_vdiff']), cmip5vwind['vpastamp_em'].size)\n",
    "rxy1mem = np.repeat(np.array(error1mem['r_psi_vdiff']), cmip5vwind['vpastamp_em'].size)\n",
    "\n",
    "# regress out global mean tas change from jet shift\n",
    "a, b = linfit.linfit_xy(gmt5['tas1memf'] - gmt5['tas1memp'], cmip5vwind['vfutsw_1mem'] - cmip5vwind['vpastsw_1mem'], sigy1mem)\n",
    "vdiff_nots = (cmip5vwind['vfutsw_1mem']-cmip5vwind['vpastsw_1mem']) - (a + b*(gmt5['tas1memf'] - gmt5['tas1memp']))\n",
    "var_nots = np.var(vdiff_nots)\n",
    "\n",
    "# single member variance\n",
    "var5 = np.var(cmip5vwind['vfutsw_1mem'] - cmip5vwind['vpastsw_1mem'])\n",
    "\n",
    "# single member variance explained by global mean tas change\n",
    "vartsexplain5 = var5 - var_nots\n",
    "\n",
    "# ols regression variance decomposition\n",
    "aols5, bols5 = linfit.linfit_xy(cmip5vwind['vpastamp_1mem'], cmip5vwind['vfutsw_1mem'] - cmip5vwind['vpastsw_1mem'], sigy1mem)\n",
    "vdiff_ec = aols5 + bols5*cmip5vwind['vpastamp_1mem']\n",
    "res = (cmip5vwind['vfutsw_1mem'] - cmip5vwind['vpastsw_1mem']) - vdiff_ec[:]\n",
    "\n",
    "varres5_ols = np.var(res)\n",
    "var5ec_ols = var5 - varres5_ols\n",
    "variv5_ols = (bols5**2. * sigx1mem[0]**2.) + sigy1mem[0]**2.\n",
    "vardelta5_ols = var5 - (var5ec_ols + variv5_ols)\n",
    "\n",
    "cmip5olsdecomp = [var5ec_ols, variv5_ols, vardelta5_ols]\n",
    "\n",
    "# tls regression variance decomposition\n",
    "atls5, btls5 = linfit.tls(cmip5vwind['vpastamp_1mem'], cmip5vwind['vfutsw_1mem'] - cmip5vwind['vpastsw_1mem'], sigx1mem, sigy1mem)\n",
    "vdiff_ec = atls5 + btls5*cmip5vwind['vpastamp_1mem']\n",
    "res = (cmip5vwind['vfutsw_1mem'] - cmip5vwind['vpastsw_1mem']) - vdiff_ec[:]\n",
    "\n",
    "varres5_tls = np.var(res)\n",
    "var5ec_tls = var5 - varres5_tls\n",
    "variv5_tls = (btls5**2. * sigx1mem[0]**2.) + sigy1mem[0]**2.\n",
    "vardelta5_tls = var5 - (var5ec_tls + variv5_tls)\n",
    "\n",
    "cmip5tlsdecomp=[var5ec_tls, variv5_tls, vardelta5_tls]\n",
    "\n",
    "\n",
    "# bhm variance decomposition\n",
    "abhmall5, bbhmall5, del2all5, muxall5, delx2all5 = linfit.bhm(cmip5vwind['vpastamp_1mem'], (cmip5vwind['vfutsw_1mem']-cmip5vwind['vpastsw_1mem']),\n",
    "                                                             sigx1mem, sigy1mem, rxy1mem, iseed=3)\n",
    "\n",
    "abhm5 = np.mean(abhmall5) ; bbhm5 = np.mean(bbhmall5)\n",
    "varec=delx2all5[:]*bbhmall5[:]**2.\n",
    "vardel=del2all5[:]\n",
    "variv=sigy1mem[0]*(1-rxy1mem[0]**2.)\n",
    "\n",
    "var5ec_bhm = np.mean( varec[:]/(varec[:] + vardel[:] + variv))\n",
    "vardelta5_bhm = np.mean( vardel[:]/(varec[:] + vardel[:] + variv))\n",
    "variv5_bhm = np.mean( variv/(varec[:] + vardel[:] + variv))\n",
    "\n",
    "cmip5bhmdecomp=[var5ec_bhm, variv5_bhm, vardelta5_bhm]"
   ]
  },
  {
   "cell_type": "code",
   "execution_count": 6,
   "metadata": {},
   "outputs": [],
   "source": [
    "# ensemble mean calculations for CMIP6\n",
    "\n",
    "#delta V_SW after regressing out the change in global mean tas\n",
    "a, b = linfit.linfit_xy( gmt6['tasemf'] - gmt6['tasemp'], cmip6vwind['vfutsw_em'] - cmip6vwind['vpastsw_em'], error6['sig_vdiff'])\n",
    "vdiff_nots_em = (cmip6vwind['vfutsw_em'] - cmip6vwind['vpastsw_em']) - (a + b*(gmt6['tasemf']-gmt6['tasemp']))\n",
    "\n",
    "# correlation between psi and delta VSW and uncertainty range\n",
    "r6 = xr.corr( cmip6vwind['vpastamp_em'], cmip6vwind['vfutsw_em'] - cmip6vwind['vpastsw_em'])\n",
    "minr6, maxr6 = boot.boot_corr_ci(cmip6vwind['vpastamp_em'], cmip6vwind['vfutsw_em'] - cmip6vwind['vpastsw_em'], 95)\n",
    "\n",
    "# and after first regressing out global mean tas\n",
    "r6nots = xr.corr( cmip6vwind['vpastamp_em'], vdiff_nots_em)\n",
    "minr6nots, maxr6nots = boot.boot_corr_ci(cmip6vwind['vpastamp_em'], vdiff_nots_em, 95)\n",
    "\n",
    "# variance of ensemble mean psi\n",
    "varpsi6 = np.var(cmip6vwind['vpastamp_em'])\n",
    "vardeltavsw6 = np.var( cmip6vwind['vfutsw_em'] - cmip6vwind['vpastsw_em'])\n",
    "\n",
    "# ols regression coefficients and confidence interval\n",
    "aols6em, bols6em = linfit.linfit_xy(cmip6vwind['vpastamp_em'], cmip6vwind['vfutsw_em'] - cmip6vwind['vpastsw_em'], error6['sig_vdiff'])\n",
    "aolsrange6, bolsrange6, acoef, bcoef = boot.boot_regcoef_ci(cmip6vwind['vpastamp_em'], cmip6vwind['vfutsw_em'] - cmip6vwind['vpastsw_em'], 95,  sigy=error6['sig_vdiff'])\n",
    "\n",
    "# tls regression coefficients and confidence interval\n",
    "atls6em, btls6em = linfit.tls(cmip6vwind['vpastamp_em'], cmip6vwind['vfutsw_em'] - cmip6vwind['vpastsw_em'], error6['sig_psi'], error6['sig_vdiff'])\n",
    "atlsrange6, btlsrange6, acoef, bcoef = boot.boot_regcoef_ci(cmip6vwind['vpastamp_em'], cmip6vwind['vfutsw_em'] - cmip6vwind['vpastsw_em'], \n",
    "                                                            95, sigx=error6['sig_psi'], sigy=error6['sig_vdiff'])\n",
    "\n",
    "# bhm coefficients and confidence interval\n",
    "abhmall6, bbhmall6, del2all6, muxall6, delx2all6 = linfit.bhm(cmip6vwind['vpastamp_em'], cmip6vwind['vfutsw_em']-cmip6vwind['vpastsw_em'],\n",
    "                                                             error6['sig_psi'], error6['sig_vdiff'], error6['r_psi_vdiff'], iseed=3)\n",
    "\n",
    "abhm6em = np.mean(abhmall6)\n",
    "bbhm6em = np.mean(bbhmall6)\n",
    "abhmmin = np.percentile(abhmall6,2.5) ; abhmmax = np.percentile(abhmall6,97.5)\n",
    "bbhmmin = np.percentile(bbhmall6,2.5) ; bbhmmax = np.percentile(bbhmall6,97.5)\n",
    "abhmrange6=[abhmmin,abhmmax]\n",
    "bbhmrange6=[bbhmmin,bbhmmax]"
   ]
  },
  {
   "cell_type": "code",
   "execution_count": 7,
   "metadata": {},
   "outputs": [],
   "source": [
    "# single member calculations for CMIP6\n",
    "\n",
    "# expand 1 member error estimates to array of size nmodels\n",
    "sigx1mem = np.repeat(np.array(error1mem['sig_psi']), cmip6vwind['vpastamp_em'].size)\n",
    "sigy1mem = np.repeat(np.array(error1mem['sig_vdiff']), cmip6vwind['vpastamp_em'].size)\n",
    "rxy1mem = np.repeat(np.array(error1mem['r_psi_vdiff']), cmip6vwind['vpastamp_em'].size)\n",
    "\n",
    "# regress out global mean tas change from jet shift\n",
    "a, b = linfit.linfit_xy(gmt6['tas1memf'] - gmt6['tas1memp'], cmip6vwind['vfutsw_1mem'] - cmip6vwind['vpastsw_1mem'], sigy1mem)\n",
    "vdiff_nots = (cmip6vwind['vfutsw_1mem']-cmip6vwind['vpastsw_1mem']) - (a + b*(gmt6['tas1memf'] - gmt6['tas1memp']))\n",
    "var_nots = np.var(vdiff_nots)\n",
    "\n",
    "# single member variance\n",
    "var6 = np.var(cmip6vwind['vfutsw_1mem'] - cmip6vwind['vpastsw_1mem'])\n",
    "\n",
    "# single member variance explained by global mean tas change\n",
    "vartsexplain6 = var6 - var_nots\n",
    "\n",
    "# ols regression variance decomposition\n",
    "aols6, bols6 = linfit.linfit_xy(cmip6vwind['vpastamp_1mem'], cmip6vwind['vfutsw_1mem'] - cmip6vwind['vpastsw_1mem'], sigy1mem)\n",
    "vdiff_ec = aols6 + bols6*cmip6vwind['vpastamp_1mem']\n",
    "res = (cmip6vwind['vfutsw_1mem'] - cmip6vwind['vpastsw_1mem']) - vdiff_ec[:]\n",
    "\n",
    "varres6_ols = np.var(res)\n",
    "var6ec_ols = var6 - varres6_ols\n",
    "variv6_ols = (bols6**2. * sigx1mem[0]**2.) + sigy1mem[0]**2.\n",
    "vardelta6_ols = var6 - (var6ec_ols + variv6_ols)\n",
    "\n",
    "cmip6olsdecomp = [var6ec_ols, variv6_ols, vardelta6_ols]\n",
    "\n",
    "# tls regression variance decomposition\n",
    "atls6, btls6 = linfit.tls(cmip6vwind['vpastamp_1mem'], cmip6vwind['vfutsw_1mem'] - cmip6vwind['vpastsw_1mem'], sigx1mem, sigy1mem)\n",
    "vdiff_ec = atls6 + btls6*cmip6vwind['vpastamp_1mem']\n",
    "res = (cmip6vwind['vfutsw_1mem'] - cmip6vwind['vpastsw_1mem']) - vdiff_ec[:]\n",
    "\n",
    "varres6_tls = np.var(res)\n",
    "var6ec_tls = var6 - varres6_tls\n",
    "variv6_tls = (btls6**2. * sigx1mem[0]**2.) + sigy1mem[0]**2.\n",
    "vardelta6_tls = var6 - (var6ec_tls + variv6_tls)\n",
    "\n",
    "cmip6tlsdecomp=[var6ec_tls, variv6_tls, vardelta6_tls]\n",
    "\n",
    "\n",
    "# bhm variance decomposition\n",
    "abhmall6, bbhmall6, del2all6, muxall6, delx2all6 = linfit.bhm(cmip6vwind['vpastamp_1mem'], (cmip6vwind['vfutsw_1mem']-cmip6vwind['vpastsw_1mem']),\n",
    "                                                             sigx1mem, sigy1mem, rxy1mem, iseed=3)\n",
    "\n",
    "abhm6 = np.mean(abhmall6) ; bbhm6 = np.mean(bbhmall6)\n",
    "varec=delx2all6[:]*bbhmall6[:]**2.\n",
    "vardel=del2all6[:]\n",
    "variv=sigy1mem[0]*(1-rxy1mem[0]**2.)\n",
    "\n",
    "var6ec_bhm = np.mean( varec[:]/(varec[:] + vardel[:] + variv))\n",
    "vardelta6_bhm = np.mean( vardel[:]/(varec[:] + vardel[:] + variv))\n",
    "variv6_bhm = np.mean( variv/(varec[:] + vardel[:] + variv))\n",
    "\n",
    "cmip6bhmdecomp=[var6ec_bhm, variv6_bhm, vardelta6_bhm]"
   ]
  },
  {
   "cell_type": "code",
   "execution_count": 8,
   "metadata": {},
   "outputs": [
    {
     "name": "stdout",
     "output_type": "stream",
     "text": [
      "<xarray.DataArray ()>\n",
      "array(10.62379621)\n",
      "<xarray.DataArray ()>\n",
      "array(8.72610621)\n",
      "14.860336641207967\n"
     ]
    }
   ],
   "source": [
    "print((cmip6olsdecomp[0]/var6)*100.)\n",
    "print((cmip6tlsdecomp[0]/var6)*100.)\n",
    "print((cmip6bhmdecomp[0]/np.sum(cmip6bhmdecomp))*100.)"
   ]
  },
  {
   "cell_type": "code",
   "execution_count": 11,
   "metadata": {},
   "outputs": [
    {
     "name": "stdout",
     "output_type": "stream",
     "text": [
      "0.6259999999999999\n"
     ]
    }
   ],
   "source": [
    "print(1.019-0.393)"
   ]
  },
  {
   "cell_type": "code",
   "execution_count": 9,
   "metadata": {},
   "outputs": [
    {
     "data": {
      "text/plain": [
       "Text(4.5, 0.06, 'influence')"
      ]
     },
     "execution_count": 9,
     "metadata": {},
     "output_type": "execute_result"
    },
    {
     "data": {
      "image/png": "[encoded data removed]",
      "text/plain": [
       "<Figure size 1296x360 with 3 Axes>"
      ]
     },
     "metadata": {
      "needs_background": "light"
     },
     "output_type": "display_data"
    }
   ],
   "source": [
    "fig = plt.figure()\n",
    "w = 18 ; h = 5\n",
    "fig.set_size_inches(w, h)\n",
    "\n",
    "# variance in delta V_SW\n",
    "ax1 = fig.add_axes(np.array([0.05,0.05,0.06,0.9]))\n",
    "ax1.set_xlim(0,3)\n",
    "ax1.set_xticks([1,2])\n",
    "ax1.set_ylim(0,2.)\n",
    "ax1.set_yticks([0,0.5,1,1.5,2])\n",
    "ax1.set_yticklabels(['0','0.5','1','1.5','2'], fontsize=14)\n",
    "ax1.set_ylabel('Variance (ms$^{-1}$)', fontsize=14, labelpad=-1)\n",
    "ax1.set_xticklabels(['CMIP5', 'CMIP6'], fontsize=14, rotation=70, ha='right')\n",
    "ax1.set_title(\"(a) $\\sigma^{2}(\\Delta V_{SW})$\", fontsize=16)\n",
    "ax1.bar(1, vardeltavsw5, width=1, bottom=None, align='center', color='lightgray', edgecolor='black', linewidth=2)\n",
    "ax1.bar(2, vardeltavsw6, width=1, bottom=None, align='center', color='lightgray', edgecolor='black', linewidth=2)\n",
    "\n",
    "ax2 = fig.add_axes(np.array([0.14,0.05,0.06,0.9]))\n",
    "ax2.set_xlim(0,3)\n",
    "ax2.set_ylim(0,1.1)\n",
    "ax2.set_xticks([1,2])\n",
    "ax2.set_xticklabels(['CMIP5','CMIP6'], rotation=70, fontsize=14, ha='right')\n",
    "ax2.set_yticks([0,0.2,0.4,0.6,0.8,1])\n",
    "ax2.set_yticklabels(['0','0.2','0.4','0.6','0.8','1'], fontsize=14)\n",
    "ax2.set_title(\"(b) $\\sigma^{2}(|\\psi|)$\", fontsize=16)\n",
    "ax2.bar(1, varpsi5, width=1, bottom=None, align='center', color='lightgray', edgecolor='black', linewidth=2)\n",
    "ax2.bar(2, varpsi6, width=1, bottom=None, align='center', color='lightgray', edgecolor='black', linewidth=2)\n",
    "\n",
    "ax3 = fig.add_axes(np.array([0.24,0.05,0.12,0.9]))\n",
    "ax3.set_xlim(0,6)\n",
    "ax3.set_xticks([1, 2, 4, 5])\n",
    "ax3.set_xticklabels(['CMIP5','CMIP6','CMIP5','CMIP6'], rotation=70, fontsize=14)\n",
    "ax3.set_yticks([-1,-0.8,-0.6,-0.4,-0.2,0,0.2])\n",
    "ax3.set_yticklabels(['-1','-0.8','-0.6','-0.4','-0.2','0','0.2'], fontsize=14)\n",
    "ax3.set_ylabel('Correlation', fontsize=14, labelpad=-1)\n",
    "ax3.set_title('(c) r($|\\psi|, \\Delta V_{SW}$)', fontsize=16)\n",
    "ax3.set_ylim(-1,0.2)\n",
    "ax3.set_xlim(0,6)\n",
    "\n",
    "# CMIP5 correlation\n",
    "ax3.bar(1,r5,width=1,bottom=0,align='center',color='lightgray',edgecolor='black',linewidth=2)\n",
    "ax3.errorbar(1,r5,[[r5-minr5],[maxr5-r5]], color='black', linewidth=2, capsize=5, capthick=2.)\n",
    "\n",
    "# CMIP6 correlation\n",
    "ax3.bar(2,r6,width=1,bottom=0,align='center',color='lightgray',edgecolor='black',linewidth=2)\n",
    "ax3.errorbar(2,r6,[[r6-minr6],[maxr6-r6]], color='black', linewidth=2, capsize=5, capthick=2.)\n",
    "\n",
    "# CMIP5 correlation after regressing out tas\n",
    "ax3.bar(4, r5nots, width=1, bottom=0, align='center', color='lightgray', edgecolor='black', linewidth=2)\n",
    "ax3.errorbar(4, r5nots, [[r5nots-minr5nots], [maxr5nots-r5nots]], color='black', linewidth=2, capsize=5, capthick=2)\n",
    "\n",
    "# CMIP6 correlation after regressing out tas\n",
    "ax3.bar(5, r6nots, width=1, bottom=0, align='center', color='lightgray', edgecolor='black', linewidth=2)\n",
    "ax3.errorbar(5, r6nots, [[r6nots-minr6nots], [maxr6nots-r6nots]], color='black', linewidth=2, capsize=5, capthick=2)\n",
    "\n",
    "ax3.plot([0,6],[0,0], color='black')\n",
    "ax3.plot([3,3],[-1,0.2], color='black')\n",
    "ax3.text(4.5, 0.13,'without $\\Delta T_{2m}$', horizontalalignment='center',verticalalignment='center',fontsize=10,color='black')\n",
    "ax3.text(4.5, 0.06,'influence',horizontalalignment='center',verticalalignment='center',fontsize=10,color='black')"
   ]
  },
  {
   "cell_type": "code",
   "execution_count": 10,
   "metadata": {},
   "outputs": [
    {
     "name": "stdout",
     "output_type": "stream",
     "text": [
      "ec <xarray.DataArray ()>\n",
      "array(29.24517729)\n",
      "iv <xarray.DataArray ()>\n",
      "array(33.61898958)\n",
      "delta <xarray.DataArray ()>\n",
      "array(37.13583313)\n",
      "ec <xarray.DataArray ()>\n",
      "array(28.56950178)\n",
      "iv <xarray.DataArray ()>\n",
      "array(34.22373377)\n",
      "delta <xarray.DataArray ()>\n",
      "array(37.20676445)\n",
      "ec <xarray.DataArray ()>\n",
      "array(17.03146463)\n",
      "iv <xarray.DataArray ()>\n",
      "array(18.97510391)\n",
      "delta <xarray.DataArray ()>\n",
      "array(19.12174338)\n"
     ]
    }
   ],
   "source": [
    "# -------variance decomposition (%) panel b ----------------\n",
    "ax4 = fig.add_axes(np.array([0.4,0.05,0.12,0.9]))\n",
    "# -------------Variance decomposition, panel a -------------------\n",
    "ax4.set_xticks([2.,3.,4.,7.,8.,9.])\n",
    "ax4.set_xticklabels(['OLS','TLS','BHM','OLS','TLS','BHM'], rotation='70', fontsize=14)\n",
    "ax4.set_yticks([0,20,40,60,80,100])\n",
    "ax4.set_yticklabels(['0','20','40','60','80','100'], fontsize=14)\n",
    "ax4.set_ylabel(\"Variance (%)\", fontsize=14, labelpad=-1)\n",
    "ax4.set_title(\"(d) % variance in $\\Delta V_{SW}$\", fontsize=16)\n",
    "ax4.set_ylim(0,106)\n",
    "\n",
    "ax4.text(2.5, 103, \"CMIP5\", fontsize=14, horizontalalignment='center', verticalalignment='center')\n",
    "ax4.text(7.5, 103, \"CMIP6\", fontsize=14, horizontalalignment='center', verticalalignment='center')\n",
    "\n",
    "ax4.bar(1., (var5/var5)*100., width=1, bottom=None, align='center', color='lightgray', edgecolor='black', linewidth=2)\n",
    "ax4.bar(1., (vartsexplain5/var5)*100., width=1, bottom=None, align='center', fill=False, linewidth=0, hatch='////')\n",
    "\n",
    "decompcolors=[\"darkred\",\"seagreen\",\"cornflowerblue\"]\n",
    "varpartname=['ec','iv','delta']\n",
    "\n",
    "bot=0\n",
    "for i in range(0,3):\n",
    "    ax4.bar(2., (cmip5olsdecomp[i]/var5)*100., width=1, bottom=bot, align='center', color=decompcolors[i], edgecolor='black', linewidth=2)\n",
    "    bot=bot+(cmip5olsdecomp[i]/var5)*100.\n",
    "    print(varpartname[i]+' '+str((cmip5olsdecomp[i]/var5)*100.))\n",
    "    \n",
    "bot=0\n",
    "for i in range(0,3):\n",
    "    ax4.bar(3., (cmip5tlsdecomp[i]/var5)*100., width=1, bottom=bot, align='center', color=decompcolors[i], edgecolor='black', linewidth=2)\n",
    "    bot=bot+(cmip5tlsdecomp[i]/var5)*100.\n",
    "    print(varpartname[i]+' '+str((cmip5tlsdecomp[i]/var5)*100.))\n",
    "    \n",
    "bot=0\n",
    "for i in range(0,3):\n",
    "    ax4.bar(4., (cmip5bhmdecomp[i]/np.sum(cmip5bhmdecomp))*100., width=1, bottom=bot, align='center', color=decompcolors[i], edgecolor='black', linewidth=2)\n",
    "    bot=bot+(cmip5bhmdecomp[i]/np.sum(cmip5bhmdecomp))*100.   \n",
    "    print(varpartname[i]+' '+str((cmip5bhmdecomp[i]/var5)*100.))\n",
    "          \n",
    "ax4.bar(6, (var6/var6)*100., width=1, bottom=None, align='center', color='lightgray', edgecolor='black', linewidth=2)\n",
    "ax4.bar(6, (vartsexplain6/var6)*100., width=1, bottom=None, align='center', fill=False, linewidth=0, hatch='////')\n",
    "\n",
    "bot=0\n",
    "for i in range(0,3):\n",
    "    ax4.bar(7., (cmip6olsdecomp[i]/var6)*100., width=1, bottom=bot, align='center', color=decompcolors[i], edgecolor='black', linewidth=2)\n",
    "    bot=bot+(cmip6olsdecomp[i]/var6)*100.\n",
    "    \n",
    "bot=0\n",
    "for i in range(0,3):\n",
    "    ax4.bar(8., (cmip6tlsdecomp[i]/var6)*100., width=1, bottom=bot, align='center', color=decompcolors[i], edgecolor='black', linewidth=2)\n",
    "    bot=bot+(cmip6tlsdecomp[i]/var6)*100.  \n",
    "    \n",
    "bot=0\n",
    "for i in range(0,3):\n",
    "    ax4.bar(9., (cmip6bhmdecomp[i]/np.sum(cmip6bhmdecomp))*100., width=1, bottom=bot, align='center', color=decompcolors[i], edgecolor='black', linewidth=2)\n",
    "    bot=bot+(cmip6bhmdecomp[i]/np.sum(cmip6bhmdecomp))*100.  "
   ]
  },
  {
   "cell_type": "code",
   "execution_count": 11,
   "metadata": {},
   "outputs": [
    {
     "data": {
      "text/plain": [
       "<matplotlib.legend.Legend at 0x7fa746bd9be0>"
      ]
     },
     "execution_count": 11,
     "metadata": {},
     "output_type": "execute_result"
    }
   ],
   "source": [
    "legendparts=[Rectangle((0.95,0.95),5,3,facecolor='lightgray', edgecolor='black'),\n",
    "             Rectangle((0.95,0.95),5,3,linewidth=0,fill='None', facecolor='white', hatch='////'),\n",
    "             Rectangle((0.95,0.95),5,3,facecolor='darkred',edgecolor='black'),\n",
    "             Rectangle((0.95,0.95),5,3,facecolor='seagreen',edgecolor='black'),\n",
    "             Rectangle((0.95,0.95),5,3,facecolor='cornflowerblue',edgecolor='black')]\n",
    "legendlabels=['$\\sigma^{2}(\\Delta V_{SW})$','$\\sigma^{2}_{\\Delta T_{2m}}$','$\\sigma^{2}_{EC}$','$\\sigma^{2}_{IV}$','$\\sigma^{2}_{\\delta}$']\n",
    "fig.legend(legendparts, legendlabels, bbox_to_anchor = (0.6,0.75), ncol=1, frameon=False, fontsize='x-large', handlelength=1, handleheight=1, handletextpad=0.4)"
   ]
  },
  {
   "cell_type": "code",
   "execution_count": 12,
   "metadata": {},
   "outputs": [
    {
     "data": {
      "text/plain": [
       "Text(6, 5, 'CMIP6')"
      ]
     },
     "execution_count": 12,
     "metadata": {},
     "output_type": "execute_result"
    }
   ],
   "source": [
    "ax5 = fig.add_axes(np.array([0.625,0.55,0.25,0.4]))\n",
    "ax5.set_xlim(0,8)\n",
    "ax5.set_ylim(-3,6)\n",
    "ax5.set_yticks([-2,0,2,4,6])\n",
    "ax5.set_yticklabels(['-2','0','2','4','6'], fontsize=14)\n",
    "ax5.set_xticks([])\n",
    "ax5.plot([0,9],[0,0],color='black')\n",
    "ax5.plot([4,4],[-34,10],color='black')\n",
    "ax5.set_ylabel('$\\\\alpha$ ($\\circ$ N)', fontsize=14)\n",
    "ax5.set_title('(e) $\\\\alpha$ parameter', fontsize=16)\n",
    "\n",
    "ax5.bar(1,aols5em,bottom=0,width=1,color='saddlebrown', linewidth=2, edgecolor='black')\n",
    "ax5.errorbar(1,aols5em,[[aols5em-aolsrange5[0]],[aolsrange5[1]-aols5em]], color='black', linewidth=2, capsize=5, capthick=2.)\n",
    "\n",
    "ax5.bar(2,atls5em,bottom=0,width=1,color='forestgreen',linewidth=2,edgecolor='black')\n",
    "ax5.errorbar(2,atls5em,[[atls5em-atlsrange5[0]],[atlsrange5[1]-atls5em]], color='black', linewidth=2, capsize=5, capthick=2.)\n",
    "\n",
    "ax5.bar(3,abhm5em,bottom=0,width=1,color='blueviolet',linewidth=2,edgecolor='black')\n",
    "ax5.errorbar(3,abhm5em,[[abhm5em-abhmrange5[0]],[abhmrange5[1]-abhm5em]], color='black', linewidth=2, capsize=5, capthick=2.)\n",
    "\n",
    "ax5.bar(5,aols6em,bottom=0,width=1,color='saddlebrown',linewidth=2,edgecolor='black')\n",
    "ax5.errorbar(5,aols6em,[[aols6em-aolsrange6[0]],[aolsrange6[1]-aols6em]], color='black', linewidth=2, capsize=5, capthick=2.)\n",
    "ax5.bar(6,atls6em,bottom=0,width=1,color='forestgreen',linewidth=2,edgecolor='black')\n",
    "ax5.errorbar(6,atls6em,[[atls6em-atlsrange6[0]],[atlsrange6[1]-atls6em]], color='black', linewidth=2, capsize=5, capthick=2.)\n",
    "ax5.bar(7,abhm6em,bottom=0,width=1,color='blueviolet',linewidth=2,edgecolor='black')\n",
    "ax5.errorbar(7,abhm6em,[[abhm6em-abhmrange6[0]],[abhmrange6[1]-abhm6em]], color='black', linewidth=2, capsize=5, capthick=2.)\n",
    "\n",
    "ax5.text(2, 5, 'CMIP5', horizontalalignment='center', verticalalignment='center', fontsize=16)\n",
    "ax5.text(6, 5, 'CMIP6', horizontalalignment='center', verticalalignment='center', fontsize=16)"
   ]
  },
  {
   "cell_type": "code",
   "execution_count": 13,
   "metadata": {},
   "outputs": [
    {
     "data": {
      "text/plain": [
       "Text(6, 0.5, 'CMIP6')"
      ]
     },
     "execution_count": 13,
     "metadata": {},
     "output_type": "execute_result"
    }
   ],
   "source": [
    "ax6 = fig.add_axes(np.array([0.625,0.05,0.25,0.4]))\n",
    "ax6.set_xlim(0,8)\n",
    "ax6.set_ylim(-2,1)\n",
    "ax6.set_yticks([-2,-1.5,-1,-0.5,0,0.5,1])\n",
    "ax6.set_yticklabels(['-2','-1.5','-1','-0.5','0','0.5','1'], fontsize=14)\n",
    "ax6.set_xticks([])\n",
    "ax6.plot([0,9],[0,0],color='black')\n",
    "ax6.plot([4,4],[-2,1],color='black')\n",
    "ax6.set_ylabel('$\\\\beta$', fontsize=14)\n",
    "ax6.set_title('(f) $\\\\beta$ parameter', fontsize=16)\n",
    "\n",
    "ax6.bar(1,bols5em,bottom=0,width=1,color='saddlebrown', linewidth=2, edgecolor='black')\n",
    "ax6.errorbar(1,bols5em,[[bols5em-bolsrange5[0]],[bolsrange5[1]-bols5em]], color='black', linewidth=2, capsize=5, capthick=2.)\n",
    "\n",
    "ax6.bar(2,btls5em,bottom=0,width=1,color='forestgreen',linewidth=2,edgecolor='black')\n",
    "ax6.errorbar(2,btls5em,[[btls5em-btlsrange5[0]],[btlsrange5[1]-btls5em]], color='black', linewidth=2, capsize=5, capthick=2.)\n",
    "\n",
    "ax6.bar(3,bbhm5em,bottom=0,width=1,color='blueviolet',linewidth=2,edgecolor='black')\n",
    "ax6.errorbar(3,bbhm5em,[[bbhm5em-bbhmrange5[0]],[bbhmrange5[1]-bbhm5em]], color='black', linewidth=2, capsize=5, capthick=2.)\n",
    "\n",
    "ax6.bar(5,bols6em,bottom=0,width=1,color='saddlebrown',linewidth=2,edgecolor='black')\n",
    "ax6.errorbar(5,bols6em,[[bols6em-bolsrange6[0]],[bolsrange6[1]-bols6em]], color='black', linewidth=2, capsize=5, capthick=2.)\n",
    "ax6.bar(6,btls6em,bottom=0,width=1,color='forestgreen',linewidth=2,edgecolor='black')\n",
    "ax6.errorbar(6,btls6em,[[btls6em-btlsrange6[0]],[btlsrange6[1]-btls6em]], color='black', linewidth=2, capsize=5, capthick=2.)\n",
    "ax6.bar(7,bbhm6em,bottom=0,width=1,color='blueviolet',linewidth=2,edgecolor='black')\n",
    "ax6.errorbar(7,bbhm6em,[[bbhm6em-bbhmrange6[0]],[bbhmrange6[1]-bbhm6em]], color='black', linewidth=2, capsize=5, capthick=2.)\n",
    "\n",
    "ax6.text(2, 0.5, 'CMIP5', horizontalalignment='center', verticalalignment='center', fontsize=16)\n",
    "ax6.text(6, 0.5, 'CMIP6', horizontalalignment='center', verticalalignment='center', fontsize=16)"
   ]
  },
  {
   "cell_type": "code",
   "execution_count": 14,
   "metadata": {},
   "outputs": [
    {
     "data": {
      "text/plain": [
       "<matplotlib.legend.Legend at 0x7fa746c77940>"
      ]
     },
     "execution_count": 14,
     "metadata": {},
     "output_type": "execute_result"
    }
   ],
   "source": [
    "legendparts=[Rectangle((0.95,0.95),5,3,facecolor='saddlebrown', edgecolor='black'),\n",
    "             Rectangle((0.95,0.95),5,3,facecolor='forestgreen', edgecolor='black'),\n",
    "             Rectangle((0.95,0.95),5,3,facecolor='blueviolet',edgecolor='black')]\n",
    "legendlabels=['OLS','TLS','BHM']\n",
    "fig.legend(legendparts, legendlabels, bbox_to_anchor = (0.73,0.01), ncol=3, frameon=False, fontsize='x-large', handlelength=1, handleheight=1, handletextpad=0.4, loc='center')"
   ]
  },
  {
   "cell_type": "code",
   "execution_count": 15,
   "metadata": {},
   "outputs": [],
   "source": [
    "#plot the plot\n",
    "fig.savefig('fig8.pdf', facecolor='white', bbox_inches='tight')"
   ]
  },
  {
   "cell_type": "code",
   "execution_count": null,
   "metadata": {},
   "outputs": [],
   "source": []
  }
 ],
 "metadata": {
  "kernelspec": {
   "display_name": "Python [conda env:ecpaperenv]",
   "language": "python",
   "name": "conda-env-ecpaperenv-py"
  },
  "language_info": {
   "codemirror_mode": {
    "name": "ipython",
    "version": 3
   },
   "file_extension": ".py",
   "mimetype": "text/x-python",
   "name": "python",
   "nbconvert_exporter": "python",
   "pygments_lexer": "ipython3",
   "version": "3.6.11"
  }
 },
 "nbformat": 4,
 "nbformat_minor": 4
}
