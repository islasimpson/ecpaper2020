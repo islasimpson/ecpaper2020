{
 "cells": [
  {
   "cell_type": "markdown",
   "metadata": {},
   "source": [
    "Bootstrap an equivalent number of members from the 5 LE's to estimate the error on the predictor and predictand and the correlation between them for the CMIP5 models."
   ]
  },
  {
   "cell_type": "code",
   "execution_count": 5,
   "metadata": {},
   "outputs": [],
   "source": [
    "import importlib\n",
    "import pandas as pd\n",
    "import xarray as xr\n",
    "import numpy as np\n",
    "import sys\n",
    "import warnings\n",
    "\n",
    "from ecpaper_utils import bootstrap_utils as boot\n",
    "from ecpaper_utils import jlat_utils as jlat\n",
    "\n",
    "importlib.reload(boot)\n",
    "\n",
    "warnings.filterwarnings('ignore')"
   ]
  },
  {
   "cell_type": "code",
   "execution_count": 6,
   "metadata": {},
   "outputs": [],
   "source": [
    "cmip5models=pd.read_csv(\"../../DATASORT/cmip5csvinfo.csv\")"
   ]
  },
  {
   "cell_type": "code",
   "execution_count": 7,
   "metadata": {},
   "outputs": [],
   "source": [
    "mmleapath=\"/project/cas/islas/python/ecpaper2020/DATASORT/SHJET/DATA/\""
   ]
  },
  {
   "cell_type": "markdown",
   "metadata": {},
   "source": [
    "Read in MMLEA data"
   ]
  },
  {
   "cell_type": "code",
   "execution_count": 8,
   "metadata": {},
   "outputs": [],
   "source": [
    "dat = xr.open_dataset(mmleapath+\"uzm_CanESM2.nc\")\n",
    "up_CanESM2 = dat.upast_jja_zm ; uf_CanESM2 = dat.ufut_jja_zm\n",
    "dat = xr.open_dataset(mmleapath+\"uzm_CESM1-CAM5.nc\")\n",
    "up_CESM = dat.upast_jja_zm ; uf_CESM = dat.ufut_jja_zm\n",
    "dat = xr.open_dataset(mmleapath+\"uzm_CSIRO-Mk3-6-0.nc\")\n",
    "up_CSIRO = dat.upast_jja_zm ; uf_CSIRO = dat.ufut_jja_zm\n",
    "dat = xr.open_dataset(mmleapath+\"uzm_GFDL-CM3.nc\")\n",
    "up_GFDL = dat.upast_jja_zm ; uf_GFDL = dat.ufut_jja_zm\n",
    "dat = xr.open_dataset(mmleapath+\"uzm_MPI-ESM.nc\")\n",
    "up_MPI = dat.upast_jja_zm ; uf_MPI = dat.ufut_jja_zm"
   ]
  },
  {
   "cell_type": "code",
   "execution_count": 9,
   "metadata": {},
   "outputs": [
    {
     "name": "stdout",
     "output_type": "stream",
     "text": [
      "ACCESS1-0\n",
      "ACCESS1-3\n",
      "bcc-csm1-1\n",
      "bcc-csm1-1-m\n",
      "BNU-ESM\n",
      "CanESM2\n",
      "CCSM4\n",
      "CESM1-BGC\n",
      "CESM1-CAM5\n",
      "CESM1-WACCM\n",
      "CMCC-CM\n",
      "CMCC-CMS\n",
      "CNRM-CM5\n",
      "CSIRO-Mk3-6-0\n",
      "EC-EARTH\n",
      "FGOALS-g2\n",
      "FIO-ESM\n",
      "GFDL-CM3\n",
      "GFDL-ESM2G\n",
      "GFDL-ESM2M\n",
      "GISS-E2-H\n",
      "GISS-E2-R\n",
      "HadGEM2-AO\n",
      "HadGEM2-CC\n",
      "HadGEM2-ES\n",
      "inmcm4\n",
      "IPSL-CM5A-LR\n",
      "IPSL-CM5A-MR\n",
      "IPSL-CM5B-LR\n",
      "MIROC5\n",
      "MIROC-ESM\n",
      "MIROC-ESM-CHEM\n",
      "MPI-ESM-LR\n",
      "MPI-ESM-MR\n",
      "MRI-CGCM3\n",
      "NorESM1-M\n",
      "NorESM1-ME\n"
     ]
    }
   ],
   "source": [
    "models = cmip5models['Model']\n",
    "nmodels=models.size\n",
    "nboots=1000\n",
    "\n",
    "sigx = np.zeros(nmodels) ; sigy = np.zeros(nmodels) ; rxy = np.zeros(nmodels)\n",
    "\n",
    "for index, modname in models.iteritems():\n",
    "    print(modname)\n",
    "    nmemsp=cmip5models.loc[index, \"Nmempast\"]\n",
    "    nmemsf=cmip5models.loc[index, \"Nmemfuture\"]\n",
    "    \n",
    "    bootCanESM2_p = boot.bootgen_multimem(up_CanESM2, nboots, nmemsp, seed=3)\n",
    "    bootCanESM2_f = boot.bootgen_multimem(uf_CanESM2, nboots, nmemsf, seed=3)\n",
    "    bootCESM_p = boot.bootgen_multimem(up_CESM, nboots, nmemsp, seed=3)\n",
    "    bootCESM_f = boot.bootgen_multimem(uf_CESM, nboots, nmemsf, seed=3)\n",
    "    bootCSIRO_p = boot.bootgen_multimem(up_CSIRO, nboots, nmemsp, seed=3)\n",
    "    bootCSIRO_f = boot.bootgen_multimem(uf_CSIRO, nboots, nmemsf, seed=3)\n",
    "    bootGFDL_p = boot.bootgen_multimem(up_GFDL, nboots, nmemsp, seed=3)\n",
    "    bootGFDL_f = boot.bootgen_multimem(uf_GFDL, nboots, nmemsf, seed=3)\n",
    "    bootMPI_p = boot.bootgen_multimem(up_MPI, nboots, nmemsp, seed=3)\n",
    "    bootMPI_f = boot.bootgen_multimem(uf_MPI, nboots, nmemsf, seed=3)\n",
    "    \n",
    "    jlat_CanESM2_p=np.zeros(nboots) ; jlat_CanESM2_f=np.zeros(nboots)\n",
    "    jlat_CESM_p=np.zeros(nboots) ; jlat_CESM_f=np.zeros(nboots)\n",
    "    jlat_CSIRO_p=np.zeros(nboots) ; jlat_CSIRO_f=np.zeros(nboots)\n",
    "    jlat_GFDL_p=np.zeros(nboots) ; jlat_GFDL_f=np.zeros(nboots)\n",
    "    jlat_MPI_p=np.zeros(nboots) ; jlat_MPI_f=np.zeros(nboots)\n",
    "    \n",
    "    for iboot in range(0,nboots):\n",
    "        jlat_CanESM2_p[iboot], jspeed = jlat.calcjetlat(bootCanESM2_p[iboot, :], -80, -20)\n",
    "        jlat_CanESM2_f[iboot], jspeed = jlat.calcjetlat(bootCanESM2_f[iboot, :], -80, -20)\n",
    "        jlat_CESM_p[iboot], jspeed = jlat.calcjetlat(bootCESM_p[iboot, :], -80, -20)\n",
    "        jlat_CESM_f[iboot], jspeed = jlat.calcjetlat(bootCESM_f[iboot, :], -80, -20)\n",
    "        jlat_CSIRO_p[iboot], jspeed = jlat.calcjetlat(bootCSIRO_p[iboot, :], -80, -20)\n",
    "        jlat_CSIRO_f[iboot], jspeed = jlat.calcjetlat(bootCSIRO_f[iboot, :], -80, -20)\n",
    "        jlat_GFDL_p[iboot], jspeed = jlat.calcjetlat(bootGFDL_p[iboot, :], -80, -20)\n",
    "        jlat_GFDL_f[iboot], jspeed = jlat.calcjetlat(bootGFDL_f[iboot, :], -80, -20)\n",
    "        jlat_MPI_p[iboot], jspeed = jlat.calcjetlat(bootMPI_p[iboot, :], -80, -20)\n",
    "        jlat_MPI_f[iboot], jspeed = jlat.calcjetlat(bootMPI_f[iboot, :], -80, -20)\n",
    "    \n",
    "    jlatdif_CanESM2 = jlat_CanESM2_f - jlat_CanESM2_p\n",
    "    jlatdif_CESM = jlat_CESM_f - jlat_CESM_p\n",
    "    jlatdif_CSIRO = jlat_CSIRO_f - jlat_CSIRO_p\n",
    "    jlatdif_GFDL = jlat_GFDL_f - jlat_GFDL_p\n",
    "    jlatdif_MPI = jlat_MPI_f - jlat_MPI_p\n",
    "\n",
    "    result = np.corrcoef(jlat_CanESM2_p, jlatdif_CanESM2)\n",
    "    rxy_CanESM2 = result[0,1]\n",
    "    result = np.corrcoef(jlat_CESM_p, jlatdif_CESM)\n",
    "    rxy_CESM = result[0,1]\n",
    "    result = np.corrcoef(jlat_CSIRO_p, jlatdif_CSIRO)\n",
    "    rxy_CSIRO = result[0,1]\n",
    "    result = np.corrcoef(jlat_GFDL_p, jlatdif_GFDL)\n",
    "    rxy_GFDL = result[0,1]\n",
    "    result = np.corrcoef(jlat_MPI_p, jlatdif_MPI)\n",
    "    rxy_MPI = result[0,1]\n",
    "    \n",
    "    sigx[index] = (np.std(jlat_CanESM2_p) + np.std(jlat_CESM_p) + np.std(jlat_CSIRO_p) + np.std(jlat_GFDL_p) + np.std(jlat_MPI_p))/5.\n",
    "    sigy[index] = (np.std(jlatdif_CanESM2) + np.std(jlatdif_CESM) + np.std(jlatdif_CSIRO)+ np.std(jlatdif_GFDL) +  np.std(jlatdif_MPI))/5.\n",
    "    rxy[index] = (rxy_CanESM2 + rxy_CESM + rxy_CSIRO + rxy_GFDL + rxy_MPI)/5."
   ]
  },
  {
   "cell_type": "code",
   "execution_count": 14,
   "metadata": {},
   "outputs": [],
   "source": [
    "sigx_xr = xr.DataArray(sigx, coords=[models], dims=[\"Model\"], name='sigx')\n",
    "sigy_xr = xr.DataArray(sigy, coords=[models], dims=[\"Model\"], name='sigy')\n",
    "rxy_xr = xr.DataArray(rxy, coords=[models], dims=[\"Model\"], name='rxy')\n",
    "\n",
    "sigx_xr.to_netcdf(\"./DATA/errors_cmip5.nc\")\n",
    "sigy_xr.to_netcdf(\"./DATA/errors_cmip5.nc\", mode=\"a\")\n",
    "rxy_xr.to_netcdf(\"./DATA/errors_cmip5.nc\", mode=\"a\")"
   ]
  },
  {
   "cell_type": "code",
   "execution_count": 12,
   "metadata": {},
   "outputs": [
    {
     "name": "stdout",
     "output_type": "stream",
     "text": [
      "<xarray.DataArray 'sigx' (Model: 37)>\n",
      "array([0.58296299, 0.58296299, 0.58296299, 0.58296299, 0.58296299,\n",
      "       0.2562448 , 0.23306926, 0.58296299, 0.33195221, 0.58296299,\n",
      "       0.58296299, 0.58296299, 0.2562448 , 0.17939958, 0.58296299,\n",
      "       0.58296299, 0.33195221, 0.58296299, 0.58296299, 0.58296299,\n",
      "       0.40710361, 0.40710361, 0.58296299, 0.33195221, 0.33195221,\n",
      "       0.58296299, 0.28604551, 0.58296299, 0.58296299, 0.33195221,\n",
      "       0.58296299, 0.58296299, 0.33195221, 0.58296299, 0.58296299,\n",
      "       0.58296299, 0.58296299])\n",
      "Coordinates:\n",
      "  * Model    (Model) object 'ACCESS1-0' 'ACCESS1-3' ... 'NorESM1-M' 'NorESM1-ME'\n"
     ]
    }
   ],
   "source": [
    "print(sigx_xr)"
   ]
  },
  {
   "cell_type": "code",
   "execution_count": null,
   "metadata": {},
   "outputs": [],
   "source": []
  }
 ],
 "metadata": {
  "kernelspec": {
   "display_name": "Python [conda env:ecpaperenv]",
   "language": "python",
   "name": "conda-env-ecpaperenv-py"
  },
  "language_info": {
   "codemirror_mode": {
    "name": "ipython",
    "version": 3
   },
   "file_extension": ".py",
   "mimetype": "text/x-python",
   "name": "python",
   "nbconvert_exporter": "python",
   "pygments_lexer": "ipython3",
   "version": "3.6.11"
  }
 },
 "nbformat": 4,
 "nbformat_minor": 4
}
