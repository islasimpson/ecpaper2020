{
 "cells": [
  {
   "cell_type": "markdown",
   "metadata": {},
   "source": [
    "Calculates JJA zonal mean jet latitude values for 1979-2014 and 2070-2099 for CMIP6 models.  Outputs both the jet latitude of the ensemble mean zonal mean zonal wind and the jet latitude for the first ensemle member.  This code works on a CMIP archive that is internal to the Climate and Global Dynamics Laboratory, NCAR.  If you want to run this on your own archive, you'd need to modify histpath and rcp85path and make sure the directory structure is set up in the right way.\n",
    "\n",
    "Output is saved to ecpaper2020/DATASORT/JLAT/DATA/jlatcmip6.nc"
   ]
  },
  {
   "cell_type": "code",
   "execution_count": 21,
   "metadata": {},
   "outputs": [],
   "source": [
    "import importlib\n",
    "import pandas as pd \n",
    "import xarray as xr\n",
    "import numpy as np\n",
    "from numpy import nan\n",
    "import sys\n",
    "import warnings\n",
    "import math\n",
    "from glob import glob\n",
    "\n",
    "from ecpaper_utils import readdata_utils as read\n",
    "from ecpaper_utils import jlat_utils as jlat\n",
    "from ecpaper_utils import calendar_utils as cal\n",
    "\n",
    "importlib.reload(read)\n",
    "importlib.reload(jlat)\n",
    "importlib.reload(cal)\n",
    "\n",
    "warnings.filterwarnings('ignore')"
   ]
  },
  {
   "cell_type": "markdown",
   "metadata": {},
   "source": [
    "Set paths for CMIP6 models (historical and SSP5-8.5) and variable to use and the pressure level to use (in Pa)"
   ]
  },
  {
   "cell_type": "code",
   "execution_count": 1,
   "metadata": {},
   "outputs": [],
   "source": [
    "histpath=\"/project/cmip6/historical/Amon/\"\n",
    "rcp85path=\"/project/cmip6/ssp585/Amon/\"\n",
    "var=\"ua\"\n",
    "plevuse=\"70000\"\n",
    "pathout=\"./DATA\""
   ]
  },
  {
   "cell_type": "markdown",
   "metadata": {},
   "source": [
    "Information on the models being used is provided in cmip5csvinfo.csv.  This contains information on the models, number of members and whether there's any special order for the member numbers i.e., if they don't simply go from 1 to N.  Read in this info and set up the dates for each period."
   ]
  },
  {
   "cell_type": "code",
   "execution_count": 7,
   "metadata": {},
   "outputs": [
    {
     "name": "stdout",
     "output_type": "stream",
     "text": [
      "             Model  Nmempast  Nmemfuture specialorderpast specialorderfuture\n",
      "0        ACCESS1-0         1           1              NaN                NaN\n",
      "1        ACCESS1-3         1           1              NaN                NaN\n",
      "2       bcc-csm1-1         1           1              NaN                NaN\n",
      "3     bcc-csm1-1-m         1           1              NaN                NaN\n",
      "4          BNU-ESM         1           1              NaN                NaN\n",
      "5          CanESM2         5           5              NaN                NaN\n",
      "6            CCSM4         6           6              NaN                NaN\n",
      "7        CESM1-BGC         1           1              NaN                NaN\n",
      "8       CESM1-CAM5         3           3              NaN                NaN\n",
      "9      CESM1-WACCM         1           1            2,3,4              2,3,4\n",
      "10         CMCC-CM         1           1              NaN                NaN\n",
      "11        CMCC-CMS         1           1              NaN                NaN\n",
      "12        CNRM-CM5         5           5       1,2,4,6,10         1,2,4,6,10\n",
      "13   CSIRO-Mk3-6-0        10          10              NaN                NaN\n",
      "14        EC-EARTH         1           1                8                  8\n",
      "15       FGOALS-g2         1           1              NaN                NaN\n",
      "16         FIO-ESM         3           3              NaN                NaN\n",
      "17        GFDL-CM3         1           1              NaN                NaN\n",
      "18      GFDL-ESM2G         1           1              NaN                NaN\n",
      "19      GFDL-ESM2M         1           1              NaN                NaN\n",
      "20       GISS-E2-H         2           2              NaN                NaN\n",
      "21       GISS-E2-R         2           2              NaN                NaN\n",
      "22      HadGEM2-AO         1           1              NaN                NaN\n",
      "23      HadGEM2-CC         3           3              NaN                NaN\n",
      "24      HadGEM2-ES         3           3              NaN                NaN\n",
      "25          inmcm4         1           1              NaN                NaN\n",
      "26    IPSL-CM5A-LR         4           4              NaN                NaN\n",
      "27    IPSL-CM5A-MR         1           1              NaN                NaN\n",
      "28    IPSL-CM5B-LR         1           1              NaN                NaN\n",
      "29          MIROC5         3           3              NaN                NaN\n",
      "30       MIROC-ESM         1           1              NaN                NaN\n",
      "31  MIROC-ESM-CHEM         1           1              NaN                NaN\n",
      "32      MPI-ESM-LR         3           3              NaN                NaN\n",
      "33      MPI-ESM-MR         1           1              NaN                NaN\n",
      "34       MRI-CGCM3         1           1              NaN                NaN\n",
      "35       NorESM1-M         1           1              NaN                NaN\n",
      "36      NorESM1-ME         1           1              NaN                NaN\n"
     ]
    }
   ],
   "source": [
    "cmip6models=pd.read_csv('cmip6csvinfo.csv')\n",
    "print(cmip6models)\n",
    "\n",
    "ybegp = 1979 ; monbegp = 1 ; yendp = 2014 ; monendp = 12 # dates for Past period\n",
    "ybegf = 2070 ; monbegf = 1 ; yendf = 2099 ; monendf = 12 # dates for Future period\n",
    "\n",
    "# total number of months (used for checking)\n",
    "nmonthsp = (yendp-ybegp-1)*12 + (12-monbegp+1) + monendp\n",
    "nmonthsf = (yendf-ybegf-1)*12 + (12-monbegf+1) + monendf\n",
    "\n",
    "# set up date names\n",
    "datebegp=str(ybegp)+\"-\"+str(monbegp).zfill(2)\n",
    "dateendp=str(yendp)+\"-\"+str(monendp).zfill(2)\n",
    "datebegf=str(ybegf)+\"-\"+str(monbegf).zfill(2)\n",
    "dateendf=str(yendf)+\"-\"+str(monendf).zfill(2)"
   ]
  },
  {
   "cell_type": "markdown",
   "metadata": {},
   "source": [
    "This is the main part of the script.  It loops over models and ensemble members and calculates the zonal mean zonal wind at 700hPa for JJA.  This is then interpolated onto a 1degree latitude grid and the jet latitude is calculated for both the ensemble mean and the first member.  These are then output to netcdf."
   ]
  },
  {
   "cell_type": "code",
   "execution_count": 2,
   "metadata": {},
   "outputs": [
    {
     "ename": "NameError",
     "evalue": "name 'cmip6models' is not defined",
     "output_type": "error",
     "traceback": [
      "\u001b[0;31m---------------------------------------------------------------------------\u001b[0m",
      "\u001b[0;31mNameError\u001b[0m                                 Traceback (most recent call last)",
      "\u001b[0;32m<ipython-input-2-09f435691980>\u001b[0m in \u001b[0;36m<module>\u001b[0;34m\u001b[0m\n\u001b[0;32m----> 1\u001b[0;31m \u001b[0mmodels\u001b[0m\u001b[0;34m=\u001b[0m\u001b[0mcmip6models\u001b[0m\u001b[0;34m[\u001b[0m\u001b[0;34m'Model'\u001b[0m\u001b[0;34m]\u001b[0m\u001b[0;34m\u001b[0m\u001b[0;34m\u001b[0m\u001b[0m\n\u001b[0m\u001b[1;32m      2\u001b[0m \u001b[0mnmodels\u001b[0m\u001b[0;34m=\u001b[0m\u001b[0mmodels\u001b[0m\u001b[0;34m.\u001b[0m\u001b[0msize\u001b[0m\u001b[0;34m\u001b[0m\u001b[0;34m\u001b[0m\u001b[0m\n\u001b[1;32m      3\u001b[0m \u001b[0;34m\u001b[0m\u001b[0m\n\u001b[1;32m      4\u001b[0m \u001b[0;31m# initialize member 1 and ensemble mean jet latitude arrays\u001b[0m\u001b[0;34m\u001b[0m\u001b[0;34m\u001b[0m\u001b[0;34m\u001b[0m\u001b[0m\n\u001b[1;32m      5\u001b[0m \u001b[0mjlat1memp\u001b[0m \u001b[0;34m=\u001b[0m \u001b[0mxr\u001b[0m\u001b[0;34m.\u001b[0m\u001b[0mDataArray\u001b[0m\u001b[0;34m(\u001b[0m\u001b[0mnp\u001b[0m\u001b[0;34m.\u001b[0m\u001b[0mzeros\u001b[0m\u001b[0;34m(\u001b[0m\u001b[0mnmodels\u001b[0m\u001b[0;34m)\u001b[0m\u001b[0;34m,\u001b[0m \u001b[0mcoords\u001b[0m\u001b[0;34m=\u001b[0m\u001b[0;34m[\u001b[0m\u001b[0mmodels\u001b[0m\u001b[0;34m]\u001b[0m\u001b[0;34m,\u001b[0m \u001b[0mdims\u001b[0m\u001b[0;34m=\u001b[0m\u001b[0;34m\"model\"\u001b[0m\u001b[0;34m,\u001b[0m \u001b[0mname\u001b[0m\u001b[0;34m=\u001b[0m\u001b[0;34m\"jlat1memp\"\u001b[0m\u001b[0;34m)\u001b[0m\u001b[0;34m\u001b[0m\u001b[0;34m\u001b[0m\u001b[0m\n",
      "\u001b[0;31mNameError\u001b[0m: name 'cmip6models' is not defined"
     ]
    }
   ],
   "source": [
    "models=cmip6models['Model']\n",
    "nmodels=models.size\n",
    "\n",
    "# initialize member 1 and ensemble mean jet latitude arrays\n",
    "jlat1memp = xr.DataArray(np.zeros(nmodels), coords=[models], dims=\"model\", name=\"jlat1memp\")\n",
    "jlat1memf = xr.DataArray(np.zeros(nmodels), coords=[models], dims=\"model\", name=\"jlat1memf\")\n",
    "jlatemp = xr.DataArray(np.zeros(nmodels), coords=[models], dims=\"model\", name=\"jlatemp\")\n",
    "jlatemf = xr.DataArray(np.zeros(nmodels), coords=[models], dims=\"model\", name=\"jlatemf\")\n",
    "\n",
    "\n",
    "# loop over models\n",
    "for index, modname in models.iteritems():\n",
    "    \n",
    "    # --- sort out the PAST period ---\n",
    "    nmems=cmip6models.loc[index, \"Nmempast\"]\n",
    "    ftype=cmip6models.loc[index, \"ftypep\"]\n",
    "    ptype=cmip6models.loc[index, \"ptype\"]\n",
    "    \n",
    "    for imem in range(1, nmems+1, 1):\n",
    "        if (math.isnan(ptype)):\n",
    "            memstr=\"r\"+str(imem)+\"i1p1f\"+str(int(ftype))\n",
    "        else :\n",
    "            memstr=\"r\"+str(imem)+\"i1p\"+str(int(ptype))+\"f\"+str(int(ftype))\n",
    "            \n",
    "        # check if a special order is needed\n",
    "        changeorder=cmip6models.loc[index, \"specialorderpast\"]\n",
    "        if (type(changeorder) == str):\n",
    "            changeordernp = np.array(changeorder.split(\",\"))\n",
    "            if (math.isnan(ptype)):\n",
    "                memstr = \"r\"+str(changeordernp[imem-1])+\"i1p1f\"+str(int(ftype))\n",
    "            else:\n",
    "                memstr = \"r\"+str(changeordernp[imem-1])+\"i1p\"+str(int(ptype))+\"f\"+str(int(ftype))\n",
    "        \n",
    "        print(\"Processing past \"+modname+\" \"+memstr+\"...\")\n",
    "        \n",
    "        histdir = glob(histpath+var+\"/\"+modname+\"/\"+memstr+\"/*/\")\n",
    "        histdir = histdir[0]\n",
    "        \n",
    "        # read in zonal mean u for 1979-2014\n",
    "        u = read.read_zonalmean_1lev(histdir\"*.nc\", datebegp, dateendp, plevuse)\n",
    "        \n",
    "        # check if the right number of months are there\n",
    "        if (u.time.size != nmonthsp):\n",
    "            print(\"something's wring, nmonthsp=\"+str(nmonthsp)+\" but u has size \"+str(u.time.size))\n",
    "            \n",
    "        # calculate JJA mean and interpolate\n",
    "        ujja = cal.season_mean(u, \"ua\", season=\"JJA\")\n",
    "        ujja = ujja.dropna('lat')\n",
    "        ujjainterp = ujja.interp(lat=np.linspace(-90,90,181), method=\"cubic\")\n",
    "        \n",
    "        # calculate the jet latitude for 1 member.  Initialize ensemble mean\n",
    "        if (imem == 1):\n",
    "            uem = xr.DataArray(np.zeros(ujjainterp[\"lat\"].size), dims=[\"lat\"], coords=[ujjainterp[\"lat\"]])\n",
    "            jlatv, jspeedv = jlat.calcjetlat(ujjainterp, -80, -20)\n",
    "            jlat1memp[index] = jlatv\n",
    "            \n",
    "        uem[:] = uem[:] + ujjainterp[:]/float(nmems) # calculate ensemble mean\n",
    "        \n",
    "    jlatv, jspeed = jlat.calcjetlat( uem, -80, -20)\n",
    "    jlatemp[index] = jlatv\n",
    "\n",
    "    # --- end sort out the past ---\n",
    "    \n",
    "    # --- sort out the future ---\n",
    "    nmems=cmip6models.loc[index, \"Nmemfuture\"]\n",
    "    ftype=cmip6models.loc[index, \"ftypef\"]\n",
    "    for imem in range(1, nmems+1, 1): # loop over members\n",
    "        if (math.isnan(ptype)):\n",
    "            memstr=\"r\"+str(imem)+\"i1p1f\"+str(int(ftype))\n",
    "        else:\n",
    "            memstr=\"r\"+str(imem)+\"i1p\"+str(int(ptype))+\"f\"+str(int(ftype))\n",
    "        \n",
    "        #check if a special order is needed\n",
    "        changeorder=cmip6models.loc[index,\"specialorderfuture\"]\n",
    "        if (type(changeorder) == str):\n",
    "            changeordernp = np.array(changeorder.split(\",\"))\n",
    "            if (math.isnan(ptype)):\n",
    "                memstr=\"r\"+str(changeordernp[imem-1])+\"i1p1f\"+str(int(ftype))\n",
    "            else:\n",
    "                memstr=\"r\"+str(changeordernp[imem-1])+\"i1p\"+str(int(ptype))+\"f\"+str(int(ftype))\n",
    "                \n",
    "        print(\"Processing future for \"+modname+\" \"+memstr+\"...\")\n",
    "        rcp85dir=glob(rcp85path+var+\"/\"+modname+\"/\"+memstr+\"/*/\")\n",
    "        rcp85dir=rcp85dir[0]\n",
    "        u=read.read_zonalmean_1lev(rcp85dir+\"*.nc\", datebegf,dateendf,plevuse)\n",
    "        \n",
    "        # check the size\n",
    "        if (u.time.size != nmonthsf):\n",
    "            print(\"something's wrong, nmonthsf=\"+str(nmonthsf)+\" but u has size \"+str(u.time.size))\n",
    "            sys.exit(\"u for future for \"+modname+\" \"+memstr+\" doesn't have the right size\")\n",
    "        \n",
    "        ujja = cal.season_mean(u, \"ua\", season=\"JJA\") # calculate the JJA mean\n",
    "        ujja = ujja.dropna('lat')\n",
    "        ujjainterp = ujja.interp(lat=np.linspace(-90,90,181), method=\"cubic\")\n",
    "        \n",
    "        # calculate the jet latitude for 1 member.  Initialize ensemble mean\n",
    "        if (imem == 1):\n",
    "            uem = xr.DataArray(np.zeros(ujjainterp[\"lat\"].size), dims=[\"lat\"], coords=[ujjainterp[\"lat\"]])\n",
    "            jlatv, jspeedv = jlat.calcjetlat(ujjainterp, -80, -20)\n",
    "            jlat1memf[index]=jlatv\n",
    "            \n",
    "        uem[:]=uem[:]+ujjainterp[:]/float(nmems) # calculate ensembl emean\n",
    "    \n",
    "    jlatv, jspeedv = jlat.calcjetlat(uem, -80, -20)\n",
    "    jlatemf[index] = jlatv\n",
    "    # --- end sort out the future ----\n",
    "                               \n",
    "# output to netcdf \n",
    "    \n",
    "jlatemp.to_netcdf(path=pathout+\"jlatcmip6.nc\")\n",
    "jlatemf.to_netcdf(path=pathout+\"jlatcmip6.nc\", mode=\"a\")\n",
    "jlat1memp.to_netcdf(path=pathout+\"jlatcmip6.nc\", mode=\"a\")\n",
    "jlat1memf.to_netcdf(path=pathout+\"jlatcmip6.nc\", mode=\"a\")\n",
    "    \n",
    "print(\"*********************DONE***********************\")\n",
    "    "
   ]
  },
  {
   "cell_type": "code",
   "execution_count": 14,
   "metadata": {},
   "outputs": [
    {
     "name": "stdout",
     "output_type": "stream",
     "text": [
      "<xarray.DataArray 'ua' (lat: 144)>\n",
      "dask.array<mean_agg-aggregate, shape=(144,), dtype=float32, chunksize=(144,), chunktype=numpy.ndarray>\n",
      "Coordinates:\n",
      "    plev     float64 7e+04\n",
      "  * lat      (lat) float64 -89.38 -88.12 -86.88 -85.62 ... 86.88 88.12 89.38\n"
     ]
    }
   ],
   "source": [
    "print(ujja)"
   ]
  },
  {
   "cell_type": "code",
   "execution_count": null,
   "metadata": {},
   "outputs": [],
   "source": []
  }
 ],
 "metadata": {
  "kernelspec": {
   "display_name": "Python [conda env:ecpaperenv]",
   "language": "python",
   "name": "conda-env-ecpaperenv-py"
  },
  "language_info": {
   "codemirror_mode": {
    "name": "ipython",
    "version": 3
   },
   "file_extension": ".py",
   "mimetype": "text/x-python",
   "name": "python",
   "nbconvert_exporter": "python",
   "pygments_lexer": "ipython3",
   "version": "3.6.11"
  }
 },
 "nbformat": 4,
 "nbformat_minor": 4
}
