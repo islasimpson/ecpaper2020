{
 "cells": [
  {
   "cell_type": "markdown",
   "metadata": {},
   "source": [
    "Doing the calculations and making the plot for Figure 5 - the JLAT emergent constraint"
   ]
  },
  {
   "cell_type": "code",
   "execution_count": 149,
   "metadata": {},
   "outputs": [],
   "source": [
    "import importlib\n",
    "import xarray as xr\n",
    "import numpy as np\n",
    "import sys\n",
    "import matplotlib.pyplot as plt\n",
    "\n",
    "from ecpaper_utils import linfit_utils as linfit\n",
    "from ecpaper_utils import bootstrap_utils as boot\n",
    "from ecpaper_utils import constraint_utils as constraint\n",
    "from ecpaper_utils import fig_utils as ecfig\n",
    "from matplotlib.patches import Rectangle\n",
    "\n",
    "importlib.reload(linfit)\n",
    "importlib.reload(boot)\n",
    "importlib.reload(constraint)\n",
    "importlib.reload(ecfig)\n",
    "\n",
    "import warnings\n",
    "warnings.filterwarnings('ignore')\n"
   ]
  },
  {
   "cell_type": "code",
   "execution_count": 10,
   "metadata": {},
   "outputs": [],
   "source": [
    "datdir=\"/project/cas/islas/python/ecpaper2020/DATASORT/SHJET/DATA/\"\n",
    "errordatdir=\"../ERRORCALC/JLAT/DATA/\""
   ]
  },
  {
   "cell_type": "markdown",
   "metadata": {},
   "source": [
    "Read in CMIP5 and CMIP6 jet latitude data"
   ]
  },
  {
   "cell_type": "code",
   "execution_count": 11,
   "metadata": {},
   "outputs": [],
   "source": [
    "cmip5 = xr.open_dataset(datdir+\"jlatcmip5.nc\")\n",
    "cmip6 = xr.open_dataset(datdir+\"jlatcmip6.nc\")\n",
    "error1mem = xr.open_dataset(errordatdir+\"errors_1mem.nc\")\n",
    "errorem5 = xr.open_dataset(errordatdir+\"errors_cmip5.nc\")\n",
    "errorem6 = xr.open_dataset(errordatdir+\"errors_cmip6.nc\")"
   ]
  },
  {
   "cell_type": "code",
   "execution_count": 68,
   "metadata": {},
   "outputs": [
    {
     "name": "stdout",
     "output_type": "stream",
     "text": [
      "<xarray.Dataset>\n",
      "Dimensions:  (Model: 37)\n",
      "Coordinates:\n",
      "  * Model    (Model) object 'ACCESS1-0' 'ACCESS1-3' ... 'NorESM1-M' 'NorESM1-ME'\n",
      "Data variables:\n",
      "    sigx     (Model) float64 0.6036 0.6036 0.6036 ... 0.6036 0.6036 0.6036\n",
      "    sigy     (Model) float64 0.7883 0.7883 0.7883 ... 0.7883 0.7883 0.7883\n",
      "    rxy      (Model) float64 -0.7926 -0.7926 -0.7926 ... -0.7926 -0.7926 -0.7926\n",
      "<xarray.Dataset>\n",
      "Dimensions:  (Model: 38)\n",
      "Coordinates:\n",
      "  * Model    (Model) object 'ACCESS-CM2' 'ACCESS-ESM1-5' ... 'UKESM1-0-LL'\n",
      "Data variables:\n",
      "    sigx     (Model) float64 0.4071 0.332 0.2562 0.332 ... 0.332 0.583 0.286\n",
      "    sigy     (Model) float64 0.6395 0.4468 0.5486 0.5953 ... 0.5953 0.7695 0.366\n",
      "    rxy      (Model) float64 -0.6343 -0.7523 -0.4586 ... -0.565 -0.7516 -0.7814\n"
     ]
    }
   ],
   "source": [
    "print(errorem5)\n",
    "print(errorem6)"
   ]
  },
  {
   "cell_type": "markdown",
   "metadata": {},
   "source": [
    "Read in observational data and group together"
   ]
  },
  {
   "cell_type": "code",
   "execution_count": 12,
   "metadata": {},
   "outputs": [],
   "source": [
    "obsdata =xr.open_dataset(datdir+\"jlatobs.nc\")\n",
    "jlatobs = np.zeros([4])\n",
    "jlatobs[0] = obsdata.jlatera5 ; jlatobs[1] = obsdata.jlaterai\n",
    "jlatobs[2] = obsdata.jlatjra ; jlatobs[3] = obsdata.jlatmerra"
   ]
  },
  {
   "cell_type": "markdown",
   "metadata": {},
   "source": [
    "The CMIP5 emergent constraint"
   ]
  },
  {
   "cell_type": "code",
   "execution_count": 13,
   "metadata": {},
   "outputs": [
    {
     "name": "stdout",
     "output_type": "stream",
     "text": [
      "Constraining using OLS\n",
      "starting to calculate the percentiles - this could take a while\n",
      "calculating the percentage greater than the ensemble mean - this may also take a while\n",
      "Constraining using TLS\n",
      "starting to calculate the percentiles - this could take a while\n",
      "calculating the percentage greater than the ensemble mean - this may also take a while\n",
      "Constraining using the BHM\n",
      "starting to calculate the percentiles - this could take a while\n",
      "calculating the percentage greater than the ensemble mean - this may also take a while\n"
     ]
    }
   ],
   "source": [
    "cmip5ols = constraint.dotheconstraint(cmip5['jlatemp'],cmip5['jlatemf']-cmip5['jlatemp'], cmip5['jlat1memp'], cmip5['jlat1memf']-cmip5['jlat1memp'],jlatobs, \n",
    "                                     sigyem=errorem5['sigy'], sigx1mem=error1mem['sigx_1mem'], sigy1mem=error1mem['sigy_1mem'],method='OLS')\n",
    "cmip5tls = constraint.dotheconstraint(cmip5['jlatemp'],cmip5['jlatemf']-cmip5['jlatemp'], cmip5['jlat1memp'], cmip5['jlat1memf']-cmip5['jlat1memp'],jlatobs, \n",
    "                                     sigxem=errorem5['sigx'], sigyem=errorem5['sigy'], sigx1mem=error1mem['sigx_1mem'], sigy1mem=error1mem['sigy_1mem'],method='TLS')\n",
    "cmip5bhm = constraint.dotheconstraint(cmip5['jlatemp'],cmip5['jlatemf']-cmip5['jlatemp'], cmip5['jlat1memp'], cmip5['jlat1memf']-cmip5['jlat1memp'],jlatobs, \n",
    "                                     sigxem=errorem5['sigx'], sigyem=errorem5['sigy'], sigx1mem=error1mem['sigx_1mem'], sigy1mem=error1mem['sigy_1mem'], rxyem=errorem5['rxy'],\n",
    "                                     rxy1mem=error1mem['rxy_1mem'],method='BHM')"
   ]
  },
  {
   "cell_type": "markdown",
   "metadata": {},
   "source": [
    "The CMIP6 emergent constraint"
   ]
  },
  {
   "cell_type": "code",
   "execution_count": 14,
   "metadata": {},
   "outputs": [
    {
     "name": "stdout",
     "output_type": "stream",
     "text": [
      "Constraining using OLS\n",
      "starting to calculate the percentiles - this could take a while\n",
      "calculating the percentage greater than the ensemble mean - this may also take a while\n",
      "Constraining using TLS\n",
      "starting to calculate the percentiles - this could take a while\n",
      "calculating the percentage greater than the ensemble mean - this may also take a while\n",
      "Constraining using the BHM\n",
      "starting to calculate the percentiles - this could take a while\n",
      "calculating the percentage greater than the ensemble mean - this may also take a while\n"
     ]
    }
   ],
   "source": [
    "cmip6ols = constraint.dotheconstraint(cmip6['jlatemp'],cmip6['jlatemf']-cmip6['jlatemp'], cmip6['jlat1memp'], cmip6['jlat1memf']-cmip6['jlat1memp'],jlatobs, \n",
    "                                     sigyem=errorem6['sigy'], sigx1mem=error1mem['sigx_1mem'], sigy1mem=error1mem['sigy_1mem'],method='OLS')\n",
    "cmip6tls = constraint.dotheconstraint(cmip6['jlatemp'],cmip6['jlatemf']-cmip6['jlatemp'], cmip6['jlat1memp'], cmip6['jlat1memf']-cmip6['jlat1memp'],jlatobs, \n",
    "                                     sigxem=errorem6['sigx'], sigyem=errorem6['sigy'], sigx1mem=error1mem['sigx_1mem'], sigy1mem=error1mem['sigy_1mem'],method='TLS')\n",
    "cmip6bhm = constraint.dotheconstraint(cmip6['jlatemp'],cmip6['jlatemf']-cmip6['jlatemp'], cmip6['jlat1memp'], cmip6['jlat1memf']-cmip6['jlat1memp'],jlatobs, \n",
    "                                     sigxem=errorem6['sigx'], sigyem=errorem6['sigy'], sigx1mem=error1mem['sigx_1mem'], sigy1mem=error1mem['sigy_1mem'], rxyem=errorem6['rxy'],\n",
    "                                     rxy1mem=error1mem['rxy_1mem'],method='BHM')"
   ]
  },
  {
   "cell_type": "markdown",
   "metadata": {},
   "source": [
    "The constraint on CMIP5 and CMIP6 combined"
   ]
  },
  {
   "cell_type": "code",
   "execution_count": 66,
   "metadata": {},
   "outputs": [
    {
     "name": "stdout",
     "output_type": "stream",
     "text": [
      "<xarray.Dataset>\n",
      "Dimensions:  (Model: 75, model: 2)\n",
      "Coordinates:\n",
      "  * Model    (Model) object 'ACCESS-CM2' 'ACCESS-ESM1-5' ... 'inmcm4'\n",
      "Dimensions without coordinates: model\n",
      "Data variables:\n",
      "    sigx     (model, Model) float64 nan nan 0.6036 0.6036 ... 0.286 nan nan nan\n",
      "    sigy     (model, Model) float64 nan nan 0.7883 0.7883 ... 0.366 nan nan nan\n",
      "    rxy      (model, Model) float64 nan nan -0.7926 -0.7926 ... nan nan nan\n"
     ]
    }
   ],
   "source": [
    "print(errorem56)"
   ]
  },
  {
   "cell_type": "code",
   "execution_count": 79,
   "metadata": {},
   "outputs": [
    {
     "name": "stdout",
     "output_type": "stream",
     "text": [
      "Constraining using OLS\n",
      "starting to calculate the percentiles - this could take a while\n",
      "calculating the percentage greater than the ensemble mean - this may also take a while\n",
      "Constraining using TLS\n",
      "starting to calculate the percentiles - this could take a while\n",
      "calculating the percentage greater than the ensemble mean - this may also take a while\n",
      "Constraining using the BHM\n",
      "starting to calculate the percentiles - this could take a while\n",
      "calculating the percentage greater than the ensemble mean - this may also take a while\n"
     ]
    }
   ],
   "source": [
    "cmip56 = xr.concat([cmip5, cmip6], \"model\" )\n",
    "errorem56 = xr.concat([errorem5, errorem6],\"Model\")\n",
    "cmip56ols = constraint.dotheconstraint(cmip56['jlatemp'],cmip56['jlatemf']-cmip56['jlatemp'], cmip56['jlat1memp'], cmip56['jlat1memf']-cmip56['jlat1memp'],jlatobs, \n",
    "                                     sigyem=errorem56['sigy'], sigx1mem=error1mem['sigx_1mem'], sigy1mem=error1mem['sigy_1mem'],method='OLS')\n",
    "cmip56tls = constraint.dotheconstraint(cmip56['jlatemp'],cmip56['jlatemf']-cmip56['jlatemp'], cmip56['jlat1memp'], cmip56['jlat1memf']-cmip56['jlat1memp'],jlatobs, \n",
    "                                     sigxem=errorem56['sigx'], sigyem=errorem56['sigy'], sigx1mem=error1mem['sigx_1mem'], sigy1mem=error1mem['sigy_1mem'],method='TLS')\n",
    "cmip56bhm = constraint.dotheconstraint(cmip56['jlatemp'],cmip56['jlatemf']-cmip56['jlatemp'], cmip56['jlat1memp'], cmip56['jlat1memf']-cmip56['jlat1memp'],jlatobs, \n",
    "                                     sigxem=errorem56['sigx'], sigyem=errorem56['sigy'], sigx1mem=error1mem['sigx_1mem'], sigy1mem=error1mem['sigy_1mem'], rxyem=errorem56['rxy'],\n",
    "                                     rxy1mem=error1mem['rxy_1mem'],method='BHM')\n",
    "\n",
    "aols, bols = linfit.linfit_xy(cmip56['jlatemp'], cmip56['jlatemf']-cmip56['jlatemp'], sigma=errorem56['sigy'])\n",
    "atls, btls = linfit.tls(cmip56['jlatemp'], cmip56['jlatemf']-cmip56['jlatemp'], errorem56['sigx'], errorem56['sigy'])\n",
    "abhmall, bbhmall, del2all, muxall, delx2all = linfit.bhm(cmip56['jlatemp'], cmip56['jlatemf']-cmip56['jlatemp'], errorem56['sigx'], errorem56['sigy'], errorem56['rxy'], iseed=3)\n",
    "abhm = np.mean(abhmall) ; bbhm = np.mean(bbhmall)"
   ]
  },
  {
   "cell_type": "code",
   "execution_count": 41,
   "metadata": {},
   "outputs": [
    {
     "name": "stdout",
     "output_type": "stream",
     "text": [
      "[-50.17796433 -49.93644861 -50.63344942 -51.87873568]\n"
     ]
    }
   ],
   "source": [
    "print(jlatobs)"
   ]
  },
  {
   "cell_type": "code",
   "execution_count": 167,
   "metadata": {},
   "outputs": [
    {
     "data": {
      "text/plain": [
       "<matplotlib.legend.Legend at 0x7f28e1e43860>"
      ]
     },
     "execution_count": 167,
     "metadata": {},
     "output_type": "execute_result"
    },
    {
     "data": {
      "image/png": "[encoded data removed]",
      "text/plain": [
       "<Figure size 864x360 with 1 Axes>"
      ]
     },
     "metadata": {
      "needs_background": "light"
     },
     "output_type": "display_data"
    }
   ],
   "source": [
    "# set up the plot characteristics\n",
    "#fig, axs = plt.subplots()\n",
    "#fig.set_size_inches(5,5)\n",
    "fig = plt.figure()\n",
    "w=12 ; h=5\n",
    "fig.set_size_inches(w,h)\n",
    "ax1 = fig.add_axes(np.array([0.05,0.1,0.35,0.8]))\n",
    "\n",
    "\n",
    "yerr5 = 1.96*errorem5['sigy'] ; yerr6 = 1.96*errorem6['sigy']\n",
    "xerr5 = 1.95*errorem5['sigx'] ; xerr6 = 1.95*errorem6['sigy']\n",
    "\n",
    "ax1 = ecfig.jlatscattersetup(ax1,'(a) CMIP5 & CMIP6 $\\Delta \\phi$ vs $\\phi_{o}$')\n",
    "\n",
    "# zero line\n",
    "ax1.plot([-57,-33],[0,0], color=\"black\")\n",
    "\n",
    "# OLS regression\n",
    "x = np.arange(-58,-22,1)\n",
    "y = aols+bols*x\n",
    "ax1.plot(x,y, color='saddlebrown', linewidth=3, linestyle='dashed')\n",
    "\n",
    "# TLS regression\n",
    "y = atls+btls*x\n",
    "ax1.plot(x,y, color='forestgreen', linewidth=3, linestyle='dashed')\n",
    "\n",
    "# BHM regression\n",
    "y = abhm + bbhm*x\n",
    "ax1.plot(x,y, color='blueviolet', linewidth=3, linestyle='dashed')\n",
    "\n",
    "# observed values\n",
    "ax1.plot([obsdata[\"jlatera5\"], obsdata[\"jlatera5\"]],[-9,3], color=\"black\", linewidth=2)\n",
    "ax1.plot([obsdata[\"jlaterai\"], obsdata[\"jlaterai\"]],[-9,3], color=\"black\", linestyle='dotted', linewidth=2)\n",
    "ax1.plot([obsdata[\"jlatjra\"], obsdata[\"jlatjra\"]],[-9,3], color=\"black\", linestyle='dashed', linewidth=2)\n",
    "ax1.plot([obsdata[\"jlatmerra\"], obsdata[\"jlatmerra\"]],[-9,3],color=\"black\", linestyle='dashdot', linewidth=2)\n",
    "\n",
    "# scatter points and error bars\n",
    "ax1.plot(cmip5['jlatemp'],cmip5['jlatemf']-cmip5['jlatemp'],\"o\", markerfacecolor='firebrick', markeredgecolor='black', markersize=10, markeredgewidth=2, label='CMIP5')\n",
    "ax1.plot(cmip6['jlatemp'],cmip6['jlatemf']-cmip6['jlatemp'],\"o\", markerfacecolor='royalblue', markeredgecolor='black', markersize=10, markeredgewidth=2, label='CMIP6')\n",
    "\n",
    "ax1.plot(cmip5['jlatemp'].mean(), cmip5['jlatemf'].mean()-cmip5['jlatemp'].mean(), \"D\", markerfacecolor='firebrick', markeredgecolor='black', markersize=15, markeredgewidth=2)\n",
    "ax1.plot(cmip6['jlatemp'].mean(), cmip6['jlatemf'].mean()-cmip6['jlatemp'].mean(), \"D\", markerfacecolor='royalblue', markeredgecolor='black', markersize=14, markeredgewidth=2)\n",
    "\n",
    "ax1.errorbar(cmip5['jlatemp'], cmip5['jlatemf']-cmip5['jlatemp'], xerr = xerr5, linestyle=\"None\", color=\"lightgray\", linewidth=2)\n",
    "ax1.errorbar(cmip5['jlatemp'], cmip5['jlatemf']-cmip5['jlatemp'], yerr = yerr5, linestyle=\"None\", color=\"lightgray\", linewidth=2)\n",
    "ax1.errorbar(cmip6['jlatemp'], cmip6['jlatemf']-cmip6['jlatemp'], xerr = xerr6, linestyle=\"None\", color=\"lightgray\", linewidth=2)\n",
    "ax1.errorbar(cmip6['jlatemp'], cmip6['jlatemf']-cmip6['jlatemp'], yerr = yerr6, linestyle=\"None\", color=\"lightgray\", linewidth=2)\n",
    "\n",
    "ax1.legend(handletextpad=0, fontsize='x-large', borderpad=0)\n",
    "\n",
    "\n"
   ]
  },
  {
   "cell_type": "code",
   "execution_count": 168,
   "metadata": {},
   "outputs": [],
   "source": [
    "#fig, axs = plt.subplots()\n",
    "#fig.set_size_inches(3.5,5)\n",
    "\n",
    "ax2 = fig.add_axes(np.array([0.43,0.1,0.23,0.8]))\n",
    "\n",
    "ax2.set_ylim(-9,3)\n",
    "ax2.set_xlim(-0.5,16.5)\n",
    "ax2.set_xticks([])\n",
    "ax2.set_yticks([-8,-6,-4,-2,0,2])\n",
    "ax2.set_yticklabels(['-8','-6','-4','-2','0','2'], fontsize=14)\n",
    "ax2.set_title('(b) CMIP5', fontsize=16)\n",
    "\n",
    "# internal variability range and zero line\n",
    "ivrange = plt.Rectangle( (-0.5,error1mem['ivmin95']), 17, error1mem['ivmax95']-error1mem['ivmin95'], color='lightgray', zorder=0)\n",
    "ax2.add_patch(ivrange)\n",
    "ax2.plot([-0.5,16.5],[0,0], color='black', zorder=1)\n",
    "\n",
    "jlatdifs = cmip5['jlatemf'] - cmip5['jlatemp']\n",
    "min66 = np.percentile(jlatdifs, 17)\n",
    "max66 = np.percentile(jlatdifs, 83)\n",
    "\n",
    "ax2.plot([-0.5,16.5],[jlatdifs.mean(), jlatdifs.mean()],color='firebrick', zorder=1, linewidth=5)\n",
    "ax2.plot([-0.5,16.5],[min66, min66],color='firebrick', zorder=1, linewidth=3, linestyle='dotted')\n",
    "ax2.plot([-0.5,16.5],[max66, max66],color='firebrick', zorder=1, linewidth=3, linestyle='dotted')\n",
    "\n",
    "shiftstring = '{0:6.2f}'.format(np.array(jlatdifs.mean())).strip()\n",
    "ax2.text(1,-9.3, '$\\Delta \\phi$=', horizontalalignment='center', verticalalignment='center', fontsize=10, color='black')\n",
    "ax2.text(1, -9.8, jshiftstring, horizontalalignment='center', verticalalignment='center', fontsize=10, color='black')\n",
    "\n",
    "# CMIP5 model points\n",
    "ax2.plot(np.zeros([cmip5.model.size])+1,cmip5['jlatemf']-cmip5['jlatemp'],\"o\",markerfacecolor='firebrick',markeredgecolor='black',markersize=10,markeredgewidth=2)\n",
    "ax2.plot([2.5,2.5],[-9,3], color='black')\n",
    "\n",
    "# all the emergent constraints info\n",
    "ax2 = ecfig.plotconstraintinfo(ax2, cmip5ols, cmip5tls, cmip5bhm)"
   ]
  },
  {
   "cell_type": "code",
   "execution_count": 169,
   "metadata": {},
   "outputs": [],
   "source": [
    "ax3 = fig.add_axes(np.array([0.69,0.1,0.23,0.8]))\n",
    "\n",
    "ax3.set_ylim(-9,3)\n",
    "ax3.set_xlim(-0.5,16.5)\n",
    "ax3.set_xticks([])\n",
    "ax3.set_yticks([-8,-6,-4,-2,0,2])\n",
    "ax3.set_yticklabels(['-8','-6','-4','-2','0','2'], fontsize=14)\n",
    "ax3.set_title('(c) CMIP6', fontsize=16)\n",
    "\n",
    "# internal variability range and zero line\n",
    "ivrange = plt.Rectangle( (-0.5,error1mem['ivmin95']), 17, error1mem['ivmax95']-error1mem['ivmin95'], color='lightgray', zorder=0)\n",
    "ax3.add_patch(ivrange)\n",
    "ax3.plot([-0.5,16.5],[0,0], color='black', zorder=1)\n",
    "\n",
    "jlatdifs = cmip6['jlatemf'] - cmip6['jlatemp']\n",
    "min66 = np.percentile(jlatdifs, 17)\n",
    "max66 = np.percentile(jlatdifs, 83)\n",
    "\n",
    "ax3.plot([-0.5,16.5],[jlatdifs.mean(), jlatdifs.mean()],color='royalblue', zorder=1, linewidth=5)\n",
    "ax3.plot([-0.5,16.5],[min66, min66],color='royalblue', zorder=1, linewidth=3, linestyle='dotted')\n",
    "ax3.plot([-0.5,16.5],[max66, max66],color='royalblue', zorder=1, linewidth=3, linestyle='dotted')\n",
    "\n",
    "shiftstring = '{0:6.2f}'.format(np.array(jlatdifs.mean())).strip()\n",
    "ax3.text(1,-9.3, '$\\Delta \\phi$=', horizontalalignment='center', verticalalignment='center', fontsize=10, color='black')\n",
    "ax3.text(1, -9.8, jshiftstring, horizontalalignment='center', verticalalignment='center', fontsize=10, color='black')\n",
    "\n",
    "# CMIP6 model points\n",
    "ax3.plot(np.zeros([cmip6.model.size])+1,cmip6['jlatemf']-cmip6['jlatemp'],\"o\",markerfacecolor='royalblue',markeredgecolor='black',markersize=10,markeredgewidth=2)\n",
    "ax3.plot([2.5,2.5],[-9,3], color='black')\n",
    "\n",
    "# all the emergent constraints info\n",
    "ax3 = ecfig.plotconstraintinfo(ax3, cmip6ols, cmip6tls, cmip6bhm)"
   ]
  },
  {
   "cell_type": "code",
   "execution_count": 170,
   "metadata": {},
   "outputs": [],
   "source": [
    "ax4 = fig.add_axes(np.array([0.95,0.1,0.23,0.8]))\n",
    "\n",
    "ax4.set_ylim(-9,3)\n",
    "ax4.set_xlim(-0.5,16.5)\n",
    "ax4.set_xticks([])\n",
    "ax4.set_yticks([-8,-6,-4,-2,0,2])\n",
    "ax4.set_yticklabels(['-8','-6','-4','-2','0','2'], fontsize=14)\n",
    "ax4.set_title('(d) CMIP56', fontsize=16)\n",
    "\n",
    "# internal variability range and zero line\n",
    "ivrange = plt.Rectangle( (-0.5,error1mem['ivmin95']), 17, error1mem['ivmax95']-error1mem['ivmin95'], color='lightgray', zorder=0)\n",
    "ax4.add_patch(ivrange)\n",
    "ax4.plot([-0.5,16.5],[0,0], color='black', zorder=1)\n",
    "\n",
    "jlatdifs = cmip56['jlatemf'] - cmip56['jlatemp']\n",
    "min66 = np.percentile(jlatdifs, 17)\n",
    "max66 = np.percentile(jlatdifs, 83)\n",
    "\n",
    "ax4.plot([-0.5,16.5],[jlatdifs.mean(), jlatdifs.mean()],color='royalblue', zorder=1, linewidth=5)\n",
    "ax4.plot([-0.45,16.5],[jlatdifs.mean(), jlatdifs.mean()],color='firebrick', zorder=1, linewidth=5, linestyle='dotted')\n",
    "ax4.plot([-0.5,16.5],[min66, min66],color='royalblue', zorder=1, linewidth=3, linestyle='dashed')\n",
    "ax4.plot([-0.5,16.5],[min66, min66],color='firebrick', zorder=1, linewidth=3, linestyle='dotted')\n",
    "ax4.plot([-0.5,16.5],[max66, max66],color='royalblue', zorder=1, linewidth=3, linestyle='dashed')\n",
    "ax4.plot([-0.5,16.5],[max66, max66],color='firebrick', zorder=1, linewidth=3, linestyle='dotted')\n",
    "\n",
    "shiftstring = '{0:6.2f}'.format(np.array(jlatdifs.mean())).strip()\n",
    "ax4.text(1,-9.3, '$\\Delta \\phi$=', horizontalalignment='center', verticalalignment='center', fontsize=10, color='black')\n",
    "ax4.text(1, -9.8, jshiftstring, horizontalalignment='center', verticalalignment='center', fontsize=10, color='black')\n",
    "\n",
    "# CMIP5 and 6 model points\n",
    "ax4.plot(np.zeros([cmip5.model.size])+0.4,cmip5['jlatemf']-cmip5['jlatemp'],\"o\",markerfacecolor='firebrick',markeredgecolor='black',markersize=10,markeredgewidth=2)\n",
    "ax4.plot(np.zeros([cmip6.model.size])+1.6,cmip6['jlatemf']-cmip6['jlatemp'],\"o\",markerfacecolor='royalblue',markeredgecolor='black',markersize=10,markeredgewidth=2)\n",
    "ax4.plot([2.5,2.5],[-9,3], color='black')\n",
    "\n",
    "# all the emergent constraints info\n",
    "ax4 = ecfig.plotconstraintinfo(ax4, cmip56ols, cmip56tls, cmip56bhm)"
   ]
  },
  {
   "cell_type": "code",
   "execution_count": 171,
   "metadata": {},
   "outputs": [
    {
     "data": {
      "text/plain": [
       "<matplotlib.legend.Legend at 0x7f28e1e85eb8>"
      ]
     },
     "execution_count": 171,
     "metadata": {},
     "output_type": "execute_result"
    }
   ],
   "source": [
    "# the legend\n",
    "legendparts=[Rectangle((0.95,0.95),5,3,facecolor='saddlebrown'),\n",
    "             Rectangle((0.95,0.95),5,3,facecolor='forestgreen'),\n",
    "             Rectangle((0.95,0.95),5,3,facecolor='blueviolet')]\n",
    "\n",
    "legendlabels=['OLS','TLS','BHM']\n",
    "fig.legend(legendparts, legendlabels, bbox_to_anchor=(0.95, 0.05), ncol=3, frameon=False, fontsize='x-large', handlelength=1, handleheight=1, handletextpad=0.4)\n",
    "\n",
    "\n",
    "\n",
    "\n"
   ]
  },
  {
   "cell_type": "code",
   "execution_count": 174,
   "metadata": {},
   "outputs": [],
   "source": [
    "fig.patch.set_facecolor('white')\n",
    "fig\n",
    "fig.savefig('fig5.png', facecolor='white', bbox_inches='tight')"
   ]
  },
  {
   "cell_type": "code",
   "execution_count": 58,
   "metadata": {},
   "outputs": [
    {
     "data": {
      "text/plain": [
       "[<matplotlib.lines.Line2D at 0x7f28ea1b4d68>]"
      ]
     },
     "execution_count": 58,
     "metadata": {},
     "output_type": "execute_result"
    },
    {
     "data": {
      "image/png": "[encoded data removed]",
      "text/plain": [
       "<Figure size 252x360 with 1 Axes>"
      ]
     },
     "metadata": {
      "needs_background": "light"
     },
     "output_type": "display_data"
    }
   ],
   "source": [
    "fig, axs = plt.subplots()\n",
    "fig.set_size_inches(3.5,5)\n",
    "\n",
    "axs.set_ylim(-9,3)\n",
    "axs.set_xlim(-0.5,16.5)\n",
    "\n",
    "# internal variability range\n",
    "ivrange = plt.Rectangle( (-0.5,error1mem['ivmin95']), 17, error1mem['ivmax95']-error1mem['ivmin95'], color='lightgray', zorder=0)\n",
    "axs.add_patch(ivrange)\n",
    "axs.plot([-0.5,16.5],[0,0], color='black', zorder=1)\n",
    "axs.set_xticks([])\n",
    "axs.set_yticks([-8,-6,-4,-2,0,2])\n",
    "axs.set_yticklabels(['-8','-6','-4','-2','0','2'], fontsize=14)\n",
    "\n",
    "jlatdifs = cmip5['jlatemf'] - cmip5['jlatemp']\n",
    "min66 = np.percentile(jlatdifs, 17)\n",
    "max66 = np.percentile(jlatdifs, 83)\n",
    "\n",
    "axs.plot([-0.5,16.5],[jlatdifs.mean(), jlatdifs.mean()],color='firebrick', zorder=1, linewidth=5)\n",
    "axs.plot([-0.5,16.5],[min66, min66],color='firebrick', zorder=1, linewidth=3, linestyle='dotted')\n",
    "axs.plot([-0.5,16.5],[max66, max66],color='firebrick', zorder=1, linewidth=3, linestyle='dotted')\n",
    "\n",
    "# adding the text to the plot\n",
    "shiftstring = '{0:6.2f}'.format(np.array(jlatdifs.mean())).strip()\n",
    "axs.text(1,-8, '$\\Delta \\phi$=', horizontalalignment='center', verticalalignment='center', fontsize=10, color='black')\n",
    "axs.text(1, -8.5, jshiftstring, horizontalalignment='center', verticalalignment='center', fontsize=10, color='black')\n",
    "axs.text(6, -4.5 ,'Forced', horizontalalignment='center', verticalalignment='center', fontsize=14, color='black')\n",
    "axs.text(13, -4.5 ,'Forced', horizontalalignment='center', verticalalignment='center', fontsize=14, color='black')\n",
    "axs.text(13,-5,'+', horizontalalignment='center', verticalalignment='center', fontsize=14, color='black')\n",
    "axs.text(13, -5.5,'Internal', horizontalalignment='center', verticalalignment='center', fontsize=14, color='black')\n",
    "\n",
    "meanforced = (cmip5ols['meanforced'] + cmip5tls['meanforced'] + cmip5bhm['meanforced'])/3.\n",
    "meanwithiv = (cmip5ols['meanwithiv'] + cmip5tls['meanwithiv'] + cmip5bhm['meanwithiv'])/3.\n",
    "min95forced = (cmip5ols['min95forced'] + cmip5tls['min95forced'] + cmip5bhm['min95forced'])/3.\n",
    "max95forced = (cmip5ols['max95forced'] + cmip5tls['max95forced'] + cmip5bhm['max95forced'])/3.\n",
    "min95withiv = (cmip5ols['min95withiv'] + cmip5tls['min95withiv'] + cmip5bhm['min95withiv'])/3.\n",
    "max95withiv = (cmip5ols['max95withiv'] + cmip5tls['max95withiv'] + cmip5bhm['max95withiv'])/3.\n",
    "\n",
    "meanforcedstr = '{0:6.2f}'.format(np.array(meanforced)).strip()\n",
    "meanwithivstr = '{0:6.2f}'.format(np.array(meanwithiv)).strip()\n",
    "axs.text(6,-6.5,'$\\Delta \\phi$='+meanforcedstr, horizontalalignment='center', verticalalignment='center', fontsize=10, color='black')\n",
    "axs.text(13,-6.5,'$\\Delta \\phi$='+meanwithivstr, horizontalalignment='center', verticalalignment='center', fontsize=10, color='black')\n",
    "min95forcedstr = '{0:6.2f}'.format(min95forced).strip()\n",
    "max95forcedstr = '{0:6.2f}'.format(max95forced).strip()\n",
    "min95withivstr = '{0:6.2f}'.format(min95withiv).strip()\n",
    "max95withivstr = '{0:6.2f}'.format(max95withiv).strip()\n",
    "axs.text(6,-7.3,'ci=('+min95forcedstr+','+max95forcedstr+')', horizontalalignment='center', verticalalignment='center', fontsize=10, color='black')\n",
    "axs.text(13,-7.3,'ci=('+min95withivstr+','+max95withivstr+')', horizontalalignment='center', verticalalignment='center', fontsize=10, color='black')\n",
    "gtforcedstr = '{0:6.2f}'.format(cmip5ols['gtymean_forced']).strip()\n",
    "gtwithivstr = '{0:6.2f}'.format(cmip5ols['gtymean_withiv']).strip()\n",
    "axs.text(6,-8.1,gtforcedstr+\"%>CMIP5\", horizontalalignment='center', verticalalignment='center', fontsize=10, color='black')\n",
    "axs.text(13,-8.1,gtwithivstr+\"%>CMIP5\", horizontalalignment='center', verticalalignment='center', fontsize=10, color='black')\n",
    "\n",
    "# CMIP4 model points\n",
    "axs.plot(np.zeros([cmip5.model.size])+1,cmip5['jlatemf']-cmip5['jlatemp'],\"o\",markerfacecolor='firebrick',markeredgecolor='black',markersize=10,markeredgewidth=2)\n",
    "axs.plot([2.5,2.5],[-9,3], color='black')\n",
    "\n",
    "# OLS CMIP5\n",
    "axs.bar(4,cmip5ols['max95forced']-cmip5ols['min95forced'],bottom=cmip5ols['min95forced'], color='saddlebrown', width=1, zorder=2)\n",
    "axs.plot([4-0.5,4+0.5],[cmip5ols['min66forced'],cmip5ols['min66forced']], color='white')\n",
    "axs.plot([4-0.5,4+0.5],[cmip5ols['max66forced'],cmip5ols['max66forced']], color='white')\n",
    "axs.plot([4-0.5,4+0.5],[cmip5ols['meanforced'],cmip5ols['meanforced']], color='black')\n",
    "\n",
    "axs.bar(6,cmip5tls['max95forced']-cmip5tls['min95forced'],bottom=cmip5tls['min95forced'], color='forestgreen', width=1, zorder=2)\n",
    "axs.plot([6-0.5,6+0.5],[cmip5tls['min66forced'],cmip5tls['min66forced']], color='white')\n",
    "axs.plot([6-0.5,6+0.5],[cmip5tls['max66forced'],cmip5tls['max66forced']], color='white')\n",
    "axs.plot([6-0.5,6+0.5],[cmip5tls['meanforced'],cmip5tls['meanforced']], color='black')\n",
    "\n",
    "axs.bar(8,cmip5bhm['max95forced']-cmip5bhm['min95forced'],bottom=cmip5bhm['min95forced'], color='blueviolet', width=1, zorder=2)\n",
    "axs.plot([8-0.5,8+0.5],[cmip5bhm['min66forced'],cmip5bhm['min66forced']], color='white')\n",
    "axs.plot([8-0.5,8+0.5],[cmip5bhm['max66forced'],cmip5bhm['max66forced']], color='white')\n",
    "axs.plot([8-0.5,8+0.5],[cmip5bhm['meanforced'],cmip5bhm['meanforced']], color='black')\n",
    "\n",
    "axs.plot([9.5,9.5],[-9,3], color='black')\n",
    "\n",
    "axs.bar(11,cmip5ols['max95withiv']-cmip5ols['min95withiv'],bottom=cmip5ols['min95withiv'], color='saddlebrown', width=1, zorder=2)\n",
    "axs.plot([11-0.5,11+0.5],[cmip5ols['min66withiv'],cmip5ols['min66withiv']], color='white')\n",
    "axs.plot([11-0.5,11+0.5],[cmip5ols['max66withiv'],cmip5ols['max66withiv']], color='white')\n",
    "axs.plot([11-0.5,11+0.5],[cmip5ols['meanwithiv'],cmip5ols['meanwithiv']], color='black')\n",
    "\n",
    "axs.bar(13,cmip5tls['max95withiv']-cmip5tls['min95withiv'],bottom=cmip5tls['min95withiv'], color='forestgreen', width=1, zorder=2)\n",
    "axs.plot([13-0.5,13+0.5],[cmip5tls['min66withiv'],cmip5tls['min66withiv']], color='white')\n",
    "axs.plot([13-0.5,13+0.5],[cmip5tls['max66withiv'],cmip5tls['max66withiv']], color='white')\n",
    "axs.plot([13-0.5,13+0.5],[cmip5tls['meanwithiv'],cmip5tls['meanwithiv']], color='black')\n",
    "\n",
    "axs.bar(15,cmip5bhm['max95withiv']-cmip5bhm['min95withiv'],bottom=cmip5bhm['min95withiv'], color='blueviolet', width=1, zorder=2)\n",
    "axs.plot([15-0.5,15+0.5],[cmip5bhm['min66withiv'],cmip5bhm['min66withiv']], color='white')\n",
    "axs.plot([15-0.5,15+0.5],[cmip5bhm['max66withiv'],cmip5bhm['max66withiv']], color='white')\n",
    "axs.plot([15-0.5,15+0.5],[cmip5bhm['meanwithiv'],cmip5bhm['meanwithiv']], color='black')\n",
    "\n",
    "\n"
   ]
  },
  {
   "cell_type": "code",
   "execution_count": 71,
   "metadata": {},
   "outputs": [],
   "source": [
    "#OLS constraint\n",
    "\n",
    "jlatpem = cmip5['jlatemp'] ; jlatfem = cmip5['jlatemf']\n",
    "jlatp1mem = cmip5['jlat1memp'] ; jlatf1mem = cmip5['jlat1memf']\n",
    "sigx = error1mem['sigx_1mem']\n",
    "\n",
    "aols, bols = linfit.linfit_xy(jlatpem, jlatfem-jlatpem, sigma=errorem5['sigy'])\n",
    "jlatdifec = aols + bols*jlatp1mem\n",
    "residuals = (jlatf1mem-jlatp1mem) - jlatdifec \n",
    "sigmaresiduals = np.std(residuals)\n",
    "sigma_iv_delta = np.sqrt(sigmaresiduals**2. - (bols**2)*error1mem['sigx_1mem'])\n",
    "sigmaiv = error1mem['sigy_1mem'] # standard deviation of internal variability component of residuals\n",
    "sigmanoiv = np.sqrt(sigma_iv_delta**2. - sigmaiv**2.) # standard deviation of residuals excluding the internal variability component\n",
    "\n",
    "\n",
    "# sampling uncertainty on observed predictor\n",
    "obssample = np.random.normal(0,error1mem['sigx_1mem'],250)\n",
    "jlatobs = np.zeros([4])\n",
    "jlatobs[0] = obsdata.jlatera5 ; jlatobs[1] = obsdata.jlaterai\n",
    "jlatobs[2] = obsdata.jlatjra ; jlatobs[3] = obsdata.jlatmerra\n",
    "jlatobspdf = np.zeros([4*250])\n",
    "for iobs in range(0,jlatobs.size,1):\n",
    "    jlatobspdf[iobs*250:(iobs+1)*250]=jlatobs[iobs]+obssample[:]\n",
    "\n",
    "# sampling the uncertainty due to the combined influence of internal variability and other differences in the forced response not explained by the EC\n",
    "randomvals = np.random.normal(0,1,1000)\n",
    "#noise_withiv = np.zeros([1000]) ; noise_forced = np.zeros([1000]) \n",
    "noise_withiv = randomvals*np.array(sigma_iv_delta)\n",
    "noise_forced = randomvals*np.array(sigmanoiv)\n",
    "    \n",
    "\n",
    "# bootstrapping the regression coefficients\n",
    "aboots, bboots = boot.boot_regcoefs(jlatpem,jlatfem-jlatpem,sigy=errorem5['sigy'])\n",
    "\n",
    "y = np.zeros([4*250*1000])\n",
    "for iboot in range(0,1000,1):\n",
    "    y[iboot*4*250:(iboot+1)*4*250] = aboots[iboot]+bboots[iboot]*jlatobspdf[:]\n",
    "\n",
    "\n",
    "yplusiv = np.zeros([4*250*1000*1000])\n",
    "yforced = np.zeros([4*250*1000*1000])\n",
    "\n",
    "for iboot  in range(0,1000,1):\n",
    "    yplusiv[iboot*(4*250*1000):(iboot+1)*(4*250*1000)] = y[:] + noise_withiv[iboot]\n",
    "    yforced[iboot*(4*250*1000):(iboot+1)*(4*250*1000)] = y[:] + noise_forced[iboot]\n",
    "    \n",
    "    \n",
    "    "
   ]
  },
  {
   "cell_type": "code",
   "execution_count": 5,
   "metadata": {},
   "outputs": [],
   "source": [
    "# sampling uncertainty on observed predictor\n",
    "obssample = np.random.normal(0,error1mem['sigx_1mem'],250)\n",
    "jlatobs = np.zeros([4])\n",
    "jlatobs[0] = obsdata.jlatera5 ; jlatobs[1] = obsdata.jlaterai\n",
    "jlatobs[2] = obsdata.jlatjra ; jlatobs[3] = obsdata.jlatmerra"
   ]
  },
  {
   "cell_type": "code",
   "execution_count": 22,
   "metadata": {},
   "outputs": [
    {
     "name": "stdout",
     "output_type": "stream",
     "text": [
      "Constraining using the BHM\n",
      "starting to calculate the percentiles - this could take a while\n",
      "calculating the percentage greater than the ensemble mean - this may also take a while\n"
     ]
    }
   ],
   "source": [
    "testbhm = constraint.dotheconstraint(cmip5['jlatemp'],cmip5['jlatemf']-cmip5['jlatemp'], cmip5['jlat1memp'], cmip5['jlat1memf']-cmip5['jlat1memp'],jlatobs, \n",
    "                                     sigxem=errorem5['sigx'], sigyem=errorem5['sigy'], sigx1mem=error1mem['sigx_1mem'], sigy1mem=error1mem['sigy_1mem'], rxyem=errorem5['rxy'],\n",
    "                                     rxy1mem=error1mem['rxy_1mem'],method='BHM')"
   ]
  },
  {
   "cell_type": "code",
   "execution_count": 23,
   "metadata": {},
   "outputs": [
    {
     "name": "stdout",
     "output_type": "stream",
     "text": [
      "{'meanwithiv': -0.4085176803822673, 'meanforced': -0.4306643214718394, 'min95withiv': -3.2431022147566, 'max95withiv': 2.457080854294564, 'min66withiv': -1.7779097368504004, 'max66withiv': 0.962158503385992, 'min95forced': -2.8442296902867312, 'max95forced': 1.9979468787280725, 'min66forced': -1.5802228933271347, 'max66forced': 0.7193733784956815, 'gtymean_withiv': 83.59752019999999, 'gtymean_forced': 87.3556789}\n"
     ]
    }
   ],
   "source": [
    "print(testbhm)"
   ]
  },
  {
   "cell_type": "code",
   "execution_count": 144,
   "metadata": {},
   "outputs": [
    {
     "name": "stdout",
     "output_type": "stream",
     "text": [
      "not figured out the other methods yet\n",
      "starting to calculate the percentiles - this could take a while\n",
      "calculating the percentage greater than the ensemble mean - this may also take a while\n"
     ]
    }
   ],
   "source": [
    "testtls = constraint.dotheconstraint(cmip5['jlatemp'],cmip5['jlatemf']-cmip5['jlatemp'], cmip5['jlat1memp'], cmip5['jlat1memf']-cmip5['jlat1memp'],jlatobs, \n",
    "                                     sigxem=errorem5['sigx'], sigyem=errorem5['sigy'], sigx1mem=error1mem['sigx_1mem'], sigy1mem=error1mem['sigy_1mem'], method='TLS')"
   ]
  },
  {
   "cell_type": "code",
   "execution_count": 145,
   "metadata": {},
   "outputs": [
    {
     "name": "stdout",
     "output_type": "stream",
     "text": [
      "{'meanwithiv': -0.36308397573226475, 'meanforced': -0.3572397267100351, 'min95withiv': -2.8911169112640422, 'max95withiv': 2.3331810096137855, 'min66withiv': -1.6072351814463812, 'max66withiv': 0.9154991902306686, 'min95forced': -2.4247570589127188, 'max95forced': 1.8456815302836413, 'min66forced': -1.3799000337599208, 'max66forced': 0.6860882300636868, 'gtymean_withiv': 86.6239635, 'gtymean_forced': 91.2361092}\n"
     ]
    }
   ],
   "source": [
    "print(testtls)"
   ]
  },
  {
   "cell_type": "code",
   "execution_count": 141,
   "metadata": {},
   "outputs": [
    {
     "name": "stdout",
     "output_type": "stream",
     "text": [
      "You need to specify the sigma_x for the ensemble mean for TLS or BHM\n"
     ]
    },
    {
     "ename": "SystemExit",
     "evalue": "",
     "output_type": "error",
     "traceback": [
      "An exception has occurred, use %tb to see the full traceback.\n",
      "\u001b[0;31mSystemExit\u001b[0m\n"
     ]
    }
   ],
   "source": [
    "test = constraint.dotheconstraint(cmip5['jlatemp'],cmip5['jlatemf']-cmip5['jlatemp'], cmip5['jlat1memp'], cmip5['jlat1memf']-cmip5['jlat1memp'],jlatobs,  \n",
    "                sigyem=errorem5['sigy'], sigy1mem=error1mem['sigy_1mem'], sigx1mem=error1mem['sigx_1mem'], method=\"TLS\")"
   ]
  },
  {
   "cell_type": "code",
   "execution_count": 132,
   "metadata": {},
   "outputs": [
    {
     "name": "stdout",
     "output_type": "stream",
     "text": [
      "{'meanwithiv': -0.43518625069395844, 'meanforced': -0.4251871877637539, 'min95withiv': -3.065366124225884, 'max95withiv': 2.3398071866791925, 'min66withiv': -1.7157184327406931, 'max66withiv': 0.8542368227117723, 'min95forced': -2.576532028232252, 'max95forced': 1.8468410980028496, 'min66forced': -1.4777384567611325, 'max66forced': 0.6325497221887647, 'gtymean_withiv': 84.7420519, 'gtymean_forced': 89.5560897}\n"
     ]
    }
   ],
   "source": [
    "print(test)"
   ]
  },
  {
   "cell_type": "code",
   "execution_count": 72,
   "metadata": {},
   "outputs": [
    {
     "name": "stdout",
     "output_type": "stream",
     "text": [
      "1000000000\n"
     ]
    }
   ],
   "source": [
    "print(yforced.size)"
   ]
  },
  {
   "cell_type": "code",
   "execution_count": 73,
   "metadata": {},
   "outputs": [
    {
     "name": "stdout",
     "output_type": "stream",
     "text": [
      "-2.653654909280397\n"
     ]
    }
   ],
   "source": [
    "print(np.percentile(yforced, 2.5))"
   ]
  },
  {
   "cell_type": "code",
   "execution_count": null,
   "metadata": {},
   "outputs": [],
   "source": [
    "test = [5,6,7,8]\n",
    "test = np.array(test)\n",
    "sumval = sum(test > 6)"
   ]
  },
  {
   "cell_type": "code",
   "execution_count": 110,
   "metadata": {},
   "outputs": [],
   "source": [
    "yforcedsort=np.sort(yforced)"
   ]
  },
  {
   "cell_type": "code",
   "execution_count": 111,
   "metadata": {},
   "outputs": [],
   "source": [
    "test = np.percentile(yforcedsort, 2.5)"
   ]
  },
  {
   "cell_type": "code",
   "execution_count": 113,
   "metadata": {},
   "outputs": [],
   "source": [
    "test = np.percentile(yforced, 2.5)"
   ]
  },
  {
   "cell_type": "code",
   "execution_count": 114,
   "metadata": {},
   "outputs": [],
   "source": [
    "x=5 ; y=10\n",
    "datout={ \"x\":x, \"y\":y}"
   ]
  },
  {
   "cell_type": "code",
   "execution_count": 115,
   "metadata": {},
   "outputs": [
    {
     "name": "stdout",
     "output_type": "stream",
     "text": [
      "{'x': 5, 'y': 10}\n"
     ]
    }
   ],
   "source": [
    "print(datout)"
   ]
  },
  {
   "cell_type": "code",
   "execution_count": 119,
   "metadata": {},
   "outputs": [
    {
     "name": "stdout",
     "output_type": "stream",
     "text": [
      "5\n"
     ]
    }
   ],
   "source": [
    "print(datout['x'])"
   ]
  },
  {
   "cell_type": "code",
   "execution_count": null,
   "metadata": {},
   "outputs": [],
   "source": []
  }
 ],
 "metadata": {
  "kernelspec": {
   "display_name": "Python [conda env:ecpaperenv]",
   "language": "python",
   "name": "conda-env-ecpaperenv-py"
  },
  "language_info": {
   "codemirror_mode": {
    "name": "ipython",
    "version": 3
   },
   "file_extension": ".py",
   "mimetype": "text/x-python",
   "name": "python",
   "nbconvert_exporter": "python",
   "pygments_lexer": "ipython3",
   "version": "3.6.11"
  }
 },
 "nbformat": 4,
 "nbformat_minor": 4
}
