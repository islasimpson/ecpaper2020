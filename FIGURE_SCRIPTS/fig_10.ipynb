{
 "cells": [
  {
   "cell_type": "markdown",
   "metadata": {},
   "source": [
    "Doing the calculations and making the plot for Figure 10 - the VWIND constraint"
   ]
  },
  {
   "cell_type": "code",
   "execution_count": 52,
   "metadata": {},
   "outputs": [],
   "source": [
    "import importlib\n",
    "import xarray as xr\n",
    "import numpy as np\n",
    "import sys\n",
    "import matplotlib.pyplot as plt\n",
    "\n",
    "from ecpaper_utils import linfit_utils as linfit\n",
    "from ecpaper_utils import bootstrap_utils as boot\n",
    "from ecpaper_utils import constraint_utils as constraint\n",
    "from ecpaper_utils import fig_utils as ecfig\n",
    "from matplotlib.patches import Rectangle\n",
    "\n",
    "importlib.reload(linfit)\n",
    "importlib.reload(boot)\n",
    "importlib.reload(constraint)\n",
    "importlib.reload(ecfig)\n",
    "\n",
    "import warnings\n",
    "warnings.filterwarnings('ignore')"
   ]
  },
  {
   "cell_type": "code",
   "execution_count": 2,
   "metadata": {},
   "outputs": [],
   "source": [
    "datdir=\"/project/cas/islas/python/ecpaper2020/DATASORT/VWIND/DATA/\"\n",
    "errordatdir=\"../ERRORCALC/VWIND/DATA/\""
   ]
  },
  {
   "cell_type": "markdown",
   "metadata": {},
   "source": [
    "Read in CMIP5 and CMIP6 vwind data."
   ]
  },
  {
   "cell_type": "code",
   "execution_count": 3,
   "metadata": {},
   "outputs": [],
   "source": [
    "cmip5 = xr.open_dataset(datdir+\"cmip5vwindindices.nc\")\n",
    "cmip6 = xr.open_dataset(datdir+\"cmip6vwindindices.nc\")\n",
    "error1mem = xr.open_dataset(errordatdir+\"errors_1mem.nc\")\n",
    "errorem5 = xr.open_dataset(errordatdir+\"errors_cmip5.nc\")\n",
    "errorem6 = xr.open_dataset(errordatdir+\"errors_cmip6.nc\")"
   ]
  },
  {
   "cell_type": "markdown",
   "metadata": {},
   "source": [
    "Read in observational data and group together"
   ]
  },
  {
   "cell_type": "code",
   "execution_count": 4,
   "metadata": {},
   "outputs": [],
   "source": [
    "obsdata=xr.open_dataset(datdir+\"vampobs.nc\")\n",
    "vampobs=np.zeros([4])\n",
    "vampobs[0]=obsdata.vamp_era5 ; vampobs[1]=obsdata.vamp_erai\n",
    "vampobs[2]=obsdata.vamp_jra ; vampobs[3]=obsdata.vamp_merra"
   ]
  },
  {
   "cell_type": "markdown",
   "metadata": {},
   "source": [
    "The CMIP6 emergent constraint"
   ]
  },
  {
   "cell_type": "code",
   "execution_count": 5,
   "metadata": {},
   "outputs": [
    {
     "name": "stdout",
     "output_type": "stream",
     "text": [
      "Constraining using OLS\n",
      "starting to calculate the percentiles - this could take a while\n",
      "calculating the percentage greater than the ensemble mean - this may also take a while\n",
      "Constraining using TLS\n",
      "starting to calculate the percentiles - this could take a while\n",
      "calculating the percentage greater than the ensemble mean - this may also take a while\n",
      "Constraining using the BHM\n",
      "starting to calculate the percentiles - this could take a while\n",
      "calculating the percentage greater than the ensemble mean - this may also take a while\n"
     ]
    }
   ],
   "source": [
    "cmip5ols = constraint.dotheconstraint(cmip5['vpastamp_em'],cmip5['vfutsw_em']-cmip5['vpastsw_em'], cmip5['vpastamp_1mem'], cmip5['vfutsw_1mem']-cmip5['vpastsw_1mem'],vampobs, \n",
    "                                     sigyem=errorem5['sig_vdiff'], sigx1mem=error1mem['sig_psi'], sigy1mem=error1mem['sig_vdiff'],method='OLS')\n",
    "cmip5tls = constraint.dotheconstraint(cmip5['vpastamp_em'],cmip5['vfutsw_em']-cmip5['vpastsw_em'], cmip5['vpastamp_1mem'], cmip5['vfutsw_1mem']-cmip5['vpastsw_1mem'],vampobs, \n",
    "                                     sigxem=errorem5['sig_psi'], sigyem=errorem5['sig_vdiff'], sigx1mem=error1mem['sig_psi'], sigy1mem=error1mem['sig_vdiff'],method='TLS')\n",
    "cmip5bhm = constraint.dotheconstraint(cmip5['vpastamp_em'],cmip5['vfutsw_em']-cmip5['vpastsw_em'], cmip5['vpastamp_1mem'], cmip5['vfutsw_1mem']-cmip5['vpastsw_1mem'],vampobs, \n",
    "                                     sigxem=errorem5['sig_psi'], sigyem=errorem5['sig_vdiff'], sigx1mem=error1mem['sig_psi'], sigy1mem=error1mem['sig_vdiff'], \n",
    "                                     rxyem=errorem5['r_psi_vdiff'],rxy1mem=error1mem['r_psi_vdiff'],method='BHM')"
   ]
  },
  {
   "cell_type": "code",
   "execution_count": 6,
   "metadata": {},
   "outputs": [
    {
     "name": "stdout",
     "output_type": "stream",
     "text": [
      "Constraining using OLS\n",
      "starting to calculate the percentiles - this could take a while\n",
      "calculating the percentage greater than the ensemble mean - this may also take a while\n",
      "Constraining using TLS\n",
      "starting to calculate the percentiles - this could take a while\n",
      "calculating the percentage greater than the ensemble mean - this may also take a while\n",
      "Constraining using the BHM\n",
      "starting to calculate the percentiles - this could take a while\n",
      "calculating the percentage greater than the ensemble mean - this may also take a while\n"
     ]
    }
   ],
   "source": [
    "cmip6ols = constraint.dotheconstraint(cmip6['vpastamp_em'],cmip6['vfutsw_em']-cmip6['vpastsw_em'], cmip6['vpastamp_1mem'], cmip6['vfutsw_1mem']-cmip6['vpastsw_1mem'],vampobs, \n",
    "                                     sigyem=errorem6['sig_vdiff'], sigx1mem=error1mem['sig_psi'], sigy1mem=error1mem['sig_vdiff'],method='OLS')\n",
    "cmip6tls = constraint.dotheconstraint(cmip6['vpastamp_em'],cmip6['vfutsw_em']-cmip6['vpastsw_em'], cmip6['vpastamp_1mem'], cmip6['vfutsw_1mem']-cmip6['vpastsw_1mem'],vampobs, \n",
    "                                     sigxem=errorem6['sig_psi'], sigyem=errorem6['sig_vdiff'], sigx1mem=error1mem['sig_psi'], sigy1mem=error1mem['sig_vdiff'],method='TLS')\n",
    "cmip6bhm = constraint.dotheconstraint(cmip6['vpastamp_em'],cmip6['vfutsw_em']-cmip6['vpastsw_em'], cmip6['vpastamp_1mem'], cmip6['vfutsw_1mem']-cmip6['vpastsw_1mem'],vampobs, \n",
    "                                     sigxem=errorem6['sig_psi'], sigyem=errorem6['sig_vdiff'], sigx1mem=error1mem['sig_psi'], sigy1mem=error1mem['sig_vdiff'], \n",
    "                                     rxyem=errorem6['r_psi_vdiff'],rxy1mem=error1mem['r_psi_vdiff'],method='BHM')"
   ]
  },
  {
   "cell_type": "code",
   "execution_count": 7,
   "metadata": {},
   "outputs": [
    {
     "name": "stdout",
     "output_type": "stream",
     "text": [
      "Constraining using OLS\n",
      "starting to calculate the percentiles - this could take a while\n",
      "calculating the percentage greater than the ensemble mean - this may also take a while\n",
      "Constraining using TLS\n",
      "starting to calculate the percentiles - this could take a while\n",
      "calculating the percentage greater than the ensemble mean - this may also take a while\n",
      "Constraining using the BHM\n",
      "starting to calculate the percentiles - this could take a while\n",
      "calculating the percentage greater than the ensemble mean - this may also take a while\n"
     ]
    }
   ],
   "source": [
    "cmip56 = xr.concat([cmip5, cmip6], \"Model\")\n",
    "errorem56 = xr.concat([errorem5, errorem6],\"Model\")\n",
    "cmip56ols = constraint.dotheconstraint(cmip56['vpastamp_em'],cmip56['vfutsw_em']-cmip56['vpastsw_em'], cmip56['vpastamp_1mem'], cmip56['vfutsw_1mem']-cmip56['vpastsw_1mem'],vampobs, \n",
    "                                     sigyem=errorem56['sig_vdiff'], sigx1mem=error1mem['sig_psi'], sigy1mem=error1mem['sig_vdiff'],method='OLS')\n",
    "cmip56tls = constraint.dotheconstraint(cmip56['vpastamp_em'],cmip56['vfutsw_em']-cmip56['vpastsw_em'], cmip56['vpastamp_1mem'], cmip56['vfutsw_1mem']-cmip56['vpastsw_1mem'],vampobs, \n",
    "                                     sigxem=errorem56['sig_psi'], sigyem=errorem56['sig_vdiff'], sigx1mem=error1mem['sig_psi'], sigy1mem=error1mem['sig_vdiff'],method='TLS')\n",
    "cmip56bhm = constraint.dotheconstraint(cmip56['vpastamp_em'],cmip56['vfutsw_em']-cmip56['vpastsw_em'], cmip56['vpastamp_1mem'], cmip56['vfutsw_1mem']-cmip56['vpastsw_1mem'],vampobs, \n",
    "                                     sigxem=errorem56['sig_psi'], sigyem=errorem56['sig_vdiff'], sigx1mem=error1mem['sig_psi'], sigy1mem=error1mem['sig_vdiff'], \n",
    "                                     rxyem=errorem56['r_psi_vdiff'],rxy1mem=error1mem['r_psi_vdiff'],method='BHM')\n",
    "\n",
    "aols, bols = linfit.linfit_xy(cmip56['vpastamp_em'], cmip56['vfutsw_em']-cmip56['vpastsw_em'], sigma=errorem56['sig_vdiff'])\n",
    "atls, btls = linfit.tls(cmip56['vpastamp_em'], cmip56['vfutsw_em']-cmip56['vpastsw_em'], errorem56['sig_psi'], errorem56['sig_vdiff'])\n",
    "abhmall, bbhmall, del2all, muxall, delx2all = linfit.bhm(cmip56['vpastamp_em'], cmip56['vfutsw_em']-cmip56['vpastsw_em'], errorem56['sig_psi'], errorem56['sig_vdiff'], \n",
    "                                                         errorem56['r_psi_vdiff'], iseed=3)\n",
    "abhm = np.mean(abhmall) ; bbhm = np.mean(bbhmall)"
   ]
  },
  {
   "cell_type": "code",
   "execution_count": 78,
   "metadata": {},
   "outputs": [
    {
     "data": {
      "text/plain": [
       "<matplotlib.legend.Legend at 0x7fefecf3f668>"
      ]
     },
     "execution_count": 78,
     "metadata": {},
     "output_type": "execute_result"
    },
    {
     "data": {
      "image/png": "[encoded data removed]",
      "text/plain": [
       "<Figure size 864x360 with 1 Axes>"
      ]
     },
     "metadata": {
      "needs_background": "light"
     },
     "output_type": "display_data"
    }
   ],
   "source": [
    "fig = plt.figure()\n",
    "w=12 ; h=5\n",
    "fig.set_size_inches(w,h)\n",
    "ax1 = fig.add_axes(np.array([0.05,0.1,0.35,0.8]))\n",
    "\n",
    "yerr5 = 1.96*errorem5['sig_vdiff'] ; yerr6 = 1.96*errorem6['sig_vdiff']\n",
    "xerr5 = 1.96*errorem5['sig_psi'] ; xerr6 = 1.96*errorem6['sig_psi']\n",
    "\n",
    "ax1 = ecfig.vwindscattersetup(ax1,'(a) CMIP5 & CMIP6 $\\Delta V_{SW}$ vs $|\\psi|$')\n",
    "\n",
    "#zero line\n",
    "ax1.plot([1,6],[0,0],color='black')\n",
    "\n",
    "# OLS regression\n",
    "x=np.arange(1,7,1)\n",
    "y=aols + bols*x\n",
    "ax1.plot(x,y,color='saddlebrown', linewidth=3, linestyle='dashed')\n",
    "\n",
    "# TLS regression\n",
    "y = atls+btls*x\n",
    "ax1.plot(x,y,color='forestgreen', linewidth=3, linestyle='dashed')\n",
    "\n",
    "# BHM regression\n",
    "y=abhm + bbhm*x\n",
    "ax1.plot(x,y,color='blueviolet', linewidth=3, linestyle='dashed')\n",
    "\n",
    "# observed values\n",
    "ax1.plot([obsdata[\"vamp_era5\"], obsdata[\"vamp_era5\"]],[-10,2], color=\"black\", linewidth=2)\n",
    "ax1.plot([obsdata[\"vamp_erai\"], obsdata[\"vamp_erai\"]],[-10,2], color=\"black\", linestyle='dotted', linewidth=2)\n",
    "ax1.plot([obsdata[\"vamp_jra\"], obsdata[\"vamp_jra\"]],[-10,2], color=\"black\", linestyle='dashed', linewidth=2)\n",
    "ax1.plot([obsdata[\"vamp_merra\"], obsdata[\"vamp_merra\"]],[-10,2],color=\"black\", linestyle='dashdot', linewidth=2)\n",
    "\n",
    "# scatter points and error bars\n",
    "ax1.plot(cmip5['vpastamp_em'],cmip5['vfutsw_em']-cmip5['vpastsw_em'],\"o\", markerfacecolor='firebrick', markeredgecolor='black', markersize=10, markeredgewidth=2, label='CMIP5')\n",
    "ax1.plot(cmip6['vpastamp_em'],cmip6['vfutsw_em']-cmip6['vpastsw_em'],\"o\", markerfacecolor='royalblue', markeredgecolor='black', markersize=10, markeredgewidth=2, label='CMIP6')\n",
    "\n",
    "ax1.plot(cmip5['vpastamp_em'].mean(), cmip5['vfutsw_em'].mean()-cmip5['vpastsw_em'].mean(), \"D\", markerfacecolor='firebrick', markeredgecolor='black', \n",
    "         markersize=15, markeredgewidth=2)\n",
    "ax1.plot(cmip6['vpastamp_em'].mean(), cmip6['vfutsw_em'].mean()-cmip6['vpastsw_em'].mean(), \"D\", markerfacecolor='royalblue', markeredgecolor='black', \n",
    "         markersize=14, markeredgewidth=2)\n",
    "\n",
    "ax1.errorbar(cmip5['vpastamp_em'], cmip5['vfutsw_em']-cmip5['vpastsw_em'], xerr = xerr5, linestyle=\"None\", color=\"lightgray\", linewidth=2)\n",
    "ax1.errorbar(cmip5['vpastamp_em'], cmip5['vfutsw_em']-cmip5['vpastsw_em'], yerr = yerr5, linestyle=\"None\", color=\"lightgray\", linewidth=2)\n",
    "ax1.errorbar(cmip6['vpastamp_em'], cmip6['vfutsw_em']-cmip6['vpastsw_em'], xerr = xerr6, linestyle=\"None\", color=\"lightgray\", linewidth=2)\n",
    "ax1.errorbar(cmip6['vpastamp_em'], cmip6['vfutsw_em']-cmip6['vpastsw_em'], yerr = yerr6, linestyle=\"None\", color=\"lightgray\", linewidth=2)\n",
    "\n",
    "ax1.legend(handletextpad=0, fontsize='x-large', borderpad=0)"
   ]
  },
  {
   "cell_type": "code",
   "execution_count": 79,
   "metadata": {},
   "outputs": [],
   "source": [
    "ylim=(-10,2)\n",
    "ax2 = fig.add_axes(np.array([0.43,0.1,0.23,0.8]))\n",
    "ax2.set_ylim(ylim)\n",
    "ax2.set_xlim(-0.5,16.5)\n",
    "ax2.set_xticks([])\n",
    "ax2.set_yticks([-10,-8,-6,-4,-2,0,2])\n",
    "ax2.set_yticklabels(['-10','-8','-6','-4','-2','0','2'], fontsize=14)\n",
    "ax2.set_title('(b) CMIP5', fontsize=16)\n",
    "\n",
    "# internal variability range and zero line\n",
    "ivrange = plt.Rectangle( (-0.5,error1mem['ivmin95']), 17, error1mem['ivmax95']-error1mem['ivmin95'], color='lightgray', zorder=0)\n",
    "ax2.add_patch(ivrange)\n",
    "ax2.plot([-0.5,16.5],[0,0], color='black', zorder=1)\n",
    "\n",
    "vswdifs = cmip5['vfutsw_em']-cmip5['vpastsw_em']\n",
    "min66 = np.percentile(vswdifs, 17)\n",
    "max66 = np.percentile(vswdifs, 83)\n",
    "\n",
    "ax2.plot([-0.5,16.5],[vswdifs.mean(), vswdifs.mean()], color='firebrick', zorder=1, linewidth=5)\n",
    "ax2.plot([-0.5,16.5],[min66,min66], color='firebrick', zorder=1, linewidth=3, linestyle='dotted')\n",
    "ax2.plot([-0.5,16.5],[max66,max66], color='firebrick', zorder=1, linewidth=3, linestyle='dotted')\n",
    "\n",
    "vdifstring = '{0:6.2f}'.format(np.array(vswdifs.mean())).strip()\n",
    "ax2.text(1, -10.5,'$\\Delta V_{SW}$=', horizontalalignment='center', verticalalignment='center', fontsize=10, color='black')\n",
    "ax2.text(1,-11, vdifstring, horizontalalignment='center', verticalalignment='center', fontsize=10, color='black')\n",
    "\n",
    "# CMIP6 model points\n",
    "ax2.plot(np.zeros([cmip5.Model.size])+1, vswdifs,\"o\", markerfacecolor='firebrick', markeredgecolor='black', markersize=10, markeredgewidth=2)\n",
    "ax2.plot([2.5,2.5],[-10,2], color='black')\n",
    "\n",
    "# all the emergent constraint info\n",
    "ax2 = ecfig.plotconstraintinfo(ax2, cmip5ols, cmip5tls, cmip5bhm, ylim)"
   ]
  },
  {
   "cell_type": "code",
   "execution_count": 80,
   "metadata": {},
   "outputs": [],
   "source": [
    "ylim=(-10,2)\n",
    "ax3 = fig.add_axes(np.array([0.69,0.1,0.23,0.8]))\n",
    "\n",
    "ax3.set_ylim(ylim)\n",
    "ax3.set_xlim(-0.5,16.5)\n",
    "ax3.set_xticks([])\n",
    "ax3.set_yticks([-10,-8,-6,-4,-2,0,2])\n",
    "ax3.set_yticklabels(['-10','-8','-6','-4','-2','0','2'], fontsize=14)\n",
    "ax3.set_title('(c) CMIP6', fontsize=16)\n",
    "\n",
    "# internal variability range and zero line\n",
    "ivrange = plt.Rectangle( (-0.5,error1mem['ivmin95']), 17, error1mem['ivmax95']-error1mem['ivmin95'], color='lightgray', zorder=0)\n",
    "ax3.add_patch(ivrange)\n",
    "ax3.plot([-0.5,16.5],[0,0], color='black', zorder=1)\n",
    "\n",
    "vswdifs = cmip6['vfutsw_em']-cmip6['vpastsw_em']\n",
    "min66 = np.percentile(vswdifs, 17)\n",
    "max66 = np.percentile(vswdifs, 83)\n",
    "\n",
    "ax3.plot([-0.5,16.5],[vswdifs.mean(), vswdifs.mean()], color='royalblue', zorder=1, linewidth=5)\n",
    "ax3.plot([-0.5,16.5],[min66,min66], color='royalblue', zorder=1, linewidth=3, linestyle='dotted')\n",
    "ax3.plot([-0.5,16.5],[max66,max66], color='royalblue', zorder=1, linewidth=3, linestyle='dotted')\n",
    "\n",
    "vdifstring = '{0:6.2f}'.format(np.array(vswdifs.mean())).strip()\n",
    "ax3.text(1, -10.5,'$\\Delta V_{SW}$=', horizontalalignment='center', verticalalignment='center', fontsize=10, color='black')\n",
    "ax3.text(1,-11, vdifstring, horizontalalignment='center', verticalalignment='center', fontsize=10, color='black')\n",
    "\n",
    "# CMIP6 model points\n",
    "ax3.plot(np.zeros([cmip6.Model.size])+1, vswdifs,\"o\", markerfacecolor='royalblue', markeredgecolor='black', markersize=10, markeredgewidth=2)\n",
    "ax3.plot([2.5,2.5],[-10,2], color='black')\n",
    "\n",
    "# all the emergent constraint info\n",
    "ax3 = ecfig.plotconstraintinfo(ax3, cmip6ols, cmip6tls, cmip6bhm, ylim)"
   ]
  },
  {
   "cell_type": "code",
   "execution_count": 81,
   "metadata": {},
   "outputs": [],
   "source": [
    "ax4 = fig.add_axes(np.array([0.95,0.1,0.23,0.8]))\n",
    "\n",
    "ax4.set_ylim(ylim)\n",
    "ax4.set_xlim(-0.5,16.5)\n",
    "ax4.set_xticks([])\n",
    "ax4.set_yticks([-10,-8,-6,-4,-2,0,2])\n",
    "ax4.set_yticklabels(['-10','-8','-6','-4','-2','0','2'], fontsize=14)\n",
    "ax4.set_title('(d) CMIP56', fontsize=16)\n",
    "\n",
    "# internal variability range and zero line\n",
    "ivrange = plt.Rectangle( (-0.5,error1mem['ivmin95']), 17, error1mem['ivmax95']-error1mem['ivmin95'], color='lightgray', zorder=0)\n",
    "ax4.add_patch(ivrange)\n",
    "ax4.plot([-0.5,16.5],[0,0], color='black', zorder=1)\n",
    "\n",
    "vswdifs = cmip56['vfutsw_em']-cmip56['vpastsw_em']\n",
    "min66 = np.percentile(vswdifs, 17)\n",
    "max66 = np.percentile(vswdifs, 83)\n",
    "\n",
    "ax4.plot([-0.5,16.5],[vswdifs.mean(), vswdifs.mean()],color='royalblue', zorder=1, linewidth=5)\n",
    "ax4.plot([-0.45,16.5],[vswdifs.mean(), vswdifs.mean()],color='firebrick', zorder=1, linewidth=5, linestyle='dotted')\n",
    "ax4.plot([-0.5,16.5],[min66, min66],color='royalblue', zorder=1, linewidth=3, linestyle='dashed')\n",
    "ax4.plot([-0.5,16.5],[min66, min66],color='firebrick', zorder=1, linewidth=3, linestyle='dotted')\n",
    "ax4.plot([-0.5,16.5],[max66, max66],color='royalblue', zorder=1, linewidth=3, linestyle='dashed')\n",
    "ax4.plot([-0.5,16.5],[max66, max66],color='firebrick', zorder=1, linewidth=3, linestyle='dotted')\n",
    "\n",
    "vdifstring = '{0:6.2f}'.format(np.array(vswdifs.mean())).strip()\n",
    "ax4.text(1, -10.5,'$\\Delta V_{SW}$=', horizontalalignment='center', verticalalignment='center', fontsize=10, color='black')\n",
    "ax4.text(1,-11, vdifstring, horizontalalignment='center', verticalalignment='center', fontsize=10, color='black')\n",
    "\n",
    "# CMIP5 and 6 model points\n",
    "ax4.plot(np.zeros([cmip5.Model.size])+0.4,cmip5['vfutsw_em']-cmip5['vpastsw_em'],\"o\",markerfacecolor='firebrick',markeredgecolor='black',markersize=10,markeredgewidth=2)\n",
    "ax4.plot(np.zeros([cmip6.Model.size])+1.6,cmip6['vfutsw_em']-cmip6['vpastsw_em'],\"o\",markerfacecolor='royalblue',markeredgecolor='black',markersize=10,markeredgewidth=2)\n",
    "ax4.plot([2.5,2.5],ylim, color='black')\n",
    "\n",
    "ax4 = ecfig.plotconstraintinfo(ax4, cmip56ols, cmip56tls, cmip56bhm, ylim)"
   ]
  },
  {
   "cell_type": "code",
   "execution_count": 82,
   "metadata": {},
   "outputs": [
    {
     "data": {
      "text/plain": [
       "<matplotlib.legend.Legend at 0x7fefed088a58>"
      ]
     },
     "execution_count": 82,
     "metadata": {},
     "output_type": "execute_result"
    }
   ],
   "source": [
    "# the legend\n",
    "legendparts=[Rectangle((0.95,0.95),5,3,facecolor='saddlebrown'),\n",
    "             Rectangle((0.95,0.95),5,3,facecolor='forestgreen'),\n",
    "             Rectangle((0.95,0.95),5,3,facecolor='blueviolet')]\n",
    "\n",
    "legendlabels=['OLS','TLS','BHM']\n",
    "fig.legend(legendparts, legendlabels, bbox_to_anchor=(0.95, 0.05), ncol=3, frameon=False, fontsize='x-large', handlelength=1, handleheight=1, handletextpad=0.4)"
   ]
  },
  {
   "cell_type": "code",
   "execution_count": 83,
   "metadata": {},
   "outputs": [],
   "source": [
    "fig.patch.set_facecolor('white')\n",
    "fig\n",
    "fig.savefig('fig10.png', facecolor='white', bbox_inches='tight')"
   ]
  }
 ],
 "metadata": {
  "kernelspec": {
   "display_name": "Python [conda env:ecpaperenv]",
   "language": "python",
   "name": "conda-env-ecpaperenv-py"
  },
  "language_info": {
   "codemirror_mode": {
    "name": "ipython",
    "version": 3
   },
   "file_extension": ".py",
   "mimetype": "text/x-python",
   "name": "python",
   "nbconvert_exporter": "python",
   "pygments_lexer": "ipython3",
   "version": "3.6.11"
  }
 },
 "nbformat": 4,
 "nbformat_minor": 4
}
