{
 "cells": [
  {
   "cell_type": "markdown",
   "metadata": {},
   "source": [
    "Calculate the JJA zonal mean jet latitude for four reanalysis datasets: ERA5, ERAInterim, MERRA2 and JRA55\n",
    "\n",
    "(This works on a local archive in the Climate and Global Dynamics Laboratory at NCAR.  File paths etc would have to be changed to run this somewhere else)"
   ]
  },
  {
   "cell_type": "code",
   "execution_count": 48,
   "metadata": {},
   "outputs": [
    {
     "data": {
      "text/plain": [
       "<module 'ecpaper_utils.jlat_utils' from '/home/islas/python/ecpaper2020/ecpaper_utils/jlat_utils.py'>"
      ]
     },
     "execution_count": 48,
     "metadata": {},
     "output_type": "execute_result"
    }
   ],
   "source": [
    "import importlib\n",
    "import xarray as xr\n",
    "import numpy as np\n",
    "from ecpaper_utils import calendar_utils as cal\n",
    "from ecpaper_utils import readdata_utils as read\n",
    "from ecpaper_utils import jlat_utils as jlat\n",
    "\n",
    "import sys\n",
    "\n",
    "importlib.reload(cal)\n",
    "importlib.reload(read)\n",
    "importlib.reload(jlat)"
   ]
  },
  {
   "cell_type": "code",
   "execution_count": 9,
   "metadata": {},
   "outputs": [],
   "source": [
    "plevuse=700\n",
    "ybegp=1979 ; monbegp=1 ; yendp=2014 ; monendp=12\n",
    "datebegp=str(ybegp)+\"-\"+str(monbegp).zfill(2)\n",
    "dateendp=str(yendp)+\"-\"+str(monendp).zfill(2)\n",
    "nmonths=(yendp-ybegp-1)*12 + (12-monbegp+1)+monendp"
   ]
  },
  {
   "cell_type": "markdown",
   "metadata": {},
   "source": [
    "ERA5"
   ]
  },
  {
   "cell_type": "code",
   "execution_count": 36,
   "metadata": {},
   "outputs": [
    {
     "name": "stdout",
     "output_type": "stream",
     "text": [
      "<xarray.DataArray 'jlatera5' ()>\n",
      "array(-50.3878598)\n"
     ]
    }
   ],
   "source": [
    "filepath=\"/project/haggis/ERA5/mon/U/*.nc\"\n",
    "u=read.read_zonalmean_1lev(filepath, datebegp, dateendp, plevuse)\n",
    "if (u.time.size != nmonths):\n",
    "    print(\"expected \"+str(nmonths)+\" months, got \"+str(u.time.size))\n",
    "    sys.exit()\n",
    "ujja=cal.season_mean(u, \"ua\", season=\"JJA\")\n",
    "ujja=ujja.dropna('lat')\n",
    "ujjainterp=ujja.interp(lat=np.linspace(-90,90,181), method=\"cubic\")\n",
    "jlatera5, jspeed=jlat.calcjetlat(ujjainterp, -80, -20)\n",
    "jlatera5=xr.DataArray(jlatera5, name='jlatera5')\n",
    "jlatera5.to_netcdf(\"./DATA/jlatobs.nc\")\n",
    "print(jlatera5)"
   ]
  },
  {
   "cell_type": "markdown",
   "metadata": {},
   "source": [
    "ERAInterim"
   ]
  },
  {
   "cell_type": "code",
   "execution_count": 38,
   "metadata": {},
   "outputs": [
    {
     "name": "stdout",
     "output_type": "stream",
     "text": [
      "<xarray.DataArray 'jlaterai' ()>\n",
      "array(-50.11333607)\n"
     ]
    }
   ],
   "source": [
    "filepath=\"/project/haggis/ERAInterim/analysis/plev/u/mon/*.nc\"\n",
    "u=read.read_zonalmean_1lev(filepath, datebegp, dateendp, plevuse)\n",
    "if (u.time.size != nmonths):\n",
    "    print(\"expected \"+str(nmonths)+\" months, got \"+str(u.time.size))\n",
    "    sys.exit()\n",
    "ujja=cal.season_mean(u, \"ua\", season=\"JJA\")\n",
    "ujja=ujja.dropna('lat')\n",
    "ujjainterp=ujja.interp(lat=np.linspace(-90,90,181), method=\"cubic\")\n",
    "jlaterai, jspeed = jlat.calcjetlat(ujjainterp, -80,-20)\n",
    "jlaterai=xr.DataArray(jlaterai, name='jlaterai')\n",
    "jlaterai.to_netcdf(\"./DATA/jlatobs.nc\", mode=\"a\")\n",
    "print(jlaterai)"
   ]
  },
  {
   "cell_type": "markdown",
   "metadata": {},
   "source": [
    "JRA55"
   ]
  },
  {
   "cell_type": "code",
   "execution_count": 40,
   "metadata": {},
   "outputs": [
    {
     "name": "stdout",
     "output_type": "stream",
     "text": [
      "<xarray.DataArray 'jlatjra' ()>\n",
      "array(-50.86329751)\n"
     ]
    }
   ],
   "source": [
    "filepath=\"/project/haggis/JRA-55/mon/ua/*.nc\"\n",
    "u=read.read_zonalmean_1lev(filepath, datebegp, dateendp, plevuse)\n",
    "if (u.time.size != nmonths):\n",
    "    print(\"expected \"+str(nmonths)+\" months, got \"+str(u.time.size))\n",
    "    sys.exit()\n",
    "ujja=cal.season_mean(u, \"ua\", season=\"JJA\")\n",
    "ujja=ujja.dropna('lat')\n",
    "ujjainterp=ujja.interp(lat=np.linspace(-90,90,181), method=\"cubic\")\n",
    "jlatjra, jspeed = jlat.calcjetlat(ujjainterp, -80, -20)\n",
    "jlatjra=xr.DataArray(jlatjra, name='jlatjra')\n",
    "jlatjra.to_netcdf(\"./DATA/jlatobs.nc\", mode=\"a\")\n",
    "print(jlatjra)"
   ]
  },
  {
   "cell_type": "markdown",
   "metadata": {},
   "source": [
    "MERRA2"
   ]
  },
  {
   "cell_type": "code",
   "execution_count": 51,
   "metadata": {},
   "outputs": [],
   "source": [
    "ybegp=1980 ; monbegp=1 ; yendp=2014 ; monendp=12\n",
    "datebegp=str(ybegp)+\"-\"+str(monbegp).zfill(2)\n",
    "dateendp=str(yendp)+\"-\"+str(monendp).zfill(2)\n",
    "nmonths=(yendp-ybegp-1)*12 + (12-monbegp+1)+monendp"
   ]
  },
  {
   "cell_type": "code",
   "execution_count": 54,
   "metadata": {},
   "outputs": [
    {
     "name": "stderr",
     "output_type": "stream",
     "text": [
      "/project/cas/islas/miniconda3/envs/ecpaperenv/lib/python3.6/site-packages/dask/array/numpy_compat.py:41: RuntimeWarning: invalid value encountered in true_divide\n",
      "  x = np.divide(x1, x2, out)\n",
      "/project/cas/islas/miniconda3/envs/ecpaperenv/lib/python3.6/site-packages/dask/array/numpy_compat.py:41: RuntimeWarning: invalid value encountered in true_divide\n",
      "  x = np.divide(x1, x2, out)\n",
      "/project/cas/islas/miniconda3/envs/ecpaperenv/lib/python3.6/site-packages/dask/array/numpy_compat.py:41: RuntimeWarning: invalid value encountered in true_divide\n",
      "  x = np.divide(x1, x2, out)\n",
      "/project/cas/islas/miniconda3/envs/ecpaperenv/lib/python3.6/site-packages/dask/array/numpy_compat.py:41: RuntimeWarning: invalid value encountered in true_divide\n",
      "  x = np.divide(x1, x2, out)\n",
      "/project/cas/islas/miniconda3/envs/ecpaperenv/lib/python3.6/site-packages/dask/array/numpy_compat.py:41: RuntimeWarning: invalid value encountered in true_divide\n",
      "  x = np.divide(x1, x2, out)\n",
      "/project/cas/islas/miniconda3/envs/ecpaperenv/lib/python3.6/site-packages/dask/array/numpy_compat.py:41: RuntimeWarning: invalid value encountered in true_divide\n",
      "  x = np.divide(x1, x2, out)\n",
      "/project/cas/islas/miniconda3/envs/ecpaperenv/lib/python3.6/site-packages/dask/array/numpy_compat.py:41: RuntimeWarning: invalid value encountered in true_divide\n",
      "  x = np.divide(x1, x2, out)\n",
      "/project/cas/islas/miniconda3/envs/ecpaperenv/lib/python3.6/site-packages/dask/array/numpy_compat.py:41: RuntimeWarning: invalid value encountered in true_divide\n",
      "  x = np.divide(x1, x2, out)\n"
     ]
    },
    {
     "name": "stdout",
     "output_type": "stream",
     "text": [
      "<xarray.DataArray 'jlatmerra' ()>\n",
      "array(-51.87873568)\n"
     ]
    }
   ],
   "source": [
    "filepath=\"/project/haggis/MERRA2/plev/mon/yearly/U/ana/*.nc\"\n",
    "u=read.read_zonalmean_1lev(filepath, datebegp, dateendp, plevuse)\n",
    "if (u.time.size != nmonths):\n",
    "    print(\"expected \"+str(nmonths)+\" months, got \"+str(u.time.size))\n",
    "    sys.exit()\n",
    "ujja=cal.season_mean(u, \"ua\", season=\"JJA\")\n",
    "ujja=ujja.dropna('lat')\n",
    "ujjainterp=ujja.interp(lat=np.linspace(-90,90,181), method=\"cubic\")\n",
    "jlatmerra, jspeed=jlat.calcjetlat(ujjainterp, -80, -20)\n",
    "jlatmerra=xr.DataArray(jlatmerra, name='jlatmerra')\n",
    "jlatmerra.to_netcdf(\"./DATA/jlatobs.nc\", mode=\"a\")\n",
    "print(jlatmerra)"
   ]
  },
  {
   "cell_type": "code",
   "execution_count": null,
   "metadata": {},
   "outputs": [],
   "source": []
  }
 ],
 "metadata": {
  "kernelspec": {
   "display_name": "Python [conda env:ecpaperenv]",
   "language": "python",
   "name": "conda-env-ecpaperenv-py"
  },
  "language_info": {
   "codemirror_mode": {
    "name": "ipython",
    "version": 3
   },
   "file_extension": ".py",
   "mimetype": "text/x-python",
   "name": "python",
   "nbconvert_exporter": "python",
   "pygments_lexer": "ipython3",
   "version": "3.6.11"
  }
 },
 "nbformat": 4,
 "nbformat_minor": 4
}
