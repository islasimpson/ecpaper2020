{
 "cells": [
  {
   "cell_type": "code",
   "execution_count": 1,
   "metadata": {},
   "outputs": [
    {
     "data": {
      "text/plain": [
       "<module 'ecpaper_utils.bootstrap_utils' from '/home/islas/python/ecpaper2020/ecpaper_utils/bootstrap_utils.py'>"
      ]
     },
     "execution_count": 1,
     "metadata": {},
     "output_type": "execute_result"
    }
   ],
   "source": [
    "import importlib\n",
    "import xarray as xr\n",
    "import matplotlib.pyplot as plt\n",
    "import numpy as np\n",
    "from matplotlib.patches import Rectangle\n",
    "\n",
    "from ecpaper_utils import linfit_utils as linfit\n",
    "from ecpaper_utils import bootstrap_utils as boot\n",
    "\n",
    "importlib.reload(linfit)\n",
    "importlib.reload(boot)"
   ]
  },
  {
   "cell_type": "markdown",
   "metadata": {},
   "source": [
    "Read in CMIP jet latitudes, global mean tas and uncertainty estimates from the MMLEA's"
   ]
  },
  {
   "cell_type": "code",
   "execution_count": 2,
   "metadata": {},
   "outputs": [],
   "source": [
    "datapath=\"/project/cas/islas/python/ecpaper2020/DATASORT/SHJET/DATA/\"\n",
    "cmip5jlats = datapath+\"jlatcmip5.nc\"\n",
    "cmip6jlats = datapath+\"jlatcmip6.nc\"\n",
    "cmip5gmt = datapath+\"globalmeantascmip5.nc\"\n",
    "cmip6gmt = datapath+\"globalmeantascmip6.nc\"\n",
    "cmip5errors = \"../ERRORCALC/JLAT/DATA/errors_cmip5.nc\"\n",
    "cmip6errors = \"../ERRORCALC/JLAT/DATA/errors_cmip6.nc\"\n",
    "errors1mem = \"../ERRORCALC/JLAT/DATA/errors_1mem.nc\""
   ]
  },
  {
   "cell_type": "code",
   "execution_count": 3,
   "metadata": {},
   "outputs": [],
   "source": [
    "jlat5 = xr.open_dataset(cmip5jlats) ; jlat6 = xr.open_dataset(cmip6jlats)\n",
    "gmt5 = xr.open_dataset(cmip5gmt) ; gmt6 = xr.open_dataset(cmip6gmt)\n",
    "error5 = xr.open_dataset(cmip5errors) ; error6 = xr.open_dataset(cmip6errors) ; error1mem = xr.open_dataset(errors1mem)"
   ]
  },
  {
   "cell_type": "markdown",
   "metadata": {},
   "source": [
    "CMIP5 variance decomposition and other calcs"
   ]
  },
  {
   "cell_type": "code",
   "execution_count": 15,
   "metadata": {},
   "outputs": [],
   "source": [
    "# ensemble mean calculations for CMIP5\n",
    "\n",
    "# jet shift after regressing out the change in global mean tas\n",
    "a, b = linfit.linfit_xy( gmt5['tasemf'] - gmt5['tasemp'], jlat5['jlatemf']-jlat5['jlatemp'], error5['sigy'])\n",
    "jlatdif_nots_em = (jlat5['jlatemf']-jlat5['jlatemp'])  - (a + b*( gmt5['tasemf'] - gmt5['tasemp']))\n",
    "\n",
    "# correlation between phi_o and delta phi and uncertainty range\n",
    "r5 = xr.corr(jlat5['jlatemp'],jlat5['jlatemf']-jlat5['jlatemp'])\n",
    "minr5, maxr5 = boot.boot_corr_ci(jlat5['jlatemp'],jlat5['jlatemf']-jlat5['jlatemp'],95)\n",
    "\n",
    "# and after first regressing out global mean tas\n",
    "r5nots = xr.corr(jlat5['jlatemp'], jlatdif_nots_em)\n",
    "minr5nots, maxr5nots = boot.boot_corr_ci(jlat5['jlatemp'], jlatdif_nots_em, 95)\n",
    "\n",
    "# ensemble mean correlation between jet shift and global mean tas change\n",
    "rdphidt5 = xr.corr( jlat5['jlatemf']-jlat5['jlatemp'], gmt5['tasemf']-gmt5['tasemp'])\n",
    "minrdphidt5, maxrdphidt5 = boot.boot_corr_ci(jlat5['jlatemf']-jlat5['jlatemp'], gmt5['tasemf']-gmt5['tasemp'], 95)\n",
    "\n",
    "# ensemble mean variance of phi_o\n",
    "varphio5 = np.var(jlat5['jlatemp'])\n",
    "vardelphi5 = np.var( jlat5['jlatemf'] - jlat5['jlatemp'])\n",
    "\n",
    "#ols regression coefficients and confidence interval\n",
    "aols5em, bols5em = linfit.linfit_xy(jlat5['jlatemp'], jlat5['jlatemf'] - jlat5['jlatemp'], error5['sigy'])\n",
    "aolsrange5, bolsrange5, acoef, bcoef = boot.boot_regcoef_ci(jlat5['jlatemp'], jlat5['jlatemf'] - jlat5['jlatemp'], 95, sigy=error5['sigy'])\n",
    "\n",
    "# tls regression coefficients and confidence interval\n",
    "atls5em, btls5em = linfit.tls(jlat5['jlatemp'], jlat5['jlatemf'] - jlat5['jlatemp'], error5['sigx'],error5['sigy'])\n",
    "atlsrange5, btlsrange5, acoef, bcoef = boot.boot_regcoef_ci(jlat5['jlatemp'], jlat5['jlatemf'] - jlat5['jlatemp'], 95, sigx=error5['sigx'],sigy=error5['sigy'])\n",
    "\n",
    "# bhm coefficients and confidence interval\n",
    "abhmall5, bbhmall5, del2all5, muxall5, delx2all5 = linfit.bhm(jlat5['jlatemp'], (jlat5['jlatemf']-jlat5['jlatemp']), \n",
    "                                                              error5['sigx'], error5['sigy'], error5['rxy'], iseed=3)\n",
    "abhm5em = np.mean(abhmall5)\n",
    "bbhm5em = np.mean(bbhmall5)\n",
    "abhmmin = np.percentile(abhmall5,2.5) ; abhmmax = np.percentile(abhmall5,97.5)\n",
    "bbhmmin = np.percentile(bbhmall5,2.5) ; bbhmmax = np.percentile(bbhmall5,97.5)\n",
    "abhmrange5=[abhmmin,abhmmax]\n",
    "bbhmrange5=[bbhmmin,bbhmmax]"
   ]
  },
  {
   "cell_type": "code",
   "execution_count": 5,
   "metadata": {},
   "outputs": [],
   "source": [
    "# single member calculations for CMIP5\n",
    "\n",
    "# expand 1 member error estimates to array of size nmodels\n",
    "sigx1mem = np.repeat(np.array(error1mem['sigx_1mem']), jlat5['jlat1memp'].size)\n",
    "sigy1mem = np.repeat(np.array(error1mem['sigy_1mem']), jlat5['jlat1memp'].size)\n",
    "rxy1mem = np.repeat(np.array(error1mem['rxy_1mem']), jlat5['jlat1memp'].size)\n",
    "\n",
    "# regress out global mean tas change from jet shift (1 member and then all ensemble mean)\n",
    "a, b = linfit.linfit_xy( gmt5['tas1memf'] - gmt5['tas1memp'], jlat5['jlat1memf']-jlat5['jlat1memp'], sigy1mem)\n",
    "jlatdif_nots = (jlat5['jlat1memf']-jlat5['jlat1memp'])  - (a + b*( gmt5['tas1memf'] - gmt5['tas1memp'])) \n",
    "var_nots = np.var(jlatdif_nots)\n",
    "\n",
    "# single member variance\n",
    "var5=np.var(jlat5['jlat1memf']-jlat5['jlat1memp'])\n",
    "\n",
    "# single member variance explained by global mean tas change\n",
    "vartsexplain5 = var5 - var_nots\n",
    "\n",
    "# ols regression variance decomposition\n",
    "aols5, bols5 = linfit.linfit_xy(jlat5['jlat1memp'], jlat5['jlat1memf']-jlat5['jlat1memp'], sigy1mem)\n",
    "jlatdif_ec = aols5 + bols5*jlat5['jlat1memp']\n",
    "res = (jlat5['jlat1memf'] - jlat5['jlat1memp']) - jlatdif_ec[:]\n",
    "\n",
    "varres5_ols = np.var(res)\n",
    "var5ec_ols = var5 - varres5_ols\n",
    "variv5_ols = (bols5**2. * sigx1mem[0]**2.) + sigy1mem[0]**2.\n",
    "vardelta5_ols = var5 - (var5ec_ols + variv5_ols)\n",
    "\n",
    "cmip5olsdecomp=[var5ec_ols, variv5_ols, vardelta5_ols]\n",
    "\n",
    "# tls regression variance decomposition\n",
    "atls5, btls5 = linfit.tls(jlat5['jlat1memp'], jlat5['jlat1memf']-jlat5['jlat1memp'], sigx1mem, sigy1mem)\n",
    "jlatdif_ec = atls5 + btls5*jlat5['jlat1memp']\n",
    "res = (jlat5['jlat1memf'] - jlat5['jlat1memp']) - jlatdif_ec[:]\n",
    "\n",
    "varres5_tls = np.var(res)\n",
    "var5ec_tls = var5 - varres5_tls\n",
    "variv5_tls = (btls5**2. * sigx1mem[0]**2.) + sigy1mem[0]**2.\n",
    "vardelta5_tls = var5 - (var5ec_tls + variv5_tls)\n",
    "\n",
    "cmip5tlsdecomp=[var5ec_tls, variv5_tls, vardelta5_tls]\n",
    "\n",
    "#blr regression\n",
    "abhmall5, bbhmall5, del2all5, muxall5, delx2all5 = linfit.bhm(jlat5['jlat1memp'], (jlat5['jlat1memf']-jlat5['jlat1memp']), \n",
    "                                                              sigx1mem, sigy1mem, rxy1mem, iseed=3)\n",
    "abhm5 = np.mean(abhmall5) ; bbhm5 = np.mean(bbhmall5)\n",
    "varec=delx2all5[:]*bbhmall5[:]**2.\n",
    "vardel=del2all5[:]\n",
    "variv=sigy1mem[0]*(1-rxy1mem[0]**2.)\n",
    "\n",
    "var5ec_bhm = np.mean( varec[:]/(varec[:] + vardel[:] + variv))\n",
    "vardelta5_bhm = np.mean( vardel[:]/(varec[:] + vardel[:] + variv))\n",
    "variv5_bhm = np.mean( variv/(varec[:] + vardel[:] + variv))\n",
    "\n",
    "#var5ec_bhm = np.mean((bbhmall5[:]**2.)*delx2all5[:])\n",
    "#vardelta5_bhm=np.mean(del2all5[:])\n",
    "#variv5_bhm = np.mean(sigy1mem*(1. - rxy1mem**2.))\n",
    "\n",
    "cmip5bhmdecomp=[var5ec_bhm, variv5_bhm, vardelta5_bhm]"
   ]
  },
  {
   "cell_type": "markdown",
   "metadata": {},
   "source": [
    "CMIP6 variance decomposition and other calcs"
   ]
  },
  {
   "cell_type": "code",
   "execution_count": 19,
   "metadata": {},
   "outputs": [
    {
     "name": "stderr",
     "output_type": "stream",
     "text": [
      "/project/cas/islas/miniconda3/envs/ecpaperenv/lib/python3.6/site-packages/scipy/optimize/optimize.py:1166: RuntimeWarning: divide by zero encountered in double_scalars\n",
      "  rhok = 1.0 / (np.dot(yk, sk))\n"
     ]
    }
   ],
   "source": [
    "# ensemble mean calculations for CMIP6\n",
    "\n",
    "# jet shift after regressing out the change in global mean tas\n",
    "a, b = linfit.linfit_xy( gmt6['tasemf'] - gmt6['tasemp'], jlat6['jlatemf']-jlat6['jlatemp'], error6['sigy'])\n",
    "jlatdif_nots_em = (jlat6['jlatemf']-jlat6['jlatemp'])  - (a + b*( gmt6['tasemf'] - gmt6['tasemp']))\n",
    "\n",
    "# correlation between phi_o and delta phi and uncertainty range\n",
    "r6 = xr.corr(jlat6['jlatemp'],jlat6['jlatemf']-jlat6['jlatemp'])\n",
    "minr6, maxr6 = boot.boot_corr_ci(jlat6['jlatemp'],jlat6['jlatemf']-jlat6['jlatemp'],95)\n",
    "\n",
    "# and after first regressing out global mean tas\n",
    "r6nots = xr.corr(jlat6['jlatemp'], jlatdif_nots_em)\n",
    "minr6nots, maxr6nots = boot.boot_corr_ci(jlat6['jlatemp'], jlatdif_nots_em, 95)\n",
    "\n",
    "# ensemble mean correlation between jet shift and global mean tas change\n",
    "rdphidt6 = xr.corr( jlat6['jlatemf']-jlat6['jlatemp'], gmt6['tasemf']-gmt6['tasemp'])\n",
    "minrdphidt6, maxrdphidt6 = boot.boot_corr_ci(jlat6['jlatemf']-jlat6['jlatemp'], gmt6['tasemf']-gmt6['tasemp'], 95)\n",
    "\n",
    "# ensemble mean variance of phi_o\n",
    "varphio6 = np.var(jlat6['jlatemp'])\n",
    "vardelphi6 = np.var(jlat6['jlatemf'] - jlat6['jlatemp'])\n",
    "\n",
    "#ols regression coefficients and confidence interval\n",
    "aols6em, bols6em = linfit.linfit_xy(jlat6['jlatemp'], jlat6['jlatemf'] - jlat6['jlatemp'], error6['sigy'])\n",
    "aolsrange6, bolsrange6, acoef, bcoef = boot.boot_regcoef_ci(jlat6['jlatemp'], jlat6['jlatemf'] - jlat6['jlatemp'], 95, sigy=error6['sigy'])\n",
    "\n",
    "# tls regression coefficients and confidence interval\n",
    "atls6em, btls6em = linfit.tls(jlat6['jlatemp'], jlat6['jlatemf'] - jlat6['jlatemp'], error6['sigx'],error6['sigy'])\n",
    "atlsrange6, btlsrange6, acoef, bcoef = boot.boot_regcoef_ci(jlat6['jlatemp'], jlat6['jlatemf'] - jlat6['jlatemp'], 95, sigx=error6['sigx'],sigy=error6['sigy'])\n",
    "\n",
    "# bhm coefficients and confidence interval\n",
    "abhmall6, bbhmall6, del2all6, muxall6, delx2all6 = linfit.bhm(jlat6['jlatemp'], (jlat6['jlatemf']-jlat6['jlatemp']), \n",
    "                                                              error6['sigx'], error6['sigy'], error6['rxy'], iseed=3)\n",
    "abhm6em = np.mean(abhmall6)\n",
    "bbhm6em = np.mean(bbhmall6)\n",
    "abhmmin = np.percentile(abhmall6,2.5) ; abhmmax = np.percentile(abhmall6,97.5)\n",
    "bbhmmin = np.percentile(bbhmall6,2.5) ; bbhmmax = np.percentile(bbhmall6,97.5)\n",
    "abhmrange6=[abhmmin,abhmmax]\n",
    "bbhmrange6=[bbhmmin,bbhmmax]"
   ]
  },
  {
   "cell_type": "code",
   "execution_count": 7,
   "metadata": {},
   "outputs": [],
   "source": [
    "# single member calculations for CMIP5\n",
    "\n",
    "# expand 1 member error estimates to array of size nmodels\n",
    "sigx1mem = np.repeat(np.array(error1mem['sigx_1mem']), jlat6['jlat1memp'].size)\n",
    "sigy1mem = np.repeat(np.array(error1mem['sigy_1mem']), jlat6['jlat1memp'].size)\n",
    "rxy1mem = np.repeat(np.array(error1mem['rxy_1mem']), jlat6['jlat1memp'].size)\n",
    "\n",
    "# regress out global mean tas change from jet shift (1 member and then all ensemble mean)\n",
    "a, b = linfit.linfit_xy( gmt6['tas1memf'] - gmt6['tas1memp'], jlat6['jlat1memf']-jlat6['jlat1memp'], sigy1mem)\n",
    "jlatdif_nots = (jlat6['jlat1memf']-jlat6['jlat1memp'])  - (a + b*( gmt6['tas1memf'] - gmt6['tas1memp'])) \n",
    "var_nots = np.var(jlatdif_nots)\n",
    "\n",
    "# single member variance\n",
    "var6=np.var(jlat6['jlat1memf']-jlat6['jlat1memp'])\n",
    "\n",
    "# single member variance explained by global mean tas change\n",
    "vartsexplain6 = var6 - var_nots\n",
    "\n",
    "# ols regression variance decomposition\n",
    "aols6, bols6 = linfit.linfit_xy(jlat6['jlat1memp'], jlat6['jlat1memf']-jlat6['jlat1memp'], sigy1mem)\n",
    "jlatdif_ec = aols6 + bols6*jlat6['jlat1memp']\n",
    "res = (jlat6['jlat1memf'] - jlat6['jlat1memp']) - jlatdif_ec[:]\n",
    "\n",
    "varres6_ols = np.var(res)\n",
    "var6ec_ols = var6 - varres6_ols\n",
    "variv6_ols = (bols6**2. * sigx1mem[0]**2.) + sigy1mem[0]**2.\n",
    "vardelta6_ols = var6 - (var6ec_ols + variv6_ols)\n",
    "\n",
    "cmip6olsdecomp=[var6ec_ols, variv6_ols, vardelta6_ols]\n",
    "\n",
    "# tls regression variance decomposition\n",
    "atls6, btls6 = linfit.tls(jlat6['jlat1memp'], jlat6['jlat1memf']-jlat6['jlat1memp'], sigx1mem, sigy1mem)\n",
    "jlatdif_ec = atls6 + btls6*jlat6['jlat1memp']\n",
    "res = (jlat6['jlat1memf'] - jlat6['jlat1memp']) - jlatdif_ec[:]\n",
    "\n",
    "varres6_tls = np.var(res)\n",
    "var6ec_tls = var6 - varres6_tls\n",
    "variv6_tls = (btls6**2. * sigx1mem[0]**2.) + sigy1mem[0]**2.\n",
    "vardelta6_tls = var6 - (var6ec_tls + variv6_tls)\n",
    "\n",
    "cmip6tlsdecomp=[var6ec_tls, variv6_tls, vardelta6_tls]\n",
    "\n",
    "#blr regression\n",
    "abhmall6, bbhmall6, del2all6, muxall6, delx2all6 = linfit.bhm(jlat6['jlat1memp'], (jlat6['jlat1memf']-jlat6['jlat1memp']),                                                               sigx1mem, sigy1mem, rxy1mem, iseed=3)\n",
    "abhm6 = np.mean(abhmall6) ; bbhm6 = np.mean(bbhmall6)\n",
    "\n",
    "varec=delx2all6[:]*bbhmall6[:]**2.\n",
    "vardel=del2all6[:]\n",
    "variv=sigy1mem[0]*(1-rxy1mem[0]**2.)\n",
    "\n",
    "var6ec_bhm = np.mean( varec[:]/(varec[:] + vardel[:] + variv))\n",
    "vardelta6_bhm = np.mean( vardel[:]/(varec[:] + vardel[:] + variv))\n",
    "variv6_bhm = np.mean( variv/(varec[:] + vardel[:] + variv))\n",
    "\n",
    "#var6ec_bhm = np.mean((bbhmall6[:]**2.)*delx2all6[:])\n",
    "#vardelta6_bhm=np.mean(del2all6[:])\n",
    "#variv6_bhm = np.mean(sigx1mem*(1. - rxy1mem**2.))\n",
    "\n",
    "cmip6bhmdecomp=[var6ec_bhm, variv6_bhm, vardelta6_bhm]"
   ]
  },
  {
   "cell_type": "code",
   "execution_count": 35,
   "metadata": {},
   "outputs": [
    {
     "name": "stdout",
     "output_type": "stream",
     "text": [
      "<xarray.DataArray 'jlatemp' ()>\n",
      "array(-46.461359)\n",
      "Coordinates:\n",
      "    model    <U10 'MCM-UA-1-0'\n"
     ]
    }
   ],
   "source": [
    "print(jlat6['jlatemp'].sel(model='MCM-UA-1-0'))"
   ]
  },
  {
   "cell_type": "code",
   "execution_count": 36,
   "metadata": {},
   "outputs": [
    {
     "name": "stdout",
     "output_type": "stream",
     "text": [
      "<xarray.DataArray 'jlatemp' ()>\n",
      "array(14.26525545)\n",
      "<xarray.DataArray ()>\n",
      "array(3.72493149)\n"
     ]
    }
   ],
   "source": [
    "print(np.var(jlat6['jlatemp']))\n",
    "print(np.var(jlat6['jlatemf']-jlat6['jlatemp']))"
   ]
  },
  {
   "cell_type": "code",
   "execution_count": 30,
   "metadata": {},
   "outputs": [
    {
     "name": "stdout",
     "output_type": "stream",
     "text": [
      "<xarray.DataArray ()>\n",
      "array(3.8051284)\n",
      "<xarray.DataArray ()>\n",
      "array(3.72493149)\n",
      "<xarray.DataArray 'jlatemp' ()>\n",
      "array(20.84752508)\n",
      "<xarray.DataArray 'jlatemp' ()>\n",
      "array(14.26525545)\n"
     ]
    }
   ],
   "source": [
    "print(vardelphi5)\n",
    "print(vardelphi6)\n",
    "print(varphio5)\n",
    "print(varphio6)"
   ]
  },
  {
   "cell_type": "code",
   "execution_count": 20,
   "metadata": {},
   "outputs": [
    {
     "data": {
      "text/plain": [
       "Text(4.5, 0.06, 'influence')"
      ]
     },
     "execution_count": 20,
     "metadata": {},
     "output_type": "execute_result"
    },
    {
     "data": {
      "image/png": "[encoded data removed]",
      "text/plain": [
       "<Figure size 1296x360 with 3 Axes>"
      ]
     },
     "metadata": {
      "needs_background": "light"
     },
     "output_type": "display_data"
    }
   ],
   "source": [
    "fig = plt.figure()\n",
    "w=18 ; h=5\n",
    "fig.set_size_inches(w,h)\n",
    "\n",
    "# variance in delta phi\n",
    "ax1= fig.add_axes(np.array([0.05,0.05,0.06,0.9]))\n",
    "ax1.set_xlim(0,3)\n",
    "ax1.set_xticks([1,2])\n",
    "ax1.set_ylim(0,4)\n",
    "ax1.set_yticks([0,1,2,3,4,5])\n",
    "ax1.set_yticklabels(['0','1','2','3','4','5'], fontsize=14)\n",
    "ax1.set_ylabel('Variance ($\\circ^{2}$)', fontsize=14, labelpad=-1)\n",
    "ax1.set_xticklabels(['CMIP5','CMIP6'], fontsize=14, rotation=70, ha='right')\n",
    "ax1.set_title(\"(a) $\\sigma^{2}(\\Delta \\phi)$\", fontsize=16)\n",
    "ax1.bar(1., vardelphi5, width=1, bottom=None, align='center', color='lightgray', edgecolor='black', linewidth=2)\n",
    "ax1.bar(2., vardelphi6, width=1, bottom=None, align='center', color='lightgray', edgecolor='black', linewidth=2)\n",
    "\n",
    "ax2 = fig.add_axes(np.array([0.13,0.05,0.06,0.9]))\n",
    "ax2.set_xlim(0,3)\n",
    "ax2.set_ylim(0,23)\n",
    "ax2.set_xticks([1,2])\n",
    "ax2.set_xticklabels(['CMIP5', 'CMIP6'], rotation=70, fontsize=14)\n",
    "ax2.set_yticks([0,4,8,12,16,20])\n",
    "ax2.set_yticklabels(['0','4','8','12','16','20'], fontsize=14)\n",
    "#ax2.set_ylabel('$\\phi_{o}$ variance ($\\circ^{2}$)', fontsize=14, labelpad=-1)\n",
    "ax2.set_title('(b) $\\sigma^{2}(\\phi_{o})$', fontsize=16)\n",
    "ax2.bar(1,varphio5, width=1, bottom=0, color='lightgray', edgecolor='black', linewidth=2)\n",
    "ax2.bar(2,varphio6, width=1, bottom=0, color='lightgray', edgecolor='black', linewidth=2)\n",
    "\n",
    "\n",
    "ax3 = fig.add_axes(np.array([0.23,0.05,0.12,0.9]))\n",
    "\n",
    "ax3.set_xlim(0,6)\n",
    "ax3.set_xticks([1,2,4,5])\n",
    "ax3.set_xticklabels(['CMIP5','CMIP6','CMIP5','CMIP6'], rotation='70', fontsize=14)\n",
    "ax3.set_yticks([-1,-0.8,-0.6,-0.4,-0.2,0,0.2])\n",
    "ax3.set_yticklabels(['-1','-0.8','-0.6','-0.4','-0.2','0','0.2'], fontsize=14)\n",
    "ax3.set_ylabel('Correlation', fontsize=14, labelpad=-1)\n",
    "ax3.set_title('(c) r($\\phi_{o},\\Delta \\phi$)', fontsize=16)\n",
    "ax3.set_ylim(-1,0.2)\n",
    "ax3.set_xlim(0,6)\n",
    "\n",
    "# CMIP5 correlation\n",
    "ax3.bar(1,r5,width=1,bottom=0,align='center',color='lightgray',edgecolor='black',linewidth=2)\n",
    "ax3.errorbar(1,r5,[[r5-minr5],[maxr5-r5]], color='black', linewidth=2, capsize=5, capthick=2.)\n",
    "\n",
    "# CMIP6 correlation\n",
    "ax3.bar(2,r6,width=1,bottom=0,align='center',color='lightgray',edgecolor='black',linewidth=2)\n",
    "ax3.errorbar(2,r6,[[r6-minr6],[maxr6-r6]], color='black', linewidth=2, capsize=5, capthick=2.)\n",
    "\n",
    "# CMIP5 correlation after regressing out tas\n",
    "ax3.bar(4, r5nots, width=1, bottom=0, align='center', color='lightgray', edgecolor='black', linewidth=2)\n",
    "ax3.errorbar(4, r5nots, [[r5nots-minr5nots], [maxr5nots-r5nots]], color='black', linewidth=2, capsize=5, capthick=2)\n",
    "\n",
    "# CMIP6 correlation after regressing out tas\n",
    "ax3.bar(5, r6nots, width=1, bottom=0, align='center', color='lightgray', edgecolor='black', linewidth=2)\n",
    "ax3.errorbar(5, r6nots, [[r6nots-minr6nots], [maxr6nots-r6nots]], color='black', linewidth=2, capsize=5, capthick=2)\n",
    "\n",
    "\n",
    "ax3.plot([0,6],[0,0], color='black')\n",
    "ax3.plot([3,3],[-1,0.2], color='black')\n",
    "ax3.text(4.5, 0.13,'without $\\Delta T_{2m}$', horizontalalignment='center',verticalalignment='center',fontsize=10,color='black')\n",
    "ax3.text(4.5, 0.06,'influence',horizontalalignment='center',verticalalignment='center',fontsize=10,color='black')"
   ]
  },
  {
   "cell_type": "code",
   "execution_count": null,
   "metadata": {},
   "outputs": [],
   "source": []
  },
  {
   "cell_type": "code",
   "execution_count": 21,
   "metadata": {},
   "outputs": [],
   "source": [
    "# -------variance decomposition (%) panel b ----------------\n",
    "ax4 = fig.add_axes(np.array([0.39,0.05,0.12,0.9]))\n",
    "# -------------Variance decomposition, panel a -------------------\n",
    "ax4.set_xticks([2.,3.,4.,7.,8.,9.])\n",
    "ax4.set_xticklabels(['OLS','TLS','BHM','OLS','TLS','BHM'], rotation='70', fontsize=14)\n",
    "ax4.set_yticks([0,20,40,60,80,100])\n",
    "ax4.set_yticklabels(['0','20','40','60','80','100'], fontsize=14)\n",
    "ax4.set_ylabel(\"Variance (%)\", fontsize=14, labelpad=-1)\n",
    "ax4.set_title(\"(d) % variance in $\\Delta \\phi$\", fontsize=16)\n",
    "\n",
    "ax4.bar(1., (var5/var5)*100., width=1, bottom=None, align='center', color='lightgray', edgecolor='black', linewidth=2)\n",
    "ax4.bar(1., (vartsexplain5/var5)*100., width=1, bottom=None, align='center', fill=False, linewidth=0, hatch='////')\n",
    "\n",
    "decompcolors=[\"darkred\",\"seagreen\",\"cornflowerblue\"]\n",
    "\n",
    "bot=0\n",
    "for i in range(0,3):\n",
    "    ax4.bar(2., (cmip5olsdecomp[i]/var5)*100., width=1, bottom=bot, align='center', color=decompcolors[i], edgecolor='black', linewidth=2)\n",
    "    bot=bot+(cmip5olsdecomp[i]/var5)*100.\n",
    "\n",
    "bot=0\n",
    "for i in range(0,3):\n",
    "    ax4.bar(3., (cmip5tlsdecomp[i]/var5)*100., width=1, bottom=bot, align='center', color=decompcolors[i], edgecolor='black', linewidth=2)\n",
    "    bot=bot+(cmip5tlsdecomp[i]/var5)*100.\n",
    "    \n",
    "bot=0\n",
    "for i in range(0,3):\n",
    "    ax4.bar(4., (cmip5bhmdecomp[i]/np.sum(cmip5bhmdecomp))*100., width=1, bottom=bot, align='center', color=decompcolors[i], edgecolor='black', linewidth=2)\n",
    "    bot=bot+(cmip5bhmdecomp[i]/np.sum(cmip5bhmdecomp))*100.   \n",
    "    \n",
    "ax4.bar(6, (var6/var6)*100., width=1, bottom=None, align='center', color='lightgray', edgecolor='black', linewidth=2)\n",
    "ax4.bar(6, (vartsexplain6/var6)*100., width=1, bottom=None, align='center', fill=False, linewidth=0, hatch='////')\n",
    "\n",
    "bot=0\n",
    "for i in range(0,3):\n",
    "    ax4.bar(7., (cmip6olsdecomp[i]/var6)*100., width=1, bottom=bot, align='center', color=decompcolors[i], edgecolor='black', linewidth=2)\n",
    "    bot=bot+(cmip6olsdecomp[i]/var6)*100.\n",
    "    \n",
    "bot=0\n",
    "for i in range(0,3):\n",
    "    ax4.bar(8., (cmip6tlsdecomp[i]/var6)*100., width=1, bottom=bot, align='center', color=decompcolors[i], edgecolor='black', linewidth=2)\n",
    "    bot=bot+(cmip6tlsdecomp[i]/var6)*100.  \n",
    "    \n",
    "bot=0\n",
    "for i in range(0,3):\n",
    "    ax4.bar(9., (cmip6bhmdecomp[i]/np.sum(cmip6bhmdecomp))*100., width=1, bottom=bot, align='center', color=decompcolors[i], edgecolor='black', linewidth=2)\n",
    "    bot=bot+(cmip6bhmdecomp[i]/np.sum(cmip6bhmdecomp))*100.  \n",
    "\n",
    "\n",
    "#fig.show()"
   ]
  },
  {
   "cell_type": "code",
   "execution_count": 22,
   "metadata": {},
   "outputs": [
    {
     "data": {
      "text/plain": [
       "<matplotlib.legend.Legend at 0x7f3b78129588>"
      ]
     },
     "execution_count": 22,
     "metadata": {},
     "output_type": "execute_result"
    }
   ],
   "source": [
    "legendparts=[Rectangle((0.95,0.95),5,3,facecolor='lightgray', edgecolor='black'),\n",
    "             Rectangle((0.95,0.95),5,3,linewidth=0,fill='None', facecolor='white', hatch='////'),\n",
    "             Rectangle((0.95,0.95),5,3,facecolor='darkred',edgecolor='black'),\n",
    "             Rectangle((0.95,0.95),5,3,facecolor='seagreen',edgecolor='black'),\n",
    "             Rectangle((0.95,0.95),5,3,facecolor='cornflowerblue',edgecolor='black')]\n",
    "legendlabels=['$\\sigma^{2}(\\Delta \\phi)$','$\\sigma^{2}_{\\Delta T_{2m}}$','$\\sigma^{2}_{EC}$','$\\sigma^{2}_{IV}$','$\\sigma^{2}_{\\delta}$']\n",
    "fig.legend(legendparts, legendlabels, bbox_to_anchor = (0.58,0.75), ncol=1, frameon=False, fontsize='x-large', handlelength=1, handleheight=1, handletextpad=0.4)"
   ]
  },
  {
   "cell_type": "code",
   "execution_count": 23,
   "metadata": {},
   "outputs": [
    {
     "data": {
      "text/plain": [
       "Text(6, 5, 'CMIP6')"
      ]
     },
     "execution_count": 23,
     "metadata": {},
     "output_type": "execute_result"
    }
   ],
   "source": [
    "ax5 = fig.add_axes(np.array([0.615,0.55,0.25,0.4]))\n",
    "ax5.set_xlim(0,8)\n",
    "ax5.set_ylim(-34,10)\n",
    "ax5.set_yticks([-30,-25,-20,-15,-10,-5,0,5,10])\n",
    "ax5.set_yticklabels(['-30','-25','-20','-15','-10','-5','0','5','10'], fontsize=14)\n",
    "ax5.set_xticks([])\n",
    "ax5.plot([0,9],[0,0],color='black')\n",
    "ax5.plot([4,4],[-34,10],color='black')\n",
    "ax5.set_ylabel('$\\\\alpha$ ($\\circ$ N)', fontsize=14)\n",
    "ax5.set_title('(e) $\\\\alpha$ parameter', fontsize=16)\n",
    "\n",
    "ax5.bar(1,aols5em,bottom=0,width=1,color='saddlebrown', linewidth=2, edgecolor='black')\n",
    "ax5.errorbar(1,aols5em,[[aols5em-aolsrange5[0]],[aolsrange5[1]-aols5em]], color='black', linewidth=2, capsize=5, capthick=2.)\n",
    "\n",
    "ax5.bar(2,atls5em,bottom=0,width=1,color='forestgreen',linewidth=2,edgecolor='black')\n",
    "ax5.errorbar(2,atls5em,[[atls5em-atlsrange5[0]],[atlsrange5[1]-atls5em]], color='black', linewidth=2, capsize=5, capthick=2.)\n",
    "\n",
    "ax5.bar(3,abhm5em,bottom=0,width=1,color='blueviolet',linewidth=2,edgecolor='black')\n",
    "ax5.errorbar(3,abhm5em,[[abhm5em-abhmrange5[0]],[abhmrange5[1]-abhm5em]], color='black', linewidth=2, capsize=5, capthick=2.)\n",
    "\n",
    "ax5.bar(5,aols6em,bottom=0,width=1,color='saddlebrown',linewidth=2,edgecolor='black')\n",
    "ax5.errorbar(5,aols6em,[[aols6em-aolsrange6[0]],[aolsrange6[1]-aols6em]], color='black', linewidth=2, capsize=5, capthick=2.)\n",
    "ax5.bar(6,atls6em,bottom=0,width=1,color='forestgreen',linewidth=2,edgecolor='black')\n",
    "ax5.errorbar(6,atls6em,[[atls6em-atlsrange6[0]],[atlsrange6[1]-atls6em]], color='black', linewidth=2, capsize=5, capthick=2.)\n",
    "ax5.bar(7,abhm6em,bottom=0,width=1,color='blueviolet',linewidth=2,edgecolor='black')\n",
    "ax5.errorbar(7,abhm6em,[[abhm6em-abhmrange6[0]],[abhmrange6[1]-abhm6em]], color='black', linewidth=2, capsize=5, capthick=2.)\n",
    "\n",
    "ax5.text(2, 5, 'CMIP5', horizontalalignment='center', verticalalignment='center', fontsize=16)\n",
    "ax5.text(6, 5, 'CMIP6', horizontalalignment='center', verticalalignment='center', fontsize=16)"
   ]
  },
  {
   "cell_type": "code",
   "execution_count": 24,
   "metadata": {},
   "outputs": [
    {
     "data": {
      "text/plain": [
       "Text(6, 0.1, 'CMIP6')"
      ]
     },
     "execution_count": 24,
     "metadata": {},
     "output_type": "execute_result"
    }
   ],
   "source": [
    "ax6 = fig.add_axes(np.array([0.615,0.05,0.25,0.4]))\n",
    "ax6.set_xlim(0,8)\n",
    "ax6.set_ylim(-0.7,0.2)\n",
    "ax6.set_yticks([-0.7,-0.6,-0.5,-0.4,-0.3,-0.2,-0.1,0,0.1,0.2])\n",
    "ax6.set_yticklabels(['-0.7','-0.6','-0.5','-0.4','-0.3','-0.2','-0.1','0','0.1','0.2'], fontsize=14)\n",
    "ax6.set_xticks([])\n",
    "ax6.plot([0,9],[0,0],color='black')\n",
    "ax6.plot([4,4],[-0.7,0.2],color='black')\n",
    "ax6.set_ylabel('$\\\\beta$', fontsize=14)\n",
    "ax6.set_title('(f) $\\\\beta$ parameter', fontsize=16)\n",
    "\n",
    "ax6.bar(1,bols5em,bottom=0,width=1,color='saddlebrown', linewidth=2, edgecolor='black')\n",
    "ax6.errorbar(1,bols5em,[[bols5em-bolsrange5[0]],[bolsrange5[1]-bols5em]], color='black', linewidth=2, capsize=5, capthick=2.)\n",
    "\n",
    "ax6.bar(2,btls5em,bottom=0,width=1,color='forestgreen',linewidth=2,edgecolor='black')\n",
    "ax6.errorbar(2,btls5em,[[btls5em-btlsrange5[0]],[btlsrange5[1]-btls5em]], color='black', linewidth=2, capsize=5, capthick=2.)\n",
    "\n",
    "ax6.bar(3,bbhm5em,bottom=0,width=1,color='blueviolet',linewidth=2,edgecolor='black')\n",
    "ax6.errorbar(3,bbhm5em,[[bbhm5em-bbhmrange5[0]],[bbhmrange5[1]-bbhm5em]], color='black', linewidth=2, capsize=5, capthick=2.)\n",
    "\n",
    "ax6.bar(5,bols6em,bottom=0,width=1,color='saddlebrown',linewidth=2,edgecolor='black')\n",
    "ax6.errorbar(5,bols6em,[[bols6em-bolsrange6[0]],[bolsrange6[1]-bols6em]], color='black', linewidth=2, capsize=5, capthick=2.)\n",
    "ax6.bar(6,btls6em,bottom=0,width=1,color='forestgreen',linewidth=2,edgecolor='black')\n",
    "ax6.errorbar(6,btls6em,[[btls6em-btlsrange6[0]],[btlsrange6[1]-btls6em]], color='black', linewidth=2, capsize=5, capthick=2.)\n",
    "ax6.bar(7,bbhm6em,bottom=0,width=1,color='blueviolet',linewidth=2,edgecolor='black')\n",
    "ax6.errorbar(7,bbhm6em,[[bbhm6em-bbhmrange6[0]],[bbhmrange6[1]-bbhm6em]], color='black', linewidth=2, capsize=5, capthick=2.)\n",
    "\n",
    "ax6.text(2, 0.1, 'CMIP5', horizontalalignment='center', verticalalignment='center', fontsize=16)\n",
    "ax6.text(6, 0.1, 'CMIP6', horizontalalignment='center', verticalalignment='center', fontsize=16)"
   ]
  },
  {
   "cell_type": "code",
   "execution_count": 25,
   "metadata": {},
   "outputs": [
    {
     "data": {
      "text/plain": [
       "<matplotlib.legend.Legend at 0x7f3b781157f0>"
      ]
     },
     "execution_count": 25,
     "metadata": {},
     "output_type": "execute_result"
    }
   ],
   "source": [
    "legendparts=[Rectangle((0.95,0.95),5,3,facecolor='saddlebrown', edgecolor='black'),\n",
    "             Rectangle((0.95,0.95),5,3,facecolor='forestgreen', edgecolor='black'),\n",
    "             Rectangle((0.95,0.95),5,3,facecolor='blueviolet',edgecolor='black')]\n",
    "legendlabels=['OLS','TLS','BHM']\n",
    "fig.legend(legendparts, legendlabels, bbox_to_anchor = (0.73,0.01), ncol=3, frameon=False, fontsize='x-large', handlelength=1, handleheight=1, handletextpad=0.4, loc='center')"
   ]
  },
  {
   "cell_type": "code",
   "execution_count": 26,
   "metadata": {},
   "outputs": [],
   "source": [
    "#plot the plot\n",
    "fig.patch.set_facecolor('white')\n",
    "fig\n",
    "fig.savefig('fig3.png', facecolor='white', bbox_inches='tight')"
   ]
  },
  {
   "cell_type": "code",
   "execution_count": 119,
   "metadata": {},
   "outputs": [
    {
     "name": "stdout",
     "output_type": "stream",
     "text": [
      "[-0.8904911713091269]\n"
     ]
    }
   ],
   "source": [
    "print(error)"
   ]
  },
  {
   "cell_type": "code",
   "execution_count": null,
   "metadata": {},
   "outputs": [],
   "source": []
  }
 ],
 "metadata": {
  "kernelspec": {
   "display_name": "Python [conda env:ecpaperenv]",
   "language": "python",
   "name": "conda-env-ecpaperenv-py"
  },
  "language_info": {
   "codemirror_mode": {
    "name": "ipython",
    "version": 3
   },
   "file_extension": ".py",
   "mimetype": "text/x-python",
   "name": "python",
   "nbconvert_exporter": "python",
   "pygments_lexer": "ipython3",
   "version": "3.6.11"
  }
 },
 "nbformat": 4,
 "nbformat_minor": 4
}
