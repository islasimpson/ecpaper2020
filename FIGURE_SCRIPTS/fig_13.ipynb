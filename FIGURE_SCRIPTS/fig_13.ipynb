{
 "cells": [
  {
   "cell_type": "code",
   "execution_count": 1,
   "metadata": {},
   "outputs": [],
   "source": [
    "import importlib\n",
    "import pandas as pd\n",
    "import xarray as xr\n",
    "import numpy as np\n",
    "import matplotlib.pyplot as plt\n",
    "import glob as glob"
   ]
  },
  {
   "cell_type": "code",
   "execution_count": 2,
   "metadata": {},
   "outputs": [],
   "source": [
    "import cartopy.crs as ccrs\n",
    "import cartopy.feature as cfeature\n",
    "from cartopy.mpl.ticker import LongitudeFormatter, LatitudeFormatter"
   ]
  },
  {
   "cell_type": "code",
   "execution_count": 3,
   "metadata": {},
   "outputs": [
    {
     "data": {
      "text/plain": [
       "<module 'ecpaper_utils.shapefile_utils' from '/home/islas/python/ecpaper2020/ecpaper_utils/shapefile_utils.py'>"
      ]
     },
     "execution_count": 3,
     "metadata": {},
     "output_type": "execute_result"
    }
   ],
   "source": [
    "from ecpaper_utils import fig_utils as figutils\n",
    "from ecpaper_utils import linfit_utils as linfit\n",
    "from ecpaper_utils import bootstrap_utils as boot\n",
    "from ecpaper_utils import shapefile_utils as shp\n",
    "importlib.reload(figutils)\n",
    "importlib.reload(linfit)\n",
    "importlib.reload(boot)\n",
    "importlib.reload(shp)"
   ]
  },
  {
   "cell_type": "code",
   "execution_count": 4,
   "metadata": {},
   "outputs": [],
   "source": [
    "calp_path = \"/project/cas/islas/python/ecpaper2020/DATASORT/CALP/DATA/\""
   ]
  },
  {
   "cell_type": "markdown",
   "metadata": {},
   "source": [
    "## top panel (a)"
   ]
  },
  {
   "cell_type": "markdown",
   "metadata": {},
   "source": [
    "#### reading data and calculations"
   ]
  },
  {
   "cell_type": "code",
   "execution_count": 5,
   "metadata": {},
   "outputs": [],
   "source": [
    "## read in data: correlations between CA precip and Nino3.4 and historical trends\n",
    "ca_cor5 = xr.open_dataset(calp_path+\"CMIP5calpvalues.nc\")\n",
    "ca_cor6 = xr.open_dataset(calp_path+\"CMIP6calpvalues.nc\")"
   ]
  },
  {
   "cell_type": "code",
   "execution_count": 6,
   "metadata": {},
   "outputs": [],
   "source": [
    "## order models by low to high correlation over future period\n",
    "order5 = np.argsort(ca_cor5[\"cor_nino_calp_f\"].values)\n",
    "model_order5 = ca_cor5[\"Model\"][order5]\n",
    "order6 = np.argsort(ca_cor6[\"cor_nino_calp_f\"].values)\n",
    "model_order6 = ca_cor6[\"Model\"][order6]"
   ]
  },
  {
   "cell_type": "code",
   "execution_count": 7,
   "metadata": {},
   "outputs": [],
   "source": [
    "## read in data: observed CA precip and Nino3.4 time series\n",
    "obs_ds = xr.open_dataset(calp_path+\"obsdata.nc\")"
   ]
  },
  {
   "cell_type": "code",
   "execution_count": 8,
   "metadata": {},
   "outputs": [],
   "source": [
    "## calculate Nino3.4 and CA precip correlation in observations\n",
    "obs_cor = pd.DataFrame()\n",
    "\n",
    "p_obs_labels = [\"CRU\", \"GPCC\"]\n",
    "p_obs_vars = [\"prcal_cruts\", \"prcal_gpcc\"]\n",
    "nino_obs_labels = [\"Had\", \"v3b\", \"v5\"]\n",
    "nino_obs_vars = [\"nino34_hadisst\", \"nino34_ersstv3b\", \"nino34_ersstv5\"]\n",
    "\n",
    "for i, p in enumerate(p_obs_labels):\n",
    "    for j, nino in enumerate(nino_obs_labels):\n",
    "        df = pd.DataFrame({\"p_obs\":p, \"nino_obs\": nino, \"label\":\"r(\"+p+\",\"+nino+\")\", \n",
    "                           \"cor\": [np.corrcoef(obs_ds[p_obs_vars[i]].values, obs_ds[nino_obs_vars[j]].values)[0,1]]})\n",
    "        obs_cor = obs_cor.append(df)\n",
    "\n",
    "# Bootstrapped confidence interval using GPCC and ERSSTv5\n",
    "min95obs, max95obs = boot.boot_corr_ci(obs_ds[\"nino34_ersstv5\"], obs_ds[\"prcal_gpcc\"], 95)\n",
    "        "
   ]
  },
  {
   "cell_type": "code",
   "execution_count": 9,
   "metadata": {},
   "outputs": [],
   "source": [
    "## read processed Large Ensemble data into one Dataset\n",
    "le_files = sorted(glob.glob(calp_path+\"/cor_nino34_calp*.nc\"))\n",
    "ca_cor_le = []\n",
    "\n",
    "for file in le_files:\n",
    "    #parse model name\n",
    "    MODEL = file.split(\"_\")[3].split(\".\")[0]\n",
    "    ds = xr.open_dataset(file)\n",
    "    n = len(ds[\"cor_nino34_calp\"])\n",
    "    ds = ds.assign_coords({\"Model\": MODEL})\n",
    "    ca_cor_le.append(ds)\n",
    "    \n",
    "ca_cor_le = xr.concat(ca_cor_le, dim = \"Model\") ## LEs that have <100 members will have some nans that don't affect min/max calcs"
   ]
  },
  {
   "cell_type": "markdown",
   "metadata": {},
   "source": [
    "#### set up figure "
   ]
  },
  {
   "cell_type": "code",
   "execution_count": 10,
   "metadata": {},
   "outputs": [],
   "source": [
    "x5 = np.arange(1,38) # x-axis values for CMIP5 models\n",
    "x6 = np.arange(39, 77) # x-axis values for CMIP6 models\n",
    "xle = np.arange(80, 85) # x-axis values for large ensembles\n",
    "xlabels = np.concatenate([model_order5, model_order6, figutils.le_order])"
   ]
  },
  {
   "cell_type": "code",
   "execution_count": 11,
   "metadata": {},
   "outputs": [],
   "source": [
    "from matplotlib.lines import Line2D"
   ]
  },
  {
   "cell_type": "code",
   "execution_count": 12,
   "metadata": {},
   "outputs": [],
   "source": [
    "cmip_col_past = [[252/255, 190/255, 166/255, 1], [200/255, 221/255, 240/255, 1]]\n",
    "obs_linestyles = ['solid', \"dotted\", \"dashed\", \"dashdot\", (0, (3, 3, 1, 3, 1, 3, 1, 3)), (0, (8, 5))]\n",
    "obs_legend_lines = [Line2D([0], [0], color = \"k\", linestyle = obs_linestyles[0]), ## create lines for manual legend\n",
    "                   Line2D([0], [0], color = \"k\", linestyle = obs_linestyles[1]),\n",
    "                   Line2D([0], [0], color = \"k\", linestyle = obs_linestyles[2]),\n",
    "                   Line2D([0], [0], color = \"k\", linestyle = obs_linestyles[3]),\n",
    "                   Line2D([0], [0], color = \"k\", linestyle = obs_linestyles[4]), \n",
    "                   Line2D([0], [0], color = \"k\", linestyle = obs_linestyles[5])]"
   ]
  },
  {
   "cell_type": "code",
   "execution_count": 13,
   "metadata": {},
   "outputs": [],
   "source": [
    "al2017_h_models = ['CMCC-CM', 'IPSL-CM5A-MR', 'CESM1-BGC',\n",
    "       'bcc-csm1-1-m', 'IPSL-CM5A-LR', 'CMCC-CMS', 'MRI-CGCM3', 'IPSL-CM5B-LR',\n",
    "       'CCSM4', 'BNU-ESM', 'CanESM2', 'MIROC5', 'CESM1-CAM5','GFDL-CM3']\n",
    "al2017_l_models = ['MIROC-ESM', 'GISS-E2-R', 'MIROC-ESM-CHEM', 'GISS-E2-H', 'EC-EARTH',\n",
    "       'bcc-csm1-1', 'GFDL-ESM2G', 'HadGEM2-AO','HadGEM2-CC', 'GFDL-ESM2M']"
   ]
  },
  {
   "cell_type": "code",
   "execution_count": 49,
   "metadata": {},
   "outputs": [
    {
     "data": {
      "text/plain": [
       "<matplotlib.legend.Legend at 0x7f6c9c3df5f8>"
      ]
     },
     "execution_count": 49,
     "metadata": {},
     "output_type": "execute_result"
    },
    {
     "data": {
      "image/png": "[encoded data removed]",
      "text/plain": [
       "<Figure size 1008x792 with 1 Axes>"
      ]
     },
     "metadata": {
      "needs_background": "light"
     },
     "output_type": "display_data"
    }
   ],
   "source": [
    "fig = plt.figure(figsize = (14, 11))\n",
    "\n",
    "ax1 = fig.add_axes(np.array([0.05,0.735,0.89,0.265]))\n",
    "ax1.set_title(\"(a) Interannual correlations between Nino3.4 index and California precipiation\", fontsize=16)\n",
    "ax1.set(ylim = (-0.4,0.75), xlim=(0,85))\n",
    "ax1.set_ylabel(\"Correlation\", fontsize=14)\n",
    "ax1.set_xticks(ticks = np.concatenate([x5, x6, xle]))\n",
    "ax1.set_xticklabels(labels = xlabels, rotation=60, ## still troubleshooting issues with alignment for angled text \n",
    "                   ha = \"right\", size = 7.5, fontsize=10, rotation_mode=\"anchor\")\n",
    "\n",
    "ivrange = plt.Rectangle( (0, min95obs), 85, max95obs-min95obs, color='lightgray', zorder=0)\n",
    "ax1.add_patch(ivrange)\n",
    "\n",
    "## plot cmip correlations\n",
    "ax1.scatter(x5, ca_cor5[\"cor_nino_calp_f\"][order5], color = figutils.cmip_col[0], edgecolor = \"k\", zorder = 2, s = 80)\n",
    "ax1.scatter(x6, ca_cor6[\"cor_nino_calp_f\"][order6], color = figutils.cmip_col[1], edgecolor = \"k\", zorder = 2, s = 80)\n",
    "ax1.scatter(x5, ca_cor5[\"cor_nino_calp_p\"][order5], color = cmip_col_past[0], edgecolor = \"k\", zorder = 2, s = 80)\n",
    "ax1.scatter(x6, ca_cor6[\"cor_nino_calp_p\"][order6], color = cmip_col_past[1], edgecolor = \"k\", zorder = 2, s = 80)\n",
    "\n",
    "legendparts=[Line2D([0],[0], color='w', marker='o', markerfacecolor=figutils.cmip_col[0], markeredgecolor='black', markersize=10, markeredgewidth=2),\n",
    "             Line2D([0],[0], color='w', marker='o', markerfacecolor=cmip_col_past[0], markeredgecolor='black', markersize=10, markeredgewidth=2)]\n",
    "legendlabels=[\"2006-2099\", \"1948-2014\"]\n",
    "leg1 = ax1.legend(legendparts, legendlabels, bbox_to_anchor=(0.43, 0.27), ncol=2, fontsize='x-large', handletextpad=0., columnspacing=0.1)\n",
    "\n",
    "legendparts=[Line2D([0],[0], color='w', marker='o', markerfacecolor=figutils.cmip_col[1], markeredgecolor='black', markersize=10, markeredgewidth=2),\n",
    "             Line2D([0],[0], color='w', marker='o', markerfacecolor=cmip_col_past[1], markeredgecolor='black', markersize=10, markeredgewidth=2)]\n",
    "legendlabels=[\"2006-2099\", \"1948-2014\"]\n",
    "leg2 = ax1.legend(legendparts, legendlabels, bbox_to_anchor=(0.89, 0.27), ncol=2, fontsize='x-large', handletextpad=0., columnspacing=0.1)\n",
    "\n",
    "\n",
    "for model in al2017_h_models:\n",
    "    ax1.text(x5[model_order5 == model], 0.69, \"H\", size = 12, ha = \"center\")\n",
    "for model in al2017_l_models:\n",
    "    ax1.text(x5[model_order5 == model], 0.69, \"L\", size = 12, ha = \"center\")\n",
    "    \n",
    "## add LE correlation ranges\n",
    "for i, le in enumerate(figutils.le_order):\n",
    "    ymin = ca_cor_le.sel(Model = le)[\"cor_nino34_calp\"].min().values\n",
    "    ymax = ca_cor_le.sel(Model = le)[\"cor_nino34_calp\"].max().values\n",
    "    ax1.errorbar(xle[i], (ymin+ymax)/2, yerr = (ymax-ymin)/2, color = figutils.le_col[i], fmt = 'none')\n",
    "    ax1.hlines([ymin, ymax], xle[i]-0.4, xle[i]+0.4, color = figutils.le_col[i])\n",
    "\n",
    "ax1.hlines(obs_cor[\"cor\"], 0, 88, linestyles = obs_linestyles, color = \"k\", zorder = 1) ## ADD LEGEND\n",
    "ax1.legend(obs_legend_lines, obs_cor[\"label\"], bbox_to_anchor = (0.9, 0.12), ncol = 6, frameon = False, fontsize=12)\n",
    "\n",
    "ax1.add_artist(leg1)\n",
    "ax1.add_artist(leg2)\n",
    "\n",
    "#fig.savefig(\"./figure13_top.png\", bbox_inches = \"tight\")"
   ]
  },
  {
   "cell_type": "markdown",
   "metadata": {},
   "source": [
    "## middle panel (b-e)"
   ]
  },
  {
   "cell_type": "markdown",
   "metadata": {},
   "source": [
    "#### reading data and calculations"
   ]
  },
  {
   "cell_type": "code",
   "execution_count": 50,
   "metadata": {},
   "outputs": [],
   "source": [
    "## Group models by high/low correlation: r(Nino3.4, CA precip)\n",
    "\n",
    "high_thr = 0.3 # threshold for high correlation\n",
    "low_thr = 0.2 # threshold for low correlation\n",
    "\n",
    "highr_models_fut5 = ca_cor5[\"Model\"].values[ca_cor5[\"cor_nino_calp_f\"].values > high_thr]\n",
    "lowr_models_fut5 = ca_cor5[\"Model\"].values[ca_cor5[\"cor_nino_calp_f\"].values < low_thr]\n",
    "highr_models_past5 = ca_cor5[\"Model\"].values[ca_cor5[\"cor_nino_calp_p\"].values > high_thr]\n",
    "lowr_models_past5 = ca_cor5[\"Model\"].values[ca_cor5[\"cor_nino_calp_p\"].values < low_thr]\n",
    "\n",
    "highr_models_fut6 = ca_cor6[\"Model\"].values[ca_cor6[\"cor_nino_calp_f\"].values > high_thr]\n",
    "lowr_models_fut6 = ca_cor6[\"Model\"].values[ca_cor6[\"cor_nino_calp_f\"].values < low_thr]\n",
    "highr_models_past6 = ca_cor6[\"Model\"].values[ca_cor6[\"cor_nino_calp_p\"].values > high_thr]\n",
    "lowr_models_past6 = ca_cor6[\"Model\"].values[ca_cor6[\"cor_nino_calp_p\"].values < low_thr]\n"
   ]
  },
  {
   "cell_type": "code",
   "execution_count": 51,
   "metadata": {},
   "outputs": [],
   "source": [
    "## read in data: future precip trends (gridded)\n",
    "lats = np.arange(10, 80)\n",
    "lons = np.arange(190, 310)\n",
    "\n",
    "ptrend5 = xr.open_dataset(calp_path+\"CMIP5calpmaptrends.nc\").sel(lat = lats, lon = lons)\n",
    "ptrend6 = xr.open_dataset(calp_path+\"CMIP6calpmaptrends.nc\").sel(lat = lats, lon = lons)"
   ]
  },
  {
   "cell_type": "code",
   "execution_count": 78,
   "metadata": {},
   "outputs": [
    {
     "name": "stdout",
     "output_type": "stream",
     "text": [
      "<xarray.Dataset>\n",
      "Dimensions:            (Model: 37, lat: 70, lon: 120)\n",
      "Coordinates:\n",
      "  * Model              (Model) object 'ACCESS1-0' 'ACCESS1-3' ... 'NorESM1-ME'\n",
      "  * lat                (lat) float64 10.0 11.0 12.0 13.0 ... 76.0 77.0 78.0 79.0\n",
      "  * lon                (lon) float64 190.0 191.0 192.0 ... 307.0 308.0 309.0\n",
      "Data variables:\n",
      "    prtrend_2006_2099  (Model, lat, lon) float64 ...\n"
     ]
    }
   ],
   "source": [
    "print(ptrend5)"
   ]
  },
  {
   "cell_type": "code",
   "execution_count": 52,
   "metadata": {},
   "outputs": [
    {
     "name": "stdout",
     "output_type": "stream",
     "text": [
      "masking California\n"
     ]
    }
   ],
   "source": [
    "# california outline\n",
    "maskcoords = ptrend5['prtrend_2006_2099'].isel(Model=0).sel(lat=lats, lon=lons)\n",
    "shpdir=\"/project/cas/islas/python/ecpaper2020/shapefiles/USA/\"\n",
    "shpfile_USA = shpdir+\"gadm36_USA_1.shp\"\n",
    "maskcal = shp.maskgen(shpfile_USA, maskcoords, ['California'])\n",
    "maskcal = np.nan_to_num(maskcal)"
   ]
  },
  {
   "cell_type": "markdown",
   "metadata": {},
   "source": [
    "#### set up figure"
   ]
  },
  {
   "cell_type": "code",
   "execution_count": 53,
   "metadata": {},
   "outputs": [],
   "source": [
    "ptrend_col = figutils.combine_cmaps(n = 18, white = 4, neg = \"YlOrBr\", pos = \"GnBu\", start = 0.2)\n",
    "ptrend_breaks = np.arange(-1, 1.05, 0.05)"
   ]
  },
  {
   "cell_type": "code",
   "execution_count": 54,
   "metadata": {},
   "outputs": [],
   "source": [
    "def format_map(ax):\n",
    "    ax.set_aspect('auto')\n",
    "    ax.set_extent([-170, -50, 10, 80], crs = ccrs.PlateCarree())\n",
    "    ax.add_feature(cfeature.COASTLINE)\n",
    "\n",
    "    ax.set_xticks([-160, -130, -100, -70], crs=ccrs.PlateCarree())\n",
    "    ax.set_yticks([20, 40, 60, 80], crs=ccrs.PlateCarree())\n",
    "    \n",
    "    ax.xaxis.set_major_formatter(LongitudeFormatter(zero_direction_label=True, \n",
    "                                                   degree_symbol=''))\n",
    "    ax.yaxis.set_major_formatter(LatitudeFormatter(degree_symbol=''))\n",
    "   # samplesize2 = a2[dim"
   ]
  },
  {
   "cell_type": "markdown",
   "metadata": {},
   "source": [
    "significance of differences between high and low models"
   ]
  },
  {
   "cell_type": "code",
   "execution_count": 67,
   "metadata": {},
   "outputs": [
    {
     "name": "stdout",
     "output_type": "stream",
     "text": [
      "<xarray.Dataset>\n",
      "Dimensions:            (Model: 37, lat: 70, lon: 120)\n",
      "Coordinates:\n",
      "  * Model              (Model) object 'ACCESS1-0' 'ACCESS1-3' ... 'NorESM1-ME'\n",
      "  * lat                (lat) float64 10.0 11.0 12.0 13.0 ... 76.0 77.0 78.0 79.0\n",
      "  * lon                (lon) float64 190.0 191.0 192.0 ... 307.0 308.0 309.0\n",
      "Data variables:\n",
      "    prtrend_2006_2099  (Model, lat, lon) float64 ...\n"
     ]
    }
   ],
   "source": [
    "print(ptrend5)"
   ]
  },
  {
   "cell_type": "code",
   "execution_count": 55,
   "metadata": {},
   "outputs": [],
   "source": [
    "signif_f_5 = boot.boot_2means_signif(ptrend5['prtrend_2006_2099'].sel(Model = highr_models_fut5), ptrend5['prtrend_2006_2099'].sel(Model = lowr_models_fut5), 95, \n",
    "                                    dim='Model', nboots=100)\n",
    "\n",
    "signif_f_6 = boot.boot_2means_signif(ptrend6['prtrend_2006_2099'].sel(Model = highr_models_fut6), ptrend6['prtrend_2006_2099'].sel(Model = lowr_models_fut6), 95, \n",
    "                                    dim='Model', nboots=100)\n",
    "\n",
    "signif_p_5 = boot.boot_2means_signif(ptrend5['prtrend_2006_2099'].sel(Model = highr_models_past5), ptrend5['prtrend_2006_2099'].sel(Model = lowr_models_past5), 95, \n",
    "                                    dim='Model', nboots=100)\n",
    "\n",
    "signif_p_6 = boot.boot_2means_signif(ptrend6['prtrend_2006_2099'].sel(Model = highr_models_past6), ptrend6['prtrend_2006_2099'].sel(Model = lowr_models_past6), 95, \n",
    "                                    dim='Model', nboots=100)\n"
   ]
  },
  {
   "cell_type": "code",
   "execution_count": 56,
   "metadata": {},
   "outputs": [
    {
     "name": "stderr",
     "output_type": "stream",
     "text": [
      "/project/cas/islas/miniconda3/envs/ecpaperenv/lib/python3.6/site-packages/cartopy/mpl/geoaxes.py:1478: UserWarning: No contour levels were found within the data range.\n",
      "  result = matplotlib.axes.Axes.contour(self, *args, **kwargs)\n",
      "/project/cas/islas/miniconda3/envs/ecpaperenv/lib/python3.6/site-packages/cartopy/mpl/geoaxes.py:1478: UserWarning: No contour levels were found within the data range.\n",
      "  result = matplotlib.axes.Axes.contour(self, *args, **kwargs)\n",
      "/project/cas/islas/miniconda3/envs/ecpaperenv/lib/python3.6/site-packages/cartopy/mpl/geoaxes.py:1478: UserWarning: No contour levels were found within the data range.\n",
      "  result = matplotlib.axes.Axes.contour(self, *args, **kwargs)\n",
      "/project/cas/islas/miniconda3/envs/ecpaperenv/lib/python3.6/site-packages/cartopy/mpl/geoaxes.py:1478: UserWarning: No contour levels were found within the data range.\n",
      "  result = matplotlib.axes.Axes.contour(self, *args, **kwargs)\n"
     ]
    },
    {
     "data": {
      "text/plain": [
       "<matplotlib.colorbar.Colorbar at 0x7f6c9c138f28>"
      ]
     },
     "execution_count": 56,
     "metadata": {},
     "output_type": "execute_result"
    }
   ],
   "source": [
    "plt.rcParams['hatch.color'] = 'gray'\n",
    "\n",
    "# panel b\n",
    "ax2 = fig.add_axes(np.array([0.05,0.31,0.2,0.27]), projection=ccrs.PlateCarree())\n",
    "cf = ax2.contourf(lons - 360, lats, # for some reason converting lons to -180-180 instead of 0-360 was necessary to plot correctly\n",
    "            (ptrend5.sel(Model = highr_models_fut5).mean(dim = \"Model\") - \n",
    "              ptrend5.sel(Model = lowr_models_fut5).mean(dim = \"Model\"))[\"prtrend_2006_2099\"], \n",
    "            cmap = ptrend_col, levels = ptrend_breaks, transform = ccrs.PlateCarree())\n",
    "cf2 = ax2.contourf(lons-360, lats, signif_f_5, levels=[0,0.5,1], hatches=[\"\",\"..\"], alpha=0, transform=ccrs.PlateCarree())\n",
    "cf3 = ax2.contour(lons-360, lats, np.array(maskcal), levels=[0,1], colors='red')\n",
    "ax2.set_title(\"(b) CMIP5, 2006-2099\", fontsize=16)\n",
    "format_map(ax2)\n",
    "\n",
    "# panel c\n",
    "ax3 = fig.add_axes(np.array([0.28, 0.31, 0.2, 0.27]), projection = ccrs.PlateCarree())\n",
    "ax3.set_title(\"(c) CMIP5, 1948-2014\", fontsize=16)\n",
    "cf = ax3.contourf(lons - 360, lats,\n",
    "            (ptrend5.sel(Model = highr_models_past5).mean(dim = \"Model\") - \n",
    "              ptrend5.sel(Model = lowr_models_past5).mean(dim = \"Model\"))[\"prtrend_2006_2099\"], \n",
    "            cmap = ptrend_col, levels = ptrend_breaks, transform = ccrs.PlateCarree())\n",
    "cf2 = ax3.contourf(lons-360, lats, signif_p_5, levels=[0,0.5,1], hatches=[\"\",\"..\"], alpha=0, transform=ccrs.PlateCarree())\n",
    "cf3 = ax3.contour(lons-360, lats, np.array(maskcal), levels=[0,1], colors='red')\n",
    "format_map(ax3)\n",
    "\n",
    "# panel d\n",
    "ax4 = fig.add_axes(np.array([0.51,0.31,0.2,0.27]), projection = ccrs.PlateCarree())\n",
    "ax4.set_title(\"(d) CMIP6, 2006-2099\", fontsize=16)\n",
    "cf = ax4.contourf(lons - 360, lats, \n",
    "            (ptrend6.sel(Model = highr_models_fut6).mean(dim = \"Model\") - \n",
    "              ptrend6.sel(Model = lowr_models_fut6).mean(dim = \"Model\"))[\"prtrend_2006_2099\"], \n",
    "            cmap = ptrend_col, levels = ptrend_breaks, transform = ccrs.PlateCarree())\n",
    "cf2 = ax4.contourf(lons-360, lats, signif_f_6, levels=[0,0.5,1], hatches=[\"\",\"..\"], alpha=0, transform=ccrs.PlateCarree())\n",
    "cf3 = ax4.contour(lons-360, lats, np.array(maskcal), levels=[0,1], colors='red')\n",
    "format_map(ax4)\n",
    "\n",
    "# panel e\n",
    "ax5 = fig.add_axes(np.array([0.74, 0.31, 0.2, 0.27]), projection = ccrs.PlateCarree())\n",
    "ax5.set_title(\"(e) CMIP6, 1948-2014\", fontsize=16)\n",
    "cf = ax5.contourf(lons - 360, lats, \n",
    "            (ptrend6.sel(Model = highr_models_past6).mean(dim = \"Model\") - \n",
    "              ptrend6.sel(Model = lowr_models_past6).mean(dim = \"Model\"))[\"prtrend_2006_2099\"], \n",
    "            cmap = ptrend_col, levels = ptrend_breaks, transform = ccrs.PlateCarree())\n",
    "cf2 = ax5.contourf(lons-360, lats, signif_p_6, levels=[0,0.5,1], hatches=[\"\",\"..\"], alpha=0, transform=ccrs.PlateCarree())\n",
    "cf3 = ax5.contour(lons-360, lats, np.array(maskcal), levels=[0,1], colors='red')\n",
    "format_map(ax5)\n",
    "\n",
    "#fig.colorbar(cf, ax = axes, location = \"bottom\", shrink = 0.7, label = \"Precip trend (mm/day/100y)\", \n",
    "#            ticks = np.arange(-0.9, 1.1, 0.2));\n",
    "\n",
    "fig.colorbar(cf, ax=[ax2, ax3, ax4, ax5], anchor=(0.5, 0.5), shrink=0.8, aspect=120, location=\"bottom\", label=\"Precip trend (mm/day/100y)\", ticks=np.arange(-0.9, 1.1, 0.2), pad=0.05)"
   ]
  },
  {
   "cell_type": "markdown",
   "metadata": {},
   "source": [
    "## bottom panel (f-i)"
   ]
  },
  {
   "cell_type": "markdown",
   "metadata": {},
   "source": [
    "#### read in error data"
   ]
  },
  {
   "cell_type": "code",
   "execution_count": 57,
   "metadata": {},
   "outputs": [],
   "source": [
    "error5 = xr.open_dataset(\"../ERRORCALC/CALP/DATA/errors_cmip5.nc\")\n",
    "error6 = xr.open_dataset(\"../ERRORCALC/CALP/DATA/errors_cmip6.nc\")"
   ]
  },
  {
   "cell_type": "code",
   "execution_count": 58,
   "metadata": {},
   "outputs": [],
   "source": [
    "cmip_ds = [ca_cor5, ca_cor6]\n",
    "cmip_names = [\"CMIP5\", \"CMIP6\"]\n",
    "time_periods = [\"2006-2099\", \"1948-2014\"]\n",
    "cor_vars = [\"cor_nino_calp_f\", \"cor_nino_calp_p\"]\n",
    "cmip_error_ds = [error5, error6]\n",
    "xerr_vars = [\"sigx_f\", \"sigx_p\"]\n",
    "r_vars = [\"rxy_f\", \"rxy_p\"]"
   ]
  },
  {
   "cell_type": "markdown",
   "metadata": {},
   "source": [
    "#### regression calculations"
   ]
  },
  {
   "cell_type": "code",
   "execution_count": 59,
   "metadata": {},
   "outputs": [],
   "source": [
    "## calculate regressions\n",
    "calp_regs = pd.DataFrame()\n",
    "\n",
    "for i, cmip in enumerate(cmip_names):\n",
    "    for j, period in enumerate(time_periods):\n",
    "        df = pd.DataFrame({\"cmip\":[cmip], \"time_period\": [period]}) \n",
    "       \n",
    "        df[[\"ols_int\", \"ols_slope\"]] = linfit.linfit_xy(cmip_ds[i][cor_vars[j]].values, cmip_ds[i][\"prtrend_cal\"].values, \n",
    "                                                        cmip_error_ds[i][\"sigy\"])\n",
    "        \n",
    "        df[[\"tls_int\", \"tls_slope\"]] = linfit.tls(cmip_ds[i][cor_vars[j]].values, \n",
    "                                                  cmip_ds[i][\"prtrend_cal\"].values, \n",
    "                                                  cmip_error_ds[i][xerr_vars[j]], \n",
    "                                                  cmip_error_ds[i][\"sigy\"])\n",
    "        bhm_result = linfit.bhm(cmip_ds[i][cor_vars[j]].values, cmip_ds[i][\"prtrend_cal\"].values, \n",
    "                                            cmip_error_ds[i][xerr_vars[j]], cmip_error_ds[i][\"sigy\"],\n",
    "                                            cmip_error_ds[i][r_vars[j]], iseed=3)\n",
    "        df[[\"bhm_int\", \"bhm_slope\"]] = [bhm_result[0].mean(), bhm_result[1].mean()]\n",
    "        \n",
    "        calp_regs = calp_regs.append(df)"
   ]
  },
  {
   "cell_type": "code",
   "execution_count": 25,
   "metadata": {},
   "outputs": [
    {
     "data": {
      "text/html": [
       "<div>\n",
       "<style scoped>\n",
       "    .dataframe tbody tr th:only-of-type {\n",
       "        vertical-align: middle;\n",
       "    }\n",
       "\n",
       "    .dataframe tbody tr th {\n",
       "        vertical-align: top;\n",
       "    }\n",
       "\n",
       "    .dataframe thead th {\n",
       "        text-align: right;\n",
       "    }\n",
       "</style>\n",
       "<table border=\"1\" class=\"dataframe\">\n",
       "  <thead>\n",
       "    <tr style=\"text-align: right;\">\n",
       "      <th></th>\n",
       "      <th>cmip</th>\n",
       "      <th>time_period</th>\n",
       "      <th>ols_int</th>\n",
       "      <th>ols_slope</th>\n",
       "      <th>tls_int</th>\n",
       "      <th>tls_slope</th>\n",
       "      <th>bhm_int</th>\n",
       "      <th>bhm_slope</th>\n",
       "    </tr>\n",
       "  </thead>\n",
       "  <tbody>\n",
       "    <tr>\n",
       "      <th>0</th>\n",
       "      <td>CMIP5</td>\n",
       "      <td>2006-2099</td>\n",
       "      <td>0.338661</td>\n",
       "      <td>0.893312</td>\n",
       "      <td>0.102791</td>\n",
       "      <td>1.748253</td>\n",
       "      <td>0.148418</td>\n",
       "      <td>1.086485</td>\n",
       "    </tr>\n",
       "    <tr>\n",
       "      <th>0</th>\n",
       "      <td>CMIP5</td>\n",
       "      <td>1948-2014</td>\n",
       "      <td>0.451351</td>\n",
       "      <td>0.589251</td>\n",
       "      <td>0.006991</td>\n",
       "      <td>2.538407</td>\n",
       "      <td>0.194583</td>\n",
       "      <td>1.082496</td>\n",
       "    </tr>\n",
       "    <tr>\n",
       "      <th>0</th>\n",
       "      <td>CMIP6</td>\n",
       "      <td>2006-2099</td>\n",
       "      <td>0.178303</td>\n",
       "      <td>1.152458</td>\n",
       "      <td>-0.183063</td>\n",
       "      <td>2.575876</td>\n",
       "      <td>0.186926</td>\n",
       "      <td>1.832578</td>\n",
       "    </tr>\n",
       "    <tr>\n",
       "      <th>0</th>\n",
       "      <td>CMIP6</td>\n",
       "      <td>1948-2014</td>\n",
       "      <td>0.349877</td>\n",
       "      <td>0.619130</td>\n",
       "      <td>0.125524</td>\n",
       "      <td>1.759393</td>\n",
       "      <td>0.528625</td>\n",
       "      <td>0.635969</td>\n",
       "    </tr>\n",
       "  </tbody>\n",
       "</table>\n",
       "</div>"
      ],
      "text/plain": [
       "    cmip time_period   ols_int  ols_slope   tls_int  tls_slope   bhm_int  \\\n",
       "0  CMIP5   2006-2099  0.338661   0.893312  0.102791   1.748253  0.148418   \n",
       "0  CMIP5   1948-2014  0.451351   0.589251  0.006991   2.538407  0.194583   \n",
       "0  CMIP6   2006-2099  0.178303   1.152458 -0.183063   2.575876  0.186926   \n",
       "0  CMIP6   1948-2014  0.349877   0.619130  0.125524   1.759393  0.528625   \n",
       "\n",
       "   bhm_slope  \n",
       "0   1.086485  \n",
       "0   1.082496  \n",
       "0   1.832578  \n",
       "0   0.635969  "
      ]
     },
     "execution_count": 25,
     "metadata": {},
     "output_type": "execute_result"
    }
   ],
   "source": [
    "calp_regs"
   ]
  },
  {
   "cell_type": "markdown",
   "metadata": {},
   "source": [
    "#### set up figure"
   ]
  },
  {
   "cell_type": "code",
   "execution_count": 60,
   "metadata": {},
   "outputs": [],
   "source": [
    "letters = [\"(f) \", \"(g) \", \"(h) \", \"(i) \"]\n",
    "ymin = -1.5\n",
    "ymax = 3.1\n",
    "xmin = -0.5\n",
    "xmax = 1\n",
    "\n",
    "#fig, axes = plt.subplots(nrows = 1, ncols = 4, figsize = (12, 3), \n",
    "#                         constrained_layout = True)\n",
    "\n",
    "axleft=[0.05,0.28,0.51,0.74]\n",
    "ylabel=[\"CA pr trend (mm/day/100y)\", \" \", \" \", \" \"]\n",
    "\n",
    "for i, cmip in enumerate(cmip_names):\n",
    "    for j, period in enumerate(time_periods):\n",
    "        k = i*2+j\n",
    "        ax = fig.add_axes(np.array([axleft[k], 0.0, 0.2, 0.24 ]))\n",
    "        #ax = axes[k]\n",
    "        #ax.settitle = letters[k]+cmip+\", \"+period, ylabel = \"CA pr trend (mm/day/100y)\", xlabel = \"r(Nino3.4, Cal pr)\", \n",
    "        #xlim = (xmin, xmax), ylim = (ymin, ymax), xticks = np.arange(-.4, 1.2, .2), yticks = np.arange(-1, 4))\n",
    "        ax.set_xlabel(\"r(Nino3.4, Cal pr)\", fontsize=14)\n",
    "        ax.set_title(letters[k]+cmip+\", \"+period, fontsize=16)\n",
    "        ax.set_ylabel(ylabel[k], fontsize=14)\n",
    "        ax.set( xlim = (xmin, xmax), ylim = (ymin, ymax), xticks = np.arange(-.4, 1.2, .2), yticks = np.arange(-1, 4)) \n",
    "        #ax.set_xticklabels(['', fontsize=14)\n",
    "        #ax.set_yticks(np.arange(-1, 4), fontsize=14)\n",
    "        ax.vlines(obs_cor[\"cor\"], ymin, ymax, linestyles = obs_linestyles, color = \"k\", zorder = 0)\n",
    "        \n",
    "        ## add points and error bars\n",
    "        ax.scatter(cmip_ds[i][cor_vars[j]], cmip_ds[i][\"prtrend_cal\"], color = figutils.cmip_col[i], \n",
    "                   edgecolor = \"k\", s = 50, zorder = 20)\n",
    "        ax.errorbar(cmip_ds[i][cor_vars[j]], \n",
    "                    cmip_ds[i][\"prtrend_cal\"], \n",
    "                    xerr = cmip_error_ds[i][xerr_vars[j]]*1.96, \n",
    "                    yerr = cmip_error_ds[i][\"sigy\"]*1.96, color = \"lightgrey\", zorder = 10, \n",
    "                    linestyle = \"None\"\n",
    "        )\n",
    "        ## add regression lines\n",
    "        ax.plot(np.arange(ymin, ymax+0.5, 0.5), \n",
    "                np.arange(ymin, ymax+0.5, 0.5)*calp_regs.iloc[k][\"ols_slope\"] + calp_regs.iloc[k][\"ols_int\"], \n",
    "                zorder = 30, linewidth = 1.5, linestyle = \"dashed\", color = figutils.ols_col)\n",
    "        ax.plot(np.arange(ymin, ymax+0.5, 0.5), \n",
    "                np.arange(ymin, ymax+0.5, 0.5)*calp_regs.iloc[k][\"tls_slope\"] + calp_regs.iloc[k][\"tls_int\"], \n",
    "                zorder = 30, linewidth = 1.5, linestyle = \"dashed\", color = figutils.tls_col)\n",
    "        ax.plot(np.arange(ymin, ymax+0.5, 0.5), \n",
    "                np.arange(ymin, ymax+0.5, 0.5)*calp_regs.iloc[k][\"bhm_slope\"] + calp_regs.iloc[k][\"bhm_int\"], \n",
    "                zorder = 30, linewidth = 1.5, linestyle = \"dashed\", color = figutils.bhm_col)\n",
    "\n",
    "        # correlation coefficients and confidence interval\n",
    "        r = np.corrcoef(cmip_ds[i][cor_vars[j]].values, cmip_ds[i][\"prtrend_cal\"].values)[0,1]\n",
    "        min95, max95 = boot.boot_corr_ci(cmip_ds[i][cor_vars[j]], cmip_ds[i][\"prtrend_cal\"], 95)        \n",
    "    \n",
    "        if (min95 > 0) or (max95 < 0):\n",
    "            signifstr=\"*\"\n",
    "        else:\n",
    "            signifstr=\"\"\n",
    "        ax.text(-0.42, 2.6, \"r=\"+str(np.round(r, 2))+signifstr)\n",
    "        ax.text(-0.42, 2.3, \"(\"+str(np.round(min95, 2))+\",\"+str(np.round(max95, 2))+\")\", zorder=100)\n",
    "        \n",
    "        #ax.text(0.03, 0.86, \"r=\"+str(np.round(np.corrcoef(cmip_ds[i][cor_vars[j]].values, cmip_ds[i][\"prtrend_cal\"].values)[0,1], 2)), \n",
    "        #       transform = ax.transAxes, size = 10)\n",
    "        \n",
    "#fig.savefig(\"./figure13_bottom.png\", bbox_inches = \"tight\")"
   ]
  },
  {
   "cell_type": "code",
   "execution_count": 125,
   "metadata": {},
   "outputs": [
    {
     "name": "stdout",
     "output_type": "stream",
     "text": [
      "-0.22\n"
     ]
    }
   ],
   "source": [
    "print(str(np.round(min95, 2)))"
   ]
  },
  {
   "cell_type": "code",
   "execution_count": 61,
   "metadata": {},
   "outputs": [],
   "source": [
    "fig.patch.set_facecolor('white')\n",
    "fig\n",
    "fig.savefig(\"fig13.png\", facecolor=\"white\", bbox_inches=\"tight\")"
   ]
  },
  {
   "cell_type": "code",
   "execution_count": null,
   "metadata": {},
   "outputs": [],
   "source": []
  }
 ],
 "metadata": {
  "kernelspec": {
   "display_name": "Python [conda env:ecpaperenv]",
   "language": "python",
   "name": "conda-env-ecpaperenv-py"
  },
  "language_info": {
   "codemirror_mode": {
    "name": "ipython",
    "version": 3
   },
   "file_extension": ".py",
   "mimetype": "text/x-python",
   "name": "python",
   "nbconvert_exporter": "python",
   "pygments_lexer": "ipython3",
   "version": "3.6.11"
  }
 },
 "nbformat": 4,
 "nbformat_minor": 4
}
