{
 "cells": [
  {
   "cell_type": "markdown",
   "metadata": {},
   "source": [
    "Error calcs for a single member for VWIND"
   ]
  },
  {
   "cell_type": "code",
   "execution_count": 1,
   "metadata": {},
   "outputs": [],
   "source": [
    "import importlib\n",
    "import pandas as pd\n",
    "import xarray as xr\n",
    "import numpy as np\n",
    "import sys\n",
    "import warnings\n",
    "from scipy import signal \n",
    "import glob as glob\n",
    "\n",
    "from ecpaper_utils import bootstrap_utils as boot\n",
    "from ecpaper_utils import filter_utils as filt\n",
    "from ecpaper_utils import averaging_utils as avg\n",
    "\n",
    "importlib.reload(boot)\n",
    "importlib.reload(avg)\n",
    "\n",
    "warnings.filterwarnings('ignore')"
   ]
  },
  {
   "cell_type": "code",
   "execution_count": 2,
   "metadata": {},
   "outputs": [],
   "source": [
    "vwind_path=\"/project/cas/islas/python/ecpaper2020/DATASORT/VWIND/DATA/\""
   ]
  },
  {
   "cell_type": "code",
   "execution_count": 4,
   "metadata": {},
   "outputs": [
    {
     "name": "stdout",
     "output_type": "stream",
     "text": [
      "CanESM2\n",
      "CESM1-CAM5\n",
      "CSIRO-Mk3-6-0\n",
      "GFDL-CM3\n",
      "MPI-ESM\n"
     ]
    }
   ],
   "source": [
    "#le_models = [x.split(\"_\")[1].split(\".\")[0] for x in sorted(glob.glob(vwind_path+\"/v300*.nc\"))] ## parse files to get model names ###doesn't work now we have v300 for the obs\n",
    "le_models = ['CanESM2','CESM1-CAM5','CSIRO-Mk3-6-0','GFDL-CM3','MPI-ESM']\n",
    "le_dat = []\n",
    "\n",
    "for le in le_models:\n",
    "    print(le)\n",
    "    ## vwind\n",
    "    ds = xr.open_dataset(vwind_path+\"v300_\"+le+\".nc\")\n",
    "    ## precip\n",
    "    dsp = xr.open_dataset(vwind_path+\"pr_\"+le+\".nc\").rename({\"Member\": \"member\"})\n",
    "    ## u100\n",
    "    dsu = xr.open_dataset(vwind_path+\"u100_\"+le+\".nc\")\n",
    "    ds = xr.merge([ds, dsp, dsu]).assign_coords({\"Model\": le})\n",
    "    le_dat.append(ds)"
   ]
  },
  {
   "cell_type": "code",
   "execution_count": 11,
   "metadata": {},
   "outputs": [
    {
     "name": "stdout",
     "output_type": "stream",
     "text": [
      "<xarray.Dataset>\n",
      "Dimensions:    (lat: 181, lon: 360, member: 100)\n",
      "Coordinates:\n",
      "  * member     (member) int64 0 1 2 3 4 5 6 7 8 9 ... 91 92 93 94 95 96 97 98 99\n",
      "  * lat        (lat) float64 -90.0 -89.0 -88.0 -87.0 ... 87.0 88.0 89.0 90.0\n",
      "  * lon        (lon) float64 0.0 1.0 2.0 3.0 4.0 ... 356.0 357.0 358.0 359.0\n",
      "    Model      <U7 'MPI-ESM'\n",
      "Data variables:\n",
      "    vpast_djf  (member, lat, lon) float64 -0.03625 -0.03625 ... 0.006762\n",
      "    vfut_djf   (member, lat, lon) float64 -0.04518 -0.04518 ... 0.01946 0.01946\n",
      "    prp_west   (member) float64 4.638 4.773 5.127 4.751 ... 4.782 5.033 4.912\n",
      "    prf_west   (member) float64 4.75 4.48 4.52 4.811 ... 4.788 4.453 4.715 4.663\n",
      "    prp_south  (member) float64 2.077 2.084 2.079 1.948 ... 2.045 1.897 2.063\n",
      "    prf_south  (member) float64 1.745 2.017 1.982 1.946 ... 1.914 1.875 2.003\n",
      "    prp_mex    (member) float64 1.529 1.391 1.384 1.285 ... 1.508 1.392 1.298\n",
      "    prf_mex    (member) float64 0.9337 1.102 1.066 0.9528 ... 1.03 0.9757 0.9605\n",
      "    upast_djf  (member, lat) float64 nan nan 0.5366 0.8361 ... 0.9221 nan nan\n",
      "    ufut_djf   (member, lat) float64 nan nan 0.5285 0.8291 ... 0.7557 nan nan\n"
     ]
    }
   ],
   "source": [
    "print(ds)"
   ]
  },
  {
   "cell_type": "code",
   "execution_count": 7,
   "metadata": {},
   "outputs": [
    {
     "ename": "TypeError",
     "evalue": "can only concatenate xarray Dataset and DataArray objects, got <class 'str'>",
     "output_type": "error",
     "traceback": [
      "\u001b[0;31m---------------------------------------------------------------------------\u001b[0m",
      "\u001b[0;31mTypeError\u001b[0m                                 Traceback (most recent call last)",
      "\u001b[0;32m<ipython-input-7-2dce5b0d0402>\u001b[0m in \u001b[0;36m<module>\u001b[0;34m\u001b[0m\n\u001b[0;32m----> 1\u001b[0;31m \u001b[0mle_dat\u001b[0m \u001b[0;34m=\u001b[0m \u001b[0mxr\u001b[0m\u001b[0;34m.\u001b[0m\u001b[0mconcat\u001b[0m\u001b[0;34m(\u001b[0m\u001b[0mle_dat\u001b[0m\u001b[0;34m,\u001b[0m \u001b[0mdim\u001b[0m \u001b[0;34m=\u001b[0m \u001b[0;34m\"Model\"\u001b[0m\u001b[0;34m)\u001b[0m\u001b[0;34m\u001b[0m\u001b[0;34m\u001b[0m\u001b[0m\n\u001b[0m",
      "\u001b[0;32m/project/cas/islas/miniconda3/envs/ecpaperenv/lib/python3.6/site-packages/xarray/core/concat.py\u001b[0m in \u001b[0;36mconcat\u001b[0;34m(objs, dim, data_vars, coords, compat, positions, fill_value, join, combine_attrs)\u001b[0m\n\u001b[1;32m    187\u001b[0m         raise TypeError(\n\u001b[1;32m    188\u001b[0m             \u001b[0;34m\"can only concatenate xarray Dataset and DataArray \"\u001b[0m\u001b[0;34m\u001b[0m\u001b[0;34m\u001b[0m\u001b[0m\n\u001b[0;32m--> 189\u001b[0;31m             \u001b[0;34m\"objects, got %s\"\u001b[0m \u001b[0;34m%\u001b[0m \u001b[0mtype\u001b[0m\u001b[0;34m(\u001b[0m\u001b[0mfirst_obj\u001b[0m\u001b[0;34m)\u001b[0m\u001b[0;34m\u001b[0m\u001b[0;34m\u001b[0m\u001b[0m\n\u001b[0m\u001b[1;32m    190\u001b[0m         )\n\u001b[1;32m    191\u001b[0m     return f(\n",
      "\u001b[0;31mTypeError\u001b[0m: can only concatenate xarray Dataset and DataArray objects, got <class 'str'>"
     ]
    }
   ],
   "source": [
    "#le_dat = xr.concat(le_dat, dim = \"Model\")"
   ]
  },
  {
   "cell_type": "markdown",
   "metadata": {},
   "source": [
    "Calculate the ensemble mean values for each LE"
   ]
  },
  {
   "cell_type": "code",
   "execution_count": 9,
   "metadata": {},
   "outputs": [
    {
     "name": "stdout",
     "output_type": "stream",
     "text": [
      "CanESM2\n",
      "CESM1-CAM5\n",
      "CSIRO-Mk3-6-0\n",
      "GFDL-CM3\n",
      "MPI-ESM\n"
     ]
    }
   ],
   "source": [
    "le_vdiff = []\n",
    "le_vamp = []\n",
    "le_pdiff_west = []\n",
    "le_pdiff_south = []\n",
    "le_pdiff_mex = []\n",
    "le_udiff = []\n",
    "\n",
    "for le in le_models: \n",
    "    print(le)\n",
    "    ds = le_dat.sel(Model = le).dropna(dim = \"member\", how = \"all\").mean(dim = \"member\")\n",
    "    vpast_eddy = ds[\"vpast_djf\"] - ds[\"vpast_djf\"].mean(\"lon\")\n",
    "    vfut_eddy = ds[\"vfut_djf\"] - ds[\"vfut_djf\"].mean(\"lon\")\n",
    "    vpastsw = avg.cosweightlonlat(vpast_eddy, 250, 265, 25, 37)\n",
    "    vfutsw = avg.cosweightlonlat(vfut_eddy, 250, 265, 25, 37)   \n",
    "    le_vdiff.append((vfutsw - vpastsw).values)\n",
    "    \n",
    "    # stationary wave ampltiude index\n",
    "    vpast_k4to32 = filt.filterk(ds[\"vpast_djf\"], 4, 32)\n",
    "    vpast_amp = np.sqrt(avg.cosweightlonlat(vpast_k4to32**2, 200., 300., 20., 40.))\n",
    "    le_vamp.append(vpast_amp.values)\n",
    "        \n",
    "    ## change in precipitation\n",
    "    le_pdiff_west.append((ds[\"prf_west\"] - ds[\"prp_west\"]).values)\n",
    "    le_pdiff_south.append((ds[\"prf_south\"] - ds[\"prp_south\"]).values)\n",
    "    le_pdiff_mex.append((ds[\"prf_mex\"] - ds[\"prp_mex\"]).values)\n",
    "    \n",
    "    ## change in u100\n",
    "    up = avg.cosweightlat(ds[\"upast_djf\"],20,40)\n",
    "    uf = avg.cosweightlat(ds[\"ufut_djf\"],20, 40)\n",
    "    le_udiff.append((uf - up).values)"
   ]
  },
  {
   "cell_type": "markdown",
   "metadata": {},
   "source": [
    "Calculate errors for a single member."
   ]
  },
  {
   "cell_type": "code",
   "execution_count": 10,
   "metadata": {},
   "outputs": [],
   "source": [
    "nboots=1000\n",
    "nmemp=1\n",
    "nmemf=1\n",
    "\n",
    "boots_vdiff = []\n",
    "boots_udiff = []\n",
    "boots_vamp = []\n",
    "boots_pdiff_west = []\n",
    "boots_pdiff_south = []\n",
    "boots_pdiff_mex = []\n",
    "\n",
    "for j, le in enumerate(le_models):\n",
    "        \n",
    "    ds = le_dat.sel(Model = le).dropna(dim = \"member\", how = \"all\")\n",
    "        \n",
    "    ## bootstrapped V300\n",
    "    vpast = boot.bootgen_multimem(ds[\"vpast_djf\"], nmemp, seed=3, nboots = nboots)\n",
    "    vfut = boot.bootgen_multimem(ds[\"vfut_djf\"], nmemf, seed=3, nboots = nboots)\n",
    "        \n",
    "    vpast_eddy = vpast - vpast.mean(\"lon\")\n",
    "    vfut_eddy = vfut - vfut.mean(\"lon\")\n",
    "    vpastsw = avg.cosweightlonlat(vpast_eddy, 250, 265, 25, 37)\n",
    "    vfutsw = avg.cosweightlonlat(vfut_eddy, 250, 265, 25, 37)\n",
    "        \n",
    "    ## change in v300 SW\n",
    "    boots_vdiff.append((vfutsw - vpastsw).values - le_vdiff[j])\n",
    "        \n",
    "    # stationary wave ampltiude index\n",
    "    vpast_k4to32 = filt.filterk(vpast, 4, 32)\n",
    "    vpast_amp = np.sqrt(avg.cosweightlonlat(vpast_k4to32**2, 200., 300., 20., 40.))\n",
    "        \n",
    "    boots_vamp.append(vpast_amp.values - le_vamp[j])\n",
    "        \n",
    "    ## u100 difference\n",
    "    upast = boot.bootgen_multimem(ds[\"upast_djf\"], nmemp, seed = 3, nboots = nboots)\n",
    "    upast = avg.cosweightlat(upast,20,40)\n",
    "    ufut = boot.bootgen_multimem(ds[\"ufut_djf\"], nmemf, seed = 3, nboots = nboots)\n",
    "    ufut = avg.cosweightlat(ufut,20, 40)\n",
    "    boots_udiff.append(ufut.values - upast.values - le_udiff[j])\n",
    "        \n",
    "    ## calculate precip changes for three regions\n",
    "    prp = boot.bootgen_multimem(ds[\"prp_west\"], nmemp, seed = 3, nboots = nboots)\n",
    "    prf = boot.bootgen_multimem(ds[\"prf_west\"], nmemf, seed = 3, nboots = nboots)\n",
    "    boots_pdiff_west.append(prf.values - prp.values - le_pdiff_west[j])\n",
    "        \n",
    "    prp = boot.bootgen_multimem(ds[\"prp_south\"], nmemp, seed = 3, nboots = nboots)\n",
    "    prf = boot.bootgen_multimem(ds[\"prf_south\"], nmemf, seed = 3, nboots = nboots)\n",
    "    boots_pdiff_south.append(prf.values - prp.values - le_pdiff_south[j])\n",
    "        \n",
    "    prp = boot.bootgen_multimem(ds[\"prp_mex\"], nmemp, seed = 3, nboots = nboots)\n",
    "    prf = boot.bootgen_multimem(ds[\"prf_mex\"], nmemf, seed = 3, nboots = nboots)\n",
    "    boots_pdiff_mex.append(prf.values - prp.values - le_pdiff_mex[j])\n",
    "    \n",
    "\n",
    "boots_vdiff = np.concatenate(boots_vdiff)\n",
    "boots_udiff = np.concatenate(boots_udiff)\n",
    "boots_vamp = np.concatenate(boots_vamp)\n",
    "boots_pdiff_west = np.concatenate(boots_pdiff_west)\n",
    "boots_pdiff_south = np.concatenate(boots_pdiff_south)\n",
    "boots_pdiff_mex = np.concatenate(boots_pdiff_mex)\n",
    "    \n",
    "sig_vdiff = np.std(boots_vdiff)\n",
    "sig_udiff = np.std(boots_udiff)\n",
    "sig_psi = np.std(boots_vamp)\n",
    "sig_pdiff_west = np.std(boots_pdiff_west)\n",
    "sig_pdiff_south = np.std(boots_pdiff_south)\n",
    "sig_pdiff_mex = np.std(boots_pdiff_mex)\n",
    "    \n",
    "r_psi_vdiff = np.corrcoef(boots_vamp, boots_vdiff)[0,1]\n",
    "r_udiff_vdiff = np.corrcoef(boots_udiff, boots_vdiff)[0,1]\n",
    "r_psi_prwest = np.corrcoef(boots_vamp, boots_pdiff_west)[0,1]\n",
    "r_psi_prsouth = np.corrcoef(boots_vamp, boots_pdiff_south)[0,1]\n",
    "r_psi_prmex = np.corrcoef(boots_vamp, boots_pdiff_mex)[0,1]"
   ]
  },
  {
   "cell_type": "code",
   "execution_count": 13,
   "metadata": {},
   "outputs": [],
   "source": [
    "# 5th to 95th percentile of internal variability range using the first 20 members from each\n",
    "for j, le in enumerate(le_models):\n",
    "        \n",
    "    ds = le_dat.sel(Model = le).dropna(dim = \"member\", how = \"all\")\n",
    "    ds = ds.isel(member=slice(0,20))\n",
    "    vpast_eddy = ds['vpast_djf'] - ds['vpast_djf'].mean(\"lon\")\n",
    "    vpastsw = avg.cosweightlonlat(vpast_eddy, 250, 265, 25, 37)\n",
    "    difs = np.zeros([500])\n",
    "    difswest = np.zeros([500])\n",
    "    difssouth = np.zeros([500])\n",
    "    difsmex = np.zeros([500])\n",
    "    count=0\n",
    "    for imem in range(0,20,1):\n",
    "        indices=np.argwhere(np.arange(0,20,1) !=imem)\n",
    "        for imem2 in indices:\n",
    "        #for imem2 in range(imem+1,20,1):\n",
    "            difs[count] = vpastsw[imem2]-vpastsw[imem]\n",
    "            difswest[count] = ds['prp_west'][imem2] - ds['prp_west'][imem]\n",
    "            difssouth[count] = ds['prp_south'][imem2] - ds['prp_south'][imem]\n",
    "            difsmex[count] = ds['prp_mex'][imem2] - ds['prp_mex'][imem]\n",
    "            count=count+1\n",
    "\n",
    "    difs = difs[0:count]\n",
    "    difswest = difswest[0:count]\n",
    "    difssouth = difssouth[0:count]\n",
    "    difsmex = difsmex[0:count]\n",
    "    if (j == 0):\n",
    "        difsall = np.zeros([5*count])\n",
    "        difswestall = np.zeros([5*count])\n",
    "        difssouthall = np.zeros([5*count])\n",
    "        difsmexall = np.zeros([5*count])\n",
    "            \n",
    "    difsall[j*count:(j+1)*count]=difs[:]\n",
    "    difswestall[j*count:(j+1)*count]=difswest[:]\n",
    "    difssouthall[j*count:(j+1)*count]=difssouth[:]\n",
    "    difsmexall[j*count:(j+1)*count]=difsmex[:]\n",
    "    \n",
    "ivmin95=np.percentile(difsall,2.5)\n",
    "ivmax95=np.percentile(difsall,97.5)\n",
    "ivmin95west=np.percentile(difswestall,2.5)\n",
    "ivmax95west=np.percentile(difswestall,97.5)\n",
    "ivmin95south=np.percentile(difssouthall,2.5)\n",
    "ivmax95south=np.percentile(difssouthall,97.5)\n",
    "ivmin95mex=np.percentile(difsmexall,2.5)\n",
    "ivmax95mex=np.percentile(difsmexall,97.5)\n",
    "\n",
    "ivmin95 = xr.DataArray(ivmin95, name='ivmin95')\n",
    "ivmax95 = xr.DataArray(ivmax95, name='ivmax95')\n",
    "ivmin95west = xr.DataArray(ivmin95west, name='ivmin95')\n",
    "ivmax95west = xr.DataArray(ivmax95west, name='ivmax95')\n",
    "ivmin95south = xr.DataArray(ivmin95south, name='ivmin95')\n",
    "ivmax95south = xr.DataArray(ivmax95south, name='ivmax95')\n",
    "ivmin95mex = xr.DataArray(ivmin95mex, name='ivmin95')\n",
    "ivmax95mex = xr.DataArray(ivmax95mex, name='ivmax95')\n",
    "\n",
    "\n"
   ]
  },
  {
   "cell_type": "code",
   "execution_count": 15,
   "metadata": {},
   "outputs": [],
   "source": [
    "error_1mem = xr.Dataset({'sig_vdiff': xr.DataArray(sig_vdiff, name='sig_vdiff'), \n",
    "                        'sig_psi': xr.DataArray(sig_psi, name='sig_psi'), \n",
    "                        'sig_udiff': xr.DataArray(sig_udiff, name='sigg_udiff'),\n",
    "                        'sig_pdiff_west': xr.DataArray(sig_pdiff_west, name='sigg_pdiff_west'), \n",
    "                        'sig_pdiff_south': xr.DataArray(sig_pdiff_south, name='sig_pdiff_south'), \n",
    "                        'sig_pdiff_mex': xr.DataArray(sig_pdiff_mex, name='sig_pdiff_mex'), \n",
    "                        'r_psi_vdiff': xr.DataArray(r_psi_vdiff, name='r_psi_vdiff'), \n",
    "                         'r_udiff_vdiff': xr.DataArray(r_udiff_vdiff, name='r_udiff_vdiff'),\n",
    "                        'r_psi_prwest': xr.DataArray(r_psi_prwest, name='r_psi_prwest'), \n",
    "                        'r_psi_prsouth': xr.DataArray(r_psi_prsouth, name='r_psi_prsouth'), \n",
    "                        'r_psi_prmex': xr.DataArray(r_psi_prmex, name='r_psi_prmex'),\n",
    "                        'ivmin95': xr.DataArray(ivmin95),\n",
    "                        'ivmax95': xr.DataArray(ivmax95),\n",
    "                        'ivmin95west': xr.DataArray(ivmin95west),\n",
    "                        'ivmax95west': xr.DataArray(ivmax95west),\n",
    "                        'ivmin95south': xr.DataArray(ivmin95south),\n",
    "                        'ivmax95south': xr.DataArray(ivmax95south),\n",
    "                        'ivmin95mex': xr.DataArray(ivmin95mex),\n",
    "                        'ivmax95mex': xr.DataArray(ivmax95mex)})\n",
    "\n",
    "error_1mem.to_netcdf(\"./DATA/errors_1mem.nc\")"
   ]
  },
  {
   "cell_type": "code",
   "execution_count": null,
   "metadata": {},
   "outputs": [],
   "source": []
  }
 ],
 "metadata": {
  "kernelspec": {
   "display_name": "Python [conda env:ecpaperenv]",
   "language": "python",
   "name": "conda-env-ecpaperenv-py"
  },
  "language_info": {
   "codemirror_mode": {
    "name": "ipython",
    "version": 3
   },
   "file_extension": ".py",
   "mimetype": "text/x-python",
   "name": "python",
   "nbconvert_exporter": "python",
   "pygments_lexer": "ipython3",
   "version": "3.6.11"
  }
 },
 "nbformat": 4,
 "nbformat_minor": 4
}
