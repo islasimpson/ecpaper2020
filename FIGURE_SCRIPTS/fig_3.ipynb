{
 "cells": [
  {
   "cell_type": "code",
   "execution_count": 1,
   "metadata": {},
   "outputs": [
    {
     "data": {
      "text/plain": [
       "<module 'ecpaper_utils.linfit_utils' from '/home/islas/python/ecpaper2020/ecpaper_utils/linfit_utils.py'>"
      ]
     },
     "execution_count": 1,
     "metadata": {},
     "output_type": "execute_result"
    }
   ],
   "source": [
    "import importlib\n",
    "import xarray as xr\n",
    "import matplotlib.pyplot as plt\n",
    "import numpy as np\n",
    "\n",
    "from ecpaper_utils import linfit_utils as linfit\n",
    "\n",
    "importlib.reload(linfit)"
   ]
  },
  {
   "cell_type": "code",
   "execution_count": 2,
   "metadata": {},
   "outputs": [],
   "source": [
    "cmip5jlats = \"/project/cas/islas/python/ecpaper2020/DATASORT/SHJET/DATA/jlatcmip5.nc\"\n",
    "cmip5errors = \"../ERRORCALC/JLAT/DATA/errors_cmip5.nc\"\n",
    "errors1mem = \"../ERRORCALC/JLAT/DATA/errors_1mem.nc\""
   ]
  },
  {
   "cell_type": "code",
   "execution_count": 3,
   "metadata": {},
   "outputs": [],
   "source": [
    "jlat5 = xr.open_dataset(cmip5jlats)\n",
    "error5 = xr.open_dataset(cmip5errors)\n",
    "error1mem = xr.open_dataset(errors1mem)"
   ]
  },
  {
   "cell_type": "code",
   "execution_count": 6,
   "metadata": {},
   "outputs": [],
   "source": [
    "#!!!!!! STILL TO DO - the parts involving global mean T\n",
    "\n",
    "jlatp5 = jlat5['jlat1memp'] ; jlatf5 = jlat5['jlat1memf'] ; jlatdif5 = jlatf5 - jlatp5\n",
    "sigx5 = error5['sigx'] ; sigy5 = error5['sigy'] ; rxy = error5['rxy']\n",
    "\n",
    "# ols regression\n",
    "aols5, bols5 = linfit.linfit_xy(jlatp5, jlatdif5, sigma=sigy5)\n",
    "jlatdif_ec = aols5 + bols5*jlatp5[:]\n",
    "res = jlatdif5[:] - jlatdif_ec[:]\n",
    "\n",
    "var5 = np.var(jlatdif5)\n",
    "varres5_ols = np.var(res)\n",
    "var5ec_ols = var5 - varres5_ols\n",
    "variv5_ols = (bols5**2. * error1mem['sigx_1mem']**2.) + error1mem['sigy_1mem']**2.\n",
    "vardelta5_ols = var5 - (var5ec_ols + variv5_ols)\n",
    "\n"
   ]
  },
  {
   "cell_type": "code",
   "execution_count": 14,
   "metadata": {},
   "outputs": [
    {
     "data": {
      "image/png": "[encoded data removed]",
      "text/plain": [
       "<Figure size 576x1728 with 1 Axes>"
      ]
     },
     "metadata": {
      "needs_background": "light"
     },
     "output_type": "display_data"
    }
   ],
   "source": [
    "#fig, axs = plt.subplots(nrows = 3, ncols = 2)\n",
    "fig = plt.figure()\n",
    "w = 8 ; h = 24\n",
    "fig.set_size_inches(w,h)\n",
    "div = np.array([w, h, w, h])\n",
    "ax1 = fig.add_axes(np.array([0.05,0.8,0.4,0.17]))\n",
    "#ax2 = fig.add_axes(np.array([0.5,0.8,0.4,0.17]))\n",
    "#ax3 = fig.add_axes(np.array([0.05,0.6,0.07,0.15]))\n",
    "#ax1 = plt.bar(1,)\n",
    "ax1.set_xlim(0,11)\n",
    "ax1 = plt.bar(1.5, var5, width=1, bottom=None, align='center', color='lightgray', edgecolor='black', linewidth=2)\n",
    "ax1 = plt.bar(2.5, var5ec_ols, width=1, bottom=None, align='center', color='red', edgecolor='black', linewidth=2)\n",
    "ax1 = plt.bar(2.5, variv5_ols, width=1., bottom=var5ec_ols, align='center', color='green',edgecolor='black', linewidth=2)\n",
    "ax2 = plt.bar(2.5, var5 - (variv5_ols + var5ec_ols), width=1., bottom=variv5_ols + var5ec_ols, align='center', color='blue', edgecolor='black', linewidth=2)\n",
    "\n",
    "\n",
    "plt.show()\n"
   ]
  },
  {
   "cell_type": "code",
   "execution_count": 10,
   "metadata": {},
   "outputs": [
    {
     "name": "stdout",
     "output_type": "stream",
     "text": [
      "<xarray.DataArray ()>\n",
      "array(0.65761721)\n"
     ]
    }
   ],
   "source": [
    "print(variv5_ols)"
   ]
  },
  {
   "cell_type": "code",
   "execution_count": null,
   "metadata": {},
   "outputs": [],
   "source": []
  }
 ],
 "metadata": {
  "kernelspec": {
   "display_name": "Python [conda env:ecpaperenv]",
   "language": "python",
   "name": "conda-env-ecpaperenv-py"
  },
  "language_info": {
   "codemirror_mode": {
    "name": "ipython",
    "version": 3
   },
   "file_extension": ".py",
   "mimetype": "text/x-python",
   "name": "python",
   "nbconvert_exporter": "python",
   "pygments_lexer": "ipython3",
   "version": "3.6.11"
  }
 },
 "nbformat": 4,
 "nbformat_minor": 4
}
