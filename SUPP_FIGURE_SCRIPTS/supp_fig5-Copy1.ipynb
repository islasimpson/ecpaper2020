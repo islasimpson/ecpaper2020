{
 "cells": [
  {
   "cell_type": "code",
   "execution_count": 32,
   "metadata": {},
   "outputs": [],
   "source": [
    "import importlib\n",
    "import xarray as xr\n",
    "import numpy as np\n",
    "import sys\n",
    "import matplotlib.pyplot as plt\n",
    "\n",
    "from ecpaper_utils import linfit_utils as linfit\n",
    "from ecpaper_utils import bootstrap_utils as boot\n",
    "from ecpaper_utils import constraint_utils as constraint\n",
    "from ecpaper_utils import constraint_sensitivity_utils as constraint_sens\n",
    "from ecpaper_utils import fig_utils as ecfig\n",
    "from matplotlib.patches import Rectangle\n",
    "\n",
    "importlib.reload(linfit)\n",
    "importlib.reload(boot)\n",
    "importlib.reload(constraint)\n",
    "importlib.reload(constraint_sens)\n",
    "importlib.reload(ecfig)\n",
    "\n",
    "import warnings\n",
    "warnings.filterwarnings('ignore')"
   ]
  },
  {
   "cell_type": "markdown",
   "metadata": {},
   "source": [
    "The jet latitude constraint"
   ]
  },
  {
   "cell_type": "code",
   "execution_count": 2,
   "metadata": {},
   "outputs": [],
   "source": [
    "datdir=\"/project/cas/islas/python/ecpaper2020/DATASORT/SHJET/DATA/\"\n",
    "errordatdir=\"../ERRORCALC/JLAT/DATA/\""
   ]
  },
  {
   "cell_type": "code",
   "execution_count": 4,
   "metadata": {},
   "outputs": [],
   "source": [
    "cmip5 = xr.open_dataset(datdir+\"jlatcmip5.nc\")\n",
    "cmip6 = xr.open_dataset(datdir+\"jlatcmip6.nc\")\n",
    "error1mem = xr.open_dataset(errordatdir+\"errors_1mem.nc\")\n",
    "errorem5 = xr.open_dataset(errordatdir+\"errors_cmip5.nc\")\n",
    "errorem6 = xr.open_dataset(errordatdir+\"errors_cmip6.nc\")\n",
    "cmip56=xr.concat([cmip5, cmip6], \"model\")\n",
    "errorem56 = xr.concat([errorem5, errorem6], \"Model\")"
   ]
  },
  {
   "cell_type": "code",
   "execution_count": 5,
   "metadata": {},
   "outputs": [],
   "source": [
    "obsdata =xr.open_dataset(datdir+\"jlatobs.nc\")\n",
    "jlatobs = np.zeros([4])\n",
    "jlatobs[0] = obsdata.jlatera5 ; jlatobs[1] = obsdata.jlaterai\n",
    "jlatobs[2] = obsdata.jlatjra ; jlatobs[3] = obsdata.jlatmerra"
   ]
  },
  {
   "cell_type": "markdown",
   "metadata": {},
   "source": [
    "The OLS constraints"
   ]
  },
  {
   "cell_type": "code",
   "execution_count": 6,
   "metadata": {},
   "outputs": [
    {
     "name": "stdout",
     "output_type": "stream",
     "text": [
      "Constraining using OLS\n",
      "starting to calculate the percentiles - this could take a while\n",
      "calculating the percentage greater than the ensemble mean - this may also take a while\n",
      "Constraining using OLS\n",
      "starting to calculate the percentiles - this could take a while\n",
      "calculating the percentage greater than the ensemble mean - this may also take a while\n",
      "Constraining using OLS\n",
      "starting to calculate the percentiles - this could take a while\n",
      "calculating the percentage greater than the ensemble mean - this may also take a while\n",
      "Constraining using OLS\n",
      "starting to calculate the percentiles - this could take a while\n",
      "calculating the percentage greater than the ensemble mean - this may also take a while\n"
     ]
    }
   ],
   "source": [
    "cmip56ols = constraint.dotheconstraint(cmip56['jlatemp'],cmip56['jlatemf']-cmip56['jlatemp'], cmip56['jlat1memp'], cmip56['jlat1memf']-cmip56['jlat1memp'],jlatobs, \n",
    "                                     sigyem=errorem56['sigy'], sigx1mem=error1mem['sigx_1mem'], sigy1mem=error1mem['sigy_1mem'],method='OLS')\n",
    "cmip56ols_noxobsvar = constraint_sens.dotheconstraint_noxobsvar(cmip56['jlatemp'],cmip56['jlatemf']-cmip56['jlatemp'], cmip56['jlat1memp'], cmip56['jlat1memf']-cmip56['jlat1memp'],jlatobs, \n",
    "                                     sigyem=errorem56['sigy'], sigx1mem=error1mem['sigx_1mem'], sigy1mem=error1mem['sigy_1mem'],method='OLS')\n",
    "cmip56ols_nocoefvar = constraint_sens.dotheconstraint_nocoefvar(cmip56['jlatemp'],cmip56['jlatemf']-cmip56['jlatemp'], cmip56['jlat1memp'], cmip56['jlat1memf']-cmip56['jlat1memp'],jlatobs, \n",
    "                                     sigyem=errorem56['sigy'], sigx1mem=error1mem['sigx_1mem'], sigy1mem=error1mem['sigy_1mem'],method='OLS')\n",
    "cmip56ols_nodelta = constraint_sens.dotheconstraint_nodelta(cmip56['jlatemp'],cmip56['jlatemf']-cmip56['jlatemp'], cmip56['jlat1memp'], cmip56['jlat1memf']-cmip56['jlat1memp'],jlatobs, \n",
    "                                     sigyem=errorem56['sigy'], sigx1mem=error1mem['sigx_1mem'], sigy1mem=error1mem['sigy_1mem'],method='OLS')"
   ]
  },
  {
   "cell_type": "code",
   "execution_count": 7,
   "metadata": {},
   "outputs": [
    {
     "name": "stdout",
     "output_type": "stream",
     "text": [
      "Constraining using TLS\n",
      "starting to calculate the percentiles - this could take a while\n",
      "calculating the percentage greater than the ensemble mean - this may also take a while\n",
      "Constraining using TLS\n",
      "starting to calculate the percentiles - this could take a while\n",
      "calculating the percentage greater than the ensemble mean - this may also take a while\n",
      "Constraining using TLS\n",
      "starting to calculate the percentiles - this could take a while\n",
      "calculating the percentage greater than the ensemble mean - this may also take a while\n",
      "Constraining using TLS\n",
      "starting to calculate the percentiles - this could take a while\n",
      "calculating the percentage greater than the ensemble mean - this may also take a while\n"
     ]
    }
   ],
   "source": [
    "cmip56tls = constraint.dotheconstraint(cmip56['jlatemp'],cmip56['jlatemf']-cmip56['jlatemp'], cmip56['jlat1memp'], cmip56['jlat1memf']-cmip56['jlat1memp'],jlatobs, \n",
    "                                     sigxem=errorem56['sigx'], sigyem=errorem56['sigy'], sigx1mem=error1mem['sigx_1mem'], sigy1mem=error1mem['sigy_1mem'],method='TLS')\n",
    "cmip56tls_noxobsvar = constraint_sens.dotheconstraint_noxobsvar(cmip56['jlatemp'],cmip56['jlatemf']-cmip56['jlatemp'], cmip56['jlat1memp'], cmip56['jlat1memf']-cmip56['jlat1memp'],jlatobs, \n",
    "                                     sigxem=errorem56['sigx'], sigyem=errorem56['sigy'], sigx1mem=error1mem['sigx_1mem'], sigy1mem=error1mem['sigy_1mem'],method='TLS')\n",
    "cmip56tls_nocoefvar = constraint_sens.dotheconstraint_nocoefvar(cmip56['jlatemp'],cmip56['jlatemf']-cmip56['jlatemp'], cmip56['jlat1memp'], cmip56['jlat1memf']-cmip56['jlat1memp'],jlatobs, \n",
    "                                     sigxem=errorem56['sigx'], sigyem=errorem56['sigy'], sigx1mem=error1mem['sigx_1mem'], sigy1mem=error1mem['sigy_1mem'],method='TLS')\n",
    "cmip56tls_nodelta = constraint_sens.dotheconstraint_nodelta(cmip56['jlatemp'],cmip56['jlatemf']-cmip56['jlatemp'], cmip56['jlat1memp'], cmip56['jlat1memf']-cmip56['jlat1memp'],jlatobs, \n",
    "                                     sigxem=errorem56['sigx'], sigyem=errorem56['sigy'], sigx1mem=error1mem['sigx_1mem'], sigy1mem=error1mem['sigy_1mem'],method='TLS')"
   ]
  },
  {
   "cell_type": "code",
   "execution_count": 8,
   "metadata": {},
   "outputs": [
    {
     "name": "stdout",
     "output_type": "stream",
     "text": [
      "Constraining using the BHM\n",
      "starting to calculate the percentiles - this could take a while\n",
      "calculating the percentage greater than the ensemble mean - this may also take a while\n",
      "Constraining using the BHM\n",
      "starting to calculate the percentiles - this could take a while\n",
      "calculating the percentage greater than the ensemble mean - this may also take a while\n",
      "Constraining using the BHM\n",
      "starting to calculate the percentiles - this could take a while\n",
      "calculating the percentage greater than the ensemble mean - this may also take a while\n",
      "Constraining using the BHM\n",
      "starting to calculate the percentiles - this could take a while\n",
      "calculating the percentage greater than the ensemble mean - this may also take a while\n"
     ]
    }
   ],
   "source": [
    "cmip56bhm = constraint.dotheconstraint(cmip56['jlatemp'],cmip56['jlatemf']-cmip56['jlatemp'], cmip56['jlat1memp'], cmip56['jlat1memf']-cmip56['jlat1memp'],jlatobs, \n",
    "                                     sigxem=errorem56['sigx'], sigyem=errorem56['sigy'], sigx1mem=error1mem['sigx_1mem'], sigy1mem=error1mem['sigy_1mem'], rxyem=errorem56['rxy'],\n",
    "                                     rxy1mem=error1mem['rxy_1mem'],method='BHM')\n",
    "cmip56bhm_noxobsvar = constraint_sens.dotheconstraint_noxobsvar(cmip56['jlatemp'],cmip56['jlatemf']-cmip56['jlatemp'], cmip56['jlat1memp'], cmip56['jlat1memf']-cmip56['jlat1memp'],jlatobs, \n",
    "                                     sigxem=errorem56['sigx'], sigyem=errorem56['sigy'], sigx1mem=error1mem['sigx_1mem'], sigy1mem=error1mem['sigy_1mem'], rxyem=errorem56['rxy'],\n",
    "                                     rxy1mem=error1mem['rxy_1mem'],method='BHM')\n",
    "cmip56bhm_nocoefvar = constraint_sens.dotheconstraint_nocoefvar(cmip56['jlatemp'],cmip56['jlatemf']-cmip56['jlatemp'], cmip56['jlat1memp'], cmip56['jlat1memf']-cmip56['jlat1memp'],jlatobs, \n",
    "                                     sigxem=errorem56['sigx'], sigyem=errorem56['sigy'], sigx1mem=error1mem['sigx_1mem'], sigy1mem=error1mem['sigy_1mem'], rxyem=errorem56['rxy'],\n",
    "                                     rxy1mem=error1mem['rxy_1mem'],method='BHM')\n",
    "cmip56bhm_nodelta = constraint_sens.dotheconstraint_nodelta(cmip56['jlatemp'],cmip56['jlatemf']-cmip56['jlatemp'], cmip56['jlat1memp'], cmip56['jlat1memf']-cmip56['jlat1memp'],jlatobs, \n",
    "                                     sigxem=errorem56['sigx'], sigyem=errorem56['sigy'], sigx1mem=error1mem['sigx_1mem'], sigy1mem=error1mem['sigy_1mem'], rxyem=errorem56['rxy'],\n",
    "                                     rxy1mem=error1mem['rxy_1mem'],method='BHM')"
   ]
  },
  {
   "cell_type": "code",
   "execution_count": 35,
   "metadata": {},
   "outputs": [
    {
     "data": {
      "text/plain": [
       "Text(28, -6, 'BHM')"
      ]
     },
     "execution_count": 35,
     "metadata": {},
     "output_type": "execute_result"
    },
    {
     "data": {
      "image/png": "[encoded data removed]",
      "text/plain": [
       "<Figure size 576x360 with 1 Axes>"
      ]
     },
     "metadata": {
      "needs_background": "light"
     },
     "output_type": "display_data"
    }
   ],
   "source": [
    "fig, axs = plt.subplots()\n",
    "fig.set_size_inches(8,5)\n",
    "\n",
    "axs.set_xlim(0,33)\n",
    "axs.set_xticks([])\n",
    "axs.set_ylim(-9,3)\n",
    "\n",
    "axs.set_xticks([2, 4, 6, 8, 10, 13, 15, 17, 19, 21, 24, 26, 28, 30, 32])\n",
    "axs.set_xticklabels(['Forced+IV','No $\\Delta \\phi$ IV','No $x_{E}$ uncertainty','No $\\\\alpha/\\\\beta$ uncertainty','No $\\delta$ uncertainty',\n",
    "                    'Forced+IV','No $\\Delta \\phi$ IV','No $x_{E}$ uncertainty','No $\\\\alpha/\\\\beta$ uncertainty','No $\\delta$ uncertainty',\n",
    "                    'Forced+IV','No $\\Delta \\phi$ IV','No $x_{E}$ uncertainty','No $\\\\alpha/\\\\beta$ uncertainty','No $\\delta$ uncertainty'], fontsize=14, rotation=70, ha='right')\n",
    "axs.set_yticks([-8,-6,-4,-2,0,2])\n",
    "axs.set_yticklabels(['-8','-6','-4','-2','0','2'], fontsize=14)\n",
    "axs.set_ylabel('Jet shift ($^{\\circ}N$)', fontsize=14)\n",
    "axs.set_title('CMIP5', fontsize=16)\n",
    "\n",
    "axs = ecfig.plotconstraint_sensitivity(axs, cmip56ols, cmip56ols_noxobsvar, cmip56ols_nocoefvar, cmip56ols_nodelta,\n",
    "                                            cmip56tls, cmip56tls_noxobsvar, cmip56tls_nocoefvar, cmip56tls_nodelta,\n",
    "                                            cmip56bhm, cmip56bhm_noxobsvar, cmip56bhm_nocoefvar, cmip56bhm_nodelta)\n",
    "\n",
    "axs.plot([11.5,11.5],[-9,3], color='black')\n",
    "axs.plot([22.5,22.5],[-9,3], color='black')\n",
    "axs.text(6, -6, 'OLS', fontsize=16, color='saddlebrown', horizontalalignment='center', verticalalignment='center')\n",
    "axs.text(17, -6, 'TLS', fontsize=16, color='forestgreen', horizontalalignment='center', verticalalignment='center')\n",
    "axs.text(28, -6, 'BHM', fontsize=16, color='blueviolet', horizontalalignment='center', verticalalignment='center')\n"
   ]
  },
  {
   "cell_type": "markdown",
   "metadata": {},
   "source": [
    "The meridional wind constraint"
   ]
  },
  {
   "cell_type": "code",
   "execution_count": 71,
   "metadata": {},
   "outputs": [],
   "source": [
    "datdir=\"/project/cas/islas/python/ecpaper2020/DATASORT/VWIND/DATA/\"\n",
    "errordatdir=\"../ERRORCALC/VWIND/DATA/\"\n",
    "cmip5 = xr.open_dataset(datdir+\"cmip5vwindindices.nc\")\n",
    "cmip6 = xr.open_dataset(datdir+\"cmip6vwindindices.nc\")\n",
    "error1mem = xr.open_dataset(errordatdir+\"errors_1mem.nc\")\n",
    "errorem5 = xr.open_dataset(errordatdir+\"errors_cmip5.nc\")\n",
    "errorem6 = xr.open_dataset(errordatdir+\"errors_cmip6.nc\")\n",
    "cmip56=xr.concat([cmip5, cmip6], \"Model\")\n",
    "errorem56 = xr.concat([errorem5, errorem6], \"Model\")"
   ]
  },
  {
   "cell_type": "code",
   "execution_count": 59,
   "metadata": {},
   "outputs": [],
   "source": [
    "obsdata=xr.open_dataset(datdir+\"vampobs.nc\")\n",
    "vampobs=np.zeros([4])\n",
    "vampobs[0]=obsdata.vamp_era5 ; vampobs[1]=obsdata.vamp_erai\n",
    "vampobs[2]=obsdata.vamp_jra ; vampobs[3]=obsdata.vamp_merra"
   ]
  },
  {
   "cell_type": "code",
   "execution_count": 73,
   "metadata": {},
   "outputs": [
    {
     "name": "stdout",
     "output_type": "stream",
     "text": [
      "Constraining using OLS\n",
      "starting to calculate the percentiles - this could take a while\n",
      "calculating the percentage greater than the ensemble mean - this may also take a while\n",
      "Constraining using OLS\n",
      "starting to calculate the percentiles - this could take a while\n",
      "calculating the percentage greater than the ensemble mean - this may also take a while\n",
      "Constraining using OLS\n",
      "starting to calculate the percentiles - this could take a while\n",
      "calculating the percentage greater than the ensemble mean - this may also take a while\n",
      "Constraining using OLS\n",
      "starting to calculate the percentiles - this could take a while\n",
      "calculating the percentage greater than the ensemble mean - this may also take a while\n"
     ]
    }
   ],
   "source": [
    "vwindcmip56ols = constraint.dotheconstraint(\n",
    "    cmip56['vpastamp_em'],cmip56['vfutsw_em']-cmip56['vpastsw_em'], cmip56['vpastamp_1mem'], cmip56['vfutsw_1mem']-cmip56['vpastsw_1mem'],vampobs, \n",
    "    sigxem=errorem56['sig_psi'], sigyem=errorem56['sig_vdiff'], sigx1mem=error1mem['sig_psi'], sigy1mem=error1mem['sig_vdiff'],method='OLS')\n",
    "vwindcmip56ols_noxobsvar = constraint_sens.dotheconstraint_noxobsvar(\n",
    "    cmip56['vpastamp_em'],cmip56['vfutsw_em']-cmip56['vpastsw_em'], cmip56['vpastamp_1mem'], cmip56['vfutsw_1mem']-cmip56['vpastsw_1mem'],vampobs, \n",
    "    sigxem=errorem56['sig_psi'], sigyem=errorem56['sig_vdiff'], sigx1mem=error1mem['sig_psi'], sigy1mem=error1mem['sig_vdiff'],method='OLS')\n",
    "vwindcmip56ols_nocoefvar = constraint_sens.dotheconstraint_nocoefvar(\n",
    "    cmip56['vpastamp_em'],cmip56['vfutsw_em']-cmip56['vpastsw_em'], cmip56['vpastamp_1mem'], cmip56['vfutsw_1mem']-cmip56['vpastsw_1mem'],vampobs, \n",
    "    sigxem=errorem56['sig_psi'], sigyem=errorem56['sig_vdiff'], sigx1mem=error1mem['sig_psi'], sigy1mem=error1mem['sig_vdiff'],method='OLS')\n",
    "vwindcmip56ols_nodelta = constraint_sens.dotheconstraint_nodelta(\n",
    "    cmip56['vpastamp_em'],cmip56['vfutsw_em']-cmip56['vpastsw_em'], cmip56['vpastamp_1mem'], cmip56['vfutsw_1mem']-cmip56['vpastsw_1mem'],vampobs, \n",
    "    sigxem=errorem56['sig_psi'], sigyem=errorem56['sig_vdiff'], sigx1mem=error1mem['sig_psi'], sigy1mem=error1mem['sig_vdiff'],method='OLS')"
   ]
  },
  {
   "cell_type": "code",
   "execution_count": 74,
   "metadata": {},
   "outputs": [
    {
     "name": "stdout",
     "output_type": "stream",
     "text": [
      "Constraining using TLS\n",
      "starting to calculate the percentiles - this could take a while\n",
      "calculating the percentage greater than the ensemble mean - this may also take a while\n",
      "Constraining using TLS\n",
      "starting to calculate the percentiles - this could take a while\n",
      "calculating the percentage greater than the ensemble mean - this may also take a while\n",
      "Constraining using TLS\n",
      "starting to calculate the percentiles - this could take a while\n",
      "calculating the percentage greater than the ensemble mean - this may also take a while\n",
      "Constraining using TLS\n",
      "starting to calculate the percentiles - this could take a while\n",
      "calculating the percentage greater than the ensemble mean - this may also take a while\n"
     ]
    }
   ],
   "source": [
    "vwindcmip56tls = constraint.dotheconstraint(\n",
    "    cmip56['vpastamp_em'],cmip56['vfutsw_em']-cmip56['vpastsw_em'], cmip56['vpastamp_1mem'], cmip56['vfutsw_1mem']-cmip56['vpastsw_1mem'],vampobs, \n",
    "    sigxem=errorem56['sig_psi'], sigyem=errorem56['sig_vdiff'], sigx1mem=error1mem['sig_psi'], sigy1mem=error1mem['sig_vdiff'],method='TLS')\n",
    "vwindcmip56tls_noxobsvar = constraint_sens.dotheconstraint_noxobsvar(\n",
    "    cmip56['vpastamp_em'],cmip56['vfutsw_em']-cmip56['vpastsw_em'], cmip56['vpastamp_1mem'], cmip56['vfutsw_1mem']-cmip56['vpastsw_1mem'],vampobs, \n",
    "    sigxem=errorem56['sig_psi'], sigyem=errorem56['sig_vdiff'], sigx1mem=error1mem['sig_psi'], sigy1mem=error1mem['sig_vdiff'],method='TLS')\n",
    "vwindcmip56tls_nocoefvar = constraint_sens.dotheconstraint_nocoefvar(\n",
    "    cmip56['vpastamp_em'],cmip56['vfutsw_em']-cmip56['vpastsw_em'], cmip56['vpastamp_1mem'], cmip56['vfutsw_1mem']-cmip56['vpastsw_1mem'],vampobs, \n",
    "    sigxem=errorem56['sig_psi'], sigyem=errorem56['sig_vdiff'], sigx1mem=error1mem['sig_psi'], sigy1mem=error1mem['sig_vdiff'],method='TLS')\n",
    "vwindcmip56tls_nodelta = constraint_sens.dotheconstraint_nodelta(\n",
    "    cmip56['vpastamp_em'],cmip56['vfutsw_em']-cmip56['vpastsw_em'], cmip56['vpastamp_1mem'], cmip56['vfutsw_1mem']-cmip56['vpastsw_1mem'],vampobs, \n",
    "    sigxem=errorem56['sig_psi'], sigyem=errorem56['sig_vdiff'], sigx1mem=error1mem['sig_psi'], sigy1mem=error1mem['sig_vdiff'],method='TLS')"
   ]
  },
  {
   "cell_type": "code",
   "execution_count": 79,
   "metadata": {},
   "outputs": [
    {
     "name": "stdout",
     "output_type": "stream",
     "text": [
      "Constraining using the BHM\n",
      "starting to calculate the percentiles - this could take a while\n",
      "calculating the percentage greater than the ensemble mean - this may also take a while\n",
      "Constraining using the BHM\n",
      "starting to calculate the percentiles - this could take a while\n",
      "calculating the percentage greater than the ensemble mean - this may also take a while\n"
     ]
    }
   ],
   "source": [
    "vwindcmip56bhm = constraint.dotheconstraint(\n",
    "    cmip56['vpastamp_em'],cmip56['vfutsw_em']-cmip56['vpastsw_em'], cmip56['vpastamp_1mem'], cmip56['vfutsw_1mem']-cmip56['vpastsw_1mem'],vampobs, \n",
    "    sigxem=errorem56['sig_psi'], sigyem=errorem56['sig_vdiff'], sigx1mem=error1mem['sig_psi'], sigy1mem=error1mem['sig_vdiff'], rxyem=errorem56['r_psi_vdiff'],\n",
    "    rxy1mem=error1mem['r_psi_vdiff'],method='BHM')\n",
    "vwindcmip56bhm_noxobsvar = constraint_sens.dotheconstraint_noxobsvar(\n",
    "    cmip56['vpastamp_em'],cmip56['vfutsw_em']-cmip56['vpastsw_em'], cmip56['vpastamp_1mem'], cmip56['vfutsw_1mem']-cmip56['vpastsw_1mem'],vampobs, \n",
    "    sigxem=errorem56['sig_psi'], sigyem=errorem56['sig_vdiff'], sigx1mem=error1mem['sig_psi'], sigy1mem=error1mem['sig_vdiff'], rxyem=errorem56['r_psi_vdiff'],\n",
    "    rxy1mem=error1mem['r_psi_vdiff'],method='BHM')\n",
    "vwindcmip56bhm_nocoefvar = constraint_sens.dotheconstraint_nocoefvar(\n",
    "    cmip56['vpastamp_em'],cmip56['vfutsw_em']-cmip56['vpastsw_em'], cmip56['vpastamp_1mem'], cmip56['vfutsw_1mem']-cmip56['vpastsw_1mem'],vampobs, \n",
    "    sigxem=errorem56['r_psi_vdiff'], sigyem=errorem56['sig_vdiff'], sigx1mem=error1mem['sig_psi'], sigy1mem=error1mem['sig_vdiff'], rxyem=errorem56['r_psi_vdiff'],\n",
    "    rxy1mem=error1mem['r_psi_vdiff'],method='BHM')\n",
    "vwindcmip56bhm_nodelta = constraint_sens.dotheconstraint_nodelta(\n",
    "    cmip56['vpastamp_em'],cmip56['vfutsw_em']-cmip56['vpastsw_em'], cmip56['vpastamp_1mem'], cmip56['vfutsw_1mem']-cmip56['vpastsw_1mem'],vampobs, \n",
    "    sigxem=errorem56['sig_psi'], sigyem=errorem56['sig_vdiff'], sigx1mem=error1mem['sig_psi'], sigy1mem=error1mem['sig_vdiff'], rxyem=errorem56['r_psi_vdiff'],\n",
    "    rxy1mem=error1mem['r_psi_vdiff'],method='BHM')"
   ]
  },
  {
   "cell_type": "code",
   "execution_count": 94,
   "metadata": {},
   "outputs": [
    {
     "data": {
      "image/png": "[encoded data removed]",
      "text/plain": [
       "<Figure size 1152x324 with 2 Axes>"
      ]
     },
     "metadata": {
      "needs_background": "light"
     },
     "output_type": "display_data"
    }
   ],
   "source": [
    "fig, ax = plt.subplots(ncols=2, nrows=1)\n",
    "fig.set_size_inches(16,4.5)\n",
    "\n",
    "ax[0].set_xlim(0,33)\n",
    "ax[0].set_xticks([])\n",
    "ax[0].set_ylim(-9,3)\n",
    "\n",
    "ax[0].set_xticks([2, 4, 6, 8, 10, 13, 15, 17, 19, 21, 24, 26, 28, 30, 32])\n",
    "ax[0].set_xticklabels(['Forced+IV','No $\\Delta \\phi$ IV','No $x_{E}$ uncertainty','No $\\\\alpha/\\\\beta$ uncertainty','No $\\delta$ uncertainty',\n",
    "                    'Forced+IV','No $\\Delta \\phi$ IV','No $x_{E}$ uncertainty','No $\\\\alpha/\\\\beta$ uncertainty','No $\\delta$ uncertainty',\n",
    "                    'Forced+IV','No $\\Delta \\phi$ IV','No $x_{E}$ uncertainty','No $\\\\alpha/\\\\beta$ uncertainty','No $\\delta$ uncertainty'], fontsize=14, rotation=70, ha='right')\n",
    "ax[0].set_yticks([-8,-6,-4,-2,0,2])\n",
    "ax[0].set_yticklabels(['-8','-6','-4','-2','0','2'], fontsize=14)\n",
    "ax[0].set_ylabel('Jet shift ($^{\\circ}N$)', fontsize=14)\n",
    "ax[0].set_title('CMIP5/6 SHJET', fontsize=16)\n",
    "\n",
    "ax[0] = ecfig.plotconstraint_sensitivity(ax[0], cmip56ols, cmip56ols_noxobsvar, cmip56ols_nocoefvar, cmip56ols_nodelta,\n",
    "                                            cmip56tls, cmip56tls_noxobsvar, cmip56tls_nocoefvar, cmip56tls_nodelta,\n",
    "                                            cmip56bhm, cmip56bhm_noxobsvar, cmip56bhm_nocoefvar, cmip56bhm_nodelta)\n",
    "\n",
    "ax[0].plot([11.5,11.5],[-9,3], color='black')\n",
    "ax[0].plot([22.5,22.5],[-9,3], color='black')\n",
    "ax[0].text(6, -6, 'OLS', fontsize=16, color='saddlebrown', horizontalalignment='center', verticalalignment='center')\n",
    "ax[0].text(17, -6, 'TLS', fontsize=16, color='forestgreen', horizontalalignment='center', verticalalignment='center')\n",
    "ax[0].text(28, -6, 'BHM', fontsize=16, color='blueviolet', horizontalalignment='center', verticalalignment='center')\n",
    "\n",
    "\n",
    "\n",
    "#fig, axs = plt.subplots()\n",
    "#fig.set_size_inches(8,5)\n",
    "\n",
    "ax[1].set_xlim(0,33)\n",
    "ax[1].set_xticks([])\n",
    "ax[1].set_ylim(-10,2)\n",
    "\n",
    "ax[1].set_xticks([2, 4, 6, 8, 10, 13, 15, 17, 19, 21, 24, 26, 28, 30, 32])\n",
    "ax[1].set_xticklabels(['Forced+IV','No $\\Delta V_{SW}$ IV','No $x_{E}$ uncertainty','No $\\\\alpha/\\\\beta$ uncertainty','No $\\delta$ uncertainty',\n",
    "                    'Forced+IV','No $\\Delta V_{SW}$ IV','No $x_{E}$ uncertainty','No $\\\\alpha/\\\\beta$ uncertainty','No $\\delta$ uncertainty',\n",
    "                    'Forced+IV','No $\\Delta V_{SW}$ IV','No $x_{E}$ uncertainty','No $\\\\alpha/\\\\beta$ uncertainty','No $\\delta$ uncertainty'], fontsize=14, rotation=70, ha='right')\n",
    "ax[1].set_yticks([-8,-6,-4,-2,0,2])\n",
    "ax[1].set_yticklabels(['-8','-6','-4','-2','0','2'], fontsize=14)\n",
    "ax[1].set_ylabel('$\\Delta V_{SW}$ (ms$^{-1}$)', fontsize=14)\n",
    "ax[1].set_title('CMIP5/6 VWIND', fontsize=16)\n",
    "\n",
    "ax[1] = ecfig.plotconstraint_sensitivity(ax[1], vwindcmip56ols, vwindcmip56ols_noxobsvar, vwindcmip56ols_nocoefvar, vwindcmip56ols_nodelta,\n",
    "                                            vwindcmip56tls, vwindcmip56tls_noxobsvar, vwindcmip56tls_nocoefvar, vwindcmip56tls_nodelta,\n",
    "                                            vwindcmip56bhm, vwindcmip56bhm_noxobsvar, vwindcmip56bhm_nocoefvar, vwindcmip56bhm_nodelta)\n",
    "\n",
    "ax[1].plot([11.5,11.5],[-10,2], color='black')\n",
    "ax[1].plot([22.5,22.5],[-10,2], color='black')\n",
    "ax[1].text(6, -6, 'OLS', fontsize=16, color='saddlebrown', horizontalalignment='center', verticalalignment='center')\n",
    "ax[1].text(17, -6, 'TLS', fontsize=16, color='forestgreen', horizontalalignment='center', verticalalignment='center')\n",
    "ax[1].text(28, -6, 'BHM', fontsize=16, color='blueviolet', horizontalalignment='center', verticalalignment='center')\n",
    "\n",
    "fig.savefig('figs5.png', facecolor='white', bbox_inches='tight')"
   ]
  },
  {
   "cell_type": "code",
   "execution_count": null,
   "metadata": {},
   "outputs": [],
   "source": []
  }
 ],
 "metadata": {
  "kernelspec": {
   "display_name": "Python [conda env:ecpaperenv]",
   "language": "python",
   "name": "conda-env-ecpaperenv-py"
  },
  "language_info": {
   "codemirror_mode": {
    "name": "ipython",
    "version": 3
   },
   "file_extension": ".py",
   "mimetype": "text/x-python",
   "name": "python",
   "nbconvert_exporter": "python",
   "pygments_lexer": "ipython3",
   "version": "3.6.11"
  }
 },
 "nbformat": 4,
 "nbformat_minor": 4
}
