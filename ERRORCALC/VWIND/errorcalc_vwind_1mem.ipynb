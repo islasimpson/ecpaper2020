{
 "cells": [
  {
   "cell_type": "markdown",
   "metadata": {},
   "source": [
    "Error calcs for a single member for VWIND"
   ]
  },
  {
   "cell_type": "code",
   "execution_count": 12,
   "metadata": {},
   "outputs": [],
   "source": [
    "import importlib\n",
    "import pandas as pd\n",
    "import xarray as xr\n",
    "import numpy as np\n",
    "import sys\n",
    "import warnings\n",
    "from scipy import signal \n",
    "import glob as glob\n",
    "\n",
    "from ecpaper_utils import bootstrap_utils as boot\n",
    "from ecpaper_utils import filter_utils as filt\n",
    "from ecpaper_utils import averaging_utils as avg\n",
    "\n",
    "importlib.reload(boot)\n",
    "importlib.reload(avg)\n",
    "\n",
    "warnings.filterwarnings('ignore')"
   ]
  },
  {
   "cell_type": "code",
   "execution_count": 13,
   "metadata": {},
   "outputs": [],
   "source": [
    "vwind_path=\"/project/cas/islas/python/ecpaper2020/DATASORT/VWIND/DATA/\""
   ]
  },
  {
   "cell_type": "code",
   "execution_count": 14,
   "metadata": {},
   "outputs": [
    {
     "name": "stdout",
     "output_type": "stream",
     "text": [
      "CESM1-CAM5\n",
      "CSIRO-Mk3-6-0\n",
      "CanESM2\n",
      "GFDL-CM3\n",
      "MPI-ESM\n"
     ]
    }
   ],
   "source": [
    "le_models = [x.split(\"_\")[1].split(\".\")[0] for x in sorted(glob.glob(vwind_path+\"/v300*.nc\"))] ## parse files to get model names\n",
    "le_dat = []\n",
    "\n",
    "for le in le_models:\n",
    "    print(le)\n",
    "    ## vwind\n",
    "    ds = xr.open_dataset(vwind_path+\"v300_\"+le+\".nc\")\n",
    "    ## precip\n",
    "    dsp = xr.open_dataset(vwind_path+\"pr_\"+le+\".nc\").rename({\"Member\": \"member\"})\n",
    "    ## u100\n",
    "    dsu = xr.open_dataset(vwind_path+\"u100_\"+le+\".nc\")\n",
    "    ds = xr.merge([ds, dsp, dsu]).assign_coords({\"Model\": le})\n",
    "    le_dat.append(ds)"
   ]
  },
  {
   "cell_type": "code",
   "execution_count": 15,
   "metadata": {},
   "outputs": [],
   "source": [
    "le_dat = xr.concat(le_dat, dim = \"Model\")"
   ]
  },
  {
   "cell_type": "markdown",
   "metadata": {},
   "source": [
    "Calculate the ensemble mean values for each LE"
   ]
  },
  {
   "cell_type": "code",
   "execution_count": 16,
   "metadata": {},
   "outputs": [
    {
     "name": "stdout",
     "output_type": "stream",
     "text": [
      "CESM1-CAM5\n",
      "CSIRO-Mk3-6-0\n",
      "CanESM2\n",
      "GFDL-CM3\n",
      "MPI-ESM\n"
     ]
    }
   ],
   "source": [
    "le_vdiff = []\n",
    "le_vamp = []\n",
    "le_pdiff_west = []\n",
    "le_pdiff_south = []\n",
    "le_pdiff_mex = []\n",
    "le_udiff = []\n",
    "\n",
    "for le in le_models: \n",
    "    print(le)\n",
    "    ds = le_dat.sel(Model = le).dropna(dim = \"member\", how = \"all\").mean(dim = \"member\")\n",
    "    vpast_eddy = ds[\"vpast_djf\"] - ds[\"vpast_djf\"].mean(\"lon\")\n",
    "    vfut_eddy = ds[\"vfut_djf\"] - ds[\"vfut_djf\"].mean(\"lon\")\n",
    "    vpastsw = avg.cosweightlonlat(vpast_eddy, 250, 265, 25, 37)\n",
    "    vfutsw = avg.cosweightlonlat(vfut_eddy, 250, 265, 25, 37)   \n",
    "    le_vdiff.append((vfutsw - vpastsw).values)\n",
    "    \n",
    "    # stationary wave ampltiude index\n",
    "    vpast_k4to32 = filt.filterk(ds[\"vpast_djf\"], 4, 32)\n",
    "    vpast_amp = np.sqrt(avg.cosweightlonlat(vpast_k4to32**2, 200., 300., 20., 40.))\n",
    "    le_vamp.append(vpast_amp.values)\n",
    "        \n",
    "    ## change in precipitation\n",
    "    le_pdiff_west.append((ds[\"prf_west\"] - ds[\"prp_west\"]).values)\n",
    "    le_pdiff_south.append((ds[\"prf_south\"] - ds[\"prp_south\"]).values)\n",
    "    le_pdiff_mex.append((ds[\"prf_mex\"] - ds[\"prp_mex\"]).values)\n",
    "    \n",
    "    ## change in u100\n",
    "    up = avg.cosweightlat(ds[\"upast_djf\"],20,40)\n",
    "    uf = avg.cosweightlat(ds[\"ufut_djf\"],20, 40)\n",
    "    le_udiff.append((uf - up).values)"
   ]
  },
  {
   "cell_type": "markdown",
   "metadata": {},
   "source": [
    "Calculate errors for a single member."
   ]
  },
  {
   "cell_type": "code",
   "execution_count": 17,
   "metadata": {},
   "outputs": [],
   "source": [
    "nboots=1000\n",
    "nmemp=1\n",
    "nmemf=1\n",
    "\n",
    "boots_vdiff = []\n",
    "boots_udiff = []\n",
    "boots_vamp = []\n",
    "boots_pdiff_west = []\n",
    "boots_pdiff_south = []\n",
    "boots_pdiff_mex = []\n",
    "\n",
    "for j, le in enumerate(le_models):\n",
    "        \n",
    "    ds = le_dat.sel(Model = le).dropna(dim = \"member\", how = \"all\")\n",
    "        \n",
    "    ## bootstrapped V300\n",
    "    vpast = boot.bootgen_multimem(ds[\"vpast_djf\"], nmemp, seed=3, nboots = nboots)\n",
    "    vfut = boot.bootgen_multimem(ds[\"vfut_djf\"], nmemf, seed=3, nboots = nboots)\n",
    "        \n",
    "    vpast_eddy = vpast - vpast.mean(\"lon\")\n",
    "    vfut_eddy = vfut - vfut.mean(\"lon\")\n",
    "    vpastsw = avg.cosweightlonlat(vpast_eddy, 250, 265, 25, 37)\n",
    "    vfutsw = avg.cosweightlonlat(vfut_eddy, 250, 265, 25, 37)\n",
    "        \n",
    "    ## change in v300 SW\n",
    "    boots_vdiff.append((vfutsw - vpastsw).values - le_vdiff[j])\n",
    "        \n",
    "    # stationary wave ampltiude index\n",
    "    vpast_k4to32 = filt.filterk(vpast, 4, 32)\n",
    "    vpast_amp = np.sqrt(avg.cosweightlonlat(vpast_k4to32**2, 200., 300., 20., 40.))\n",
    "        \n",
    "    boots_vamp.append(vpast_amp.values - le_vamp[j])\n",
    "        \n",
    "    ## u100 difference\n",
    "    upast = boot.bootgen_multimem(ds[\"upast_djf\"], nmemp, seed = 3, nboots = nboots)\n",
    "    upast = avg.cosweightlat(upast,20,40)\n",
    "    ufut = boot.bootgen_multimem(ds[\"ufut_djf\"], nmemf, seed = 3, nboots = nboots)\n",
    "    ufut = avg.cosweightlat(ufut,20, 40)\n",
    "    boots_udiff.append(ufut.values - upast.values - le_udiff[j])\n",
    "        \n",
    "    ## calculate precip changes for three regions\n",
    "    prp = boot.bootgen_multimem(ds[\"prp_west\"], nmemp, seed = 3, nboots = nboots)\n",
    "    prf = boot.bootgen_multimem(ds[\"prf_west\"], nmemf, seed = 3, nboots = nboots)\n",
    "    boots_pdiff_west.append(prf.values - prp.values - le_pdiff_west[j])\n",
    "        \n",
    "    prp = boot.bootgen_multimem(ds[\"prp_south\"], nmemp, seed = 3, nboots = nboots)\n",
    "    prf = boot.bootgen_multimem(ds[\"prf_south\"], nmemf, seed = 3, nboots = nboots)\n",
    "    boots_pdiff_south.append(prf.values - prp.values - le_pdiff_south[j])\n",
    "        \n",
    "    prp = boot.bootgen_multimem(ds[\"prp_mex\"], nmemp, seed = 3, nboots = nboots)\n",
    "    prf = boot.bootgen_multimem(ds[\"prf_mex\"], nmemf, seed = 3, nboots = nboots)\n",
    "    boots_pdiff_mex.append(prf.values - prp.values - le_pdiff_mex[j])\n",
    "    \n",
    "\n",
    "boots_vdiff = np.concatenate(boots_vdiff)\n",
    "boots_udiff = np.concatenate(boots_udiff)\n",
    "boots_vamp = np.concatenate(boots_vamp)\n",
    "boots_pdiff_west = np.concatenate(boots_pdiff_west)\n",
    "boots_pdiff_south = np.concatenate(boots_pdiff_south)\n",
    "boots_pdiff_mex = np.concatenate(boots_pdiff_mex)\n",
    "    \n",
    "sig_vdiff = np.std(boots_vdiff)\n",
    "sig_udiff = np.std(boots_udiff)\n",
    "sig_psi = np.std(boots_vamp)\n",
    "sig_pdiff_west = np.std(boots_pdiff_west)\n",
    "sig_pdiff_south = np.std(boots_pdiff_south)\n",
    "sig_pdiff_mex = np.std(boots_pdiff_mex)\n",
    "    \n",
    "r_psi_vdiff = np.corrcoef(boots_vamp, boots_vdiff)[0,1]\n",
    "r_udiff_vdiff = np.corrcoef(boots_udiff, boots_vdiff)[0,1]\n",
    "r_psi_prwest = np.corrcoef(boots_vamp, boots_pdiff_west)[0,1]\n",
    "r_psi_prsouth = np.corrcoef(boots_vamp, boots_pdiff_south)[0,1]\n",
    "r_psi_prmex = np.corrcoef(boots_vamp, boots_pdiff_mex)[0,1]"
   ]
  },
  {
   "cell_type": "code",
   "execution_count": 73,
   "metadata": {},
   "outputs": [],
   "source": [
    "# 5th to 95th percentile of internal variability range using the first 20 members from each\n",
    "for j, le in enumerate(le_models):\n",
    "        \n",
    "    ds = le_dat.sel(Model = le).dropna(dim = \"member\", how = \"all\")\n",
    "    ds = ds.isel(member=slice(0,20))\n",
    "    vpast_eddy = ds['vpast_djf'] - ds['vpast_djf'].mean(\"lon\")\n",
    "    vpastsw = avg.cosweightlonlat(vpast_eddy, 250, 265, 25, 37)\n",
    "    difs = np.zeros([500])\n",
    "    count=0\n",
    "    for imem in range(0,20,1):\n",
    "        indices=np.argwhere(np.arange(0,20,1) !=imem)\n",
    "        for imem2 in indices:\n",
    "        #for imem2 in range(imem+1,20,1):\n",
    "            difs[count] = vpastsw[imem2]-vpastsw[imem]\n",
    "            count=count+1\n",
    "\n",
    "    difs = difs[0:count]\n",
    "    if (j == 0):\n",
    "        difsall = np.zeros([5*count])\n",
    "            \n",
    "    difsall[j*count:(j+1)*count]=difs[:]\n",
    "    \n",
    "ivmin95=np.percentile(difsall,2.5)\n",
    "ivmax95=np.percentile(difsall,97.5)\n",
    "ivmin95 = xr.DataArray(ivmin95, name='ivmin95')\n",
    "ivmax95 = xr.DataArray(ivmax95, name='ivmax95')"
   ]
  },
  {
   "cell_type": "code",
   "execution_count": 74,
   "metadata": {},
   "outputs": [],
   "source": [
    "error_1mem = xr.Dataset({'sig_vdiff': xr.DataArray(sig_vdiff, name='sig_vdiff'), \n",
    "                        'sig_psi': xr.DataArray(sig_psi, name='sig_psi'), \n",
    "                        'sig_udiff': xr.DataArray(sig_udiff, name='sigg_udiff'),\n",
    "                        'sig_pdiff_west': xr.DataArray(sig_pdiff_west, name='sigg_pdiff_west'), \n",
    "                        'sig_pdiff_south': xr.DataArray(sig_pdiff_south, name='sig_pdiff_south'), \n",
    "                        'sig_pdiff_mex': xr.DataArray(sig_pdiff_mex, name='sig_pdiff_mex'), \n",
    "                        'r_psi_vdiff': xr.DataArray(r_psi_vdiff, name='r_psi_vdiff'), \n",
    "                         'r_udiff_vdiff': xr.DataArray(r_udiff_vdiff, name='r_udiff_vdiff'),\n",
    "                        'r_psi_prwest': xr.DataArray(r_psi_prwest, name='r_psi_prwest'), \n",
    "                        'r_psi_prsouth': xr.DataArray(r_psi_prsouth, name='r_psi_prsouth'), \n",
    "                        'r_psi_prmex': xr.DataArray(r_psi_prmex, name='r_psi_prmex'),\n",
    "                        'ivmin95': xr.DataArray(ivmin95),\n",
    "                        'ivmax95': xr.DataArray(ivmax95)})\n",
    "\n",
    "error_1mem.to_netcdf(\"./DATA/errors_1mem.nc\")"
   ]
  },
  {
   "cell_type": "code",
   "execution_count": null,
   "metadata": {},
   "outputs": [],
   "source": []
  }
 ],
 "metadata": {
  "kernelspec": {
   "display_name": "Python [conda env:ecpaperenv]",
   "language": "python",
   "name": "conda-env-ecpaperenv-py"
  },
  "language_info": {
   "codemirror_mode": {
    "name": "ipython",
    "version": 3
   },
   "file_extension": ".py",
   "mimetype": "text/x-python",
   "name": "python",
   "nbconvert_exporter": "python",
   "pygments_lexer": "ipython3",
   "version": "3.6.11"
  }
 },
 "nbformat": 4,
 "nbformat_minor": 4
}
