{
 "cells": [
  {
   "cell_type": "markdown",
   "metadata": {},
   "source": [
    "Doing the calculations and making the plot for Figure 5 - the JLAT emergent constraint"
   ]
  },
  {
   "cell_type": "code",
   "execution_count": 76,
   "metadata": {},
   "outputs": [],
   "source": [
    "import importlib\n",
    "import xarray as xr\n",
    "import numpy as np\n",
    "import sys\n",
    "import matplotlib.pyplot as plt\n",
    "\n",
    "from ecpaper_utils import linfit_utils as linfit\n",
    "from ecpaper_utils import bootstrap_utils as boot\n",
    "from ecpaper_utils import constraint_utils as constraint\n",
    "from ecpaper_utils import fig_utils as ecfig\n",
    "from matplotlib.patches import Rectangle\n",
    "\n",
    "importlib.reload(linfit)\n",
    "importlib.reload(boot)\n",
    "importlib.reload(constraint)\n",
    "importlib.reload(ecfig)\n",
    "\n",
    "import warnings\n",
    "warnings.filterwarnings('ignore')\n"
   ]
  },
  {
   "cell_type": "code",
   "execution_count": 2,
   "metadata": {},
   "outputs": [],
   "source": [
    "datdir=\"/project/cas/islas/python/ecpaper2020/DATASORT/SHJET/DATA/\"\n",
    "errordatdir=\"../ERRORCALC/JLAT/DATA/\""
   ]
  },
  {
   "cell_type": "markdown",
   "metadata": {},
   "source": [
    "Read in CMIP5 and CMIP6 jet latitude data"
   ]
  },
  {
   "cell_type": "code",
   "execution_count": 3,
   "metadata": {},
   "outputs": [],
   "source": [
    "cmip5 = xr.open_dataset(datdir+\"jlatcmip5.nc\")\n",
    "cmip6 = xr.open_dataset(datdir+\"jlatcmip6.nc\")\n",
    "error1mem = xr.open_dataset(errordatdir+\"errors_1mem.nc\")\n",
    "errorem5 = xr.open_dataset(errordatdir+\"errors_cmip5.nc\")\n",
    "errorem6 = xr.open_dataset(errordatdir+\"errors_cmip6.nc\")"
   ]
  },
  {
   "cell_type": "markdown",
   "metadata": {},
   "source": [
    "Read in observational data and group together"
   ]
  },
  {
   "cell_type": "code",
   "execution_count": 4,
   "metadata": {},
   "outputs": [],
   "source": [
    "obsdata =xr.open_dataset(datdir+\"jlatobs.nc\")\n",
    "jlatobs = np.zeros([4])\n",
    "jlatobs[0] = obsdata.jlatera5 ; jlatobs[1] = obsdata.jlaterai\n",
    "jlatobs[2] = obsdata.jlatjra ; jlatobs[3] = obsdata.jlatmerra"
   ]
  },
  {
   "cell_type": "markdown",
   "metadata": {},
   "source": [
    "The CMIP5 emergent constraint"
   ]
  },
  {
   "cell_type": "code",
   "execution_count": 5,
   "metadata": {},
   "outputs": [
    {
     "name": "stdout",
     "output_type": "stream",
     "text": [
      "Constraining using OLS\n",
      "starting to calculate the percentiles - this could take a while\n",
      "calculating the percentage greater than the ensemble mean - this may also take a while\n",
      "Constraining using TLS\n",
      "starting to calculate the percentiles - this could take a while\n",
      "calculating the percentage greater than the ensemble mean - this may also take a while\n",
      "Constraining using the BHM\n",
      "starting to calculate the percentiles - this could take a while\n",
      "calculating the percentage greater than the ensemble mean - this may also take a while\n"
     ]
    }
   ],
   "source": [
    "cmip5ols = constraint.dotheconstraint(cmip5['jlatemp'],cmip5['jlatemf']-cmip5['jlatemp'], cmip5['jlat1memp'], cmip5['jlat1memf']-cmip5['jlat1memp'],jlatobs, \n",
    "                                     sigyem=errorem5['sigy'], sigx1mem=error1mem['sigx_1mem'], sigy1mem=error1mem['sigy_1mem'],method='OLS')\n",
    "cmip5tls = constraint.dotheconstraint(cmip5['jlatemp'],cmip5['jlatemf']-cmip5['jlatemp'], cmip5['jlat1memp'], cmip5['jlat1memf']-cmip5['jlat1memp'],jlatobs, \n",
    "                                     sigxem=errorem5['sigx'], sigyem=errorem5['sigy'], sigx1mem=error1mem['sigx_1mem'], sigy1mem=error1mem['sigy_1mem'],method='TLS')\n",
    "cmip5bhm = constraint.dotheconstraint(cmip5['jlatemp'],cmip5['jlatemf']-cmip5['jlatemp'], cmip5['jlat1memp'], cmip5['jlat1memf']-cmip5['jlat1memp'],jlatobs, \n",
    "                                     sigxem=errorem5['sigx'], sigyem=errorem5['sigy'], sigx1mem=error1mem['sigx_1mem'], sigy1mem=error1mem['sigy_1mem'], rxyem=errorem5['rxy'],\n",
    "                                     rxy1mem=error1mem['rxy_1mem'],method='BHM')"
   ]
  },
  {
   "cell_type": "markdown",
   "metadata": {},
   "source": [
    "The CMIP6 emergent constraint"
   ]
  },
  {
   "cell_type": "code",
   "execution_count": 6,
   "metadata": {},
   "outputs": [
    {
     "name": "stdout",
     "output_type": "stream",
     "text": [
      "Constraining using OLS\n",
      "starting to calculate the percentiles - this could take a while\n",
      "calculating the percentage greater than the ensemble mean - this may also take a while\n",
      "Constraining using TLS\n",
      "starting to calculate the percentiles - this could take a while\n",
      "calculating the percentage greater than the ensemble mean - this may also take a while\n",
      "Constraining using the BHM\n",
      "starting to calculate the percentiles - this could take a while\n",
      "calculating the percentage greater than the ensemble mean - this may also take a while\n"
     ]
    }
   ],
   "source": [
    "cmip6ols = constraint.dotheconstraint(cmip6['jlatemp'],cmip6['jlatemf']-cmip6['jlatemp'], cmip6['jlat1memp'], cmip6['jlat1memf']-cmip6['jlat1memp'],jlatobs, \n",
    "                                     sigyem=errorem6['sigy'], sigx1mem=error1mem['sigx_1mem'], sigy1mem=error1mem['sigy_1mem'],method='OLS')\n",
    "cmip6tls = constraint.dotheconstraint(cmip6['jlatemp'],cmip6['jlatemf']-cmip6['jlatemp'], cmip6['jlat1memp'], cmip6['jlat1memf']-cmip6['jlat1memp'],jlatobs, \n",
    "                                     sigxem=errorem6['sigx'], sigyem=errorem6['sigy'], sigx1mem=error1mem['sigx_1mem'], sigy1mem=error1mem['sigy_1mem'],method='TLS')\n",
    "cmip6bhm = constraint.dotheconstraint(cmip6['jlatemp'],cmip6['jlatemf']-cmip6['jlatemp'], cmip6['jlat1memp'], cmip6['jlat1memf']-cmip6['jlat1memp'],jlatobs, \n",
    "                                     sigxem=errorem6['sigx'], sigyem=errorem6['sigy'], sigx1mem=error1mem['sigx_1mem'], sigy1mem=error1mem['sigy_1mem'], rxyem=errorem6['rxy'],\n",
    "                                     rxy1mem=error1mem['rxy_1mem'],method='BHM')"
   ]
  },
  {
   "cell_type": "markdown",
   "metadata": {},
   "source": [
    "The constraint on CMIP5 and CMIP6 combined"
   ]
  },
  {
   "cell_type": "code",
   "execution_count": 7,
   "metadata": {},
   "outputs": [
    {
     "name": "stdout",
     "output_type": "stream",
     "text": [
      "Constraining using OLS\n",
      "starting to calculate the percentiles - this could take a while\n",
      "calculating the percentage greater than the ensemble mean - this may also take a while\n",
      "Constraining using TLS\n",
      "starting to calculate the percentiles - this could take a while\n",
      "calculating the percentage greater than the ensemble mean - this may also take a while\n",
      "Constraining using the BHM\n",
      "starting to calculate the percentiles - this could take a while\n",
      "calculating the percentage greater than the ensemble mean - this may also take a while\n"
     ]
    }
   ],
   "source": [
    "cmip56 = xr.concat([cmip5, cmip6], \"model\" )\n",
    "errorem56 = xr.concat([errorem5, errorem6],\"Model\")\n",
    "cmip56ols = constraint.dotheconstraint(cmip56['jlatemp'],cmip56['jlatemf']-cmip56['jlatemp'], cmip56['jlat1memp'], cmip56['jlat1memf']-cmip56['jlat1memp'],jlatobs, \n",
    "                                     sigyem=errorem56['sigy'], sigx1mem=error1mem['sigx_1mem'], sigy1mem=error1mem['sigy_1mem'],method='OLS')\n",
    "cmip56tls = constraint.dotheconstraint(cmip56['jlatemp'],cmip56['jlatemf']-cmip56['jlatemp'], cmip56['jlat1memp'], cmip56['jlat1memf']-cmip56['jlat1memp'],jlatobs, \n",
    "                                     sigxem=errorem56['sigx'], sigyem=errorem56['sigy'], sigx1mem=error1mem['sigx_1mem'], sigy1mem=error1mem['sigy_1mem'],method='TLS')\n",
    "cmip56bhm = constraint.dotheconstraint(cmip56['jlatemp'],cmip56['jlatemf']-cmip56['jlatemp'], cmip56['jlat1memp'], cmip56['jlat1memf']-cmip56['jlat1memp'],jlatobs, \n",
    "                                     sigxem=errorem56['sigx'], sigyem=errorem56['sigy'], sigx1mem=error1mem['sigx_1mem'], sigy1mem=error1mem['sigy_1mem'], rxyem=errorem56['rxy'],\n",
    "                                     rxy1mem=error1mem['rxy_1mem'],method='BHM')\n",
    "\n",
    "aols, bols = linfit.linfit_xy(cmip56['jlatemp'], cmip56['jlatemf']-cmip56['jlatemp'], sigma=errorem56['sigy'])\n",
    "atls, btls = linfit.tls(cmip56['jlatemp'], cmip56['jlatemf']-cmip56['jlatemp'], errorem56['sigx'], errorem56['sigy'])\n",
    "abhmall, bbhmall, del2all, muxall, delx2all = linfit.bhm(cmip56['jlatemp'], cmip56['jlatemf']-cmip56['jlatemp'], errorem56['sigx'], errorem56['sigy'], errorem56['rxy'], iseed=3)\n",
    "abhm = np.mean(abhmall) ; bbhm = np.mean(bbhmall)"
   ]
  },
  {
   "cell_type": "code",
   "execution_count": 8,
   "metadata": {},
   "outputs": [
    {
     "name": "stdout",
     "output_type": "stream",
     "text": [
      "{'meanwithiv': -0.36152047756272865, 'meanforced': -0.36859238234221287, 'min95withiv': -3.1772302671970585, 'max95withiv': 2.61712963830295, 'min66withiv': -1.7685521676628668, 'max66withiv': 1.087967516448256, 'min95forced': -2.7928277465808087, 'max95forced': 2.2025688374953853, 'min66forced': -1.5783934928598997, 'max66forced': 0.87250570157293, 'gtymean_withiv': 84.505171, 'gtymean_forced': 88.2131636}\n",
      "{'meanwithiv': -0.4211300120486272, 'meanforced': -0.4002216123286471, 'min95withiv': -3.4810676185662435, 'max95withiv': 2.6104525158828364, 'min66withiv': -1.9059888568942982, 'max66withiv': 1.019964952069771, 'min95forced': -3.0246853341159645, 'max95forced': 2.206859410349039, 'min66forced': -1.6769053363996251, 'max66forced': 0.8390913612234887, 'gtymean_withiv': 82.1054364, 'gtymean_forced': 86.1924582}\n",
      "{'meanwithiv': -0.525582848397903, 'meanforced': -0.5260944839795654, 'min95withiv': -3.69715258170533, 'max95withiv': 2.6461926124390653, 'min66withiv': -2.0616579698015514, 'max66withiv': 1.012901261639697, 'min95forced': -3.3153093299428065, 'max95forced': 2.2719371920652582, 'min66forced': -1.8727029368257138, 'max66forced': 0.8204105997620768, 'gtymean_withiv': 79.52852379999999, 'gtymean_forced': 82.653904}\n"
     ]
    }
   ],
   "source": [
    "print(cmip56ols)\n",
    "print(cmip56tls)\n",
    "print(cmip56bhm)"
   ]
  },
  {
   "cell_type": "code",
   "execution_count": 77,
   "metadata": {},
   "outputs": [
    {
     "data": {
      "text/plain": [
       "<matplotlib.legend.Legend at 0x7f6872426da0>"
      ]
     },
     "execution_count": 77,
     "metadata": {},
     "output_type": "execute_result"
    },
    {
     "data": {
      "image/png": "[encoded data removed]",
      "text/plain": [
       "<Figure size 864x360 with 1 Axes>"
      ]
     },
     "metadata": {
      "needs_background": "light"
     },
     "output_type": "display_data"
    }
   ],
   "source": [
    "# set up the plot characteristics\n",
    "#fig, axs = plt.subplots()\n",
    "#fig.set_size_inches(5,5)\n",
    "fig = plt.figure()\n",
    "w=12 ; h=5\n",
    "fig.set_size_inches(w,h)\n",
    "ax1 = fig.add_axes(np.array([0.05,0.1,0.35,0.8]))\n",
    "\n",
    "\n",
    "yerr5 = 1.96*errorem5['sigy'] ; yerr6 = 1.96*errorem6['sigy']\n",
    "xerr5 = 1.95*errorem5['sigx'] ; xerr6 = 1.95*errorem6['sigy']\n",
    "\n",
    "ax1 = ecfig.jlatscattersetup(ax1,'(a) CMIP5 & CMIP6 $\\Delta \\phi$ vs $\\phi_{o}$')\n",
    "\n",
    "# zero line\n",
    "ax1.plot([-57,-33],[0,0], color=\"black\")\n",
    "\n",
    "# OLS regression\n",
    "x = np.arange(-58,-22,1)\n",
    "y = aols+bols*x\n",
    "ax1.plot(x,y, color='saddlebrown', linewidth=3, linestyle='dashed')\n",
    "\n",
    "# TLS regression\n",
    "y = atls+btls*x\n",
    "ax1.plot(x,y, color='forestgreen', linewidth=3, linestyle='dashed')\n",
    "\n",
    "# BHM regression\n",
    "y = abhm + bbhm*x\n",
    "ax1.plot(x,y, color='blueviolet', linewidth=3, linestyle='dashed')\n",
    "\n",
    "# observed values\n",
    "ax1.plot([obsdata[\"jlatera5\"], obsdata[\"jlatera5\"]],[-9,3], color=\"black\", linewidth=2)\n",
    "ax1.plot([obsdata[\"jlaterai\"], obsdata[\"jlaterai\"]],[-9,3], color=\"black\", linestyle='dotted', linewidth=2)\n",
    "ax1.plot([obsdata[\"jlatjra\"], obsdata[\"jlatjra\"]],[-9,3], color=\"black\", linestyle='dashed', linewidth=2)\n",
    "ax1.plot([obsdata[\"jlatmerra\"], obsdata[\"jlatmerra\"]],[-9,3],color=\"black\", linestyle='dashdot', linewidth=2)\n",
    "\n",
    "# scatter points and error bars\n",
    "ax1.plot(cmip5['jlatemp'],cmip5['jlatemf']-cmip5['jlatemp'],\"o\", markerfacecolor='firebrick', markeredgecolor='black', markersize=10, markeredgewidth=2, label='CMIP5')\n",
    "ax1.plot(cmip6['jlatemp'],cmip6['jlatemf']-cmip6['jlatemp'],\"o\", markerfacecolor='royalblue', markeredgecolor='black', markersize=10, markeredgewidth=2, label='CMIP6')\n",
    "\n",
    "ax1.plot(cmip5['jlatemp'].mean(), cmip5['jlatemf'].mean()-cmip5['jlatemp'].mean(), \"D\", markerfacecolor='firebrick', markeredgecolor='black', markersize=15, markeredgewidth=2)\n",
    "ax1.plot(cmip6['jlatemp'].mean(), cmip6['jlatemf'].mean()-cmip6['jlatemp'].mean(), \"D\", markerfacecolor='royalblue', markeredgecolor='black', markersize=14, markeredgewidth=2)\n",
    "\n",
    "ax1.errorbar(cmip5['jlatemp'], cmip5['jlatemf']-cmip5['jlatemp'], xerr = xerr5, linestyle=\"None\", color=\"lightgray\", linewidth=2)\n",
    "ax1.errorbar(cmip5['jlatemp'], cmip5['jlatemf']-cmip5['jlatemp'], yerr = yerr5, linestyle=\"None\", color=\"lightgray\", linewidth=2)\n",
    "ax1.errorbar(cmip6['jlatemp'], cmip6['jlatemf']-cmip6['jlatemp'], xerr = xerr6, linestyle=\"None\", color=\"lightgray\", linewidth=2)\n",
    "ax1.errorbar(cmip6['jlatemp'], cmip6['jlatemf']-cmip6['jlatemp'], yerr = yerr6, linestyle=\"None\", color=\"lightgray\", linewidth=2)\n",
    "\n",
    "ax1.legend(handletextpad=0, fontsize='x-large', borderpad=0)\n",
    "\n",
    "\n"
   ]
  },
  {
   "cell_type": "code",
   "execution_count": 78,
   "metadata": {},
   "outputs": [
    {
     "name": "stdout",
     "output_type": "stream",
     "text": [
      "89.4505737\n"
     ]
    }
   ],
   "source": [
    "#fig, axs = plt.subplots()\n",
    "#fig.set_size_inches(3.5,5)\n",
    "ylim=(-9,3)\n",
    "ax2 = fig.add_axes(np.array([0.43,0.1,0.23,0.8]))\n",
    "\n",
    "ax2.set_ylim(ylim)\n",
    "ax2.set_xlim(-0.5,16.5)\n",
    "ax2.set_xticks([])\n",
    "ax2.set_yticks([-8,-6,-4,-2,0,2])\n",
    "ax2.set_yticklabels(['-8','-6','-4','-2','0','2'], fontsize=14)\n",
    "ax2.set_title('(b) CMIP5', fontsize=16)\n",
    "\n",
    "# internal variability range and zero line\n",
    "ivrange = plt.Rectangle( (-0.5,error1mem['ivmin95']), 17, error1mem['ivmax95']-error1mem['ivmin95'], color='lightgray', zorder=0)\n",
    "ax2.add_patch(ivrange)\n",
    "ax2.plot([-0.5,16.5],[0,0], color='black', zorder=1)\n",
    "\n",
    "jlatdifs = cmip5['jlatemf'] - cmip5['jlatemp']\n",
    "min66 = np.percentile(jlatdifs, 17)\n",
    "max66 = np.percentile(jlatdifs, 83)\n",
    "\n",
    "ax2.plot([-0.5,16.5],[jlatdifs.mean(), jlatdifs.mean()],color='firebrick', zorder=1, linewidth=5)\n",
    "ax2.plot([-0.5,16.5],[min66, min66],color='firebrick', zorder=1, linewidth=3, linestyle='dotted')\n",
    "ax2.plot([-0.5,16.5],[max66, max66],color='firebrick', zorder=1, linewidth=3, linestyle='dotted')\n",
    "\n",
    "jshiftstring = '{0:6.2f}'.format(np.array(jlatdifs.mean())).strip()\n",
    "ax2.text(1,-9.35, '$\\Delta \\phi$=', horizontalalignment='center', verticalalignment='center', fontsize=12, color='black')\n",
    "ax2.text(1, -9.8, jshiftstring, horizontalalignment='center', verticalalignment='center', fontsize=12, color='black')\n",
    "\n",
    "# CMIP5 model points\n",
    "ax2.plot(np.zeros([cmip5.model.size])+1,cmip5['jlatemf']-cmip5['jlatemp'],\"o\",markerfacecolor='firebrick',markeredgecolor='black',markersize=10,markeredgewidth=2)\n",
    "ax2.plot([2.5,2.5],[-9,3], color='black')\n",
    "\n",
    "# all the emergent constraints info\n",
    "ax2 = ecfig.plotconstraintinfo(ax2, cmip5ols, cmip5tls, cmip5bhm, ylim, \"$\\Delta \\phi$\")"
   ]
  },
  {
   "cell_type": "code",
   "execution_count": 79,
   "metadata": {},
   "outputs": [
    {
     "name": "stdout",
     "output_type": "stream",
     "text": [
      "81.58534186666667\n"
     ]
    }
   ],
   "source": [
    "ax3 = fig.add_axes(np.array([0.69,0.1,0.23,0.8]))\n",
    "\n",
    "ax3.set_ylim(ylim)\n",
    "ax3.set_xlim(-0.5,16.5)\n",
    "ax3.set_xticks([])\n",
    "ax3.set_yticks([-8,-6,-4,-2,0,2])\n",
    "ax3.set_yticklabels(['-8','-6','-4','-2','0','2'], fontsize=14)\n",
    "ax3.set_title('(c) CMIP6', fontsize=16)\n",
    "\n",
    "# internal variability range and zero line\n",
    "ivrange = plt.Rectangle( (-0.5,error1mem['ivmin95']), 17, error1mem['ivmax95']-error1mem['ivmin95'], color='lightgray', zorder=0)\n",
    "ax3.add_patch(ivrange)\n",
    "ax3.plot([-0.5,16.5],[0,0], color='black', zorder=1)\n",
    "\n",
    "jlatdifs = cmip6['jlatemf'] - cmip6['jlatemp']\n",
    "min66 = np.percentile(jlatdifs, 17)\n",
    "max66 = np.percentile(jlatdifs, 83)\n",
    "\n",
    "ax3.plot([-0.5,16.5],[jlatdifs.mean(), jlatdifs.mean()],color='royalblue', zorder=1, linewidth=5)\n",
    "ax3.plot([-0.5,16.5],[min66, min66],color='royalblue', zorder=1, linewidth=3, linestyle='dotted')\n",
    "ax3.plot([-0.5,16.5],[max66, max66],color='royalblue', zorder=1, linewidth=3, linestyle='dotted')\n",
    "\n",
    "shiftstring = '{0:6.2f}'.format(np.array(jlatdifs.mean())).strip()\n",
    "ax3.text(1,-9.35, '$\\Delta \\phi$=', horizontalalignment='center', verticalalignment='center', fontsize=12, color='black')\n",
    "ax3.text(1, -9.8, jshiftstring, horizontalalignment='center', verticalalignment='center', fontsize=12, color='black')\n",
    "\n",
    "# CMIP6 model points\n",
    "ax3.plot(np.zeros([cmip6.model.size])+1,cmip6['jlatemf']-cmip6['jlatemp'],\"o\",markerfacecolor='royalblue',markeredgecolor='black',markersize=10,markeredgewidth=2)\n",
    "ax3.plot([2.5,2.5],[-9,3], color='black')\n",
    "\n",
    "# all the emergent constraints info\n",
    "ax3 = ecfig.plotconstraintinfo(ax3, cmip6ols, cmip6tls, cmip6bhm, ylim, \"$\\Delta \\phi$\")"
   ]
  },
  {
   "cell_type": "code",
   "execution_count": 80,
   "metadata": {},
   "outputs": [
    {
     "name": "stdout",
     "output_type": "stream",
     "text": [
      "85.68650860000001\n"
     ]
    }
   ],
   "source": [
    "ax4 = fig.add_axes(np.array([0.95,0.1,0.23,0.8]))\n",
    "\n",
    "ax4.set_ylim(ylim)\n",
    "ax4.set_xlim(-0.5,16.5)\n",
    "ax4.set_xticks([])\n",
    "ax4.set_yticks([-8,-6,-4,-2,0,2])\n",
    "ax4.set_yticklabels(['-8','-6','-4','-2','0','2'], fontsize=14)\n",
    "ax4.set_title('(d) CMIP56', fontsize=16)\n",
    "\n",
    "# internal variability range and zero line\n",
    "ivrange = plt.Rectangle( (-0.5,error1mem['ivmin95']), 17, error1mem['ivmax95']-error1mem['ivmin95'], color='lightgray', zorder=0)\n",
    "ax4.add_patch(ivrange)\n",
    "ax4.plot([-0.5,16.5],[0,0], color='black', zorder=1)\n",
    "\n",
    "jlatdifs = cmip56['jlatemf'] - cmip56['jlatemp']\n",
    "min66 = np.percentile(jlatdifs, 17)\n",
    "max66 = np.percentile(jlatdifs, 83)\n",
    "\n",
    "ax4.plot([-0.5,16.5],[jlatdifs.mean(), jlatdifs.mean()],color='royalblue', zorder=1, linewidth=5)\n",
    "ax4.plot([-0.45,16.5],[jlatdifs.mean(), jlatdifs.mean()],color='firebrick', zorder=1, linewidth=5, linestyle='dotted')\n",
    "ax4.plot([-0.5,16.5],[min66, min66],color='royalblue', zorder=1, linewidth=3, linestyle='dashed')\n",
    "ax4.plot([-0.5,16.5],[min66, min66],color='firebrick', zorder=1, linewidth=3, linestyle='dotted')\n",
    "ax4.plot([-0.5,16.5],[max66, max66],color='royalblue', zorder=1, linewidth=3, linestyle='dashed')\n",
    "ax4.plot([-0.5,16.5],[max66, max66],color='firebrick', zorder=1, linewidth=3, linestyle='dotted')\n",
    "\n",
    "shiftstring = '{0:6.2f}'.format(np.array(jlatdifs.mean())).strip()\n",
    "ax4.text(1,-9.35, '$\\Delta \\phi$=', horizontalalignment='center', verticalalignment='center', fontsize=12, color='black')\n",
    "ax4.text(1, -9.8, jshiftstring, horizontalalignment='center', verticalalignment='center', fontsize=12, color='black')\n",
    "\n",
    "# CMIP5 and 6 model points\n",
    "ax4.plot(np.zeros([cmip5.model.size])+0.4,cmip5['jlatemf']-cmip5['jlatemp'],\"o\",markerfacecolor='firebrick',markeredgecolor='black',markersize=10,markeredgewidth=2)\n",
    "ax4.plot(np.zeros([cmip6.model.size])+1.6,cmip6['jlatemf']-cmip6['jlatemp'],\"o\",markerfacecolor='royalblue',markeredgecolor='black',markersize=10,markeredgewidth=2)\n",
    "ax4.plot([2.5,2.5],[-9,3], color='black')\n",
    "\n",
    "# all the emergent constraints info\n",
    "ax4 = ecfig.plotconstraintinfo(ax4, cmip56ols, cmip56tls, cmip56bhm, ylim, \"$\\Delta \\phi$\")"
   ]
  },
  {
   "cell_type": "code",
   "execution_count": 81,
   "metadata": {},
   "outputs": [
    {
     "data": {
      "text/plain": [
       "<matplotlib.legend.Legend at 0x7f6874271358>"
      ]
     },
     "execution_count": 81,
     "metadata": {},
     "output_type": "execute_result"
    }
   ],
   "source": [
    "# the legend\n",
    "legendparts=[Rectangle((0.95,0.95),5,3,facecolor='saddlebrown'),\n",
    "             Rectangle((0.95,0.95),5,3,facecolor='forestgreen'),\n",
    "             Rectangle((0.95,0.95),5,3,facecolor='blueviolet')]\n",
    "\n",
    "legendlabels=['OLS','TLS','BHM']\n",
    "fig.legend(legendparts, legendlabels, bbox_to_anchor=(0.95, 0.05), ncol=3, frameon=False, fontsize='x-large', handlelength=1, handleheight=1, handletextpad=0.4)\n",
    "\n",
    "\n",
    "\n",
    "\n"
   ]
  },
  {
   "cell_type": "code",
   "execution_count": 82,
   "metadata": {},
   "outputs": [],
   "source": [
    "fig.patch.set_facecolor('white')\n",
    "fig\n",
    "fig.savefig('fig5.png', facecolor='white', bbox_inches='tight')"
   ]
  },
  {
   "cell_type": "code",
   "execution_count": null,
   "metadata": {},
   "outputs": [],
   "source": []
  }
 ],
 "metadata": {
  "kernelspec": {
   "display_name": "Python [conda env:ecpaperenv]",
   "language": "python",
   "name": "conda-env-ecpaperenv-py"
  },
  "language_info": {
   "codemirror_mode": {
    "name": "ipython",
    "version": 3
   },
   "file_extension": ".py",
   "mimetype": "text/x-python",
   "name": "python",
   "nbconvert_exporter": "python",
   "pygments_lexer": "ipython3",
   "version": "3.6.11"
  }
 },
 "nbformat": 4,
 "nbformat_minor": 4
}
