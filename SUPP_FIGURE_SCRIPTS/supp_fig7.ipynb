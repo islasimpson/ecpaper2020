{
 "cells": [
  {
   "cell_type": "code",
   "execution_count": 1,
   "metadata": {},
   "outputs": [],
   "source": [
    "import importlib\n",
    "import xarray as xr\n",
    "import numpy as np\n",
    "import sys\n",
    "import matplotlib.pyplot as plt\n",
    "\n",
    "from ecpaper_utils import linfit_utils as linfit\n",
    "from ecpaper_utils import bootstrap_utils as boot\n",
    "from ecpaper_utils import constraint_utils as constraint\n",
    "from ecpaper_utils import constraint_sensitivity_utils as constraint_sens\n",
    "from ecpaper_utils import fig_utils as ecfig\n",
    "from matplotlib.patches import Rectangle\n",
    "\n",
    "importlib.reload(linfit)\n",
    "importlib.reload(boot)\n",
    "importlib.reload(constraint)\n",
    "importlib.reload(constraint_sens)\n",
    "importlib.reload(ecfig)\n",
    "\n",
    "import warnings\n",
    "warnings.filterwarnings('ignore')"
   ]
  },
  {
   "cell_type": "markdown",
   "metadata": {},
   "source": [
    "The jet latitude constraint"
   ]
  },
  {
   "cell_type": "code",
   "execution_count": 4,
   "metadata": {},
   "outputs": [],
   "source": [
    "datdir=\"/project/cas/islas/python_savs/ecpaper2020/DATASORT/SHJET/\"\n",
    "errordatdir=\"../ERRORCALC/JLAT/DATA/\""
   ]
  },
  {
   "cell_type": "code",
   "execution_count": 5,
   "metadata": {},
   "outputs": [],
   "source": [
    "cmip5 = xr.open_dataset(datdir+\"jlatcmip5.nc\")\n",
    "cmip6 = xr.open_dataset(datdir+\"jlatcmip6.nc\")\n",
    "error1mem = xr.open_dataset(errordatdir+\"errors_1mem.nc\")\n",
    "errorem5 = xr.open_dataset(errordatdir+\"errors_cmip5.nc\")\n",
    "errorem6 = xr.open_dataset(errordatdir+\"errors_cmip6.nc\")\n",
    "cmip56=xr.concat([cmip5, cmip6], \"model\")\n",
    "errorem56 = xr.concat([errorem5, errorem6], \"Model\")"
   ]
  },
  {
   "cell_type": "code",
   "execution_count": 6,
   "metadata": {},
   "outputs": [],
   "source": [
    "obsdata =xr.open_dataset(datdir+\"jlatobs.nc\")\n",
    "jlatobs = np.zeros([4])\n",
    "jlatobs[0] = obsdata.jlatera5 ; jlatobs[1] = obsdata.jlaterai\n",
    "jlatobs[2] = obsdata.jlatjra ; jlatobs[3] = obsdata.jlatmerra"
   ]
  },
  {
   "cell_type": "markdown",
   "metadata": {},
   "source": [
    "The OLS constraints"
   ]
  },
  {
   "cell_type": "code",
   "execution_count": 7,
   "metadata": {},
   "outputs": [
    {
     "name": "stdout",
     "output_type": "stream",
     "text": [
      "Constraining using OLS\n",
      "Constraining using OLS\n",
      "Constraining using OLS\n",
      "Constraining using OLS\n",
      "Constraining using OLS\n"
     ]
    }
   ],
   "source": [
    "cmip56ols_forced, cmip56ols_forcedplusiv = constraint_sens.dotheconstraint_all(cmip56['jlatemp'],cmip56['jlatemf']-cmip56['jlatemp'], cmip56['jlat1memp'], cmip56['jlat1memf']-cmip56['jlat1memp'],jlatobs, \n",
    "                                     sigxem=errorem56['sigx'], sigyem=errorem56['sigy'], sigx1mem=error1mem['sigx_1mem'], sigy1mem=error1mem['sigy_1mem'], rxyem=errorem56['rxy'],\n",
    "                                     rxy1mem=error1mem['rxy_1mem'],method='OLS')\n",
    "\n",
    "cmip56ols_onlyx = constraint_sens.dotheconstraint_onlyxvar(cmip56['jlatemp'],cmip56['jlatemf']-cmip56['jlatemp'], cmip56['jlat1memp'], cmip56['jlat1memf']-cmip56['jlat1memp'],jlatobs, \n",
    "                                     sigxem=errorem56['sigx'], sigyem=errorem56['sigy'], sigx1mem=error1mem['sigx_1mem'], sigy1mem=error1mem['sigy_1mem'], rxyem=errorem56['rxy'],\n",
    "                                     rxy1mem=error1mem['rxy_1mem'],method='OLS')\n",
    "\n",
    "cmip56ols_onlycoefs = constraint_sens.dotheconstraint_onlycoefs(cmip56['jlatemp'],cmip56['jlatemf']-cmip56['jlatemp'], cmip56['jlat1memp'], cmip56['jlat1memf']-cmip56['jlat1memp'],jlatobs, \n",
    "                                     sigxem=errorem56['sigx'], sigyem=errorem56['sigy'], sigx1mem=error1mem['sigx_1mem'], sigy1mem=error1mem['sigy_1mem'], rxyem=errorem56['rxy'],\n",
    "                                     rxy1mem=error1mem['rxy_1mem'],method='OLS')\n",
    "cmip56ols_onlydelta = constraint_sens.dotheconstraint_onlydelta(cmip56['jlatemp'],cmip56['jlatemf']-cmip56['jlatemp'], cmip56['jlat1memp'], cmip56['jlat1memf']-cmip56['jlat1memp'],jlatobs, \n",
    "                                     sigxem=errorem56['sigx'], sigyem=errorem56['sigy'], sigx1mem=error1mem['sigx_1mem'], sigy1mem=error1mem['sigy_1mem'], rxyem=errorem56['rxy'],\n",
    "                                     rxy1mem=error1mem['rxy_1mem'],method='OLS')\n",
    "cmip56ols_onlyiv = constraint_sens.dotheconstraint_onlyiv(cmip56['jlatemp'],cmip56['jlatemf']-cmip56['jlatemp'], cmip56['jlat1memp'], cmip56['jlat1memf']-cmip56['jlat1memp'],jlatobs, \n",
    "                                     sigxem=errorem56['sigx'], sigyem=errorem56['sigy'], sigx1mem=error1mem['sigx_1mem'], sigy1mem=error1mem['sigy_1mem'], rxyem=errorem56['rxy'],\n",
    "                                     rxy1mem=error1mem['rxy_1mem'],method='OLS')\n"
   ]
  },
  {
   "cell_type": "code",
   "execution_count": 8,
   "metadata": {},
   "outputs": [
    {
     "name": "stdout",
     "output_type": "stream",
     "text": [
      "Constraining using TLS\n",
      "Constraining using TLS\n",
      "Constraining using TLS\n",
      "Constraining using TLS\n",
      "Constraining using TLS\n"
     ]
    }
   ],
   "source": [
    "cmip56tls_forced, cmip56tls_forcedplusiv = constraint_sens.dotheconstraint_all(cmip56['jlatemp'],cmip56['jlatemf']-cmip56['jlatemp'], cmip56['jlat1memp'], cmip56['jlat1memf']-cmip56['jlat1memp'],jlatobs, \n",
    "                                     sigxem=errorem56['sigx'], sigyem=errorem56['sigy'], sigx1mem=error1mem['sigx_1mem'], sigy1mem=error1mem['sigy_1mem'], rxyem=errorem56['rxy'],\n",
    "                                     rxy1mem=error1mem['rxy_1mem'],method='TLS')\n",
    "\n",
    "cmip56tls_onlyx = constraint_sens.dotheconstraint_onlyxvar(cmip56['jlatemp'],cmip56['jlatemf']-cmip56['jlatemp'], cmip56['jlat1memp'], cmip56['jlat1memf']-cmip56['jlat1memp'],jlatobs, \n",
    "                                     sigxem=errorem56['sigx'], sigyem=errorem56['sigy'], sigx1mem=error1mem['sigx_1mem'], sigy1mem=error1mem['sigy_1mem'], rxyem=errorem56['rxy'],\n",
    "                                     rxy1mem=error1mem['rxy_1mem'],method='TLS')\n",
    "\n",
    "cmip56tls_onlycoefs = constraint_sens.dotheconstraint_onlycoefs(cmip56['jlatemp'],cmip56['jlatemf']-cmip56['jlatemp'], cmip56['jlat1memp'], cmip56['jlat1memf']-cmip56['jlat1memp'],jlatobs, \n",
    "                                     sigxem=errorem56['sigx'], sigyem=errorem56['sigy'], sigx1mem=error1mem['sigx_1mem'], sigy1mem=error1mem['sigy_1mem'], rxyem=errorem56['rxy'],\n",
    "                                     rxy1mem=error1mem['rxy_1mem'],method='TLS')\n",
    "cmip56tls_onlydelta = constraint_sens.dotheconstraint_onlydelta(cmip56['jlatemp'],cmip56['jlatemf']-cmip56['jlatemp'], cmip56['jlat1memp'], cmip56['jlat1memf']-cmip56['jlat1memp'],jlatobs, \n",
    "                                     sigxem=errorem56['sigx'], sigyem=errorem56['sigy'], sigx1mem=error1mem['sigx_1mem'], sigy1mem=error1mem['sigy_1mem'], rxyem=errorem56['rxy'],\n",
    "                                     rxy1mem=error1mem['rxy_1mem'],method='TLS')\n",
    "cmip56tls_onlyiv = constraint_sens.dotheconstraint_onlyiv(cmip56['jlatemp'],cmip56['jlatemf']-cmip56['jlatemp'], cmip56['jlat1memp'], cmip56['jlat1memf']-cmip56['jlat1memp'],jlatobs, \n",
    "                                     sigxem=errorem56['sigx'], sigyem=errorem56['sigy'], sigx1mem=error1mem['sigx_1mem'], sigy1mem=error1mem['sigy_1mem'], rxyem=errorem56['rxy'],\n",
    "                                     rxy1mem=error1mem['rxy_1mem'],method='TLS')"
   ]
  },
  {
   "cell_type": "code",
   "execution_count": 9,
   "metadata": {},
   "outputs": [
    {
     "name": "stdout",
     "output_type": "stream",
     "text": [
      "Constraining using the BHM\n",
      "Constraining using the BHM\n",
      "Constraining using the BHM\n",
      "Constraining using the BHM\n",
      "Constraining using the BHM\n"
     ]
    }
   ],
   "source": [
    "cmip56bhm_forced, cmip56bhm_forcedplusiv = constraint_sens.dotheconstraint_all(cmip56['jlatemp'],cmip56['jlatemf']-cmip56['jlatemp'], cmip56['jlat1memp'], cmip56['jlat1memf']-cmip56['jlat1memp'],jlatobs, \n",
    "                                     sigxem=errorem56['sigx'], sigyem=errorem56['sigy'], sigx1mem=error1mem['sigx_1mem'], sigy1mem=error1mem['sigy_1mem'], rxyem=errorem56['rxy'],\n",
    "                                     rxy1mem=error1mem['rxy_1mem'],method='BHM')\n",
    "\n",
    "cmip56bhm_onlyx = constraint_sens.dotheconstraint_onlyxvar(cmip56['jlatemp'],cmip56['jlatemf']-cmip56['jlatemp'], cmip56['jlat1memp'], cmip56['jlat1memf']-cmip56['jlat1memp'],jlatobs, \n",
    "                                     sigxem=errorem56['sigx'], sigyem=errorem56['sigy'], sigx1mem=error1mem['sigx_1mem'], sigy1mem=error1mem['sigy_1mem'], rxyem=errorem56['rxy'],\n",
    "                                     rxy1mem=error1mem['rxy_1mem'],method='BHM')\n",
    "\n",
    "cmip56bhm_onlycoefs = constraint_sens.dotheconstraint_onlycoefs(cmip56['jlatemp'],cmip56['jlatemf']-cmip56['jlatemp'], cmip56['jlat1memp'], cmip56['jlat1memf']-cmip56['jlat1memp'],jlatobs, \n",
    "                                     sigxem=errorem56['sigx'], sigyem=errorem56['sigy'], sigx1mem=error1mem['sigx_1mem'], sigy1mem=error1mem['sigy_1mem'], rxyem=errorem56['rxy'],\n",
    "                                     rxy1mem=error1mem['rxy_1mem'],method='BHM')\n",
    "cmip56bhm_onlydelta = constraint_sens.dotheconstraint_onlydelta(cmip56['jlatemp'],cmip56['jlatemf']-cmip56['jlatemp'], cmip56['jlat1memp'], cmip56['jlat1memf']-cmip56['jlat1memp'],jlatobs, \n",
    "                                     sigxem=errorem56['sigx'], sigyem=errorem56['sigy'], sigx1mem=error1mem['sigx_1mem'], sigy1mem=error1mem['sigy_1mem'], rxyem=errorem56['rxy'],\n",
    "                                     rxy1mem=error1mem['rxy_1mem'],method='BHM')\n",
    "cmip56bhm_onlyiv = constraint_sens.dotheconstraint_onlyiv(cmip56['jlatemp'],cmip56['jlatemf']-cmip56['jlatemp'], cmip56['jlat1memp'], cmip56['jlat1memf']-cmip56['jlat1memp'],jlatobs, \n",
    "                                     sigxem=errorem56['sigx'], sigyem=errorem56['sigy'], sigx1mem=error1mem['sigx_1mem'], sigy1mem=error1mem['sigy_1mem'], rxyem=errorem56['rxy'],\n",
    "                                     rxy1mem=error1mem['rxy_1mem'],method='BHM')"
   ]
  },
  {
   "cell_type": "code",
   "execution_count": 10,
   "metadata": {},
   "outputs": [],
   "source": [
    "datdir=\"/project/cas/islas/python_savs/ecpaper2020/DATASORT/VWIND/\"\n",
    "errordatdir=\"../ERRORCALC/VWIND/DATA/\"\n",
    "cmip5 = xr.open_dataset(datdir+\"cmip5vwindindices.nc\")\n",
    "cmip6 = xr.open_dataset(datdir+\"cmip6vwindindices.nc\")\n",
    "error1mem = xr.open_dataset(errordatdir+\"errors_1mem.nc\")\n",
    "errorem5 = xr.open_dataset(errordatdir+\"errors_cmip5.nc\")\n",
    "errorem6 = xr.open_dataset(errordatdir+\"errors_cmip6.nc\")\n",
    "cmip56=xr.concat([cmip5, cmip6], \"Model\")\n",
    "errorem56 = xr.concat([errorem5, errorem6], \"Model\")"
   ]
  },
  {
   "cell_type": "code",
   "execution_count": 11,
   "metadata": {},
   "outputs": [],
   "source": [
    "obsdata=xr.open_dataset(datdir+\"vampobs.nc\")\n",
    "vampobs=np.zeros([4])\n",
    "vampobs[0]=obsdata.vamp_era5 ; vampobs[1]=obsdata.vamp_erai\n",
    "vampobs[2]=obsdata.vamp_jra ; vampobs[3]=obsdata.vamp_merra"
   ]
  },
  {
   "cell_type": "code",
   "execution_count": 12,
   "metadata": {},
   "outputs": [
    {
     "name": "stdout",
     "output_type": "stream",
     "text": [
      "Constraining using OLS\n",
      "Constraining using OLS\n",
      "Constraining using OLS\n",
      "Constraining using OLS\n",
      "Constraining using OLS\n"
     ]
    }
   ],
   "source": [
    "vcmip56ols_forced, vcmip56ols_forcedplusiv = constraint_sens.dotheconstraint_all(cmip56['vpastamp_em'],cmip56['vfutsw_em']-cmip56['vpastsw_em'], cmip56['vpastamp_1mem'], cmip56['vfutsw_1mem']-cmip56['vpastsw_1mem'],vampobs, \n",
    "                                     sigxem=errorem56['sig_psi'], sigyem=errorem56['sig_vdiff'], sigx1mem=error1mem['sig_psi'], sigy1mem=error1mem['sig_vdiff'], rxyem=errorem56['r_psi_vdiff'],\n",
    "                                     rxy1mem=error1mem['r_psi_vdiff'],method='OLS')\n",
    "\n",
    "vcmip56ols_onlyx = constraint_sens.dotheconstraint_onlyxvar(cmip56['vpastamp_em'],cmip56['vfutsw_em']-cmip56['vpastsw_em'], cmip56['vpastamp_1mem'], cmip56['vfutsw_1mem']-cmip56['vpastsw_1mem'],vampobs, \n",
    "                                     sigxem=errorem56['sig_psi'], sigyem=errorem56['sig_vdiff'], sigx1mem=error1mem['sig_psi'], sigy1mem=error1mem['sig_vdiff'], rxyem=errorem56['r_psi_vdiff'],\n",
    "                                     rxy1mem=error1mem['r_psi_vdiff'],method='OLS')\n",
    "\n",
    "vcmip56ols_onlycoefs = constraint_sens.dotheconstraint_onlycoefs(cmip56['vpastamp_em'],cmip56['vfutsw_em']-cmip56['vpastsw_em'], cmip56['vpastamp_1mem'], cmip56['vfutsw_1mem']-cmip56['vpastsw_1mem'],vampobs, \n",
    "                                     sigxem=errorem56['sig_psi'], sigyem=errorem56['sig_vdiff'], sigx1mem=error1mem['sig_psi'], sigy1mem=error1mem['sig_vdiff'], rxyem=errorem56['r_psi_vdiff'],\n",
    "                                     rxy1mem=error1mem['r_psi_vdiff'],method='OLS')\n",
    "vcmip56ols_onlydelta = constraint_sens.dotheconstraint_onlydelta(cmip56['vpastamp_em'],cmip56['vfutsw_em']-cmip56['vpastsw_em'], cmip56['vpastamp_1mem'], cmip56['vfutsw_1mem']-cmip56['vpastsw_1mem'],vampobs, \n",
    "                                     sigxem=errorem56['sig_psi'], sigyem=errorem56['sig_vdiff'], sigx1mem=error1mem['sig_psi'], sigy1mem=error1mem['sig_vdiff'], rxyem=errorem56['r_psi_vdiff'],\n",
    "                                     rxy1mem=error1mem['r_psi_vdiff'],method='OLS')\n",
    "vcmip56ols_onlyiv = constraint_sens.dotheconstraint_onlyiv(cmip56['vpastamp_em'],cmip56['vfutsw_em']-cmip56['vpastsw_em'], cmip56['vpastamp_1mem'], cmip56['vfutsw_1mem']-cmip56['vpastsw_1mem'],vampobs, \n",
    "                                     sigxem=errorem56['sig_psi'], sigyem=errorem56['sig_vdiff'], sigx1mem=error1mem['sig_psi'], sigy1mem=error1mem['sig_vdiff'], rxyem=errorem56['r_psi_vdiff'],\n",
    "                                     rxy1mem=error1mem['r_psi_vdiff'],method='OLS')"
   ]
  },
  {
   "cell_type": "code",
   "execution_count": 13,
   "metadata": {},
   "outputs": [
    {
     "name": "stdout",
     "output_type": "stream",
     "text": [
      "Constraining using TLS\n",
      "Constraining using TLS\n",
      "Constraining using TLS\n",
      "Constraining using TLS\n",
      "Constraining using TLS\n"
     ]
    }
   ],
   "source": [
    "vcmip56tls_forced, vcmip56tls_forcedplusiv = constraint_sens.dotheconstraint_all(cmip56['vpastamp_em'],cmip56['vfutsw_em']-cmip56['vpastsw_em'], cmip56['vpastamp_1mem'], cmip56['vfutsw_1mem']-cmip56['vpastsw_1mem'],vampobs, \n",
    "                                     sigxem=errorem56['sig_psi'], sigyem=errorem56['sig_vdiff'], sigx1mem=error1mem['sig_psi'], sigy1mem=error1mem['sig_vdiff'], rxyem=errorem56['r_psi_vdiff'],\n",
    "                                     rxy1mem=error1mem['r_psi_vdiff'],method='TLS')\n",
    "\n",
    "vcmip56tls_onlyx = constraint_sens.dotheconstraint_onlyxvar(cmip56['vpastamp_em'],cmip56['vfutsw_em']-cmip56['vpastsw_em'], cmip56['vpastamp_1mem'], cmip56['vfutsw_1mem']-cmip56['vpastsw_1mem'],vampobs, \n",
    "                                     sigxem=errorem56['sig_psi'], sigyem=errorem56['sig_vdiff'], sigx1mem=error1mem['sig_psi'], sigy1mem=error1mem['sig_vdiff'], rxyem=errorem56['r_psi_vdiff'],\n",
    "                                     rxy1mem=error1mem['r_psi_vdiff'],method='TLS')\n",
    "\n",
    "vcmip56tls_onlycoefs = constraint_sens.dotheconstraint_onlycoefs(cmip56['vpastamp_em'],cmip56['vfutsw_em']-cmip56['vpastsw_em'], cmip56['vpastamp_1mem'], cmip56['vfutsw_1mem']-cmip56['vpastsw_1mem'],vampobs, \n",
    "                                     sigxem=errorem56['sig_psi'], sigyem=errorem56['sig_vdiff'], sigx1mem=error1mem['sig_psi'], sigy1mem=error1mem['sig_vdiff'], rxyem=errorem56['r_psi_vdiff'],\n",
    "                                     rxy1mem=error1mem['r_psi_vdiff'],method='TLS')\n",
    "vcmip56tls_onlydelta = constraint_sens.dotheconstraint_onlydelta(cmip56['vpastamp_em'],cmip56['vfutsw_em']-cmip56['vpastsw_em'], cmip56['vpastamp_1mem'], cmip56['vfutsw_1mem']-cmip56['vpastsw_1mem'],vampobs, \n",
    "                                     sigxem=errorem56['sig_psi'], sigyem=errorem56['sig_vdiff'], sigx1mem=error1mem['sig_psi'], sigy1mem=error1mem['sig_vdiff'], rxyem=errorem56['r_psi_vdiff'],\n",
    "                                     rxy1mem=error1mem['r_psi_vdiff'],method='TLS')\n",
    "vcmip56tls_onlyiv = constraint_sens.dotheconstraint_onlyiv(cmip56['vpastamp_em'],cmip56['vfutsw_em']-cmip56['vpastsw_em'], cmip56['vpastamp_1mem'], cmip56['vfutsw_1mem']-cmip56['vpastsw_1mem'],vampobs, \n",
    "                                     sigxem=errorem56['sig_psi'], sigyem=errorem56['sig_vdiff'], sigx1mem=error1mem['sig_psi'], sigy1mem=error1mem['sig_vdiff'], rxyem=errorem56['r_psi_vdiff'],\n",
    "                                     rxy1mem=error1mem['r_psi_vdiff'],method='TLS')"
   ]
  },
  {
   "cell_type": "code",
   "execution_count": 14,
   "metadata": {},
   "outputs": [
    {
     "name": "stdout",
     "output_type": "stream",
     "text": [
      "Constraining using the BHM\n",
      "Constraining using the BHM\n",
      "Constraining using the BHM\n",
      "Constraining using the BHM\n",
      "Constraining using the BHM\n"
     ]
    }
   ],
   "source": [
    "vcmip56bhm_forced, vcmip56bhm_forcedplusiv = constraint_sens.dotheconstraint_all(cmip56['vpastamp_em'],cmip56['vfutsw_em']-cmip56['vpastsw_em'], cmip56['vpastamp_1mem'], cmip56['vfutsw_1mem']-cmip56['vpastsw_1mem'],vampobs, \n",
    "                                     sigxem=errorem56['sig_psi'], sigyem=errorem56['sig_vdiff'], sigx1mem=error1mem['sig_psi'], sigy1mem=error1mem['sig_vdiff'], rxyem=errorem56['r_psi_vdiff'],\n",
    "                                     rxy1mem=error1mem['r_psi_vdiff'],method='BHM')\n",
    "\n",
    "vcmip56bhm_onlyx = constraint_sens.dotheconstraint_onlyxvar(cmip56['vpastamp_em'],cmip56['vfutsw_em']-cmip56['vpastsw_em'], cmip56['vpastamp_1mem'], cmip56['vfutsw_1mem']-cmip56['vpastsw_1mem'],vampobs, \n",
    "                                     sigxem=errorem56['sig_psi'], sigyem=errorem56['sig_vdiff'], sigx1mem=error1mem['sig_psi'], sigy1mem=error1mem['sig_vdiff'], rxyem=errorem56['r_psi_vdiff'],\n",
    "                                     rxy1mem=error1mem['r_psi_vdiff'],method='BHM')\n",
    "\n",
    "vcmip56bhm_onlycoefs = constraint_sens.dotheconstraint_onlycoefs(cmip56['vpastamp_em'],cmip56['vfutsw_em']-cmip56['vpastsw_em'], cmip56['vpastamp_1mem'], cmip56['vfutsw_1mem']-cmip56['vpastsw_1mem'],vampobs, \n",
    "                                     sigxem=errorem56['sig_psi'], sigyem=errorem56['sig_vdiff'], sigx1mem=error1mem['sig_psi'], sigy1mem=error1mem['sig_vdiff'], rxyem=errorem56['r_psi_vdiff'],\n",
    "                                     rxy1mem=error1mem['r_psi_vdiff'],method='BHM')\n",
    "vcmip56bhm_onlydelta = constraint_sens.dotheconstraint_onlydelta(cmip56['vpastamp_em'],cmip56['vfutsw_em']-cmip56['vpastsw_em'], cmip56['vpastamp_1mem'], cmip56['vfutsw_1mem']-cmip56['vpastsw_1mem'],vampobs, \n",
    "                                     sigxem=errorem56['sig_psi'], sigyem=errorem56['sig_vdiff'], sigx1mem=error1mem['sig_psi'], sigy1mem=error1mem['sig_vdiff'], rxyem=errorem56['r_psi_vdiff'],\n",
    "                                     rxy1mem=error1mem['r_psi_vdiff'],method='BHM')\n",
    "vcmip56bhm_onlyiv = constraint_sens.dotheconstraint_onlyiv(cmip56['vpastamp_em'],cmip56['vfutsw_em']-cmip56['vpastsw_em'], cmip56['vpastamp_1mem'], cmip56['vfutsw_1mem']-cmip56['vpastsw_1mem'],vampobs, \n",
    "                                     sigxem=errorem56['sig_psi'], sigyem=errorem56['sig_vdiff'], sigx1mem=error1mem['sig_psi'], sigy1mem=error1mem['sig_vdiff'], rxyem=errorem56['r_psi_vdiff'],\n",
    "                                     rxy1mem=error1mem['r_psi_vdiff'],method='BHM')"
   ]
  },
  {
   "cell_type": "code",
   "execution_count": 15,
   "metadata": {},
   "outputs": [
    {
     "data": {
      "image/png": "[encoded data removed]",
      "text/plain": [
       "<Figure size 1152x324 with 2 Axes>"
      ]
     },
     "metadata": {
      "needs_background": "light"
     },
     "output_type": "display_data"
    }
   ],
   "source": [
    "fig, ax = plt.subplots(ncols=2, nrows=1)\n",
    "fig.set_size_inches(16,4.5)\n",
    "\n",
    "ax[0].set_xlim(0,18)\n",
    "ax[0].set_xticks([])\n",
    "ax[0].set_ylim(0,3)\n",
    "\n",
    "ax[0].set_xticks([1,2,3,4,5,7,8,9,10,11,13,14,15,16,17])\n",
    "ax[0].set_xticklabels(['Forced+IV','Only $x_{E}$ uncertainty','Only $\\\\alpha/\\\\beta$ uncertainty','Only $\\delta$ uncertainty','Only internal $\\Delta \\phi$ uncertainty',\n",
    "                    'Forced+IV','Only $x_{E}$ uncertainty','Only $\\\\alpha/\\\\beta$ uncertainty','Only $\\delta$ uncertainty','Only internal $\\Delta \\phi$ uncertainty',\n",
    "                     'Forced+IV','Only $x_{E}$ uncertainty','Only $\\\\alpha/\\\\beta$ uncertainty','Only $\\delta$ uncertainty','Only internal $\\Delta \\phi$ uncertainty'],fontsize=14,rotation=50,ha='right')\n",
    "\n",
    "ax[0].set_yticks([0,0.5,1,1.5,2,2.5,3])\n",
    "ax[0].set_yticklabels(['0','0.5','1','1.5','2','2.5','3'], fontsize=14)\n",
    "ax[0].set_ylabel('Jet shift ($^{\\circ}N$)', fontsize=14)\n",
    "ax[0].set_title('CMIP5/6 SHJET', fontsize=16)\n",
    "\n",
    "\n",
    "ax[0].plot(1,cmip56ols_forcedplusiv,\"o\",markerfacecolor=\"saddlebrown\",markeredgecolor='black', markersize=12, markeredgewidth=2)\n",
    "ax[0].plot(2,cmip56ols_onlyx,\"o\",markerfacecolor=\"saddlebrown\",markeredgecolor='black', markersize=12, markeredgewidth=2)\n",
    "ax[0].plot(3,cmip56ols_onlycoefs,\"o\",markerfacecolor=\"saddlebrown\",markeredgecolor='black', markersize=12, markeredgewidth=2)\n",
    "ax[0].plot(4,cmip56ols_onlydelta,\"o\",markerfacecolor=\"saddlebrown\",markeredgecolor='black', markersize=12, markeredgewidth=2)\n",
    "ax[0].plot(5,cmip56ols_onlyiv,\"o\",markerfacecolor=\"saddlebrown\",markeredgecolor='black',markersize=12,markeredgewidth=2)\n",
    "\n",
    "\n",
    "ax[0].plot(7,cmip56tls_forcedplusiv,\"o\",markerfacecolor=\"forestgreen\",markeredgecolor='black', markersize=12, markeredgewidth=2)\n",
    "ax[0].plot(8,cmip56tls_onlyx,\"o\",markerfacecolor=\"forestgreen\",markeredgecolor='black', markersize=12, markeredgewidth=2)\n",
    "ax[0].plot(9,cmip56tls_onlycoefs,\"o\",markerfacecolor=\"forestgreen\",markeredgecolor='black', markersize=12, markeredgewidth=2)\n",
    "ax[0].plot(10,cmip56tls_onlydelta,\"o\",markerfacecolor=\"forestgreen\",markeredgecolor='black', markersize=12, markeredgewidth=2)\n",
    "ax[0].plot(11,cmip56tls_onlyiv,\"o\",markerfacecolor=\"forestgreen\",markeredgecolor='black',markersize=12,markeredgewidth=2)\n",
    "\n",
    "ax[0].plot(13,cmip56bhm_forcedplusiv,\"o\",markerfacecolor=\"blueviolet\",markeredgecolor='black', markersize=12, markeredgewidth=2)\n",
    "ax[0].plot(14,cmip56bhm_onlyx,\"o\",markerfacecolor=\"blueviolet\",markeredgecolor='black', markersize=12, markeredgewidth=2)\n",
    "ax[0].plot(15,cmip56bhm_onlycoefs,\"o\",markerfacecolor=\"blueviolet\",markeredgecolor='black', markersize=12, markeredgewidth=2)\n",
    "ax[0].plot(16,cmip56bhm_onlydelta,\"o\",markerfacecolor=\"blueviolet\",markeredgecolor='black', markersize=12, markeredgewidth=2)\n",
    "ax[0].plot(17,cmip56bhm_onlyiv,\"o\",markerfacecolor=\"blueviolet\",markeredgecolor='black',markersize=12,markeredgewidth=2)\n",
    "\n",
    "\n",
    "ax[0].plot([6,6],[0,3], color='black')\n",
    "ax[0].plot([12,12],[0,3], color='black')\n",
    "ax[0].text(3, 2.8, 'OLS', fontsize=16, color='saddlebrown', horizontalalignment='center', verticalalignment='center')\n",
    "ax[0].text(9, 2.8, 'TLS', fontsize=16, color='forestgreen', horizontalalignment='center', verticalalignment='center')\n",
    "ax[0].text(15, 2.8, 'BHM', fontsize=16, color='blueviolet', horizontalalignment='center', verticalalignment='center')\n",
    "\n",
    "\n",
    "\n",
    "ax[1].set_xlim(0,18)\n",
    "ax[1].set_xticks([])\n",
    "ax[1].set_ylim(0,1.5)\n",
    "\n",
    "ax[1].set_xticks([1,2,3,4,5,7,8,9,10,11,13,14,15,16,17])\n",
    "ax[1].set_xticklabels(['Forced+IV','Only $x_{E}$ uncertainty','Only $\\\\alpha/\\\\beta$ uncertainty','Only $\\delta$ uncertainty','Only internal $\\Delta V_{SW}$ uncertainty',\n",
    "                    'Forced+IV','Only $x_{E}$ uncertainty','Only $\\\\alpha/\\\\beta$ uncertainty','Only $\\delta$ uncertainty','Only internal $\\Delta V_{SW}$ uncertainty',\n",
    "                     'Forced+IV','Only $x_{E}$ uncertainty','Only $\\\\alpha/\\\\beta$ uncertainty','Only $\\delta$ uncertainty','Only internal $\\Delta V_{SW}$ uncertainty'],fontsize=14,rotation=50,ha='right')\n",
    "\n",
    "ax[1].set_yticks([0,0.5,1,1.5])\n",
    "ax[1].set_yticklabels(['0','0.5','1','1.5'], fontsize=14)\n",
    "ax[1].set_ylabel('$\\Delta V_{SW}$ (ms$^{-1}$)', fontsize=14)\n",
    "ax[1].set_title('CMIP5/6 VWIND', fontsize=16)\n",
    "\n",
    "\n",
    "ax[1].plot(1,vcmip56ols_forcedplusiv,\"o\",markerfacecolor=\"saddlebrown\",markeredgecolor='black', markersize=12, markeredgewidth=2)\n",
    "ax[1].plot(2,vcmip56ols_onlyx,\"o\",markerfacecolor=\"saddlebrown\",markeredgecolor='black', markersize=12, markeredgewidth=2)\n",
    "ax[1].plot(3,vcmip56ols_onlycoefs,\"o\",markerfacecolor=\"saddlebrown\",markeredgecolor='black', markersize=12, markeredgewidth=2)\n",
    "ax[1].plot(4,vcmip56ols_onlydelta,\"o\",markerfacecolor=\"saddlebrown\",markeredgecolor='black', markersize=12, markeredgewidth=2)\n",
    "ax[1].plot(5,vcmip56ols_onlyiv,\"o\",markerfacecolor=\"saddlebrown\",markeredgecolor='black',markersize=12,markeredgewidth=2)\n",
    "\n",
    "\n",
    "ax[1].plot(7,vcmip56tls_forcedplusiv,\"o\",markerfacecolor=\"forestgreen\",markeredgecolor='black', markersize=12, markeredgewidth=2)\n",
    "ax[1].plot(8,vcmip56tls_onlyx,\"o\",markerfacecolor=\"forestgreen\",markeredgecolor='black', markersize=12, markeredgewidth=2)\n",
    "ax[1].plot(9,vcmip56tls_onlycoefs,\"o\",markerfacecolor=\"forestgreen\",markeredgecolor='black', markersize=12, markeredgewidth=2)\n",
    "ax[1].plot(10,vcmip56tls_onlydelta,\"o\",markerfacecolor=\"forestgreen\",markeredgecolor='black', markersize=12, markeredgewidth=2)\n",
    "ax[1].plot(11,vcmip56tls_onlyiv,\"o\",markerfacecolor=\"forestgreen\",markeredgecolor='black',markersize=12,markeredgewidth=2)\n",
    "\n",
    "ax[1].plot(13,vcmip56bhm_forcedplusiv,\"o\",markerfacecolor=\"blueviolet\",markeredgecolor='black', markersize=12, markeredgewidth=2)\n",
    "ax[1].plot(14,vcmip56bhm_onlyx,\"o\",markerfacecolor=\"blueviolet\",markeredgecolor='black', markersize=12, markeredgewidth=2)\n",
    "ax[1].plot(15,vcmip56bhm_onlycoefs,\"o\",markerfacecolor=\"blueviolet\",markeredgecolor='black', markersize=12, markeredgewidth=2)\n",
    "ax[1].plot(16,vcmip56bhm_onlydelta,\"o\",markerfacecolor=\"blueviolet\",markeredgecolor='black', markersize=12, markeredgewidth=2)\n",
    "ax[1].plot(17,vcmip56bhm_onlyiv,\"o\",markerfacecolor=\"blueviolet\",markeredgecolor='black',markersize=12,markeredgewidth=2)\n",
    "\n",
    "\n",
    "ax[1].plot([6,6],[0,3], color='black')\n",
    "ax[1].plot([12,12],[0,3], color='black')\n",
    "ax[1].text(3, 1.4, 'OLS', fontsize=16, color='saddlebrown', horizontalalignment='center', verticalalignment='center')\n",
    "ax[1].text(9, 1.4, 'TLS', fontsize=16, color='forestgreen', horizontalalignment='center', verticalalignment='center')\n",
    "ax[1].text(15, 1.4, 'BHM', fontsize=16, color='blueviolet', horizontalalignment='center', verticalalignment='center')\n",
    "\n",
    "\n",
    "fig.savefig('figs7.pdf', facecolor='white', bbox_inches='tight')\n",
    "\n"
   ]
  },
  {
   "cell_type": "code",
   "execution_count": null,
   "metadata": {},
   "outputs": [],
   "source": []
  }
 ],
 "metadata": {
  "kernelspec": {
   "display_name": "Python [conda env:ecpaperenv]",
   "language": "python",
   "name": "conda-env-ecpaperenv-py"
  },
  "language_info": {
   "codemirror_mode": {
    "name": "ipython",
    "version": 3
   },
   "file_extension": ".py",
   "mimetype": "text/x-python",
   "name": "python",
   "nbconvert_exporter": "python",
   "pygments_lexer": "ipython3",
   "version": "3.6.11"
  }
 },
 "nbformat": 4,
 "nbformat_minor": 4
}
