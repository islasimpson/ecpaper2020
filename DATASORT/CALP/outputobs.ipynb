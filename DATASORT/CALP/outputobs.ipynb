{
 "cells": [
  {
   "cell_type": "markdown",
   "metadata": {},
   "source": [
    "Output Nino3.4 and California averaged precipitation for observational datasets.\n",
    "\n",
    "Nino3.4: ERSSTv5, ERSSTv3b, HadISST\n",
    "California precipitation: GPCC, CRUTS\n",
    "    \n",
    "(Note that for precipitation, to avoid issues related to Nan's over the ocean, the field is not first interpolated to a 1deg grid, instead California is masked on the native grid )"
   ]
  },
  {
   "cell_type": "code",
   "execution_count": 263,
   "metadata": {},
   "outputs": [],
   "source": [
    "import importlib\n",
    "import pandas as pd\n",
    "import xarray as xr\n",
    "import numpy as np\n",
    "import xesmf as xe\n",
    "import sys\n",
    "import warnings\n",
    "from scipy import signal\n",
    "import datetime\n",
    "\n",
    "from ecpaper_utils import readdata_utils as read\n",
    "from ecpaper_utils import calendar_utils as cal\n",
    "from ecpaper_utils import shapefile_utils as shp\n",
    "from ecpaper_utils import averaging_utils as avg\n",
    "from ecpaper_utils import linfit_utils as linfit\n",
    "\n",
    "importlib.reload(read)\n",
    "importlib.reload(cal)\n",
    "importlib.reload(shp)\n",
    "importlib.reload(avg)\n",
    "\n",
    "warnings.filterwarnings('ignore')"
   ]
  },
  {
   "cell_type": "code",
   "execution_count": 187,
   "metadata": {},
   "outputs": [],
   "source": [
    "ybeg=1948 ; monbeg=1 ; yend=2014 ; monend=12 # dates for past period\n",
    "nmonths = (yend-ybeg-1)*12 + (12-monbeg+1) + monend\n",
    "pathout=\"/project/cas/islas/python/ecpaper2020/DATASORT/CALP/DATA/\"\n",
    "\n",
    "# shapefile location\n",
    "shpfile = \"/project/cas/islas/python/ecpaper2020/shapefiles/USA/gadm36_USA_1.shp\""
   ]
  },
  {
   "cell_type": "markdown",
   "metadata": {},
   "source": [
    "HadISST"
   ]
  },
  {
   "cell_type": "code",
   "execution_count": 270,
   "metadata": {},
   "outputs": [],
   "source": [
    "fpath=\"/project/mojave/observations/OBS-SST/hadisst.187001-201912.nc\"\n",
    "datebeg=str(ybeg)+str(monbeg).zfill(2)\n",
    "dateend=str(yend)+str(monend).zfill(2)\n",
    "sst = read.read_sfc(fpath, datebeg, dateend)\n",
    "if (sst.time.size != nmonths):\n",
    "    print(\"something's wrong, expected \"+str(nmonths)+\", got \"+str(sst.time.size))\n",
    "    sys.exit()\n",
    "\n",
    "# convert the time axis to datetime64\n",
    "timedatetime = []\n",
    "for itime in np.arange(0, sst.time.size, 1):\n",
    "    timedatetime.append( datetime.datetime.strptime(str(sst.time[itime].values), '%Y%m' ))\n",
    "timedatetime = np.array(timedatetime)\n",
    "sst[\"time\"] = timedatetime\n",
    "\n",
    "sst_djf = cal.season_ts(sst, 'sst', 'DJF')\n",
    "nino34_hadisst = avg.cosweightlonlat(sst_djf, 190, 240, -5, 5)\n",
    "nino34_hadisst = xr.DataArray(signal.detrend(nino34_hadisst, axis=0), coords=nino34_hadisst.coords)\n",
    "nino34_hadisst = nino34_hadisst.rename(\"nino34_hadisst\")"
   ]
  },
  {
   "cell_type": "markdown",
   "metadata": {},
   "source": [
    "ERSSTv3b"
   ]
  },
  {
   "cell_type": "code",
   "execution_count": 280,
   "metadata": {},
   "outputs": [],
   "source": [
    "fpath = \"/project/mojave/observations/OBS-SST/ersstv3b.185401-202002.nc\"\n",
    "\n",
    "datebeg = ybeg*1e2 + monbeg\n",
    "dateend = yend*1e2 + monend\n",
    "\n",
    "sst = read.read_sfc(fpath, datebeg, dateend)\n",
    "if (sst.time.size != nmonths):\n",
    "    print(\"something's wrong, expected \"+str(nmonths)+\", got \"+str(sst.time.size))\n",
    "    sys.exit()\n",
    "    \n",
    "# convert the time axis to datetime64\n",
    "timedatetime = []\n",
    "for itime in np.arange(0, sst.time.size, 1):\n",
    "    timedatetime.append( datetime.datetime.strptime(str(int(sst.time[itime].values)), '%Y%m' ))\n",
    "timedatetime = np.array(timedatetime)\n",
    "sst[\"time\"] = timedatetime\n",
    "\n",
    "sst_djf = cal.season_ts(sst, 'sst', 'DJF')\n",
    "nino34_ersstv3b = avg.cosweightlonlat(sst_djf, 190, 240, -5, 5)\n",
    "nino34_ersstv3b = xr.DataArray(signal.detrend(nino34_ersstv3b, axis=0), coords=nino34_ersstv3b.coords)\n",
    "nino34_ersstv3b = nino34_ersstv3b.rename(\"nino34_ersstv3b\")"
   ]
  },
  {
   "cell_type": "markdown",
   "metadata": {},
   "source": [
    "ERSSTv5"
   ]
  },
  {
   "cell_type": "code",
   "execution_count": 272,
   "metadata": {},
   "outputs": [],
   "source": [
    "fpath = \"/project/mojave/observations/OBS-SST/ersstv5.185401-201812.nc\"\n",
    "\n",
    "datebeg = ybeg*1e2 + monbeg\n",
    "dateend = yend*1e2 + monend\n",
    "\n",
    "sst = read.read_sfc(fpath, datebeg, dateend)\n",
    "\n",
    "if (sst.time.size != nmonths):\n",
    "    print(\"something's wrong, expected \"+str(nmonths)+\", got \"+str(sst.time.size))\n",
    "    sys.exit()\n",
    "    \n",
    "# convert the time axis to datetime64\n",
    "timedatetime = []\n",
    "for itime in np.arange(0, sst.time.size, 1):\n",
    "    timedatetime.append( datetime.datetime.strptime(str(int(sst.time[itime].values)), '%Y%m' ))\n",
    "timedatetime = np.array(timedatetime)\n",
    "sst[\"time\"] = timedatetime\n",
    "\n",
    "sst_djf = cal.season_ts(sst, 'sst', 'DJF')\n",
    "nino34_ersstv5 = avg.cosweightlonlat(sst_djf, 190, 240, -5, 5)\n",
    "nino34_ersstv5 = xr.DataArray(signal.detrend(nino34_ersstv5, axis=0), coords=nino34_ersstv5.coords)\n",
    "nino34_ersstv5 = nino34_ersstv5.rename(\"nino34_ersstv5\")"
   ]
  },
  {
   "cell_type": "markdown",
   "metadata": {},
   "source": [
    "GPCC"
   ]
  },
  {
   "cell_type": "code",
   "execution_count": 221,
   "metadata": {},
   "outputs": [
    {
     "name": "stdout",
     "output_type": "stream",
     "text": [
      "masking California\n",
      "flipping latitudes\n"
     ]
    }
   ],
   "source": [
    "fpath = \"/project/mojave/observations/OBS-PR/GPCC/gpcc.pr.10.comb_v2018v6mon.189101-201912.nc\"\n",
    "datebeg = str(ybeg)+\"-\"+str(monbeg).zfill(2)\n",
    "dateend = str(yend)+\"-\"+str(monend).zfill(2)\n",
    "\n",
    "pr = read.read_sfc(fpath, datebeg, dateend)\n",
    "\n",
    "if (pr.time.size != nmonths):\n",
    "    print(\"something's wrong, expected \"+str(nmonths)+\", got \"+str(pr.time.size))\n",
    "    sys.exit()\n",
    " \n",
    "# convert to mm/day\n",
    "dpm = cal.get_days_per_mon(pr.time.to_index())\n",
    "dpm = xr.DataArray(dpm, coords=[pr.time])\n",
    "pr = pr/dpm\n",
    "\n",
    "pr_djf = cal.season_ts(pr, 'precip', 'DJF')\n",
    "\n",
    "\n",
    "mask = shp.maskgen(shpfile, pr, ['California'])\n",
    "prmasked = xr.DataArray(np.array(pr_djf) * np.array(mask), coords=pr_djf.coords)\n",
    "prcal_gpcc = avg.cosweightlonlat(prmasked, 0, 360, -90, 90)\n",
    "prcal_gpcc = prcal_gpcc.rename(\"prcal_gpcc\")"
   ]
  },
  {
   "cell_type": "markdown",
   "metadata": {},
   "source": [
    "CRUTS"
   ]
  },
  {
   "cell_type": "code",
   "execution_count": 264,
   "metadata": {},
   "outputs": [
    {
     "name": "stdout",
     "output_type": "stream",
     "text": [
      "masking California\n",
      "flipping longitudes\n"
     ]
    }
   ],
   "source": [
    "fpath = \"/project/mojave/observations/OBS-PR/CRUTS/cru_ts4.01.1901.2016.pre.dat.nc\"\n",
    "datebeg = str(ybeg)+\"-\"+str(monbeg).zfill(2)\n",
    "dateend = str(yend)+\"-\"+str(monend).zfill(2)\n",
    "\n",
    "pr = read.read_sfc(fpath, datebeg, dateend)\n",
    "if (pr.time.size != nmonths):\n",
    "    print(\"something's wrong, expected \"+str(nmonths)+\", got \"+str(pr.time.size))\n",
    "    sys.exit()\n",
    " \n",
    "# convert to mm/day\n",
    "dpm = cal.get_days_per_mon(pr.time.to_index())\n",
    "dpm = xr.DataArray(dpm, coords=[pr.time])\n",
    "pr = pr/dpm\n",
    "\n",
    "pr_djf = cal.season_ts(pr, 'pre', 'DJF')\n",
    "\n",
    "mask = shp.maskgen(shpfile, pr_djf, ['California'])\n",
    "prmasked = xr.DataArray(np.array(pr_djf) * np.array(mask), coords=pr_djf.coords)\n",
    "prcal_cruts = avg.cosweightlonlat(prmasked, 0, 360, -90, 90)\n",
    "prcal_cruts = prcal_cruts.rename(\"prcal_cruts\")\n",
    "\n"
   ]
  },
  {
   "cell_type": "code",
   "execution_count": 281,
   "metadata": {},
   "outputs": [],
   "source": [
    "prcal_cruts.to_netcdf(pathout+\"obsdata.nc\")\n",
    "prcal_gpcc.to_netcdf(pathout+\"obsdata.nc\", mode=\"a\")\n",
    "nino34_hadisst.to_netcdf(pathout+\"obsdata.nc\", mode=\"a\")\n",
    "nino34_ersstv3b.to_netcdf(pathout+\"obsdata.nc\", mode=\"a\")\n",
    "nino34_ersstv5.to_netcdf(pathout+\"obsdata.nc\", mode=\"a\")"
   ]
  },
  {
   "cell_type": "code",
   "execution_count": null,
   "metadata": {},
   "outputs": [],
   "source": []
  }
 ],
 "metadata": {
  "kernelspec": {
   "display_name": "Python [conda env:ecpaperenv]",
   "language": "python",
   "name": "conda-env-ecpaperenv-py"
  },
  "language_info": {
   "codemirror_mode": {
    "name": "ipython",
    "version": 3
   },
   "file_extension": ".py",
   "mimetype": "text/x-python",
   "name": "python",
   "nbconvert_exporter": "python",
   "pygments_lexer": "ipython3",
   "version": "3.6.11"
  }
 },
 "nbformat": 4,
 "nbformat_minor": 4
}
